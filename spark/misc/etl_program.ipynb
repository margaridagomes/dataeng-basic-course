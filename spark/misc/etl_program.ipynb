{
  "cells": [
    {
      "cell_type": "markdown",
      "metadata": {
        "id": "1eYDKU0O-BvH"
      },
      "source": [
        "<a href=\"https://colab.research.google.com/github/lucprosa/dataeng-basic-course/blob/main/spark/misc/etl_program.ipynb\" target=\"_parent\"><img src=\"https://colab.research.google.com/assets/colab-badge.svg\" alt=\"Open In Colab\"/></a>"
      ]
    },
    {
      "cell_type": "code",
      "source": [
        "from pyspark.sql import DataFrame, SparkSession\n",
        "from pyspark.sql.functions import *\n",
        "import pyspark.sql.functions as F\n",
        "from pyspark.sql.types import *\n",
        "import requests\n",
        "\n",
        "class ETLFlow:\n",
        "    def __init__(self, spark: SparkSession) -> None:\n",
        "        self.spark = spark\n",
        "\n",
        "    def extract_from_file(self, format: str, path: str, **kwargs) -> DataFrame:\n",
        "        df = self.spark.read.format(format).load(path)\n",
        "        return df\n",
        "\n",
        "    def extract_from_api(self, url: str, schema: StructType = None):\n",
        "      response = requests.get(url)\n",
        "      rdd = spark.sparkContext.parallelize(response.json())\n",
        "      if schema:\n",
        "        df = spark.read.schema(schema).json(rdd)\n",
        "      else:\n",
        "        df = spark.read.json(rdd)\n",
        "      return df\n",
        "\n",
        "    def load(self, df: DataFrame, format: str, path: str, partition_column: str = None, **kwargs) -> None:\n",
        "        if partition_column:\n",
        "          df.coalesce(1).write.mode(\"overwrite\").partitionBy(partition_column).format(format).save(path)\n",
        "        else:\n",
        "          df.coalesce(1).write.mode(\"overwrite\").format(format).save(path)\n",
        "\n",
        "class ETLTask(ETLFlow):\n",
        "\n",
        "    def __init__(self, spark: SparkSession) -> None:\n",
        "        self.spark = spark\n",
        "\n",
        "    def ingestion_lines(self):\n",
        "      # schema\n",
        "      lines_schema = StructType([StructField('color', StringType(), True),\n",
        "                                 StructField('facilities', ArrayType(StringType(), True), True),\n",
        "                                 StructField('id', StringType(), True),\n",
        "                                 StructField('localities',ArrayType(StringType(), True), True),\n",
        "                                 StructField('long_name', StringType(), True),\n",
        "                                 StructField('municipalities', ArrayType(StringType(), True), True),\n",
        "                                 StructField('patterns', ArrayType(StringType(), True), True),\n",
        "                                 StructField('routes', ArrayType(StringType(), True), True),\n",
        "                                 StructField('short_name', StringType(), True), StructField('text_color', StringType(), True)])\n",
        "      # ingestion\n",
        "      df = self.extract_from_api(url=\"https://api.carrismetropolitana.pt/lines\", schema=lines_schema)\n",
        "      # load\n",
        "      self.load(df=df, format=\"parquet\", path=\"/content/lake/bronze/lines\")\n",
        "\n",
        "\n",
        "    def ingestion_vehicles(self):\n",
        "      vehicle_schema = StructType([StructField('bearing', IntegerType(), True),\n",
        "                                  StructField('block_id', StringType(), True),\n",
        "                                  StructField('current_status', StringType(), True),\n",
        "                                  StructField('id', StringType(), True),\n",
        "                                  StructField('lat', FloatType(), True),\n",
        "                                  StructField('line_id', StringType(), True),\n",
        "                                  StructField('lon', FloatType(), True),\n",
        "                                  StructField('pattern_id', StringType(), True),\n",
        "                                  StructField('route_id', StringType(), True),\n",
        "                                  StructField('schedule_relationship', StringType(), True),\n",
        "                                  StructField('shift_id', StringType(), True),\n",
        "                                  StructField('speed', FloatType(), True),\n",
        "                                  StructField('stop_id', StringType(), True),\n",
        "                                  StructField('timestamp', TimestampType(), True),\n",
        "                                  StructField('trip_id', StringType(), True)])\n",
        "\n",
        "      df = self.extract_from_api(url=\"https://api.carrismetropolitana.pt/vehicles\", schema=vehicle_schema)\n",
        "\n",
        "      # create date column\n",
        "      # date(from_unixtime(1732305594))\n",
        "      df = df.withColumn(\"date\", expr(\"date(timestamp)\"))\n",
        "\n",
        "      self.load(df=df, format=\"parquet\", path=\"/content/lake/bronze/vehicles\", partition_column=\"date\")\n",
        "\n",
        "    def cleansing_vehicles(self):\n",
        "      df = self.extract_from_file(format=\"parquet\", path=\"/content/lake/bronze/vehicles\")\n",
        "\n",
        "      # transformations\n",
        "      df = df.withColumn(\"new_column\", lit(\"test\"))\n",
        "      df = df.drop_duplicates()\n",
        "\n",
        "      self.load(df=df, format=\"parquet\", path=\"/content/lake/silver/vehicles\", partition_column=\"date\")\n",
        "\n",
        "    def enrich_vehicles_with_lines(self):\n",
        "        # 1. CRIAR camada SILVER para LINES (simples cleansing, remove duplicados)\n",
        "        df_lines_bronze = self.extract_from_file(format=\"parquet\", path=\"/content/lake/bronze/lines\")\n",
        "        df_lines_silver = df_lines_bronze.dropDuplicates()\n",
        "        self.load(df=df_lines_silver, format=\"parquet\", path=\"/content/lake/silver/lines\")\n",
        "\n",
        "        # 2. EXTRAIR SILVER VEHICLES E SILVER LINES\n",
        "        df_vehicles_silver = self.extract_from_file(format=\"parquet\", path=\"/content/lake/silver/vehicles\")\n",
        "        df_lines_silver = self.extract_from_file(format=\"parquet\", path=\"/content/lake/silver/lines\")\n",
        "\n",
        "        # 3. ENRIQUECER (JOIN): vehicles.line_id == lines.id\n",
        "        df_enriched = df_vehicles_silver.join(\n",
        "            df_lines_silver,\n",
        "            df_vehicles_silver.line_id == df_lines_silver.id,\n",
        "            how=\"inner\"\n",
        "        )\n",
        "\n",
        "        # 4. Seleciona as colunas que queres manter (exemplo abaixo, ajusta conforme precisares)\n",
        "        df_enriched = df_enriched.select(\n",
        "            df_vehicles_silver.bearing,\n",
        "            df_vehicles_silver.block_id,\n",
        "            df_vehicles_silver.current_status,\n",
        "            df_vehicles_silver.id,\n",
        "            df_vehicles_silver.lat,\n",
        "            df_vehicles_silver.date)\n",
        "\n",
        "        # 5. GUARDAR camada GOLD, particionado por data\n",
        "        self.load(df=df_enriched,format=\"parquet\",path=\"/content/lake/gold/lines_with_vehicles\", partition_column=\"date\")\n",
        "\n",
        "\n",
        "if __name__ == '__main__':\n",
        "\n",
        "    # init spark\n",
        "    from pyspark.sql import SparkSession\n",
        "    spark = SparkSession.builder.master('local').appName('ETL Program').getOrCreate()\n",
        "\n",
        "    print(\"Starting ETL program\")\n",
        "    etl = ETLTask(spark)\n",
        "\n",
        "    # run tasks\n",
        "    print(\"Running Task - Ingestion Vehicles\")\n",
        "    etl.ingestion_vehicles()\n",
        "\n",
        "    print(\"Running Task - Ingestion Lines\")\n",
        "    etl.ingestion_lines()\n",
        "\n",
        "    print(\"Running Task - Cleansing Vehicles\")\n",
        "    etl.cleansing_vehicles()\n",
        "\n",
        "    print(\"Running Task - Lines with Vehicles\")\n",
        "    etl.enrich_vehicles_with_lines()\n",
        "\n",
        "    print(\"ETL program completed\")"
      ],
      "metadata": {
        "id": "nojCMG8M-CmF",
        "outputId": "7be7325f-7e89-4864-c718-da8d572d4c9c",
        "colab": {
          "base_uri": "https://localhost:8080/"
        }
      },
      "execution_count": 12,
      "outputs": [
        {
          "output_type": "stream",
          "name": "stdout",
          "text": [
            "Starting ETL program\n",
            "Running Task - Ingestion Vehicles\n",
            "Running Task - Ingestion Lines\n",
            "Running Task - Cleansing Vehicles\n",
            "Running Task - Lines with Vehicles\n",
            "ETL program completed\n"
          ]
        }
      ]
    },
    {
      "cell_type": "code",
      "source": [
        "spark.read.parquet(\"/content/lake/bronze/lines\").show()"
      ],
      "metadata": {
        "id": "NALtzKn8SRPF",
        "outputId": "f02e8851-c01b-4586-ef23-4e06d4c51b83",
        "colab": {
          "base_uri": "https://localhost:8080/"
        }
      },
      "execution_count": 10,
      "outputs": [
        {
          "output_type": "stream",
          "name": "stdout",
          "text": [
            "+-------+----------+----+--------------------+--------------------+--------------+--------------------+--------------------+----------+----------+\n",
            "|  color|facilities|  id|          localities|           long_name|municipalities|            patterns|              routes|short_name|text_color|\n",
            "+-------+----------+----+--------------------+--------------------+--------------+--------------------+--------------------+----------+----------+\n",
            "|#C61D23|        []|1001|[Alfragide, Amado...|Alfragide (Estr S...|        [1115]|[1001_0_1, 1001_0_2]|            [1001_0]|      1001|   #FFFFFF|\n",
            "|#C61D23|        []|1002|[Reboleira, Amado...|Reboleira (Estaçã...|        [1115]|          [1002_0_3]|            [1002_0]|      1002|   #FFFFFF|\n",
            "|#C61D23|        []|1003|[Amadora, Amadora...|Amadora (Estação ...|        [1115]|[1003_0_1, 1003_0_2]|            [1003_0]|      1003|   #FFFFFF|\n",
            "|#C61D23|        []|1004|[Amadora, Moinhos...|Amadora (Estação ...|        [1115]|          [1004_0_3]|            [1004_0]|      1004|   #FFFFFF|\n",
            "|#C61D23|        []|1005|[Amadora, Casal d...|Amadora (Estação ...|        [1115]|[1005_0_1, 1005_0...|[1005_0, 1005_1, ...|      1005|   #FFFFFF|\n",
            "|#C61D23|        []|1006|[Amadora, Moinhos...|Amadora (Estação ...|        [1115]|[1006_0_1, 1006_0...|    [1006_0, 1006_1]|      1006|   #FFFFFF|\n",
            "|#3D85C6|        []|1008|                NULL|Amadora Este (Met...|        [1115]|          [1008_0_3]|            [1008_0]|      1008|   #FFFFFF|\n",
            "|#3D85C6|        []|1009|                NULL|Amadora (Hospital...|  [1115, 1111]|          [1009_0_3]|            [1009_0]|      1009|   #FFFFFF|\n",
            "|#C61D23|        []|1010|[Amadora, Brandoa...|Alfornelos (Metro...|        [1115]|[1010_0_1, 1010_0_2]|            [1010_0]|      1010|   #FFFFFF|\n",
            "|#C61D23|        []|1011|[Reboleira, Amado...|Brandoa (Largo) -...|        [1115]|[1011_0_2, 1011_0...|    [1011_0, 1011_1]|      1011|   #FFFFFF|\n",
            "|#3D85C6|        []|1012|[Amadora, Brandoa...|Alfornelos Metro ...|        [1115]|          [1012_0_3]|            [1012_0]|      1012|   #FFFFFF|\n",
            "|#C61D23|        []|1013|                NULL|Reboleira (Estaçã...|        [1115]|[1013_0_2, 1013_0_1]|            [1013_0]|      1013|   #FFFFFF|\n",
            "|#C61D23|        []|1014|[Amadora, Rebolei...|Amadora (Cemitéri...|        [1115]|[1014_0_1, 1014_0_2]|            [1014_0]|      1014|   #FFFFFF|\n",
            "|#3D85C6|        []|1015|[Reboleira, Amado...|Reboleira (Estaçã...|        [1115]|          [1015_0_3]|            [1015_0]|      1015|   #FFFFFF|\n",
            "|#C61D23|        []|1101|[Algés, Oeiras, L...|Alfragide (Centro...|        [1110]|[1101_0_2, 1101_0...|    [1101_0, 1101_1]|      1101|   #FFFFFF|\n",
            "|#C61D23|        []|1103|[Algés, Oeiras, Q...|Algés (Estação) -...|        [1110]|[1103_0_1, 1103_0_2]|            [1103_0]|      1103|   #FFFFFF|\n",
            "|#3D85C6|        []|1104|[Oeiras, Algés, M...|Algés | Circular ...|        [1110]|          [1104_0_3]|            [1104_0]|      1104|   #FFFFFF|\n",
            "|#C61D23|        []|1105|[Algés, Oeiras, M...|Algés (Estação) -...|        [1110]|[1105_0_1, 1105_0...|    [1105_0, 1105_1]|      1105|   #FFFFFF|\n",
            "|#C61D23|        []|1106|[Queluz Baixo, Oe...|Queluz Baixo (Cen...|        [1110]|[1106_0_2, 1106_1...|    [1106_0, 1106_1]|      1106|   #FFFFFF|\n",
            "|#C61D23|        []|1107|[Algés, Oeiras, Q...|Algés (Estação) -...|        [1110]|[1107_0_1, 1107_0_2]|            [1107_0]|      1107|   #FFFFFF|\n",
            "+-------+----------+----+--------------------+--------------------+--------------+--------------------+--------------------+----------+----------+\n",
            "only showing top 20 rows\n",
            "\n"
          ]
        }
      ]
    },
    {
      "cell_type": "code",
      "source": [
        "# check results\n",
        "spark.read.parquet(\"/content/lake/bronze/vehicles\").show()\n",
        "spark.read.parquet(\"/content/lake/silver/vehicles\").show()"
      ],
      "metadata": {
        "id": "nCBaB53SAP5U",
        "outputId": "089780bd-89f5-4322-e53d-97d02bcace9a",
        "colab": {
          "base_uri": "https://localhost:8080/"
        }
      },
      "execution_count": 2,
      "outputs": [
        {
          "output_type": "stream",
          "name": "stdout",
          "text": [
            "+-------+--------------------+--------------+--------+---------+-------+---------+----------+--------+---------------------+------------+---------+-------+-------------------+--------------------+----------+\n",
            "|bearing|            block_id|current_status|      id|      lat|line_id|      lon|pattern_id|route_id|schedule_relationship|    shift_id|    speed|stop_id|          timestamp|             trip_id|      date|\n",
            "+-------+--------------------+--------------+--------+---------+-------+---------+----------+--------+---------------------+------------+---------+-------+-------------------+--------------------+----------+\n",
            "|    252|             4098-21| IN_TRANSIT_TO| 42|2364| 38.94853|   2309|-9.040474|  2309_0_3|  2309_0|            SCHEDULED|        4166|10.277778| 180016|2025-06-21 15:01:42|2309_0_3|2|1|1530...|2025-06-21|\n",
            "|    340|20250621-64020075...| IN_TRANSIT_TO|44|12078|38.654644|   4600| -8.99465|  4600_0_2|  4600_0|            SCHEDULED|121290000007|5.5555553| 090060|2025-06-21 15:01:42|4600_0_2|600|1530...|2025-06-21|\n",
            "|    133|20250621-64020231...| IN_TRANSIT_TO|44|12672|38.752934|   4706|-9.030643|  4706_0_2|  4706_0|            SCHEDULED|123190000007| 28.61111| 100042|2025-06-21 15:01:39|4706_0_2|600|1530...|2025-06-21|\n",
            "|    333|20250621-64020280...| IN_TRANSIT_TO|44|12633|38.746647|   4001|-8.944716|  4001_0_3|  4001_0|            SCHEDULED|121260000007| 8.333333| 010040|2025-06-21 15:01:44|4001_0_3|600|1530...|2025-06-21|\n",
            "|    311|             4532-21| IN_TRANSIT_TO| 42|2554|38.772243|   2811|-9.203272|  2811_0_2|  2811_0|            SCHEDULED|        4525|14.444445| 110701|2025-06-21 15:01:45|2811_0_2|2|1|1550...|2025-06-21|\n",
            "|    189|           2_2005-21| IN_TRANSIT_TO| 41|1103|38.782207|   1709|-9.217522|  1709_0_1|  1709_0|            SCHEDULED|        2079| 8.611111| 110031|2025-06-21 15:01:45|1709_0_1_1530_155...|2025-06-21|\n",
            "|    333|20250621-64020098...| IN_TRANSIT_TO|44|12679|38.525932|   4730|-9.018124|  4730_0_2|  4730_0|            SCHEDULED|113170000007|      0.0| 160803|2025-06-21 15:01:40|4730_0_2|600|1530...|2025-06-21|\n",
            "|    257|           2_2302-21| IN_TRANSIT_TO| 41|1406|38.699226|   1607|-9.349402|  1607_0_1|  1607_0|            SCHEDULED|        2316|3.0555556| 050053|2025-06-21 15:01:49|1607_0_1_1530_155...|2025-06-21|\n",
            "|      0|             4547-21|    STOPPED_AT| 42|2212| 38.82368|   2780|-9.161188|  2780_0_1|  2780_0|            SCHEDULED|        4520|      0.0| 070481|2025-06-21 15:01:52|2780_0_1|2|1|1555...|2025-06-21|\n",
            "|    108|      2_2604-21'_001|   INCOMING_AT|  41|823| 38.76115|   1226|-9.262554|  1226_0_1|  1226_0|            SCHEDULED|        2625|      7.5| 170877|2025-06-21 15:01:44|1226_0_1_1530_155...|2025-06-21|\n",
            "|     41|      ESC_SAB_ES1049| IN_TRANSIT_TO| 43|2290|38.662918|   3527|-9.198385|  3527_1_1|  3527_1|            SCHEDULED|      ES1032| 6.388889| 020310|2025-06-21 15:01:49|3527_1_1_1600_162...|2025-06-21|\n",
            "|    255|20250621-64020074...| IN_TRANSIT_TO|44|12737|38.530514|   4481| -8.88807|  4481_0_3|  4481_0|            SCHEDULED|112260000007| 8.333333| 160068|2025-06-21 15:01:42|4481_0_3|600|1600...|2025-06-21|\n",
            "|    178|20250621-64020031...| IN_TRANSIT_TO|44|12512|38.647675|   4602|-9.036837|  4602_0_1|  4602_0|            SCHEDULED|121160000007|4.1666665| 090223|2025-06-21 15:01:45|4602_0_1|600|1550...|2025-06-21|\n",
            "|    311|           2_2608-21| IN_TRANSIT_TO| 41|1120|38.759445|   1716|-9.238035|  1716_0_2|  1716_0|            SCHEDULED|        2637|      0.0| 030345|2025-06-21 15:01:11|1716_0_2_1530_155...|2025-06-21|\n",
            "|      0|           2_2207-21|    STOPPED_AT| 41|1123|38.749355|   1524|-9.294721|  1524_0_2|  1524_0|            SCHEDULED|        2222|      0.0| 170721|2025-06-21 15:01:52|1524_0_2_1530_155...|2025-06-21|\n",
            "|      0| ESC_SAB_ES1067'_001|    STOPPED_AT|  43|759|38.600464|   3521|-9.139481|  3521_0_1|  3521_0|            SCHEDULED|      ES1075|      0.0| 140305|2025-06-21 15:01:36|3521_0_1_1530_155...|2025-06-21|\n",
            "|    264|20250621-64020003...| IN_TRANSIT_TO|44|12075|38.523376|   4427|-8.895904|  4427_0_1|  4427_0|            SCHEDULED|112060000007|7.2222223| 160199|2025-06-21 15:01:40|4427_0_1|600|1600...|2025-06-21|\n",
            "|     40|             4722-21| IN_TRANSIT_TO| 42|2757|38.862488|   2782|-9.161066|  2782_0_2|  2782_0|            SCHEDULED|        4722|4.1666665| 070418|2025-06-21 15:01:35|2782_0_2|2|1|1530...|2025-06-21|\n",
            "|    136|             4520-21|   INCOMING_AT| 42|2538|38.789303|   2213|-9.194582|  2213_0_3|  2213_0|            SCHEDULED|        4550| 9.444445| 110078|2025-06-21 15:01:36|2213_0_3|2|1|1520...|2025-06-21|\n",
            "|    124|      ESC_SAB_ES3016| IN_TRANSIT_TO|  43|361| 38.47375|   3536|-9.102712|  3536_1_1|  3536_1|            SCHEDULED|      ES3016|      0.0| 150223|2025-06-21 15:01:31|3536_1_1_1530_155...|2025-06-21|\n",
            "+-------+--------------------+--------------+--------+---------+-------+---------+----------+--------+---------------------+------------+---------+-------+-------------------+--------------------+----------+\n",
            "only showing top 20 rows\n",
            "\n",
            "+-------+--------------------+--------------+--------+---------+-------+---------+----------+--------+---------------------+------------+---------+-------+-------------------+--------------------+----------+----------+\n",
            "|bearing|            block_id|current_status|      id|      lat|line_id|      lon|pattern_id|route_id|schedule_relationship|    shift_id|    speed|stop_id|          timestamp|             trip_id|      date|new_column|\n",
            "+-------+--------------------+--------------+--------+---------+-------+---------+----------+--------+---------------------+------------+---------+-------+-------------------+--------------------+----------+----------+\n",
            "|    137|           2_2708-21|   INCOMING_AT| 41|1412|38.844826|   1248|-9.432174|  1248_0_2|  1248_0|            SCHEDULED|        2739|13.333333| 171422|2025-06-21 15:01:50|1248_0_2_1530_155...|2025-06-21|      test|\n",
            "|     53|      ESC_SAB_ES2074|   INCOMING_AT| 43|2082|38.674397|   3026|-9.164918|  3026_0_2|  3026_0|            SCHEDULED|      ES2033| 6.388889| 020747|2025-06-21 15:01:45|3026_0_2_1530_155...|2025-06-21|      test|\n",
            "|    311|             4725-21|   INCOMING_AT| 42|2759|38.830666|   2764|-9.167642|  2764_0_2|  2764_0|            SCHEDULED|        4725|6.6666665| 070037|2025-06-21 15:01:48|2764_0_2|2|1|1530...|2025-06-21|      test|\n",
            "|    277|20250621-64020232...| IN_TRANSIT_TO|44|12655|38.767628|   4701| -9.10371|  4701_0_1|  4701_0|            SCHEDULED|123110000007|0.5555556| 100417|2025-06-21 15:01:49|4701_0_1|600|1600...|2025-06-21|      test|\n",
            "|    247|             4003-21| IN_TRANSIT_TO| 42|2001| 38.81797|   2036|-9.124537|  2036_0_3|  2036_0|            SCHEDULED|        4003| 6.111111| 071361|2025-06-21 15:01:44|2036_0_3|2|1|1540...|2025-06-21|      test|\n",
            "|     82|           2_2622-21|    STOPPED_AT| 41|1322|38.755486|   1721|-9.270542|  1721_0_1|  1721_0|            SCHEDULED|        2607|13.888889| 170937|2025-06-21 15:01:09|1721_0_1_1500_152...|2025-06-21|      test|\n",
            "|     64|             4034-21|    STOPPED_AT| 42|2358|38.759552|   2714|-9.158965|  2714_0_1|  2714_0|            SCHEDULED|        4002|      0.0| 060310|2025-06-21 15:01:26|2714_0_1|2|1|1605...|2025-06-21|      test|\n",
            "|    195|        4511-21'_002|    STOPPED_AT| 42|2213|38.804516|   2516| -9.16871|  2516_0_3|  2516_0|            SCHEDULED|        4577|10.555555| 110405|2025-06-21 15:01:41|2516_0_3|2|1|1530...|2025-06-21|      test|\n",
            "|     74|20250621-64020145...| IN_TRANSIT_TO|44|12540| 38.49559|   4453|  -8.8025|  4453_0_1|  4453_0|            SCHEDULED|111120000007|      0.0| 160733|2025-06-21 15:01:52|4453_0_1|600|1610...|2025-06-21|      test|\n",
            "|      0|             4506-21|    STOPPED_AT| 42|2549|38.810287|   2772|-9.175615|  2772_1_2|  2772_1|            SCHEDULED|        4582|      0.0| 070328|2025-06-21 15:00:51|2772_1_2|2|1|1600...|2025-06-21|      test|\n",
            "|    356|20250621-64020163...| IN_TRANSIT_TO|44|12732|38.538506|   4438| -8.87147|  4438_0_1|  4438_0|            SCHEDULED|112160000007|      5.0| 160189|2025-06-21 15:01:38|4438_0_1|600|1600...|2025-06-21|      test|\n",
            "|    111|           2_2402-21|   INCOMING_AT| 41|1319| 38.70906|   1103|-9.244683|  1103_0_2|  1103_0|            SCHEDULED|        2418|      7.5| 120152|2025-06-21 15:01:52|1103_0_2_1530_155...|2025-06-21|      test|\n",
            "|      0|      ESC_SAB_ES2025|    STOPPED_AT| 43|2295| 38.64997|   3022|-9.201123|  3022_0_2|  3022_0|            SCHEDULED|      ES2006|      0.0| 020319|2025-06-21 15:01:50|3022_0_2_1500_152...|2025-06-21|      test|\n",
            "|     76|20250621-64020169...| IN_TRANSIT_TO|44|12067| 38.48966|   4415| -8.93404|  4415_0_1|  4415_0|            SCHEDULED|112320000007|      0.0| 160328|2025-06-21 15:01:46|4415_0_1|600|1620...|2025-06-21|      test|\n",
            "|      0|             4048-21|    STOPPED_AT| 42|2356| 38.81239|   2727|-9.118776|  2727_0_1|  2727_0|            SCHEDULED|        4041|0.2777778| 070129|2025-06-21 15:01:49|2727_0_1|2|1|1535...|2025-06-21|      test|\n",
            "|    185|           2_2743-21| IN_TRANSIT_TO| 41|1730|38.803314|   1253|-9.388952|  1253_0_3|  1253_0|            SCHEDULED|        2717| 9.722222| 171953|2025-06-21 15:01:23|1253_0_3_1430_145...|2025-06-21|      test|\n",
            "|     41|      ESC_SAB_ES1049| IN_TRANSIT_TO| 43|2290|38.662918|   3527|-9.198385|  3527_1_1|  3527_1|            SCHEDULED|      ES1032| 6.388889| 020310|2025-06-21 15:01:49|3527_1_1_1600_162...|2025-06-21|      test|\n",
            "|    160|      2_2731-21'_001|   INCOMING_AT| 41|1726|38.793865|   1253|-9.465008|  1253_0_3|  1253_0|            SCHEDULED|        2745|7.7777777| 171935|2025-06-21 15:01:40|1253_0_3_1530_155...|2025-06-21|      test|\n",
            "|      0|        4072-21'_001|    STOPPED_AT| 42|2403|38.768738|   2722|-9.127898|  2722_0_2|  2722_0|            SCHEDULED|        4080|0.2777778| 060273|2025-06-21 15:01:44|2722_0_2|2|1|1515...|2025-06-21|      test|\n",
            "|     83|           2_2314-21| IN_TRANSIT_TO| 41|1395|38.768116|   1613| -9.31257|  1613_0_2|  1613_0|            SCHEDULED|        2326|7.7777777| 170677|2025-06-21 15:01:46|1613_0_2_1500_152...|2025-06-21|      test|\n",
            "+-------+--------------------+--------------+--------+---------+-------+---------+----------+--------+---------------------+------------+---------+-------+-------------------+--------------------+----------+----------+\n",
            "only showing top 20 rows\n",
            "\n"
          ]
        }
      ]
    },
    {
      "cell_type": "code",
      "source": [],
      "metadata": {
        "id": "jUqfHj_2AT0f"
      },
      "execution_count": null,
      "outputs": []
    }
  ],
  "metadata": {
    "language_info": {
      "name": "python"
    },
    "colab": {
      "provenance": []
    },
    "kernelspec": {
      "name": "python3",
      "display_name": "Python 3"
    }
  },
  "nbformat": 4,
  "nbformat_minor": 0
}