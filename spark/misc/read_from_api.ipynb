{
  "cells": [
    {
      "cell_type": "markdown",
      "metadata": {
        "id": "view-in-github",
        "colab_type": "text"
      },
      "source": [
        "<a href=\"https://colab.research.google.com/github/margaridagomes/dataeng-basic-course/blob/main/spark/misc/read_from_api.ipynb\" target=\"_parent\"><img src=\"https://colab.research.google.com/assets/colab-badge.svg\" alt=\"Open In Colab\"/></a>"
      ]
    },
    {
      "cell_type": "markdown",
      "metadata": {
        "id": "BOA_wQSmLd9z"
      },
      "source": [
        "# Read from API\n",
        "- Read data from API using requests and RDDs"
      ]
    },
    {
      "cell_type": "markdown",
      "metadata": {
        "id": "d9LeYFsPTjAb"
      },
      "source": [
        "# Setting up PySpark"
      ]
    },
    {
      "cell_type": "code",
      "execution_count": null,
      "metadata": {
        "id": "uYXeODL0T1fO"
      },
      "outputs": [],
      "source": [
        "%pip install pyspark"
      ]
    },
    {
      "cell_type": "code",
      "execution_count": 1,
      "metadata": {
        "id": "637HFw00T3LP"
      },
      "outputs": [],
      "source": [
        "from pyspark.sql import SparkSession\n",
        "spark = SparkSession.builder.master('local').appName('Spark Course').config('spark.ui.port', '4050').getOrCreate()\n",
        "sc = spark.sparkContext"
      ]
    },
    {
      "cell_type": "markdown",
      "metadata": {
        "id": "FM8YQx6XGeiL"
      },
      "source": [
        "# Get data from API - Vehicles"
      ]
    },
    {
      "cell_type": "code",
      "execution_count": 2,
      "metadata": {
        "id": "0wntlQDWGeiL"
      },
      "outputs": [],
      "source": [
        "import requests\n",
        "from pyspark.sql.types import *\n",
        "\n",
        "def readFromAPI(url: str, schema: StructType = None):\n",
        "  response = requests.get(url)\n",
        "  rdd = sc.parallelize(response.json())\n",
        "\n",
        "  if schema:\n",
        "    df = spark.read.schema(schema).json(rdd)\n",
        "  else:\n",
        "    df = spark.read.json(rdd)\n",
        "  return df"
      ]
    },
    {
      "cell_type": "code",
      "source": [
        "readFromAPI(\"https://api.carrismetropolitana.pt/vehicles\").show()"
      ],
      "metadata": {
        "id": "X-wg6K1u6RWI",
        "outputId": "b91e5140-8428-4621-b9bd-e638303e24d4",
        "colab": {
          "base_uri": "https://localhost:8080/"
        }
      },
      "execution_count": 4,
      "outputs": [
        {
          "output_type": "stream",
          "name": "stdout",
          "text": [
            "+-------+--------------------+--------------+--------+------------------+-------+------------------+----------+--------+---------------------+------------+------------------+-------+----------+--------------------+\n",
            "|bearing|            block_id|current_status|      id|               lat|line_id|               lon|pattern_id|route_id|schedule_relationship|    shift_id|             speed|stop_id| timestamp|             trip_id|\n",
            "+-------+--------------------+--------------+--------+------------------+-------+------------------+----------+--------+---------------------+------------+------------------+-------+----------+--------------------+\n",
            "|      0|      ESC_SAB_ES3001|    STOPPED_AT| 43|2612|38.565940856933594|   3620|-9.040027618408203|  3620_0_1|  3620_0|            SCHEDULED| ES3001'_001|               0.0| 150552|1750516448|3620_0_1_1500_152...|\n",
            "|    265|20250621-64020003...| IN_TRANSIT_TO|44|12075| 38.52577590942383|   4436|-8.871274948120117|  4436_0_2|  4436_0|            SCHEDULED|112060000007|               0.0| 160059|1750516443|4436_0_2|600|1530...|\n",
            "|    158|20250621-64020093...|   INCOMING_AT|44|12734| 38.53633499145508|   4404|-8.894026756286621|  4404_0_3|  4404_0|            SCHEDULED|112290000007|0.8333333333333333| 160087|1750516454|4404_0_3|600|1530...|\n",
            "|    183|20250621-64020098...| IN_TRANSIT_TO|44|12679| 38.53050994873047|   4730|-8.885749816894531|  4730_0_2|  4730_0|            SCHEDULED|113170000007|0.5555555555555556| 160213|1750516443|4730_0_2|600|1530...|\n",
            "|     93|20250621-64020135...| IN_TRANSIT_TO|44|12520|  38.7058219909668|   4504|-8.991873741149902|  4504_0_1|  4504_0|            SCHEDULED|121270000007|              15.0| 100130|1750516456|4504_0_1|600|1530...|\n",
            "|    263|20250621-64020054...| IN_TRANSIT_TO|44|12722| 38.71391677856445|   4203|-8.971364974975586|  4203_0_1|  4203_0|            SCHEDULED|121220000007|               0.0| 100021|1750516443|4203_0_1|600|1515...|\n",
            "|    235|20250621-64020172...| IN_TRANSIT_TO|44|12730|  38.5268669128418|   4422| -8.91256332397461|  4422_0_2|  4422_0|            SCHEDULED|112330000007|               7.5| 160451|1750516447|4422_0_2|600|1515...|\n",
            "|    313|20250621-64020128...| IN_TRANSIT_TO|44|12742|38.756221771240234|   4702|-9.034805297851562|  4702_0_2|  4702_0|            SCHEDULED|123140000007|25.555555555555554| 060005|1750516443|4702_0_2|600|1500...|\n",
            "|     79|20250621-64020242...|    STOPPED_AT|44|12650| 38.48487854003906|   4477| -8.96533489227295|  4477_0_3|  4477_0|            SCHEDULED|111250000007|               0.0| 168562|1750516451|4477_0_3|600|1530...|\n",
            "|    195|           2_2615-21| IN_TRANSIT_TO| 41|1145| 38.68882369995117|   1601|-9.314407348632812|  1601_1_1|  1601_1|            SCHEDULED|        2620| 6.666666666666666| 120815|1750516444|1601_1_1_1430_145...|\n",
            "|    102|             4519-21| IN_TRANSIT_TO| 42|2537|38.792930603027344|   2831|-9.216663360595703|  2831_0_1|  2831_0|            SCHEDULED|        4566| 7.777777777777778| 110158|1750516450|2831_0_1|2|1|1510...|\n",
            "|      0|      ESC_SAB_ES2044|    STOPPED_AT| 43|2279| 38.59484100341797|   3507|-9.183798789978027|  3507_0_1|  3507_0|            SCHEDULED|      ES2024|               0.0| 020231|1750516454|3507_0_1_1430_145...|\n",
            "|     38|20250621-64020204...|   INCOMING_AT|44|12643| 38.51297378540039|   4471|-8.912383079528809|  4471_0_3|  4471_0|            SCHEDULED|111310000007|1.9444444444444444| 160342|1750516455|4471_0_3|600|1520...|\n",
            "|     66|           2_2045-21| IN_TRANSIT_TO| 41|1130| 38.77876281738281|   1509|-9.232781410217285|  1509_0_1|  1509_0|            SCHEDULED|        2073| 6.666666666666666| 030225|1750516455|1509_0_1_1500_152...|\n",
            "|    143|           2_2416-21|   INCOMING_AT| 41|1700| 38.71025466918945|   1115|-9.285862922668457|  1115_3_1|  1115_3|            SCHEDULED|        2404| 11.38888888888889| 120641|1750516454|1115_3_1_1500_152...|\n",
            "|     51|20250621-64020046...| IN_TRANSIT_TO|44|12579| 38.48444747924805|   4470|-8.973273277282715|  4470_0_2|  4470_0|            SCHEDULED|111160000007|               0.0| 160802|1750516429|4470_0_2|600|1545...|\n",
            "|    188|           2_2729-21|   INCOMING_AT|  41|815| 38.85110092163086|   1235|  -9.2583646774292|  1235_0_1|  1235_0|            SCHEDULED|        2729|11.666666666666666| 171215|1750516449|1235_0_1_1530_155...|\n",
            "|    227|20250621-64020072...|   INCOMING_AT|44|12077|38.533077239990234|   4441|-8.866493225097656|  4441_0_2|  4441_0|            SCHEDULED|112190000007| 4.166666666666667| 160218|1750516452|4441_0_2|600|1530...|\n",
            "|     57|                1160| IN_TRANSIT_TO| 42|1160|38.827083587646484|   2505|-9.169038772583008|  2505_0_1|  2505_0|            SCHEDULED|      400655| 8.333333333333334| 070479|1750516446|2505_0_1|160|1|15...|\n",
            "|    325|20250621-64020110...| IN_TRANSIT_TO|44|12566|38.520362854003906|   4562|  -9.0148286819458|  4562_0_1|  4562_0|            SCHEDULED|111180000007|15.833333333333332| 160747|1750516445|4562_0_1|600|1445...|\n",
            "+-------+--------------------+--------------+--------+------------------+-------+------------------+----------+--------+---------------------+------------+------------------+-------+----------+--------------------+\n",
            "only showing top 20 rows\n",
            "\n"
          ]
        }
      ]
    },
    {
      "cell_type": "code",
      "source": [
        "readFromAPI(\"https://api.carrismetropolitana.pt/municipalities\").show()"
      ],
      "metadata": {
        "id": "F__plK66cZR7",
        "outputId": "5127b5ae-66cb-4a0a-f444-3e421905f448",
        "colab": {
          "base_uri": "https://localhost:8080/"
        }
      },
      "execution_count": 3,
      "outputs": [
        {
          "output_type": "stream",
          "name": "stdout",
          "text": [
            "+-----------+-------------+----+--------------------+------+---------+----------------+\n",
            "|district_id|district_name|  id|                name|prefix|region_id|     region_name|\n",
            "+-----------+-------------+----+--------------------+------+---------+----------------+\n",
            "|         07|        Évora|0712|        Vendas Novas|    19|    PT187|Alentejo Central|\n",
            "|         11|       Lisboa|1101|            Alenquer|    20|    PT16B|           Oeste|\n",
            "|         11|       Lisboa|1102|   Arruda dos Vinhos|    20|    PT16B|           Oeste|\n",
            "|         11|       Lisboa|1105|             Cascais|    05|    PT170|             AML|\n",
            "|         11|       Lisboa|1106|              Lisboa|    06|    PT170|             AML|\n",
            "|         11|       Lisboa|1107|              Loures|    07|    PT170|             AML|\n",
            "|         11|       Lisboa|1109|               Mafra|    08|    PT170|             AML|\n",
            "|         11|       Lisboa|1110|              Oeiras|    12|    PT170|             AML|\n",
            "|         11|       Lisboa|1111|              Sintra|    17|    PT170|             AML|\n",
            "|         11|       Lisboa|1112|Sobral de Monte A...|    20|    PT16B|           Oeste|\n",
            "|         11|       Lisboa|1113|       Torres Vedras|    20|    PT16B|           Oeste|\n",
            "|         11|       Lisboa|1114| Vila Franca de Xira|    18|    PT170|             AML|\n",
            "|         11|       Lisboa|1115|             Amadora|    03|    PT170|             AML|\n",
            "|         11|       Lisboa|1116|            Odivelas|    11|    PT170|             AML|\n",
            "|         15|      Setúbal|1502|           Alcochete|    01|    PT170|             AML|\n",
            "|         15|      Setúbal|1503|              Almada|    02|    PT170|             AML|\n",
            "|         15|      Setúbal|1504|            Barreiro|    04|    PT170|             AML|\n",
            "|         15|      Setúbal|1506|               Moita|    09|    PT170|             AML|\n",
            "|         15|      Setúbal|1507|             Montijo|    10|    PT170|             AML|\n",
            "|         15|      Setúbal|1508|             Palmela|    13|    PT170|             AML|\n",
            "+-----------+-------------+----+--------------------+------+---------+----------------+\n",
            "only showing top 20 rows\n",
            "\n"
          ]
        }
      ]
    },
    {
      "cell_type": "markdown",
      "source": [
        "# Vehicles"
      ],
      "metadata": {
        "id": "D7iupARGb51N"
      }
    },
    {
      "cell_type": "code",
      "execution_count": 5,
      "metadata": {
        "id": "VUI0pjsuJh5z",
        "outputId": "c186eba0-cc01-4c80-b695-e3abb0b324a2",
        "colab": {
          "base_uri": "https://localhost:8080/"
        }
      },
      "outputs": [
        {
          "output_type": "stream",
          "name": "stdout",
          "text": [
            "410\n",
            "+-------+--------------------+--------------+--------+---------+-------+---------+----------+--------+---------------------+------------+---------+-------+-------------------+--------------------+\n",
            "|bearing|            block_id|current_status|      id|      lat|line_id|      lon|pattern_id|route_id|schedule_relationship|    shift_id|    speed|stop_id|          timestamp|             trip_id|\n",
            "+-------+--------------------+--------------+--------+---------+-------+---------+----------+--------+---------------------+------------+---------+-------+-------------------+--------------------+\n",
            "|    315|           2_2006-21| IN_TRANSIT_TO| 41|1342|  38.7697|   1710|-9.206302|  1710_3_2|  1710_3|            SCHEDULED|        2036|16.944445| 030817|2025-06-21 14:34:21|1710_3_2_1530_155...|\n",
            "|    329|20250621-64020099...| IN_TRANSIT_TO|44|12510| 38.70925|   4504|-8.961373|  4504_0_2|  4504_0|            SCHEDULED|121380000007| 9.722222| 100446|2025-06-21 14:34:30|4504_0_2|600|1500...|\n",
            "|    306|20250621-64020060...| IN_TRANSIT_TO|44|12514|38.649914|   4600| -8.99816|  4600_0_1|  4600_0|            SCHEDULED|121200000007|      7.5| 090010|2025-06-21 14:34:38|4600_0_1|600|1430...|\n",
            "|    109|           2_2018-21| IN_TRANSIT_TO| 41|1317|38.778362|   1707|-9.229858|  1707_0_1|  1707_0|            SCHEDULED|        2037| 6.111111| 030257|2025-06-21 14:34:38|1707_0_1_1500_152...|\n",
            "|    103|        4505-21'_001| IN_TRANSIT_TO| 42|2597| 38.78692|   2224|-9.179945|  2224_0_3|  2224_0|            SCHEDULED|        4580|3.3333333| 111002|2025-06-21 14:34:27|2224_0_3|2|1|1515...|\n",
            "|    289| ESC_SAB_ES3017'_001|   INCOMING_AT|  43|667|38.580982|   3535|-9.096055|  3535_0_2|  3535_0|            SCHEDULED| ES3017'_001|      0.0| 140542|2025-06-21 14:34:27|3535_0_2_1430_145...|\n",
            "|    337|           2_2310-21|   INCOMING_AT| 41|1423|  38.6972|   1638|-9.356406|  1638_0_2|  1638_0|            SCHEDULED|        2312|11.388889| 050491|2025-06-21 14:34:38|1638_0_2_1530_155...|\n",
            "|      0|             4539-21|    STOPPED_AT| 42|2557| 38.80826|   2833|-9.219363|  2833_0_3|  2833_0|            SCHEDULED|        4548|      0.0| 110442|2025-06-21 14:34:29|2833_0_3|2|1|1505...|\n",
            "|      0| ESC_SAB_ES1066'_001|    STOPPED_AT| 43|2211|38.619404|   3508|-9.115831|  3508_0_2|  3508_0|            SCHEDULED|      ES1071|      0.0| 140110|2025-06-21 14:34:36|3508_0_2_1500_152...|\n",
            "|    100| ESC_SAB_ES1021'_001|   INCOMING_AT| 43|2222|38.644096|   3508|-9.101817|  3508_0_1|  3508_0|            SCHEDULED|      ES1022| 9.166667| 140245|2025-06-21 14:34:34|3508_0_1_1430_145...|\n",
            "|    134|      ESC_SAB_ES2005|   INCOMING_AT| 43|2280| 38.68228|   3003|-9.152457|  3003_0_2|  3003_0|            SCHEDULED|      ES2021|3.3333333| 020115|2025-06-21 14:34:16|3003_0_2_1530_155...|\n",
            "|    110|20250621-64020031...| IN_TRANSIT_TO|44|12512|38.660957|   4602|-9.049628|  4602_0_2|  4602_0|            SCHEDULED|121160000007|4.1666665| 090247|2025-06-21 14:34:29|4602_0_2|600|1525...|\n",
            "|    144|             4034-21| IN_TRANSIT_TO| 42|2358| 38.77592|   2714|-9.163275|  2714_0_2|  2714_0|            SCHEDULED|        4002|4.4444447| 060167|2025-06-21 14:34:06|2714_0_2|2|1|1455...|\n",
            "|      0|      ESC_SAB_ES2022|    STOPPED_AT| 43|2265|38.663723|   3012|-9.189208|  3012_1_2|  3012_1|            SCHEDULED|      ES2022|      0.0| 020397|2025-06-21 14:34:34|3012_1_2_1500_152...|\n",
            "|    350|           2_2301-21| IN_TRANSIT_TO| 41|1401|38.683453|   1604|-9.324143|  1604_0_3|  1604_0|            SCHEDULED|        2328|3.6111112| 050014|2025-06-21 14:34:21|1604_0_3_1430_145...|\n",
            "|     29|20250621-64020204...| IN_TRANSIT_TO|44|12643|38.513195|   4471|-8.912211|  4471_0_3|  4471_0|            SCHEDULED|111310000007|3.6111112| 160344|2025-06-21 14:34:26|4471_0_3|600|1520...|\n",
            "|    325|           2_2027-21| IN_TRANSIT_TO| 41|1866| 38.73815|   1714|-9.228438|  1714_0_2|  1714_0|            SCHEDULED|        2026| 6.388889| 030516|2025-06-21 14:34:21|1714_0_2_1500_152...|\n",
            "|    201|20250621-64020213...| IN_TRANSIT_TO|44|12731|38.526108|   4440|-8.893882|  4440_0_1|  4440_0|            SCHEDULED|112110000007|5.2777777| 160531|2025-06-21 14:34:25|4440_0_1|600|1500...|\n",
            "|     86|20250621-64020078...| IN_TRANSIT_TO|44|12089| 38.52538|   4426|-8.887735|  4426_0_1|  4426_0|            SCHEDULED|112240000007|3.0555556| 160141|2025-06-21 14:34:35|4426_0_1|600|1520...|\n",
            "|    206|20250621-64020145...| IN_TRANSIT_TO|44|12540|38.522625|   4453|-8.815153|  4453_0_2|  4453_0|            SCHEDULED|111120000007|2.2222223| 160320|2025-06-21 14:34:38|4453_0_2|600|1505...|\n",
            "+-------+--------------------+--------------+--------+---------+-------+---------+----------+--------+---------------------+------------+---------+-------+-------------------+--------------------+\n",
            "only showing top 20 rows\n",
            "\n"
          ]
        }
      ],
      "source": [
        "vehicle_schema = StructType([StructField('bearing', IntegerType(), True),\n",
        "                             StructField('block_id', StringType(), True),\n",
        "                             StructField('current_status', StringType(), True),\n",
        "                             StructField('id', StringType(), True),\n",
        "                             StructField('lat', FloatType(), True),\n",
        "                             StructField('line_id', StringType(), True),\n",
        "                             StructField('lon', FloatType(), True),\n",
        "                             StructField('pattern_id', StringType(), True),\n",
        "                             StructField('route_id', StringType(), True),\n",
        "                             StructField('schedule_relationship', StringType(), True),\n",
        "                             StructField('shift_id', StringType(), True),\n",
        "                             StructField('speed', FloatType(), True),\n",
        "                             StructField('stop_id', StringType(), True),\n",
        "                             StructField('timestamp', TimestampType(), True),\n",
        "                             StructField('trip_id', StringType(), True)])\n",
        "\n",
        "vehicles = readFromAPI(\"https://api.carrismetropolitana.pt/vehicles\", vehicle_schema)\n",
        "print(vehicles.count())\n",
        "vehicles.show()"
      ]
    },
    {
      "cell_type": "markdown",
      "source": [
        "# Routes"
      ],
      "metadata": {
        "id": "wY3qFrIsd59o"
      }
    },
    {
      "cell_type": "code",
      "source": [
        "from pyspark.sql.functions import *\n",
        "routes = readFromAPI(\"https://api.carrismetropolitana.pt/routes\")\n",
        "print(routes.count())"
      ],
      "metadata": {
        "id": "61ctySGTcWKQ",
        "outputId": "3211bb9a-32f1-4895-9173-3c709e035220",
        "colab": {
          "base_uri": "https://localhost:8080/"
        }
      },
      "execution_count": 6,
      "outputs": [
        {
          "output_type": "stream",
          "name": "stdout",
          "text": [
            "913\n"
          ]
        }
      ]
    },
    {
      "cell_type": "markdown",
      "source": [
        "# Questions"
      ],
      "metadata": {
        "id": "fD94isDGeYOD"
      }
    },
    {
      "cell_type": "markdown",
      "source": [
        "# Q1\n",
        "- adjust ROUTE dataframe\n",
        "  - use correct schema to get the data (StructField)\n",
        "  - make sure _corrupt_record is removed from schema\n",
        "- find the routes that pass through the localities \"Brandoa\" and \"Colégio Militar\""
      ],
      "metadata": {
        "id": "c3KKfwbQebwt"
      }
    },
    {
      "cell_type": "code",
      "source": [
        "routes"
      ],
      "metadata": {
        "id": "9ABaYsDa6s6j",
        "outputId": "23a27424-d833-4207-eedf-dd5d3f55f861",
        "colab": {
          "base_uri": "https://localhost:8080/"
        }
      },
      "execution_count": 8,
      "outputs": [
        {
          "output_type": "execute_result",
          "data": {
            "text/plain": [
              "DataFrame[_corrupt_record: string, color: string, facilities: array<string>, id: string, line_id: string, localities: array<string>, long_name: string, municipalities: array<string>, patterns: array<string>, short_name: string, text_color: string]"
            ]
          },
          "metadata": {},
          "execution_count": 8
        }
      ]
    },
    {
      "cell_type": "code",
      "source": [
        "routes.schema"
      ],
      "metadata": {
        "id": "S85MQ96b661g",
        "outputId": "99ff5356-4549-4dcc-b62c-49f8f7223650",
        "colab": {
          "base_uri": "https://localhost:8080/"
        }
      },
      "execution_count": 9,
      "outputs": [
        {
          "output_type": "execute_result",
          "data": {
            "text/plain": [
              "StructType([StructField('_corrupt_record', StringType(), True), StructField('color', StringType(), True), StructField('facilities', ArrayType(StringType(), True), True), StructField('id', StringType(), True), StructField('line_id', StringType(), True), StructField('localities', ArrayType(StringType(), True), True), StructField('long_name', StringType(), True), StructField('municipalities', ArrayType(StringType(), True), True), StructField('patterns', ArrayType(StringType(), True), True), StructField('short_name', StringType(), True), StructField('text_color', StringType(), True)])"
            ]
          },
          "metadata": {},
          "execution_count": 9
        }
      ]
    },
    {
      "cell_type": "code",
      "source": [
        "import pyspark.sql.functions as F\n",
        "from pyspark.sql.types import *\n",
        "\n",
        "routes_schema = StructType([StructField('_corrupt_record', StringType(), True), StructField('color', StringType(), True), StructField('facilities', ArrayType(StringType(), True), True), StructField('id', StringType(), True), StructField('line_id', StringType(), True), StructField('localities', ArrayType(StringType(), True), True), StructField('long_name', StringType(), True), StructField('municipalities', ArrayType(StringType(), True), True), StructField('patterns', ArrayType(StringType(), True), True), StructField('short_name', StringType(), True), StructField('text_color', StringType(), True)])\n",
        "\n",
        "routes = readFromAPI(\"https://api.carrismetropolitana.pt/routes\", routes_schema)\n",
        "routes = routes.filter(col(\"_corrupt_record\").isNull()).drop(\"_corrupt_record\")\n",
        "\n",
        "#routes.filter(array_contains(col(\"localities\"), \"Brandoa\") & array_contains(col(\"localities\"), \"Colégio Militar\"))\n",
        "routes.filter(F.array_contains(routes.localities, \"Brandoa\") & F.array_contains(routes.localities, \"Colégio Militar\")).select(\"localities\").show()"
      ],
      "metadata": {
        "id": "g12eHNFO7H-m",
        "outputId": "22605feb-ee78-4dbc-943a-42dde46164ca",
        "colab": {
          "base_uri": "https://localhost:8080/"
        }
      },
      "execution_count": 30,
      "outputs": [
        {
          "output_type": "stream",
          "name": "stdout",
          "text": [
            "+--------------------+\n",
            "|          localities|\n",
            "+--------------------+\n",
            "|[Casal da Mira, A...|\n",
            "|[Brandoa, Amadora...|\n",
            "|[Casal da Mira, A...|\n",
            "|[Brandoa, Amadora...|\n",
            "|[Casal da Mira, A...|\n",
            "+--------------------+\n",
            "\n"
          ]
        }
      ]
    },
    {
      "cell_type": "code",
      "source": [
        "routes.select(\"_corrupt_record\").show()"
      ],
      "metadata": {
        "id": "gwXzQ2rv7lkC",
        "outputId": "8307a696-cbc4-4106-c089-77d453d7eb71",
        "colab": {
          "base_uri": "https://localhost:8080/"
        }
      },
      "execution_count": 12,
      "outputs": [
        {
          "output_type": "stream",
          "name": "stdout",
          "text": [
            "+--------------------+\n",
            "|     _corrupt_record|\n",
            "+--------------------+\n",
            "|                NULL|\n",
            "|                NULL|\n",
            "|                NULL|\n",
            "|                NULL|\n",
            "|                NULL|\n",
            "|                NULL|\n",
            "|                NULL|\n",
            "|                NULL|\n",
            "|                NULL|\n",
            "|{'color': '#3D85C...|\n",
            "|{'color': '#3D85C...|\n",
            "|                NULL|\n",
            "|                NULL|\n",
            "|                NULL|\n",
            "|                NULL|\n",
            "|{'color': '#C61D2...|\n",
            "|                NULL|\n",
            "|                NULL|\n",
            "|                NULL|\n",
            "|                NULL|\n",
            "+--------------------+\n",
            "only showing top 20 rows\n",
            "\n"
          ]
        }
      ]
    },
    {
      "cell_type": "code",
      "source": [],
      "metadata": {
        "id": "f6XeNUnX73pF"
      },
      "execution_count": null,
      "outputs": []
    },
    {
      "cell_type": "markdown",
      "source": [
        "# Q2\n",
        "- What is the line with more localities?\n"
      ],
      "metadata": {
        "id": "w46Txx__rc4r"
      }
    },
    {
      "cell_type": "code",
      "source": [
        "import pyspark.sql.functions as F\n",
        "\n",
        "lines = readFromAPI(\"https://api.carrismetropolitana.pt/lines\")\n",
        "\n",
        "lines.withColumn(\"localities_qty\", F.array_size(F.col(\"localities\"))).orderBy(F.desc(\"localities_qty\")).select(\"long_name\", \"localities_qty\").show(1, False)\n"
      ],
      "metadata": {
        "id": "yVMrvu1-8sxV",
        "outputId": "eebfb86f-a2aa-40aa-f2fc-04c659f3251f",
        "colab": {
          "base_uri": "https://localhost:8080/"
        }
      },
      "execution_count": 24,
      "outputs": [
        {
          "output_type": "stream",
          "name": "stdout",
          "text": [
            "+-----------------------------------------------+--------------+\n",
            "|long_name                                      |localities_qty|\n",
            "+-----------------------------------------------+--------------+\n",
            "|Cacilhas (Terminal) - Setúbal (ITS) via Azeitão|24            |\n",
            "+-----------------------------------------------+--------------+\n",
            "only showing top 1 row\n",
            "\n"
          ]
        }
      ]
    },
    {
      "cell_type": "markdown",
      "source": [],
      "metadata": {
        "id": "Bmv3Q9uVrvWo"
      }
    },
    {
      "cell_type": "markdown",
      "metadata": {
        "id": "4oONLIeBS8JQ"
      },
      "source": [
        "### API - https://github.com/carrismetropolitana/api"
      ]
    }
  ],
  "metadata": {
    "colab": {
      "provenance": [],
      "include_colab_link": true
    },
    "kernelspec": {
      "display_name": "Python 3",
      "name": "python3"
    },
    "language_info": {
      "name": "python"
    }
  },
  "nbformat": 4,
  "nbformat_minor": 0
}