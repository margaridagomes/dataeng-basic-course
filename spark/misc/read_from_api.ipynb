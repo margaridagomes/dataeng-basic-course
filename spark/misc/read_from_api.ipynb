{
  "cells": [
    {
      "cell_type": "markdown",
      "metadata": {
        "id": "view-in-github",
        "colab_type": "text"
      },
      "source": [
        "<a href=\"https://colab.research.google.com/github/margaridagomes/dataeng-basic-course/blob/main/spark/misc/read_from_api.ipynb\" target=\"_parent\"><img src=\"https://colab.research.google.com/assets/colab-badge.svg\" alt=\"Open In Colab\"/></a>"
      ]
    },
    {
      "cell_type": "markdown",
      "metadata": {
        "id": "BOA_wQSmLd9z"
      },
      "source": [
        "# Read from API\n",
        "- Read data from API using requests and RDDs"
      ]
    },
    {
      "cell_type": "markdown",
      "metadata": {
        "id": "d9LeYFsPTjAb"
      },
      "source": [
        "# Setting up PySpark"
      ]
    },
    {
      "cell_type": "code",
      "execution_count": null,
      "metadata": {
        "id": "uYXeODL0T1fO"
      },
      "outputs": [],
      "source": [
        "%pip install pyspark"
      ]
    },
    {
      "cell_type": "code",
      "execution_count": 4,
      "metadata": {
        "id": "637HFw00T3LP"
      },
      "outputs": [],
      "source": [
        "from pyspark.sql import SparkSession\n",
        "spark = SparkSession.builder.master('local').appName('Spark Course').config('spark.ui.port', '4050').getOrCreate()\n",
        "sc = spark.sparkContext"
      ]
    },
    {
      "cell_type": "markdown",
      "metadata": {
        "id": "FM8YQx6XGeiL"
      },
      "source": [
        "# Get data from API - Vehicles"
      ]
    },
    {
      "cell_type": "code",
      "execution_count": 5,
      "metadata": {
        "id": "0wntlQDWGeiL"
      },
      "outputs": [],
      "source": [
        "import requests\n",
        "from pyspark.sql.types import *\n",
        "\n",
        "def readFromAPI(url: str, schema: StructType = None):\n",
        "  response = requests.get(url)\n",
        "  rdd = sc.parallelize(response.json())\n",
        "\n",
        "  if schema:\n",
        "    df = spark.read.schema(schema).json(rdd)\n",
        "  else:\n",
        "    df = spark.read.json(rdd)\n",
        "  return df"
      ]
    },
    {
      "cell_type": "code",
      "source": [
        "readFromAPI(\"https://api.carrismetropolitana.pt/vehicles\").show()"
      ],
      "metadata": {
        "id": "X-wg6K1u6RWI",
        "outputId": "55f3e1d1-9ed3-4f8b-97a0-0ade1e463c36",
        "colab": {
          "base_uri": "https://localhost:8080/"
        }
      },
      "execution_count": 3,
      "outputs": [
        {
          "output_type": "stream",
          "name": "stdout",
          "text": [
            "+-------+--------------------+--------------+--------+------------------+-------+------------------+----------+--------+---------------------+------------+------------------+-------+----------+--------------------+\n",
            "|bearing|            block_id|current_status|      id|               lat|line_id|               lon|pattern_id|route_id|schedule_relationship|    shift_id|             speed|stop_id| timestamp|             trip_id|\n",
            "+-------+--------------------+--------------+--------+------------------+-------+------------------+----------+--------+---------------------+------------+------------------+-------+----------+--------------------+\n",
            "|    133|20250625-64010006...| IN_TRANSIT_TO|44|12668|   38.776611328125|   4702| -9.06252670288086|  4702_0_1|  4702_0|            SCHEDULED|123500234560| 27.77777777777778| 010159|1750887160|4702_0_1|300|2225...|\n",
            "|     18|20250625-64010056...| IN_TRANSIT_TO|44|12504|  38.6970100402832|   4512|-8.945204734802246|  4512_0_2|  4512_0|            SCHEDULED|121870234560| 3.611111111111111| 100176|1750887163|4512_0_2|300|2150...|\n",
            "|     82|20250625-64010218...| IN_TRANSIT_TO|44|12652|38.785980224609375|   4701|-9.104283332824707|  4701_0_1|  4701_0|            SCHEDULED|123510234560|19.444444444444443| 100417|1750887162|4701_0_1|300|2200...|\n",
            "|     50|20250625-64010532...| IN_TRANSIT_TO|44|12506|38.655059814453125|   4600|-9.065110206604004|  4600_0_2|  4600_0|            SCHEDULED|121830234560|14.444444444444445| 040006|1750887161|4600_0_2|300|2230...|\n",
            "|      0|       ESC_DU_EU1092|    STOPPED_AT| 43|2222|38.627044677734375|   3523|-9.104442596435547|  3523_1_1|  3523_1|            SCHEDULED|      EU1158|               0.0| 140231|1750887166|3523_1_1_2100_212...|\n",
            "|     76|       ESC_DU_EU2085| IN_TRANSIT_TO| 43|2327|38.670188903808594|   3009|-9.230941772460938|  3009_0_2|  3009_0|            SCHEDULED|      EU2228| 5.555555555555555| 020379|1750887159|3009_0_2_2230_225...|\n",
            "|      0|       ESC_DU_EU3022|    STOPPED_AT| 43|2035| 38.56858825683594|   3547|  -9.0465726852417|  3547_1_2|  3547_1|            SCHEDULED|      EU3097|               0.0| 150021|1750887173|3547_1_2_2200_222...|\n",
            "|    224|       ESC_DU_EU2077| IN_TRANSIT_TO| 43|2255| 38.68378448486328|   3013| -9.15062141418457|  3013_0_1|  3013_0|            SCHEDULED|      EU2209| 6.666666666666666| 020115|1750887158|3013_0_1_2230_225...|\n",
            "|    260|       ESC_DU_EU1070| IN_TRANSIT_TO| 43|2379| 38.62195587158203|   3527|-9.088751792907715|  3527_1_2|  3527_1|            SCHEDULED|      EU1190| 6.666666666666666| 140577|1750887155|3527_1_2_2230_225...|\n",
            "|    109|                1015| IN_TRANSIT_TO| 42|1015| 38.83204650878906|   2754|-9.170748710632324|  2754_0_2|  2754_0|            SCHEDULED|       46201| 3.611111111111111| 070029|1750887141|2754_0_2|130|5|22...|\n",
            "|     35|              VS_045|    STOPPED_AT| 41|1354| 38.71894454956055|   1713|-9.222542762756348|  1713_1_1|  1713_1|            SCHEDULED|        1121|0.2777777777777778| 121295|1750887168|1713_1_1_2200_222...|\n",
            "|     98|                1099| IN_TRANSIT_TO| 42|1099|  38.9293327331543|   2751| -9.24594497680664|  2751_1_1|  2751_1|            SCHEDULED|       44321| 7.777777777777778| 080274|1750887162|2751_1_1|130|5|21...|\n",
            "|     93|20250625-64010057...|   INCOMING_AT|44|12535| 38.70600509643555|   4203|-9.001179695129395|  4203_0_2|  4203_0|            SCHEDULED|121900234560|              15.0| 100133|1750887168|4203_0_2|300|2230...|\n",
            "|    272|           1_1649-11| IN_TRANSIT_TO| 41|1368|  38.7762565612793|   1212|-9.269061088562012|  1212_0_2|  1212_0|            SCHEDULED|        1694|              10.0| 170539|1750887158|1212_0_2_2200_222...|\n",
            "|    280|20250625-64010422...| IN_TRANSIT_TO|44|12562|38.528770446777344|   4412|-8.884828567504883|  4412_0_1|  4412_0|            SCHEDULED|111600234560|               0.0| 162003|1750887173|4412_0_1|300|2205...|\n",
            "|    300|      1_1222-11'_001| IN_TRANSIT_TO| 41|1128|38.756717681884766|   1715|-9.256473541259766|  1715_0_1|  1715_0|            SCHEDULED|        1258|              10.0| 170926|1750887151|1715_0_1_2200_222...|\n",
            "|    135|20250625-64010324...| IN_TRANSIT_TO|44|12599| 38.57628631591797|   4562|-8.889699935913086|  4562_0_2|  4562_0|            SCHEDULED|111650234560| 5.277777777777778| 130457|1750887160|4562_0_2|300|2205...|\n",
            "|    237|20250625-64010193...| IN_TRANSIT_TO|44|12080|38.544986724853516|   4428|-8.856106758117676|  4428_0_2|  4428_0|            SCHEDULED|112600234500|               0.0| 160293|1750887160|4428_0_2|300|2245...|\n",
            "|    186|20250625-64010188...| IN_TRANSIT_TO|44|12631| 38.54246139526367|   4422|-8.882838249206543|  4422_0_1|  4422_0|            SCHEDULED|112630234500|               0.0| 160419|1750887162|4422_0_1|300|2230...|\n",
            "|      0|20250625-64010300...| IN_TRANSIT_TO|44|12646| 38.56825256347656|   4562|-8.887923240661621|  4562_0_1|  4562_0|            SCHEDULED|111640234560| 13.88888888888889| 130660|1750887161|4562_0_1|300|2215...|\n",
            "+-------+--------------------+--------------+--------+------------------+-------+------------------+----------+--------+---------------------+------------+------------------+-------+----------+--------------------+\n",
            "only showing top 20 rows\n",
            "\n"
          ]
        }
      ]
    },
    {
      "cell_type": "code",
      "source": [
        "readFromAPI(\"https://api.carrismetropolitana.pt/municipalities\").show()"
      ],
      "metadata": {
        "id": "F__plK66cZR7",
        "outputId": "68bed8c2-04e5-4578-e060-c94ae18ce464",
        "colab": {
          "base_uri": "https://localhost:8080/"
        }
      },
      "execution_count": 6,
      "outputs": [
        {
          "output_type": "stream",
          "name": "stdout",
          "text": [
            "+-----------+-------------+----+--------------------+------+---------+----------------+\n",
            "|district_id|district_name|  id|                name|prefix|region_id|     region_name|\n",
            "+-----------+-------------+----+--------------------+------+---------+----------------+\n",
            "|         07|        Évora|0712|        Vendas Novas|    19|    PT187|Alentejo Central|\n",
            "|         11|       Lisboa|1101|            Alenquer|    20|    PT16B|           Oeste|\n",
            "|         11|       Lisboa|1102|   Arruda dos Vinhos|    20|    PT16B|           Oeste|\n",
            "|         11|       Lisboa|1105|             Cascais|    05|    PT170|             AML|\n",
            "|         11|       Lisboa|1106|              Lisboa|    06|    PT170|             AML|\n",
            "|         11|       Lisboa|1107|              Loures|    07|    PT170|             AML|\n",
            "|         11|       Lisboa|1109|               Mafra|    08|    PT170|             AML|\n",
            "|         11|       Lisboa|1110|              Oeiras|    12|    PT170|             AML|\n",
            "|         11|       Lisboa|1111|              Sintra|    17|    PT170|             AML|\n",
            "|         11|       Lisboa|1112|Sobral de Monte A...|    20|    PT16B|           Oeste|\n",
            "|         11|       Lisboa|1113|       Torres Vedras|    20|    PT16B|           Oeste|\n",
            "|         11|       Lisboa|1114| Vila Franca de Xira|    18|    PT170|             AML|\n",
            "|         11|       Lisboa|1115|             Amadora|    03|    PT170|             AML|\n",
            "|         11|       Lisboa|1116|            Odivelas|    11|    PT170|             AML|\n",
            "|         15|      Setúbal|1502|           Alcochete|    01|    PT170|             AML|\n",
            "|         15|      Setúbal|1503|              Almada|    02|    PT170|             AML|\n",
            "|         15|      Setúbal|1504|            Barreiro|    04|    PT170|             AML|\n",
            "|         15|      Setúbal|1506|               Moita|    09|    PT170|             AML|\n",
            "|         15|      Setúbal|1507|             Montijo|    10|    PT170|             AML|\n",
            "|         15|      Setúbal|1508|             Palmela|    13|    PT170|             AML|\n",
            "+-----------+-------------+----+--------------------+------+---------+----------------+\n",
            "only showing top 20 rows\n",
            "\n"
          ]
        }
      ]
    },
    {
      "cell_type": "code",
      "source": [
        "municipalities_schema = StructType([\n",
        "    StructField('district_id', StringType(), True),\n",
        "    StructField('district_name', StringType(), True),\n",
        "    StructField('id', StringType(), True),\n",
        "    StructField('name', StringType(), True),\n",
        "    StructField('prefix', StringType(), True),\n",
        "    StructField('region_id', StringType(), True),\n",
        "    StructField('region_name', StringType(), True)])\n",
        "\n",
        "municipalities = readFromAPI(\"https://api.carrismetropolitana.pt/municipalities\", municipalities_schema)\n",
        "print(municipalities.count())\n",
        "municipalities.show()"
      ],
      "metadata": {
        "id": "FAxEB1GwCppw",
        "outputId": "7ff5afb8-cd3b-4d6b-e6ee-a49b8226d666",
        "colab": {
          "base_uri": "https://localhost:8080/"
        }
      },
      "execution_count": 8,
      "outputs": [
        {
          "output_type": "stream",
          "name": "stdout",
          "text": [
            "23\n",
            "+-----------+-------------+----+--------------------+------+---------+----------------+\n",
            "|district_id|district_name|  id|                name|prefix|region_id|     region_name|\n",
            "+-----------+-------------+----+--------------------+------+---------+----------------+\n",
            "|         07|        Évora|0712|        Vendas Novas|    19|    PT187|Alentejo Central|\n",
            "|         11|       Lisboa|1101|            Alenquer|    20|    PT16B|           Oeste|\n",
            "|         11|       Lisboa|1102|   Arruda dos Vinhos|    20|    PT16B|           Oeste|\n",
            "|         11|       Lisboa|1105|             Cascais|    05|    PT170|             AML|\n",
            "|         11|       Lisboa|1106|              Lisboa|    06|    PT170|             AML|\n",
            "|         11|       Lisboa|1107|              Loures|    07|    PT170|             AML|\n",
            "|         11|       Lisboa|1109|               Mafra|    08|    PT170|             AML|\n",
            "|         11|       Lisboa|1110|              Oeiras|    12|    PT170|             AML|\n",
            "|         11|       Lisboa|1111|              Sintra|    17|    PT170|             AML|\n",
            "|         11|       Lisboa|1112|Sobral de Monte A...|    20|    PT16B|           Oeste|\n",
            "|         11|       Lisboa|1113|       Torres Vedras|    20|    PT16B|           Oeste|\n",
            "|         11|       Lisboa|1114| Vila Franca de Xira|    18|    PT170|             AML|\n",
            "|         11|       Lisboa|1115|             Amadora|    03|    PT170|             AML|\n",
            "|         11|       Lisboa|1116|            Odivelas|    11|    PT170|             AML|\n",
            "|         15|      Setúbal|1502|           Alcochete|    01|    PT170|             AML|\n",
            "|         15|      Setúbal|1503|              Almada|    02|    PT170|             AML|\n",
            "|         15|      Setúbal|1504|            Barreiro|    04|    PT170|             AML|\n",
            "|         15|      Setúbal|1506|               Moita|    09|    PT170|             AML|\n",
            "|         15|      Setúbal|1507|             Montijo|    10|    PT170|             AML|\n",
            "|         15|      Setúbal|1508|             Palmela|    13|    PT170|             AML|\n",
            "+-----------+-------------+----+--------------------+------+---------+----------------+\n",
            "only showing top 20 rows\n",
            "\n"
          ]
        }
      ]
    },
    {
      "cell_type": "markdown",
      "source": [
        "# Vehicles"
      ],
      "metadata": {
        "id": "D7iupARGb51N"
      }
    },
    {
      "cell_type": "code",
      "execution_count": null,
      "metadata": {
        "id": "VUI0pjsuJh5z",
        "outputId": "c186eba0-cc01-4c80-b695-e3abb0b324a2",
        "colab": {
          "base_uri": "https://localhost:8080/"
        }
      },
      "outputs": [
        {
          "output_type": "stream",
          "name": "stdout",
          "text": [
            "410\n",
            "+-------+--------------------+--------------+--------+---------+-------+---------+----------+--------+---------------------+------------+---------+-------+-------------------+--------------------+\n",
            "|bearing|            block_id|current_status|      id|      lat|line_id|      lon|pattern_id|route_id|schedule_relationship|    shift_id|    speed|stop_id|          timestamp|             trip_id|\n",
            "+-------+--------------------+--------------+--------+---------+-------+---------+----------+--------+---------------------+------------+---------+-------+-------------------+--------------------+\n",
            "|    315|           2_2006-21| IN_TRANSIT_TO| 41|1342|  38.7697|   1710|-9.206302|  1710_3_2|  1710_3|            SCHEDULED|        2036|16.944445| 030817|2025-06-21 14:34:21|1710_3_2_1530_155...|\n",
            "|    329|20250621-64020099...| IN_TRANSIT_TO|44|12510| 38.70925|   4504|-8.961373|  4504_0_2|  4504_0|            SCHEDULED|121380000007| 9.722222| 100446|2025-06-21 14:34:30|4504_0_2|600|1500...|\n",
            "|    306|20250621-64020060...| IN_TRANSIT_TO|44|12514|38.649914|   4600| -8.99816|  4600_0_1|  4600_0|            SCHEDULED|121200000007|      7.5| 090010|2025-06-21 14:34:38|4600_0_1|600|1430...|\n",
            "|    109|           2_2018-21| IN_TRANSIT_TO| 41|1317|38.778362|   1707|-9.229858|  1707_0_1|  1707_0|            SCHEDULED|        2037| 6.111111| 030257|2025-06-21 14:34:38|1707_0_1_1500_152...|\n",
            "|    103|        4505-21'_001| IN_TRANSIT_TO| 42|2597| 38.78692|   2224|-9.179945|  2224_0_3|  2224_0|            SCHEDULED|        4580|3.3333333| 111002|2025-06-21 14:34:27|2224_0_3|2|1|1515...|\n",
            "|    289| ESC_SAB_ES3017'_001|   INCOMING_AT|  43|667|38.580982|   3535|-9.096055|  3535_0_2|  3535_0|            SCHEDULED| ES3017'_001|      0.0| 140542|2025-06-21 14:34:27|3535_0_2_1430_145...|\n",
            "|    337|           2_2310-21|   INCOMING_AT| 41|1423|  38.6972|   1638|-9.356406|  1638_0_2|  1638_0|            SCHEDULED|        2312|11.388889| 050491|2025-06-21 14:34:38|1638_0_2_1530_155...|\n",
            "|      0|             4539-21|    STOPPED_AT| 42|2557| 38.80826|   2833|-9.219363|  2833_0_3|  2833_0|            SCHEDULED|        4548|      0.0| 110442|2025-06-21 14:34:29|2833_0_3|2|1|1505...|\n",
            "|      0| ESC_SAB_ES1066'_001|    STOPPED_AT| 43|2211|38.619404|   3508|-9.115831|  3508_0_2|  3508_0|            SCHEDULED|      ES1071|      0.0| 140110|2025-06-21 14:34:36|3508_0_2_1500_152...|\n",
            "|    100| ESC_SAB_ES1021'_001|   INCOMING_AT| 43|2222|38.644096|   3508|-9.101817|  3508_0_1|  3508_0|            SCHEDULED|      ES1022| 9.166667| 140245|2025-06-21 14:34:34|3508_0_1_1430_145...|\n",
            "|    134|      ESC_SAB_ES2005|   INCOMING_AT| 43|2280| 38.68228|   3003|-9.152457|  3003_0_2|  3003_0|            SCHEDULED|      ES2021|3.3333333| 020115|2025-06-21 14:34:16|3003_0_2_1530_155...|\n",
            "|    110|20250621-64020031...| IN_TRANSIT_TO|44|12512|38.660957|   4602|-9.049628|  4602_0_2|  4602_0|            SCHEDULED|121160000007|4.1666665| 090247|2025-06-21 14:34:29|4602_0_2|600|1525...|\n",
            "|    144|             4034-21| IN_TRANSIT_TO| 42|2358| 38.77592|   2714|-9.163275|  2714_0_2|  2714_0|            SCHEDULED|        4002|4.4444447| 060167|2025-06-21 14:34:06|2714_0_2|2|1|1455...|\n",
            "|      0|      ESC_SAB_ES2022|    STOPPED_AT| 43|2265|38.663723|   3012|-9.189208|  3012_1_2|  3012_1|            SCHEDULED|      ES2022|      0.0| 020397|2025-06-21 14:34:34|3012_1_2_1500_152...|\n",
            "|    350|           2_2301-21| IN_TRANSIT_TO| 41|1401|38.683453|   1604|-9.324143|  1604_0_3|  1604_0|            SCHEDULED|        2328|3.6111112| 050014|2025-06-21 14:34:21|1604_0_3_1430_145...|\n",
            "|     29|20250621-64020204...| IN_TRANSIT_TO|44|12643|38.513195|   4471|-8.912211|  4471_0_3|  4471_0|            SCHEDULED|111310000007|3.6111112| 160344|2025-06-21 14:34:26|4471_0_3|600|1520...|\n",
            "|    325|           2_2027-21| IN_TRANSIT_TO| 41|1866| 38.73815|   1714|-9.228438|  1714_0_2|  1714_0|            SCHEDULED|        2026| 6.388889| 030516|2025-06-21 14:34:21|1714_0_2_1500_152...|\n",
            "|    201|20250621-64020213...| IN_TRANSIT_TO|44|12731|38.526108|   4440|-8.893882|  4440_0_1|  4440_0|            SCHEDULED|112110000007|5.2777777| 160531|2025-06-21 14:34:25|4440_0_1|600|1500...|\n",
            "|     86|20250621-64020078...| IN_TRANSIT_TO|44|12089| 38.52538|   4426|-8.887735|  4426_0_1|  4426_0|            SCHEDULED|112240000007|3.0555556| 160141|2025-06-21 14:34:35|4426_0_1|600|1520...|\n",
            "|    206|20250621-64020145...| IN_TRANSIT_TO|44|12540|38.522625|   4453|-8.815153|  4453_0_2|  4453_0|            SCHEDULED|111120000007|2.2222223| 160320|2025-06-21 14:34:38|4453_0_2|600|1505...|\n",
            "+-------+--------------------+--------------+--------+---------+-------+---------+----------+--------+---------------------+------------+---------+-------+-------------------+--------------------+\n",
            "only showing top 20 rows\n",
            "\n"
          ]
        }
      ],
      "source": [
        "vehicle_schema = StructType([StructField('bearing', IntegerType(), True),\n",
        "                             StructField('block_id', StringType(), True),\n",
        "                             StructField('current_status', StringType(), True),\n",
        "                             StructField('id', StringType(), True),\n",
        "                             StructField('lat', FloatType(), True),\n",
        "                             StructField('line_id', StringType(), True),\n",
        "                             StructField('lon', FloatType(), True),\n",
        "                             StructField('pattern_id', StringType(), True),\n",
        "                             StructField('route_id', StringType(), True),\n",
        "                             StructField('schedule_relationship', StringType(), True),\n",
        "                             StructField('shift_id', StringType(), True),\n",
        "                             StructField('speed', FloatType(), True),\n",
        "                             StructField('stop_id', StringType(), True),\n",
        "                             StructField('timestamp', TimestampType(), True),\n",
        "                             StructField('trip_id', StringType(), True)])\n",
        "\n",
        "vehicles = readFromAPI(\"https://api.carrismetropolitana.pt/vehicles\", vehicle_schema)\n",
        "print(vehicles.count())\n",
        "vehicles.show()"
      ]
    },
    {
      "cell_type": "markdown",
      "source": [
        "# Routes"
      ],
      "metadata": {
        "id": "wY3qFrIsd59o"
      }
    },
    {
      "cell_type": "code",
      "source": [
        "from pyspark.sql.functions import *\n",
        "routes = readFromAPI(\"https://api.carrismetropolitana.pt/routes\")\n",
        "print(routes.count())"
      ],
      "metadata": {
        "id": "61ctySGTcWKQ",
        "outputId": "3211bb9a-32f1-4895-9173-3c709e035220",
        "colab": {
          "base_uri": "https://localhost:8080/"
        }
      },
      "execution_count": null,
      "outputs": [
        {
          "output_type": "stream",
          "name": "stdout",
          "text": [
            "913\n"
          ]
        }
      ]
    },
    {
      "cell_type": "markdown",
      "source": [
        "# Questions"
      ],
      "metadata": {
        "id": "fD94isDGeYOD"
      }
    },
    {
      "cell_type": "markdown",
      "source": [
        "# Q1\n",
        "- adjust ROUTE dataframe\n",
        "  - use correct schema to get the data (StructField)\n",
        "  - make sure _corrupt_record is removed from schema\n",
        "- find the routes that pass through the localities \"Brandoa\" and \"Colégio Militar\""
      ],
      "metadata": {
        "id": "c3KKfwbQebwt"
      }
    },
    {
      "cell_type": "code",
      "source": [
        "routes"
      ],
      "metadata": {
        "id": "9ABaYsDa6s6j",
        "outputId": "23a27424-d833-4207-eedf-dd5d3f55f861",
        "colab": {
          "base_uri": "https://localhost:8080/"
        }
      },
      "execution_count": null,
      "outputs": [
        {
          "output_type": "execute_result",
          "data": {
            "text/plain": [
              "DataFrame[_corrupt_record: string, color: string, facilities: array<string>, id: string, line_id: string, localities: array<string>, long_name: string, municipalities: array<string>, patterns: array<string>, short_name: string, text_color: string]"
            ]
          },
          "metadata": {},
          "execution_count": 8
        }
      ]
    },
    {
      "cell_type": "code",
      "source": [
        "routes.schema"
      ],
      "metadata": {
        "id": "S85MQ96b661g",
        "outputId": "99ff5356-4549-4dcc-b62c-49f8f7223650",
        "colab": {
          "base_uri": "https://localhost:8080/"
        }
      },
      "execution_count": null,
      "outputs": [
        {
          "output_type": "execute_result",
          "data": {
            "text/plain": [
              "StructType([StructField('_corrupt_record', StringType(), True), StructField('color', StringType(), True), StructField('facilities', ArrayType(StringType(), True), True), StructField('id', StringType(), True), StructField('line_id', StringType(), True), StructField('localities', ArrayType(StringType(), True), True), StructField('long_name', StringType(), True), StructField('municipalities', ArrayType(StringType(), True), True), StructField('patterns', ArrayType(StringType(), True), True), StructField('short_name', StringType(), True), StructField('text_color', StringType(), True)])"
            ]
          },
          "metadata": {},
          "execution_count": 9
        }
      ]
    },
    {
      "cell_type": "code",
      "source": [
        "import pyspark.sql.functions as F\n",
        "from pyspark.sql.types import *\n",
        "\n",
        "routes_schema = StructType([StructField('_corrupt_record', StringType(), True), StructField('color', StringType(), True), StructField('facilities', ArrayType(StringType(), True), True), StructField('id', StringType(), True), StructField('line_id', StringType(), True), StructField('localities', ArrayType(StringType(), True), True), StructField('long_name', StringType(), True), StructField('municipalities', ArrayType(StringType(), True), True), StructField('patterns', ArrayType(StringType(), True), True), StructField('short_name', StringType(), True), StructField('text_color', StringType(), True)])\n",
        "\n",
        "routes = readFromAPI(\"https://api.carrismetropolitana.pt/routes\", routes_schema)\n",
        "routes = routes.filter(col(\"_corrupt_record\").isNull()).drop(\"_corrupt_record\")\n",
        "\n",
        "#routes.filter(array_contains(col(\"localities\"), \"Brandoa\") & array_contains(col(\"localities\"), \"Colégio Militar\"))\n",
        "routes.filter(F.array_contains(routes.localities, \"Brandoa\") & F.array_contains(routes.localities, \"Colégio Militar\")).select(\"localities\").show()"
      ],
      "metadata": {
        "id": "g12eHNFO7H-m",
        "outputId": "22605feb-ee78-4dbc-943a-42dde46164ca",
        "colab": {
          "base_uri": "https://localhost:8080/"
        }
      },
      "execution_count": null,
      "outputs": [
        {
          "output_type": "stream",
          "name": "stdout",
          "text": [
            "+--------------------+\n",
            "|          localities|\n",
            "+--------------------+\n",
            "|[Casal da Mira, A...|\n",
            "|[Brandoa, Amadora...|\n",
            "|[Casal da Mira, A...|\n",
            "|[Brandoa, Amadora...|\n",
            "|[Casal da Mira, A...|\n",
            "+--------------------+\n",
            "\n"
          ]
        }
      ]
    },
    {
      "cell_type": "code",
      "source": [
        "routes.select(\"_corrupt_record\").show()"
      ],
      "metadata": {
        "id": "gwXzQ2rv7lkC",
        "outputId": "8307a696-cbc4-4106-c089-77d453d7eb71",
        "colab": {
          "base_uri": "https://localhost:8080/"
        }
      },
      "execution_count": null,
      "outputs": [
        {
          "output_type": "stream",
          "name": "stdout",
          "text": [
            "+--------------------+\n",
            "|     _corrupt_record|\n",
            "+--------------------+\n",
            "|                NULL|\n",
            "|                NULL|\n",
            "|                NULL|\n",
            "|                NULL|\n",
            "|                NULL|\n",
            "|                NULL|\n",
            "|                NULL|\n",
            "|                NULL|\n",
            "|                NULL|\n",
            "|{'color': '#3D85C...|\n",
            "|{'color': '#3D85C...|\n",
            "|                NULL|\n",
            "|                NULL|\n",
            "|                NULL|\n",
            "|                NULL|\n",
            "|{'color': '#C61D2...|\n",
            "|                NULL|\n",
            "|                NULL|\n",
            "|                NULL|\n",
            "|                NULL|\n",
            "+--------------------+\n",
            "only showing top 20 rows\n",
            "\n"
          ]
        }
      ]
    },
    {
      "cell_type": "code",
      "source": [],
      "metadata": {
        "id": "f6XeNUnX73pF"
      },
      "execution_count": null,
      "outputs": []
    },
    {
      "cell_type": "markdown",
      "source": [
        "# Q2\n",
        "- What is the line with more localities?\n"
      ],
      "metadata": {
        "id": "w46Txx__rc4r"
      }
    },
    {
      "cell_type": "code",
      "source": [
        "import pyspark.sql.functions as F\n",
        "\n",
        "lines = readFromAPI(\"https://api.carrismetropolitana.pt/lines\")\n",
        "\n",
        "lines.withColumn(\"localities_qty\", F.array_size(F.col(\"localities\"))).orderBy(F.desc(\"localities_qty\")).select(\"long_name\", \"localities_qty\").show(1, False)\n"
      ],
      "metadata": {
        "id": "yVMrvu1-8sxV",
        "outputId": "eebfb86f-a2aa-40aa-f2fc-04c659f3251f",
        "colab": {
          "base_uri": "https://localhost:8080/"
        }
      },
      "execution_count": null,
      "outputs": [
        {
          "output_type": "stream",
          "name": "stdout",
          "text": [
            "+-----------------------------------------------+--------------+\n",
            "|long_name                                      |localities_qty|\n",
            "+-----------------------------------------------+--------------+\n",
            "|Cacilhas (Terminal) - Setúbal (ITS) via Azeitão|24            |\n",
            "+-----------------------------------------------+--------------+\n",
            "only showing top 1 row\n",
            "\n"
          ]
        }
      ]
    },
    {
      "cell_type": "markdown",
      "source": [],
      "metadata": {
        "id": "Bmv3Q9uVrvWo"
      }
    },
    {
      "cell_type": "markdown",
      "metadata": {
        "id": "4oONLIeBS8JQ"
      },
      "source": [
        "### API - https://github.com/carrismetropolitana/api"
      ]
    }
  ],
  "metadata": {
    "colab": {
      "provenance": [],
      "include_colab_link": true
    },
    "kernelspec": {
      "display_name": "Python 3",
      "name": "python3"
    },
    "language_info": {
      "name": "python"
    }
  },
  "nbformat": 4,
  "nbformat_minor": 0
}