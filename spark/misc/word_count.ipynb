{
  "cells": [
    {
      "cell_type": "markdown",
      "metadata": {
        "id": "view-in-github",
        "colab_type": "text"
      },
      "source": [
        "<a href=\"https://colab.research.google.com/github/margaridagomes/dataeng-basic-course/blob/main/spark/misc/word_count.ipynb\" target=\"_parent\"><img src=\"https://colab.research.google.com/assets/colab-badge.svg\" alt=\"Open In Colab\"/></a>"
      ]
    },
    {
      "cell_type": "markdown",
      "metadata": {
        "id": "IAfIZtpGOIuD"
      },
      "source": [
        "<a href=\"https://colab.research.google.com/github/lucprosa/dataeng-basic-course/blob/main/spark/misc/word_count.ipynb\" target=\"_parent\"><img src=\"https://colab.research.google.com/assets/colab-badge.svg\" alt=\"Open In Colab\"/></a>"
      ]
    },
    {
      "cell_type": "markdown",
      "metadata": {
        "id": "BOA_wQSmLd9z"
      },
      "source": [
        "# Word Count"
      ]
    },
    {
      "cell_type": "markdown",
      "metadata": {
        "id": "d9LeYFsPTjAb"
      },
      "source": [
        "# Setting up PySpark"
      ]
    },
    {
      "cell_type": "code",
      "execution_count": null,
      "metadata": {
        "id": "uYXeODL0T1fO"
      },
      "outputs": [],
      "source": [
        "%pip install pyspark"
      ]
    },
    {
      "cell_type": "code",
      "execution_count": 1,
      "metadata": {
        "id": "637HFw00T3LP"
      },
      "outputs": [],
      "source": [
        "from pyspark.sql import SparkSession\n",
        "spark = SparkSession.builder.master('local').appName('Spark Course').config('spark.ui.port', '4050').getOrCreate()\n",
        "\n",
        "sc = spark.sparkContext"
      ]
    },
    {
      "cell_type": "code",
      "execution_count": 2,
      "metadata": {
        "id": "7r382W3hOIuG"
      },
      "outputs": [],
      "source": [
        "!mkdir /content/files/\n",
        "text = \"these are words \\\n",
        "these are more words \\\n",
        "words in english\"\n",
        "\n",
        "text_file = open(\"/content/files/some_words.txt\", \"w\")\n",
        "text_file.write(text)\n",
        "text_file.close()"
      ]
    },
    {
      "cell_type": "code",
      "execution_count": 3,
      "metadata": {
        "id": "SYbVhFNrOIuG",
        "outputId": "42afbf9e-8521-4197-8f37-680531021d98",
        "colab": {
          "base_uri": "https://localhost:8080/"
        }
      },
      "outputs": [
        {
          "output_type": "execute_result",
          "data": {
            "text/plain": [
              "1"
            ]
          },
          "metadata": {},
          "execution_count": 3
        }
      ],
      "source": [
        "rdd1 = sc.textFile(\"/content/files/some_words.txt\")\n",
        "\n",
        "# check how many partitions\n",
        "rdd1.getNumPartitions()"
      ]
    },
    {
      "cell_type": "code",
      "execution_count": 4,
      "metadata": {
        "id": "s1_m-MJuOg7b",
        "outputId": "75383cf8-8d36-4fb8-b9b6-765085c99806",
        "colab": {
          "base_uri": "https://localhost:8080/"
        }
      },
      "outputs": [
        {
          "output_type": "execute_result",
          "data": {
            "text/plain": [
              "3"
            ]
          },
          "metadata": {},
          "execution_count": 4
        }
      ],
      "source": [
        "# increase partitions\n",
        "rdd2 = rdd1.repartition(3)\n",
        "rdd2.getNumPartitions()"
      ]
    },
    {
      "cell_type": "code",
      "execution_count": 5,
      "metadata": {
        "id": "TvxD2uY8QW-E",
        "outputId": "7fb83dc4-7cba-4eba-c300-d45b7674bf0d",
        "colab": {
          "base_uri": "https://localhost:8080/"
        }
      },
      "outputs": [
        {
          "output_type": "execute_result",
          "data": {
            "text/plain": [
              "['these',\n",
              " 'are',\n",
              " 'words',\n",
              " 'these',\n",
              " 'are',\n",
              " 'more',\n",
              " 'words',\n",
              " 'words',\n",
              " 'in',\n",
              " 'english']"
            ]
          },
          "metadata": {},
          "execution_count": 5
        }
      ],
      "source": [
        "# flatMap - Each item in input can be 0 or more items in output (returns a Seq)\n",
        "# \"these are words\" -> split by \" \" -> [\"there\", \"are\", \"words\"]\n",
        "rdd3 = rdd2.flatMap(lambda line: line.split(\" \"))\n",
        "\n",
        "# send data to driver if cluster\n",
        "rdd3.collect()"
      ]
    },
    {
      "cell_type": "code",
      "execution_count": 6,
      "metadata": {
        "id": "FTzNkKhiRIRx",
        "outputId": "c3a7a26a-dc8e-4411-8aef-1ab6d442b73d",
        "colab": {
          "base_uri": "https://localhost:8080/"
        }
      },
      "outputs": [
        {
          "output_type": "execute_result",
          "data": {
            "text/plain": [
              "[('these', 1),\n",
              " ('are', 1),\n",
              " ('words', 1),\n",
              " ('these', 1),\n",
              " ('are', 1),\n",
              " ('more', 1),\n",
              " ('words', 1),\n",
              " ('words', 1),\n",
              " ('in', 1),\n",
              " ('english', 1)]"
            ]
          },
          "metadata": {},
          "execution_count": 6
        }
      ],
      "source": [
        "# map - Each item in input returns one item in output\n",
        "# \"these\" -> (\"these\", 1)\n",
        "rdd4 = rdd3.map(lambda word: (word, 1))\n",
        "rdd4.collect()"
      ]
    },
    {
      "cell_type": "code",
      "execution_count": 7,
      "metadata": {
        "id": "RioZ_RSrQfPq",
        "outputId": "efeed117-d457-4551-b576-f79107a0f87b",
        "colab": {
          "base_uri": "https://localhost:8080/"
        }
      },
      "outputs": [
        {
          "output_type": "execute_result",
          "data": {
            "text/plain": [
              "[('are', 2),\n",
              " ('english', 1),\n",
              " ('in', 1),\n",
              " ('more', 1),\n",
              " ('these', 2),\n",
              " ('words', 3)]"
            ]
          },
          "metadata": {},
          "execution_count": 7
        }
      ],
      "source": [
        "# reduceByKey - When called on a dataset of (K, V) pairs, returns a dataset of (K, V) pairs where the values for each key are\n",
        "# aggregated using the given reduce function func, which must be of type (V,V) => V.\n",
        "\n",
        "rdd5 = rdd4.reduceByKey(lambda a, b: a + b)\n",
        "sorted(rdd5.collect())"
      ]
    },
    {
      "cell_type": "code",
      "execution_count": 8,
      "metadata": {
        "id": "_OegU-OxRdEt",
        "outputId": "f5448f5d-c4f8-429c-ccbe-67c074c20d44",
        "colab": {
          "base_uri": "https://localhost:8080/"
        }
      },
      "outputs": [
        {
          "output_type": "execute_result",
          "data": {
            "text/plain": [
              "[('are', 2),\n",
              " ('english', 1),\n",
              " ('in', 1),\n",
              " ('more', 1),\n",
              " ('these', 2),\n",
              " ('words', 3)]"
            ]
          },
          "metadata": {},
          "execution_count": 8
        }
      ],
      "source": [
        "# another way to count the words - using method \"add\"\n",
        "from operator import add\n",
        "sorted(rdd4.reduceByKey(add).collect())"
      ]
    },
    {
      "cell_type": "code",
      "execution_count": 9,
      "metadata": {
        "id": "oD4a_Et4VdTB",
        "outputId": "ed4a700b-50cb-41e3-f0f1-92e24c318a3d",
        "colab": {
          "base_uri": "https://localhost:8080/"
        }
      },
      "outputs": [
        {
          "output_type": "execute_result",
          "data": {
            "text/plain": [
              "[('are', 2),\n",
              " ('english', 1),\n",
              " ('in', 1),\n",
              " ('more', 1),\n",
              " ('these', 2),\n",
              " ('words', 3)]"
            ]
          },
          "metadata": {},
          "execution_count": 9
        }
      ],
      "source": [
        "# putting all commands together\n",
        "\n",
        "counts = (\n",
        "    rdd1.flatMap(lambda line: line.split(\" \"))\n",
        "    .map(lambda word: (word, 1))\n",
        "    .reduceByKey(lambda a, b: a + b)\n",
        "    .sortByKey()\n",
        ")\n",
        "\n",
        "counts.collect()"
      ]
    },
    {
      "cell_type": "code",
      "execution_count": 10,
      "metadata": {
        "id": "azZ0Q2fPXOOB"
      },
      "outputs": [],
      "source": [
        "def wordCount(file_path: str, num_partitions: int):\n",
        "  rdd1 = sc.textFile(file_path)\n",
        "  counts = (\n",
        "      rdd1.flatMap(lambda line: line.split(\" \"))\n",
        "      .map(lambda word: (word, 1))\n",
        "      .reduceByKey(lambda a, b: a + b, num_partitions)\n",
        "      .sortByKey()\n",
        "  )\n",
        "  return counts"
      ]
    },
    {
      "cell_type": "code",
      "execution_count": 11,
      "metadata": {
        "id": "aaz35GcdYy5Y"
      },
      "outputs": [],
      "source": [
        "output = wordCount(\"/content/files/some_words.txt\", 7)"
      ]
    },
    {
      "cell_type": "code",
      "execution_count": 12,
      "metadata": {
        "id": "5sb28wk2Y2kc",
        "outputId": "ffeefbcc-21cb-4fe0-b9db-b1aae7781a9d",
        "colab": {
          "base_uri": "https://localhost:8080/",
          "height": 204
        }
      },
      "outputs": [
        {
          "output_type": "execute_result",
          "data": {
            "text/plain": [
              "pyspark.rdd.PipelinedRDD"
            ],
            "text/html": [
              "<div style=\"max-width:800px; border: 1px solid var(--colab-border-color);\"><style>\n",
              "      pre.function-repr-contents {\n",
              "        overflow-x: auto;\n",
              "        padding: 8px 12px;\n",
              "        max-height: 500px;\n",
              "      }\n",
              "\n",
              "      pre.function-repr-contents.function-repr-contents-collapsed {\n",
              "        cursor: pointer;\n",
              "        max-height: 100px;\n",
              "      }\n",
              "    </style>\n",
              "    <pre style=\"white-space: initial; background:\n",
              "         var(--colab-secondary-surface-color); padding: 8px 12px;\n",
              "         border-bottom: 1px solid var(--colab-border-color);\"><b>pyspark.rdd.PipelinedRDD</b><br/>def __init__(prev: RDD[T], func: Callable[[int, Iterable[T]], Iterable[U]], preservesPartitioning: bool=False, isFromBarrier: bool=False)</pre><pre class=\"function-repr-contents function-repr-contents-collapsed\" style=\"\"><a class=\"filepath\" style=\"display:none\" href=\"#\">/usr/local/lib/python3.11/dist-packages/pyspark/rdd.py</a>Examples\n",
              "--------\n",
              "Pipelined maps:\n",
              "\n",
              "&gt;&gt;&gt; rdd = sc.parallelize([1, 2, 3, 4])\n",
              "&gt;&gt;&gt; rdd.map(lambda x: 2 * x).cache().map(lambda x: 2 * x).collect()\n",
              "[4, 8, 12, 16]\n",
              "&gt;&gt;&gt; rdd.map(lambda x: 2 * x).map(lambda x: 2 * x).collect()\n",
              "[4, 8, 12, 16]\n",
              "\n",
              "Pipelined reduces:\n",
              "\n",
              "&gt;&gt;&gt; from operator import add\n",
              "&gt;&gt;&gt; rdd.map(lambda x: 2 * x).reduce(add)\n",
              "20\n",
              "&gt;&gt;&gt; rdd.flatMap(lambda x: [x, x]).reduce(add)\n",
              "20</pre>\n",
              "      <script>\n",
              "      if (google.colab.kernel.accessAllowed && google.colab.files && google.colab.files.view) {\n",
              "        for (const element of document.querySelectorAll('.filepath')) {\n",
              "          element.style.display = 'block'\n",
              "          element.onclick = (event) => {\n",
              "            event.preventDefault();\n",
              "            event.stopPropagation();\n",
              "            google.colab.files.view(element.textContent, 5395);\n",
              "          };\n",
              "        }\n",
              "      }\n",
              "      for (const element of document.querySelectorAll('.function-repr-contents')) {\n",
              "        element.onclick = (event) => {\n",
              "          event.preventDefault();\n",
              "          event.stopPropagation();\n",
              "          element.classList.toggle('function-repr-contents-collapsed');\n",
              "        };\n",
              "      }\n",
              "      </script>\n",
              "      </div>"
            ]
          },
          "metadata": {},
          "execution_count": 12
        }
      ],
      "source": [
        "type(output) # pyspark.rdd.PipelinedRDD"
      ]
    },
    {
      "cell_type": "code",
      "execution_count": 13,
      "metadata": {
        "id": "bbBLh_qJYVUd",
        "outputId": "53108230-ae7d-44f7-db38-660d76bd1cae",
        "colab": {
          "base_uri": "https://localhost:8080/"
        }
      },
      "outputs": [
        {
          "output_type": "execute_result",
          "data": {
            "text/plain": [
              "[('are', 2),\n",
              " ('english', 1),\n",
              " ('in', 1),\n",
              " ('more', 1),\n",
              " ('these', 2),\n",
              " ('words', 3)]"
            ]
          },
          "metadata": {},
          "execution_count": 13
        }
      ],
      "source": [
        "output.collect()"
      ]
    },
    {
      "cell_type": "code",
      "execution_count": 14,
      "metadata": {
        "id": "_DxfNJk1YyJ1",
        "outputId": "35053904-4508-42b1-ff9a-a12c9fb0253e",
        "colab": {
          "base_uri": "https://localhost:8080/"
        }
      },
      "outputs": [
        {
          "output_type": "execute_result",
          "data": {
            "text/plain": [
              "7"
            ]
          },
          "metadata": {},
          "execution_count": 14
        }
      ],
      "source": [
        "output.getNumPartitions()"
      ]
    }
  ],
  "metadata": {
    "colab": {
      "provenance": [],
      "include_colab_link": true
    },
    "kernelspec": {
      "display_name": "Python 3",
      "name": "python3"
    },
    "language_info": {
      "name": "python"
    }
  },
  "nbformat": 4,
  "nbformat_minor": 0
}