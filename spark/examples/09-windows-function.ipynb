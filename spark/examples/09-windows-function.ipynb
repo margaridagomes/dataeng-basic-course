{
  "cells": [
    {
      "cell_type": "markdown",
      "metadata": {
        "id": "view-in-github",
        "colab_type": "text"
      },
      "source": [
        "<a href=\"https://colab.research.google.com/github/margaridagomes/dataeng-basic-course/blob/main/spark/examples/09-windows-function.ipynb\" target=\"_parent\"><img src=\"https://colab.research.google.com/assets/colab-badge.svg\" alt=\"Open In Colab\"/></a>"
      ]
    },
    {
      "cell_type": "markdown",
      "metadata": {
        "id": "BOA_wQSmLd9z"
      },
      "source": [
        "# Windows Function\n",
        "- Window functions operate on a group of rows, referred to as a window, and calculate a return value for each row based on the group of rows.\n",
        "- Window functions are useful for processing tasks such as calculating a moving average, computing a cumulative statistic, or accessing the value of rows given the relative position of the current row."
      ]
    },
    {
      "cell_type": "markdown",
      "metadata": {
        "id": "d9LeYFsPTjAb"
      },
      "source": [
        "# Setting up PySpark"
      ]
    },
    {
      "cell_type": "code",
      "execution_count": null,
      "metadata": {
        "id": "uYXeODL0T1fO"
      },
      "outputs": [],
      "source": [
        "%pip install pyspark"
      ]
    },
    {
      "cell_type": "code",
      "execution_count": 1,
      "metadata": {
        "id": "637HFw00T3LP"
      },
      "outputs": [],
      "source": [
        "from pyspark.sql import SparkSession\n",
        "spark = SparkSession.builder.master('local').appName('Spark Course').config('spark.ui.port', '4050').getOrCreate()"
      ]
    },
    {
      "cell_type": "markdown",
      "metadata": {
        "id": "9BRgjNQbOKE0"
      },
      "source": [
        "# Windows Function"
      ]
    },
    {
      "cell_type": "code",
      "execution_count": 2,
      "metadata": {
        "id": "fZzWrJbROKE0",
        "outputId": "1d4fa7f3-4146-4f81-b866-a02ff4147b3b",
        "colab": {
          "base_uri": "https://localhost:8080/"
        }
      },
      "outputs": [
        {
          "output_type": "stream",
          "name": "stdout",
          "text": [
            "+-----+-----------+------+---+\n",
            "| name|       dept|salary|age|\n",
            "+-----+-----------+------+---+\n",
            "| Lisa|      Sales| 10000| 35|\n",
            "| Evan|      Sales| 32000| 38|\n",
            "| Fred|Engineering| 21000| 28|\n",
            "| Alex|      Sales| 30000| 33|\n",
            "|  Tom|Engineering| 23000| 33|\n",
            "| Jane|  Marketing| 29000| 28|\n",
            "| Jeff|  Marketing| 35000| 38|\n",
            "| Paul|Engineering| 29000| 23|\n",
            "|Chloe|Engineering| 23000| 25|\n",
            "+-----+-----------+------+---+\n",
            "\n"
          ]
        }
      ],
      "source": [
        "# using inline table to prepare the data\n",
        "\n",
        "qry = \"\"\"CREATE OR REPLACE TEMPORARY VIEW employees AS SELECT * FROM VALUES(\"Lisa\", \"Sales\", 10000, 35),\n",
        "(\"Evan\", \"Sales\", 32000, 38),\n",
        "(\"Fred\", \"Engineering\", 21000, 28),\n",
        "(\"Alex\", \"Sales\", 30000, 33),\n",
        "(\"Tom\", \"Engineering\", 23000, 33),\n",
        "(\"Jane\", \"Marketing\", 29000, 28),\n",
        "(\"Jeff\", \"Marketing\", 35000, 38),\n",
        "(\"Paul\", \"Engineering\", 29000, 23),\n",
        "(\"Chloe\", \"Engineering\", 23000, 25)\n",
        "AS employees(name, dept, salary, age)\"\"\"\n",
        "\n",
        "spark.sql(qry)\n",
        "spark.table(\"employees\").show()"
      ]
    },
    {
      "cell_type": "code",
      "execution_count": 3,
      "metadata": {
        "id": "o0JtIU70Pgoq",
        "outputId": "a30a8cca-66f6-45fa-b29e-76d8060eae01",
        "colab": {
          "base_uri": "https://localhost:8080/"
        }
      },
      "outputs": [
        {
          "output_type": "stream",
          "name": "stdout",
          "text": [
            "+-----+-----------+------+----------+\n",
            "| name|       dept|salary|dense_rank|\n",
            "+-----+-----------+------+----------+\n",
            "| Fred|Engineering| 21000|         1|\n",
            "|  Tom|Engineering| 23000|         2|\n",
            "|Chloe|Engineering| 23000|         2|\n",
            "| Paul|Engineering| 29000|         3|\n",
            "| Jane|  Marketing| 29000|         1|\n",
            "| Jeff|  Marketing| 35000|         2|\n",
            "| Lisa|      Sales| 10000|         1|\n",
            "| Alex|      Sales| 30000|         2|\n",
            "| Evan|      Sales| 32000|         3|\n",
            "+-----+-----------+------+----------+\n",
            "\n"
          ]
        }
      ],
      "source": [
        "# calculate dense_rank on salary\n",
        "qry1 = \"\"\"SELECT name, dept, salary, DENSE_RANK() OVER (PARTITION BY dept ORDER BY salary ROWS BETWEEN\n",
        "    UNBOUNDED PRECEDING AND CURRENT ROW) AS dense_rank FROM employees;\"\"\"\n",
        "\n",
        "spark.sql(qry1).show()"
      ]
    },
    {
      "cell_type": "code",
      "execution_count": 4,
      "metadata": {
        "id": "mE58WtSzRsg9",
        "outputId": "2cbf5ecc-df74-446c-d169-51b7486ccd01",
        "colab": {
          "base_uri": "https://localhost:8080/"
        }
      },
      "outputs": [
        {
          "output_type": "stream",
          "name": "stdout",
          "text": [
            "+-----+-----------+------+-----+\n",
            "| name|       dept|salary|  min|\n",
            "+-----+-----------+------+-----+\n",
            "| Fred|Engineering| 21000|21000|\n",
            "|  Tom|Engineering| 23000|21000|\n",
            "|Chloe|Engineering| 23000|21000|\n",
            "| Paul|Engineering| 29000|21000|\n",
            "| Jane|  Marketing| 29000|29000|\n",
            "| Jeff|  Marketing| 35000|29000|\n",
            "| Lisa|      Sales| 10000|10000|\n",
            "| Alex|      Sales| 30000|10000|\n",
            "| Evan|      Sales| 32000|10000|\n",
            "+-----+-----------+------+-----+\n",
            "\n"
          ]
        }
      ],
      "source": [
        "# calculate min salary by dept\n",
        "qry2 = \"\"\"SELECT name, dept, salary, MIN(salary) OVER (PARTITION BY dept ORDER BY salary) AS min\n",
        "    FROM employees;\"\"\"\n",
        "\n",
        "spark.sql(qry2).show()"
      ]
    },
    {
      "cell_type": "code",
      "execution_count": 5,
      "metadata": {
        "id": "FBohSBV4Sfkb",
        "outputId": "55a1f9c7-c83b-4bfa-ae30-88dbaa44c9d7",
        "colab": {
          "base_uri": "https://localhost:8080/"
        }
      },
      "outputs": [
        {
          "output_type": "stream",
          "name": "stdout",
          "text": [
            "+-----+-----------+------+---+-----+\n",
            "| name|       dept|salary|age|  min|\n",
            "+-----+-----------+------+---+-----+\n",
            "| Fred|Engineering| 21000| 28|21000|\n",
            "|  Tom|Engineering| 23000| 33|21000|\n",
            "|Chloe|Engineering| 23000| 25|21000|\n",
            "| Paul|Engineering| 29000| 23|21000|\n",
            "| Jane|  Marketing| 29000| 28|29000|\n",
            "| Jeff|  Marketing| 35000| 38|29000|\n",
            "| Lisa|      Sales| 10000| 35|10000|\n",
            "| Alex|      Sales| 30000| 33|10000|\n",
            "| Evan|      Sales| 32000| 38|10000|\n",
            "+-----+-----------+------+---+-----+\n",
            "\n"
          ]
        }
      ],
      "source": [
        "# same logic but using dataframes\n",
        "from pyspark.sql.functions import min\n",
        "from pyspark.sql.window import Window\n",
        "\n",
        "df = spark.table(\"employees\")\n",
        "windowSpec = Window.partitionBy(\"dept\").orderBy(\"salary\")\n",
        "df.withColumn(\"min\", min(\"salary\").over(windowSpec)).show()"
      ]
    },
    {
      "cell_type": "markdown",
      "metadata": {
        "id": "8KnCXs19UXDw"
      },
      "source": [
        "# Question"
      ]
    },
    {
      "cell_type": "code",
      "execution_count": null,
      "metadata": {
        "id": "NM33rISwSybn"
      },
      "outputs": [],
      "source": [
        "# Q1\n",
        "# Use windows functions to identify the higher salary by dept\n",
        "# Create new column \"highest_salary_dept\" and assign TRUE/FALSE accordingly\n",
        "# Identify the high salary of the company (including all the dept)\n",
        "# Create new column \"highest_salary_company\" and assign TRUE/FALSE accordingly"
      ]
    },
    {
      "cell_type": "code",
      "source": [
        "import pyspark.sql.functions as F\n",
        "from pyspark.sql.window import Window\n",
        "\n",
        "windowSpec = Window.partitionBy(\"dept\").orderBy(F.desc(\"salary\"))\n",
        "windowSpec2 = Window.partitionBy()\n",
        "\n",
        "df1 = df.withColumn(\"max_salary_dept\", F.max(\"salary\").over(windowSpec))\n",
        "df2 = df1.withColumn(\"highest_salary_dept\", F.when(F.col(\"salary\") == F.col(\"max_salary_dept\"),True).otherwise(False))\n",
        "#df2.show()\n",
        "\n",
        "df3 = df2.withColumn(\"max_salary_by_cmp\", F.max(\"salary\").over(windowSpec2))\n",
        "\n",
        "df4 = df3.withColumn(\"highest_salary_company\", F.when(F.col(\"salary\") == F.col(\"max_salary_by_cmp\"),True).otherwise(False))\n",
        "df4.show()"
      ],
      "metadata": {
        "id": "tJnxWW8nnnSx",
        "outputId": "dda194f2-48e9-4db2-f94e-9a5a49bd5a08",
        "colab": {
          "base_uri": "https://localhost:8080/"
        }
      },
      "execution_count": 19,
      "outputs": [
        {
          "output_type": "stream",
          "name": "stdout",
          "text": [
            "+-----+-----------+------+---+---------------+-------------------+-----------------+----------------------+\n",
            "| name|       dept|salary|age|max_salary_dept|highest_salary_dept|max_salary_by_cmp|highest_salary_company|\n",
            "+-----+-----------+------+---+---------------+-------------------+-----------------+----------------------+\n",
            "| Paul|Engineering| 29000| 23|          29000|               true|            35000|                 false|\n",
            "|  Tom|Engineering| 23000| 33|          29000|              false|            35000|                 false|\n",
            "|Chloe|Engineering| 23000| 25|          29000|              false|            35000|                 false|\n",
            "| Fred|Engineering| 21000| 28|          29000|              false|            35000|                 false|\n",
            "| Jeff|  Marketing| 35000| 38|          35000|               true|            35000|                  true|\n",
            "| Jane|  Marketing| 29000| 28|          35000|              false|            35000|                 false|\n",
            "| Evan|      Sales| 32000| 38|          32000|               true|            35000|                 false|\n",
            "| Alex|      Sales| 30000| 33|          32000|              false|            35000|                 false|\n",
            "| Lisa|      Sales| 10000| 35|          32000|              false|            35000|                 false|\n",
            "+-----+-----------+------+---+---------------+-------------------+-----------------+----------------------+\n",
            "\n"
          ]
        }
      ]
    },
    {
      "cell_type": "code",
      "source": [
        "df = (df.withColumn(\"max_salary_dept\", F.max(\"salary\").over(windowSpec))\n",
        "      .withColumn(\"highest_salary_dept\", F.when(F.col(\"salary\") == F.col(\"max_salary_dept\"),True).otherwise(False))\n",
        "      .withColumn(\"max_salary_by_cmp\", F.max(\"salary\").over(windowSpec2))\n",
        "      .withColumn(\"highest_salary_company\", F.when(F.col(\"salary\") == F.col(\"max_salary_by_cmp\"),True).otherwise(False)))\n",
        "\n",
        "df.show()"
      ],
      "metadata": {
        "id": "tHYZuuzmq-qP",
        "outputId": "2df605c7-49ec-4bee-a255-9200994043a2",
        "colab": {
          "base_uri": "https://localhost:8080/"
        }
      },
      "execution_count": 21,
      "outputs": [
        {
          "output_type": "stream",
          "name": "stdout",
          "text": [
            "+-----+-----------+------+---+---------------+-------------------+-----------------+----------------------+\n",
            "| name|       dept|salary|age|max_salary_dept|highest_salary_dept|max_salary_by_cmp|highest_salary_company|\n",
            "+-----+-----------+------+---+---------------+-------------------+-----------------+----------------------+\n",
            "| Paul|Engineering| 29000| 23|          29000|               true|            35000|                 false|\n",
            "|  Tom|Engineering| 23000| 33|          29000|              false|            35000|                 false|\n",
            "|Chloe|Engineering| 23000| 25|          29000|              false|            35000|                 false|\n",
            "| Fred|Engineering| 21000| 28|          29000|              false|            35000|                 false|\n",
            "| Jeff|  Marketing| 35000| 38|          35000|               true|            35000|                  true|\n",
            "| Jane|  Marketing| 29000| 28|          35000|              false|            35000|                 false|\n",
            "| Evan|      Sales| 32000| 38|          32000|               true|            35000|                 false|\n",
            "| Alex|      Sales| 30000| 33|          32000|              false|            35000|                 false|\n",
            "| Lisa|      Sales| 10000| 35|          32000|              false|            35000|                 false|\n",
            "+-----+-----------+------+---+---------------+-------------------+-----------------+----------------------+\n",
            "\n"
          ]
        }
      ]
    }
  ],
  "metadata": {
    "colab": {
      "provenance": [],
      "include_colab_link": true
    },
    "kernelspec": {
      "display_name": "Python 3",
      "name": "python3"
    },
    "language_info": {
      "name": "python"
    }
  },
  "nbformat": 4,
  "nbformat_minor": 0
}