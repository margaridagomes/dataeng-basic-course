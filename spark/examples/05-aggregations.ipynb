{
  "cells": [
    {
      "cell_type": "markdown",
      "metadata": {
        "id": "view-in-github",
        "colab_type": "text"
      },
      "source": [
        "<a href=\"https://colab.research.google.com/github/margaridagomes/dataeng-basic-course/blob/main/spark/examples/05-aggregations.ipynb\" target=\"_parent\"><img src=\"https://colab.research.google.com/assets/colab-badge.svg\" alt=\"Open In Colab\"/></a>"
      ]
    },
    {
      "cell_type": "markdown",
      "metadata": {
        "id": "-y331t1OSI1s"
      },
      "source": [
        "<a href=\"https://colab.research.google.com/github/lucprosa/dataeng-basic-course/blob/main/spark/examples/05-aggregations.ipynb\" target=\"_parent\"><img src=\"https://colab.research.google.com/assets/colab-badge.svg\" alt=\"Open In Colab\"/></a>"
      ]
    },
    {
      "cell_type": "markdown",
      "metadata": {
        "id": "BOA_wQSmLd9z"
      },
      "source": [
        "# Aggregations\n",
        "- Group By\n",
        "- Windows Functions"
      ]
    },
    {
      "cell_type": "markdown",
      "metadata": {
        "id": "d9LeYFsPTjAb"
      },
      "source": [
        "# Setting up PySpark"
      ]
    },
    {
      "cell_type": "code",
      "execution_count": 1,
      "metadata": {
        "id": "uYXeODL0T1fO",
        "outputId": "bedba1b5-7e58-412e-f87a-ebfb2671ac98",
        "colab": {
          "base_uri": "https://localhost:8080/"
        }
      },
      "outputs": [
        {
          "output_type": "stream",
          "name": "stdout",
          "text": [
            "Requirement already satisfied: pyspark in /usr/local/lib/python3.11/dist-packages (3.5.1)\n",
            "Requirement already satisfied: py4j==0.10.9.7 in /usr/local/lib/python3.11/dist-packages (from pyspark) (0.10.9.7)\n"
          ]
        }
      ],
      "source": [
        "%pip install pyspark"
      ]
    },
    {
      "cell_type": "code",
      "execution_count": 2,
      "metadata": {
        "id": "637HFw00T3LP"
      },
      "outputs": [],
      "source": [
        "from pyspark.sql import SparkSession\n",
        "spark = SparkSession.builder.master('local').appName('Spark Course').config('spark.ui.port', '4050').getOrCreate()"
      ]
    },
    {
      "cell_type": "markdown",
      "metadata": {
        "id": "SLiYPwuJSI1w"
      },
      "source": [
        "# Aggregations\n",
        "\n",
        "https://spark.apache.org/docs/latest/sql-ref-functions-builtin.html#aggregate-functions\n",
        "\n",
        "https://spark.apache.org/docs/latest/sql-ref-syntax-qry-select-aggregate.html"
      ]
    },
    {
      "cell_type": "code",
      "execution_count": 23,
      "metadata": {
        "id": "GPdtlX5BSI1w",
        "outputId": "ed4110fe-6beb-47da-daa8-35714b3f25bf",
        "colab": {
          "base_uri": "https://localhost:8080/"
        }
      },
      "outputs": [
        {
          "output_type": "stream",
          "name": "stdout",
          "text": [
            "+-----------------+----------+------+\n",
            "|    employee_name|department|salary|\n",
            "+-----------------+----------+------+\n",
            "|     Diane Murphy|Accounting|  8435|\n",
            "|   Mary Patterson|Accounting|  9998|\n",
            "|    Jeff Firrelli|Accounting|  8992|\n",
            "|William Patterson|Accounting|  8870|\n",
            "|    Gerard Bondur|Accounting| 11472|\n",
            "|      Anthony Bow|Accounting|  6627|\n",
            "|  Leslie Jennings|        IT|  8113|\n",
            "|  Leslie Thompson|        IT|  5186|\n",
            "|   Julie Firrelli|     Sales|  9181|\n",
            "|  Steve Patterson|     Sales|  9441|\n",
            "|   Foon Yue Tseng|     Sales|  6660|\n",
            "|    George Vanauf|     Sales| 10563|\n",
            "|      Loui Bondur|       SCM| 10449|\n",
            "| Gerard Hernandez|       SCM|  6949|\n",
            "|  Pamela Castillo|       SCM| 11303|\n",
            "|       Larry Bott|       SCM| 11798|\n",
            "|      Barry Jones|       SCM| 10586|\n",
            "+-----------------+----------+------+\n",
            "\n"
          ]
        }
      ],
      "source": [
        "sql_query = \"\"\"CREATE OR REPLACE TEMPORARY VIEW basic_pays AS SELECT * FROM VALUES\n",
        "('Diane Murphy','Accounting',8435),\n",
        "('Mary Patterson','Accounting',9998),\n",
        "('Jeff Firrelli','Accounting',8992),\n",
        "('William Patterson','Accounting',8870),\n",
        "('Gerard Bondur','Accounting',11472),\n",
        "('Anthony Bow','Accounting',6627),\n",
        "('Leslie Jennings','IT',8113),\n",
        "('Leslie Thompson','IT',5186),\n",
        "('Julie Firrelli','Sales',9181),\n",
        "('Steve Patterson','Sales',9441),\n",
        "('Foon Yue Tseng','Sales',6660),\n",
        "('George Vanauf','Sales',10563),\n",
        "('Loui Bondur','SCM',10449),\n",
        "('Gerard Hernandez','SCM',6949),\n",
        "('Pamela Castillo','SCM',11303),\n",
        "('Larry Bott','SCM',11798),\n",
        "('Barry Jones','SCM',10586)\n",
        "AS basic_pays(employee_name, department, salary)\"\"\"\n",
        "\n",
        "# creating temp view\n",
        "spark.sql(sql_query)\n",
        "\n",
        "df = spark.table(\"basic_pays\")\n",
        "df.show()\n"
      ]
    },
    {
      "cell_type": "code",
      "source": [
        "df"
      ],
      "metadata": {
        "id": "5LU3UJs7rddE",
        "outputId": "4f7dc0cd-82f1-41a9-a585-f2a69d9bdb46",
        "colab": {
          "base_uri": "https://localhost:8080/"
        }
      },
      "execution_count": 4,
      "outputs": [
        {
          "output_type": "execute_result",
          "data": {
            "text/plain": [
              "DataFrame[employee_name: string, department: string, salary: int]"
            ]
          },
          "metadata": {},
          "execution_count": 4
        }
      ]
    },
    {
      "cell_type": "code",
      "source": [
        "df.write.mode(\"overwrite\").saveAsTable(\"basic_pays\")"
      ],
      "metadata": {
        "id": "zzzbQA9UrfOd"
      },
      "execution_count": 5,
      "outputs": []
    },
    {
      "cell_type": "code",
      "source": [
        "perc_query = \"\"\"SELECT\n",
        "    department,\n",
        "    percentile_cont(0.25) WITHIN GROUP (ORDER BY salary) AS pc1,\n",
        "    percentile_cont(0.25) WITHIN GROUP (ORDER BY salary) FILTER (WHERE employee_name LIKE '%Bo%') AS pc2,\n",
        "    percentile_cont(0.25) WITHIN GROUP (ORDER BY salary DESC) AS pc3,\n",
        "    percentile_cont(0.25) WITHIN GROUP (ORDER BY salary DESC) FILTER (WHERE employee_name LIKE '%Bo%') AS pc4,\n",
        "    percentile_disc(0.25) WITHIN GROUP (ORDER BY salary) AS pd1,\n",
        "    percentile_disc(0.25) WITHIN GROUP (ORDER BY salary) FILTER (WHERE employee_name LIKE '%Bo%') AS pd2,\n",
        "    percentile_disc(0.25) WITHIN GROUP (ORDER BY salary DESC) AS pd3,\n",
        "    percentile_disc(0.25) WITHIN GROUP (ORDER BY salary DESC) FILTER (WHERE employee_name LIKE '%Bo%') AS pd4\n",
        "FROM basic_pays\n",
        "GROUP BY department\n",
        "ORDER BY department;\"\"\"\n",
        "\n",
        "spark.sql(perc_query).show()"
      ],
      "metadata": {
        "id": "Aa38HFEQVSM9",
        "outputId": "0d057cc3-e4e9-4e5a-cbf7-0f1ab9137cd1",
        "colab": {
          "base_uri": "https://localhost:8080/"
        }
      },
      "execution_count": 24,
      "outputs": [
        {
          "output_type": "stream",
          "name": "stdout",
          "text": [
            "+----------+-------+--------+-------+--------+-------+-------+-------+-------+\n",
            "|department|    pc1|     pc2|    pc3|     pc4|    pd1|    pd2|    pd3|    pd4|\n",
            "+----------+-------+--------+-------+--------+-------+-------+-------+-------+\n",
            "|Accounting|8543.75| 7838.25| 9746.5|10260.75| 8435.0| 6627.0| 9998.0|11472.0|\n",
            "|        IT|5917.75|    NULL|7381.25|    NULL| 5186.0|   NULL| 8113.0|   NULL|\n",
            "|       SCM|10449.0|10786.25|11303.0|11460.75|10449.0|10449.0|11303.0|11798.0|\n",
            "|     Sales|8550.75|    NULL| 9721.5|    NULL| 6660.0|   NULL|10563.0|   NULL|\n",
            "+----------+-------+--------+-------+--------+-------+-------+-------+-------+\n",
            "\n"
          ]
        }
      ]
    },
    {
      "cell_type": "code",
      "source": [
        "from pyspark.sql.functions import *\n",
        "d2 = (df\n",
        " .groupBy(\"department\")\n",
        " .agg(sum(\"salary\").alias(\"sum_salary\"),\n",
        "      round(avg(\"salary\"),2).alias(\"avg_salary\"),\n",
        "      min(\"salary\").alias(\"min_salary\"),\n",
        "      array_agg(\"employee_name\").alias(\"employees\"),\n",
        "      count(lit(\"\")).alias(\"count_employees\"))\n",
        " .filter(col(\"count_employees\") > 2)\n",
        " #.show(10, False)\n",
        " )\n",
        "\n",
        "#transformation"
      ],
      "metadata": {
        "id": "ZbfHHI_wYJge"
      },
      "execution_count": 25,
      "outputs": []
    },
    {
      "cell_type": "code",
      "source": [
        "d2.count()"
      ],
      "metadata": {
        "id": "TA63iynqvAGw",
        "outputId": "487abba4-dad2-4613-e809-93473125d881",
        "colab": {
          "base_uri": "https://localhost:8080/"
        }
      },
      "execution_count": 9,
      "outputs": [
        {
          "output_type": "execute_result",
          "data": {
            "text/plain": [
              "3"
            ]
          },
          "metadata": {},
          "execution_count": 9
        }
      ]
    },
    {
      "cell_type": "code",
      "source": [
        "d2.show()"
      ],
      "metadata": {
        "id": "fZn75CTHvDKu",
        "outputId": "e07dbccc-4d75-4603-ef78-0aec7dc899f7",
        "colab": {
          "base_uri": "https://localhost:8080/"
        }
      },
      "execution_count": 26,
      "outputs": [
        {
          "output_type": "stream",
          "name": "stdout",
          "text": [
            "+----------+----------+----------+----------+--------------------+---------------+\n",
            "|department|sum_salary|avg_salary|min_salary|           employees|count_employees|\n",
            "+----------+----------+----------+----------+--------------------+---------------+\n",
            "|     Sales|     35845|   8961.25|      6660|[Julie Firrelli, ...|              4|\n",
            "|Accounting|     54394|   9065.67|      6627|[Diane Murphy, Ma...|              6|\n",
            "|       SCM|     51085|   10217.0|      6949|[Loui Bondur, Ger...|              5|\n",
            "+----------+----------+----------+----------+--------------------+---------------+\n",
            "\n"
          ]
        }
      ]
    },
    {
      "cell_type": "markdown",
      "source": [
        "# Question"
      ],
      "metadata": {
        "id": "HQjSVZgFbiUs"
      }
    },
    {
      "cell_type": "code",
      "source": [
        "# Q1\n",
        "# Aggregate data by surname\n",
        "# Calculate highest salary by surname\n",
        "# Include the respective employee that has the highest salary\n",
        "# Include department information about this employee\n",
        "# Count how many employees has that surname\n",
        "# Put in an array all the first_names of the respective surname ordered\n",
        "\n",
        "\n",
        "# schema expected:\n",
        "# surname | count_employees | highest_salary | employee_with_highest_salary | department_with_highest_salary | array_with_all_the_first_names |"
      ],
      "metadata": {
        "id": "sAB_dzZabf_o"
      },
      "execution_count": null,
      "outputs": []
    },
    {
      "cell_type": "code",
      "source": [
        "df.show()"
      ],
      "metadata": {
        "id": "BfF8jCOtyR9E",
        "outputId": "c182de66-f2ae-4f34-ead6-a868767b2b9d",
        "colab": {
          "base_uri": "https://localhost:8080/"
        }
      },
      "execution_count": 27,
      "outputs": [
        {
          "output_type": "stream",
          "name": "stdout",
          "text": [
            "+-----------------+----------+------+\n",
            "|    employee_name|department|salary|\n",
            "+-----------------+----------+------+\n",
            "|     Diane Murphy|Accounting|  8435|\n",
            "|   Mary Patterson|Accounting|  9998|\n",
            "|    Jeff Firrelli|Accounting|  8992|\n",
            "|William Patterson|Accounting|  8870|\n",
            "|    Gerard Bondur|Accounting| 11472|\n",
            "|      Anthony Bow|Accounting|  6627|\n",
            "|  Leslie Jennings|        IT|  8113|\n",
            "|  Leslie Thompson|        IT|  5186|\n",
            "|   Julie Firrelli|     Sales|  9181|\n",
            "|  Steve Patterson|     Sales|  9441|\n",
            "|   Foon Yue Tseng|     Sales|  6660|\n",
            "|    George Vanauf|     Sales| 10563|\n",
            "|      Loui Bondur|       SCM| 10449|\n",
            "| Gerard Hernandez|       SCM|  6949|\n",
            "|  Pamela Castillo|       SCM| 11303|\n",
            "|       Larry Bott|       SCM| 11798|\n",
            "|      Barry Jones|       SCM| 10586|\n",
            "+-----------------+----------+------+\n",
            "\n"
          ]
        }
      ]
    },
    {
      "cell_type": "code",
      "source": [
        "from pyspark.sql import functions as F\n",
        "\n",
        "df.withColumn(\"new_column\",\n",
        "              F.concat(F.col(\"employee_name\"),F.lit(\"__\"))).show()"
      ],
      "metadata": {
        "id": "-TdSwO1evqO4",
        "outputId": "0cdfacfc-f87a-45a1-f96f-860497772f29",
        "colab": {
          "base_uri": "https://localhost:8080/"
        }
      },
      "execution_count": 16,
      "outputs": [
        {
          "output_type": "stream",
          "name": "stdout",
          "text": [
            "+-----------------+----------+------+-------------------+\n",
            "|    employee_name|department|salary|         new_column|\n",
            "+-----------------+----------+------+-------------------+\n",
            "|     Diane Murphy|Accounting|  8435|     Diane Murphy__|\n",
            "|   Mary Patterson|Accounting|  9998|   Mary Patterson__|\n",
            "|    Jeff Firrelli|Accounting|  8992|    Jeff Firrelli__|\n",
            "|William Patterson|Accounting|  8870|William Patterson__|\n",
            "|    Gerard Bondur|Accounting| 11472|    Gerard Bondur__|\n",
            "|      Anthony Bow|Accounting|  6627|      Anthony Bow__|\n",
            "|  Leslie Jennings|        IT|  8113|  Leslie Jennings__|\n",
            "|  Leslie Thompson|        IT|  5186|  Leslie Thompson__|\n",
            "|   Julie Firrelli|     Sales|  9181|   Julie Firrelli__|\n",
            "|  Steve Patterson|     Sales|  9441|  Steve Patterson__|\n",
            "|   Foon Yue Tseng|     Sales|  6660|   Foon Yue Tseng__|\n",
            "|    George Vanauf|     Sales| 10563|    George Vanauf__|\n",
            "|      Loui Bondur|       SCM| 10449|      Loui Bondur__|\n",
            "| Gerard Hernandez|       SCM|  6949| Gerard Hernandez__|\n",
            "|  Pamela Castillo|       SCM| 11303|  Pamela Castillo__|\n",
            "|       Larry Bott|       SCM| 11798|       Larry Bott__|\n",
            "|      Barry Jones|       SCM| 10586|      Barry Jones__|\n",
            "+-----------------+----------+------+-------------------+\n",
            "\n"
          ]
        }
      ]
    },
    {
      "cell_type": "code",
      "source": [
        "from pyspark.sql import functions as F\n",
        "from pyspark.sql.window import Window\n",
        "\n",
        "# Split employee_name em palavras (array)\n",
        "df_names = df.withColumn(\"first_name\", F.split(F.col(\"employee_name\"), \" \")[0]).withColumn(\"surname\", F.split(F.col(\"employee_name\"), \" \")[1])\n",
        "\n",
        "df_names.show()\n",
        "\n",
        "# Janela para particionar por surname e ordenar por salário descendente\n",
        "window_surname = Window.partitionBy(\"surname\").orderBy(F.desc(\"salary\"))\n",
        "\n",
        "# Adicionar número da linha para cada grupo (o maior salário vai ser o número 1)\n",
        "df_surname = df_names.withColumn(\"row_number\", F.row_number().over(window_surname))\n",
        "\n",
        "# Filtrar só os que têm row_number = 1 (ou seja, o maior salário de cada sobrenome)\n",
        "df_highest_salary = df_surname.filter(F.col(\"row_number\") == 1)\n",
        "\n",
        "df_highest_salary.select(\n",
        "    \"surname\",\n",
        "    \"employee_name\",\n",
        "    \"salary\",\n",
        "    \"department\"\n",
        ").show()\n",
        "\n",
        "# Contagem de funcionários e array ordenado dos primeiros nomes\n",
        "df_agg = df_names.groupBy(\"surname\").agg(\n",
        "    F.count(\"*\").alias(\"count_employees\"),\n",
        "    F.array_sort(F.collect_list(\"first_name\")).alias(\"array_with_all_the_first_names\")\n",
        ")\n",
        "\n",
        "# Junta tudo (resultado final!)\n",
        "df_final = df_highest_salary.join(df_agg, on=\"surname\", how=\"inner\")\n",
        "\n",
        "# schema expected:\n",
        "# surname | count_employees | highest_salary | employee_with_highest_salary | department_with_highest_salary | array_with_all_the_first_names |\n",
        "df_final.select(\n",
        "    \"surname\",\n",
        "    \"count_employees\",\n",
        "    \"salary\",\n",
        "    \"employee_name\",\n",
        "    \"department\",\n",
        "    \"array_with_all_the_first_names\"\n",
        ").show()\n"
      ],
      "metadata": {
        "id": "j3tJPPm4w__T",
        "outputId": "1d538e5b-f6d8-4cdb-b7be-0d9a48a8f3d7",
        "colab": {
          "base_uri": "https://localhost:8080/"
        }
      },
      "execution_count": 41,
      "outputs": [
        {
          "output_type": "stream",
          "name": "stdout",
          "text": [
            "+-----------------+----------+------+----------+---------+\n",
            "|    employee_name|department|salary|first_name|  surname|\n",
            "+-----------------+----------+------+----------+---------+\n",
            "|     Diane Murphy|Accounting|  8435|     Diane|   Murphy|\n",
            "|   Mary Patterson|Accounting|  9998|      Mary|Patterson|\n",
            "|    Jeff Firrelli|Accounting|  8992|      Jeff| Firrelli|\n",
            "|William Patterson|Accounting|  8870|   William|Patterson|\n",
            "|    Gerard Bondur|Accounting| 11472|    Gerard|   Bondur|\n",
            "|      Anthony Bow|Accounting|  6627|   Anthony|      Bow|\n",
            "|  Leslie Jennings|        IT|  8113|    Leslie| Jennings|\n",
            "|  Leslie Thompson|        IT|  5186|    Leslie| Thompson|\n",
            "|   Julie Firrelli|     Sales|  9181|     Julie| Firrelli|\n",
            "|  Steve Patterson|     Sales|  9441|     Steve|Patterson|\n",
            "|   Foon Yue Tseng|     Sales|  6660|      Foon|      Yue|\n",
            "|    George Vanauf|     Sales| 10563|    George|   Vanauf|\n",
            "|      Loui Bondur|       SCM| 10449|      Loui|   Bondur|\n",
            "| Gerard Hernandez|       SCM|  6949|    Gerard|Hernandez|\n",
            "|  Pamela Castillo|       SCM| 11303|    Pamela| Castillo|\n",
            "|       Larry Bott|       SCM| 11798|     Larry|     Bott|\n",
            "|      Barry Jones|       SCM| 10586|     Barry|    Jones|\n",
            "+-----------------+----------+------+----------+---------+\n",
            "\n",
            "+---------+----------------+------+----------+\n",
            "|  surname|   employee_name|salary|department|\n",
            "+---------+----------------+------+----------+\n",
            "|   Bondur|   Gerard Bondur| 11472|Accounting|\n",
            "|     Bott|      Larry Bott| 11798|       SCM|\n",
            "|      Bow|     Anthony Bow|  6627|Accounting|\n",
            "| Castillo| Pamela Castillo| 11303|       SCM|\n",
            "| Firrelli|  Julie Firrelli|  9181|     Sales|\n",
            "|Hernandez|Gerard Hernandez|  6949|       SCM|\n",
            "| Jennings| Leslie Jennings|  8113|        IT|\n",
            "|    Jones|     Barry Jones| 10586|       SCM|\n",
            "|   Murphy|    Diane Murphy|  8435|Accounting|\n",
            "|Patterson|  Mary Patterson|  9998|Accounting|\n",
            "| Thompson| Leslie Thompson|  5186|        IT|\n",
            "|   Vanauf|   George Vanauf| 10563|     Sales|\n",
            "|      Yue|  Foon Yue Tseng|  6660|     Sales|\n",
            "+---------+----------------+------+----------+\n",
            "\n",
            "+---------+---------------+------+----------------+----------+------------------------------+\n",
            "|  surname|count_employees|salary|   employee_name|department|array_with_all_the_first_names|\n",
            "+---------+---------------+------+----------------+----------+------------------------------+\n",
            "|      Bow|              1|  6627|     Anthony Bow|Accounting|                     [Anthony]|\n",
            "|    Jones|              1| 10586|     Barry Jones|       SCM|                       [Barry]|\n",
            "|   Bondur|              2| 11472|   Gerard Bondur|Accounting|                [Gerard, Loui]|\n",
            "|   Murphy|              1|  8435|    Diane Murphy|Accounting|                       [Diane]|\n",
            "| Castillo|              1| 11303| Pamela Castillo|       SCM|                      [Pamela]|\n",
            "| Firrelli|              2|  9181|  Julie Firrelli|     Sales|                 [Jeff, Julie]|\n",
            "|   Vanauf|              1| 10563|   George Vanauf|     Sales|                      [George]|\n",
            "|      Yue|              1|  6660|  Foon Yue Tseng|     Sales|                        [Foon]|\n",
            "|Patterson|              3|  9998|  Mary Patterson|Accounting|          [Mary, Steve, Wil...|\n",
            "| Thompson|              1|  5186| Leslie Thompson|        IT|                      [Leslie]|\n",
            "| Jennings|              1|  8113| Leslie Jennings|        IT|                      [Leslie]|\n",
            "|     Bott|              1| 11798|      Larry Bott|       SCM|                       [Larry]|\n",
            "|Hernandez|              1|  6949|Gerard Hernandez|       SCM|                      [Gerard]|\n",
            "+---------+---------------+------+----------------+----------+------------------------------+\n",
            "\n"
          ]
        }
      ]
    },
    {
      "cell_type": "code",
      "source": [],
      "metadata": {
        "id": "IgG4NFDd1tLJ"
      },
      "execution_count": 37,
      "outputs": []
    }
  ],
  "metadata": {
    "colab": {
      "provenance": [],
      "include_colab_link": true
    },
    "kernelspec": {
      "display_name": "Python 3",
      "name": "python3"
    },
    "language_info": {
      "name": "python"
    }
  },
  "nbformat": 4,
  "nbformat_minor": 0
}