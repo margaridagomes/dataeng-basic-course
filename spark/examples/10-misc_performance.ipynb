{
  "cells": [
    {
      "cell_type": "markdown",
      "metadata": {
        "id": "hyDay-zKVX3g"
      },
      "source": [
        "<a href=\"https://colab.research.google.com/github/lucprosa/dataeng-basic-course/blob/main/spark/examples/10-misc_performance.ipynb\" target=\"_parent\"><img src=\"https://colab.research.google.com/assets/colab-badge.svg\" alt=\"Open In Colab\"/></a>"
      ]
    },
    {
      "cell_type": "markdown",
      "metadata": {
        "id": "BOA_wQSmLd9z"
      },
      "source": [
        "# Miscellaneos Performance tricks\n",
        "- cache() & persist()\n",
        "- broadcast join\n",
        "- repartition & coalesce\n",
        "- explain"
      ]
    },
    {
      "cell_type": "markdown",
      "metadata": {
        "id": "d9LeYFsPTjAb"
      },
      "source": [
        "# Setting up PySpark"
      ]
    },
    {
      "cell_type": "code",
      "execution_count": null,
      "metadata": {
        "id": "uYXeODL0T1fO"
      },
      "outputs": [],
      "source": [
        "%pip install pyspark"
      ]
    },
    {
      "cell_type": "code",
      "execution_count": 1,
      "metadata": {
        "id": "637HFw00T3LP"
      },
      "outputs": [],
      "source": [
        "from pyspark.sql import SparkSession\n",
        "spark = SparkSession.builder.master('local').appName('Spark Course').getOrCreate()"
      ]
    },
    {
      "cell_type": "markdown",
      "metadata": {
        "id": "Vj3Cg2riVX3m"
      },
      "source": [
        "# Preparing data"
      ]
    },
    {
      "cell_type": "code",
      "execution_count": 2,
      "metadata": {
        "id": "z-caHS2MVX3m"
      },
      "outputs": [],
      "source": [
        "from pyspark import SparkFiles\n",
        "from pyspark.sql.types import *\n",
        "\n",
        "# Setting up URLs\n",
        "squirrel_url = \"https://raw.githubusercontent.com/lucprosa/dataeng-basic-course/main/data/squirrel-data/squirrel-data.csv\"\n",
        "park_url = \"https://raw.githubusercontent.com/lucprosa/dataeng-basic-course/main/data/squirrel-data/park-data.csv\"\n",
        "\n",
        "\n",
        "# Defining schemas\n",
        "squirrel_schema = StructType([\n",
        "StructField('Area Name',StringType(),True),\n",
        "StructField('Area ID',StringType(),True),\n",
        "StructField('Park Name',StringType(),True),\n",
        "StructField('Park ID', StringType(), True),\n",
        "StructField('Squirrel ID', StringType(), True),\n",
        "StructField('Primary Fur Color', StringType(), True),\n",
        "StructField('Highlights in Fur Color', StringType(), True),\n",
        "StructField('Color Notes', StringType(), True),\n",
        "StructField('Location', StringType(), True),\n",
        "StructField('Above Ground (Height in Feet)', StringType(), True),\n",
        "StructField('Specific Location', StringType(), True),\n",
        "StructField('Activities', StringType(), True),\n",
        "StructField('Interactions with Humans', StringType(), True),\n",
        "StructField('Squirrel Latitude (DD.DDDDDD)', StringType(), True),\n",
        "StructField('Squirrel Longitude (-DD.DDDDDD)', StringType(), True)\n",
        "])\n",
        "\n",
        "park_schema = StructType([\n",
        "StructField('Area Name',StringType(),True),\n",
        "StructField('Area ID',StringType(),True),\n",
        "StructField('Park Name',StringType(),True),\n",
        "StructField('Park ID', StringType(), True),\n",
        "StructField('Date', StringType(), True),\n",
        "StructField('Start Time', StringType(), True),\n",
        "StructField('End Time', StringType(), True),\n",
        "StructField('Total Time (in minutes, if available)', StringType(), True),\n",
        "StructField('Park Conditions', StringType(), True),\n",
        "StructField('Other Animal Sightings', StringType(), True),\n",
        "StructField('Litter', StringType(), True),\n",
        "StructField('Activities', StringType(), True),\n",
        "StructField('Temperature & Weather', StringType(), True),\n",
        "StructField('Number of Squirrels', IntegerType(), True),\n",
        "StructField('Squirrel Sighter(s)', StringType(), True),\n",
        "StructField('Number of Sighters', IntegerType(), True)\n",
        "])\n",
        "\n",
        "area_schema = StructType([\n",
        "StructField('Area ID',StringType(),True),\n",
        "StructField('Area Name',StringType(),True),\n",
        "StructField('Area Description',StringType(),True),\n",
        "StructField('City Name',StringType(),True),\n",
        "])\n",
        "\n",
        "area_data = [\n",
        "    (\"A\", \"UPPER MANHATTAN\", \"Uptown Manhattan\", \"New York\"),\n",
        "    (\"B\", \"CENTRAL MANHATTAN\", \"Midtown Manhattan\", \"New York\"),\n",
        "    (\"C\", \"LOWER MANHATTAN\", \"Downtown Manhattan\", \"New York\"),\n",
        "    (\"D\", \"BROOKLYN\", \"Brooklyn\", \"New York\")\n",
        "    ]\n",
        "\n",
        "spark.sparkContext.addFile(squirrel_url)\n",
        "spark.sparkContext.addFile(park_url)\n",
        "\n",
        "# creating dataframes\n",
        "squirrel = spark.read.csv(SparkFiles.get(\"squirrel-data.csv\"), header=True, schema=squirrel_schema)\n",
        "park = spark.read.csv(SparkFiles.get(\"park-data.csv\"), header=True, schema=park_schema)\n",
        "area = spark.createDataFrame(data=area_data, schema=area_schema)"
      ]
    },
    {
      "cell_type": "code",
      "execution_count": 3,
      "metadata": {
        "id": "e1jkoWpweDqW",
        "outputId": "b31d3e3b-41a6-42b4-b270-0ca929681918",
        "colab": {
          "base_uri": "https://localhost:8080/"
        }
      },
      "outputs": [
        {
          "output_type": "stream",
          "name": "stdout",
          "text": [
            "+---------------+-------+-------------------+-------+-----------+-----------------+-----------------------+-----------+------------+-----------------------------+-----------------+--------------------+------------------------+-----------------------------+-------------------------------+\n",
            "|      Area Name|Area ID|          Park Name|Park ID|Squirrel ID|Primary Fur Color|Highlights in Fur Color|Color Notes|    Location|Above Ground (Height in Feet)|Specific Location|          Activities|Interactions with Humans|Squirrel Latitude (DD.DDDDDD)|Squirrel Longitude (-DD.DDDDDD)|\n",
            "+---------------+-------+-------------------+-------+-----------+-----------------+-----------------------+-----------+------------+-----------------------------+-----------------+--------------------+------------------------+-----------------------------+-------------------------------+\n",
            "|UPPER MANHATTAN|      A|    Fort Tryon Park|     01|    A-01-01|             Gray|                  White|       NULL|Ground Plane|                         NULL|             NULL|            Foraging|             Indifferent|                         NULL|                       40.85941|\n",
            "|UPPER MANHATTAN|      A|    Fort Tryon Park|     01|    A-01-02|             Gray|                  White|       NULL|Ground Plane|                         NULL|             NULL|            Foraging|             Indifferent|                 Looks skinny|                      40.859436|\n",
            "|UPPER MANHATTAN|      A|    Fort Tryon Park|     01|    A-01-03|             Gray|                  White|       NULL|Ground Plane|                         NULL|             NULL|Eating, Digging s...|             Indifferent|                         NULL|                      40.859416|\n",
            "|UPPER MANHATTAN|      A|    Fort Tryon Park|     01|    A-01-04|             Gray|                  White|       NULL|Ground Plane|                         NULL|             NULL|             Running|             Indifferent|                         NULL|                      40.859418|\n",
            "|UPPER MANHATTAN|      A|    Fort Tryon Park|     01|    A-01-05|             Gray|               Cinnamon|       NULL|Ground Plane|                         NULL|             NULL|     Running, Eating|             Indifferent|                She left food|                      40.859493|\n",
            "|UPPER MANHATTAN|      A|    Fort Tryon Park|     01|    A-01-06|             Gray|               Cinnamon|       NULL|Ground Plane|                         NULL|             NULL|            Climbing|             Indifferent|                         NULL|                      40.860825|\n",
            "|UPPER MANHATTAN|      A|    Fort Tryon Park|     01|    A-01-07|             Gray|                  White|       NULL|Ground Plane|                         NULL|             NULL|            Foraging|             Indifferent|                         NULL|                      40.860225|\n",
            "|UPPER MANHATTAN|      A|    Fort Tryon Park|     01|    A-01-08|            Black|                   Gray|       NULL|Above Ground|                           10|             NULL|            Climbing|               Runs From|                         NULL|                      40.859965|\n",
            "|UPPER MANHATTAN|      A|    Fort Tryon Park|     01|    A-01-09|             Gray|                  White|       NULL|Ground Plane|                         NULL|             NULL|            Foraging|             Indifferent|                         NULL|                      40.859892|\n",
            "|UPPER MANHATTAN|      A|    Fort Tryon Park|     01|    A-01-10|             Gray|                  White|       NULL|Ground Plane|                         NULL|             NULL|     Eating, Digging|             Indifferent|                         NULL|                      40.859636|\n",
            "|UPPER MANHATTAN|      A|    Fort Tryon Park|     01|    A-01-11|             Gray|                  Black|       NULL|Ground Plane|                         NULL|             NULL|     Eating, Digging|             Indifferent|         was intimidated b...|                      40.859576|\n",
            "|UPPER MANHATTAN|      A|    Fort Tryon Park|     01|    A-01-12|             Gray|                  White|       NULL|Ground Plane|                         NULL|             NULL|             Running|               Runs From|                         NULL|                      40.859989|\n",
            "|UPPER MANHATTAN|      A|J. Hood Wright Park|     02|    A-02-01|             Gray|                   Gray|       NULL|Ground Plane|                         NULL|             NULL|             Running|             Indifferent|                         NULL|                      40.845749|\n",
            "|UPPER MANHATTAN|      A|J. Hood Wright Park|     02|    A-02-02|             Gray|               Cinnamon|       NULL|Above Ground|                            2|             NULL|            Foraging|             Indifferent|                         NULL|                      40.845875|\n",
            "|UPPER MANHATTAN|      A|J. Hood Wright Park|     02|    A-02-03|             Gray|               Cinnamon|       NULL|Ground Plane|                         NULL|             NULL|            Foraging|                    NULL|                         NULL|                      40.845875|\n",
            "|UPPER MANHATTAN|      A|J. Hood Wright Park|     02|    A-02-04|             Gray|               Cinnamon|       NULL|Ground Plane|                         NULL|             NULL|             Running|             Indifferent|                         NULL|                      40.846088|\n",
            "|UPPER MANHATTAN|      A|J. Hood Wright Park|     02|    A-02-05|             Gray|               Cinnamon|       NULL|Ground Plane|                         NULL|             NULL|             Running|               Runs From|                         NULL|                      40.846088|\n",
            "|UPPER MANHATTAN|      A|J. Hood Wright Park|     02|    A-02-06|             Gray|               Cinnamon|       NULL|Ground Plane|                         NULL|             NULL|            Foraging|             Indifferent|                         NULL|                      40.846088|\n",
            "|UPPER MANHATTAN|      A|J. Hood Wright Park|     02|    A-02-07|             Gray|                   Gray|       NULL|Ground Plane|                         NULL|             NULL|                NULL|               Runs From|                         NULL|                      40.846222|\n",
            "|UPPER MANHATTAN|      A|J. Hood Wright Park|     02|    A-02-08|             Gray|               Cinnamon|       NULL|Ground Plane|                         NULL|             NULL|Foraging, Nesting...|             Indifferent|                         NULL|                      40.846222|\n",
            "+---------------+-------+-------------------+-------+-----------+-----------------+-----------------------+-----------+------------+-----------------------------+-----------------+--------------------+------------------------+-----------------------------+-------------------------------+\n",
            "only showing top 20 rows\n",
            "\n",
            "+-----------------+-------+--------------------+-------+------+----------+----------+-------------------------------------+--------------------+----------------------+--------------------+--------------------+---------------------+-------------------+-------------------+------------------+\n",
            "|        Area Name|Area ID|           Park Name|Park ID|  Date|Start Time|  End Time|Total Time (in minutes, if available)|     Park Conditions|Other Animal Sightings|              Litter|          Activities|Temperature & Weather|Number of Squirrels|Squirrel Sighter(s)|Number of Sighters|\n",
            "+-----------------+-------+--------------------+-------+------+----------+----------+-------------------------------------+--------------------+----------------------+--------------------+--------------------+---------------------+-------------------+-------------------+------------------+\n",
            "|  UPPER MANHATTAN|      A|     Fort Tryon Park|     01|3/1/20|3:14:00 PM|4:05:00 PM|                                   51|                Busy|  Humans, Dogs, Pig...|                Some|   43 degrees, sunny|                   12|               NULL|                  4|              NULL|\n",
            "|  UPPER MANHATTAN|      A| J. Hood Wright Park|     02|3/1/20|3:30:00 PM|4:00:00 PM|                                   30|                Calm|  Humans, Hawks, Do...|      Some, in trees|         cold, clear|                   24|               NULL|                  2|              NULL|\n",
            "|  UPPER MANHATTAN|      A|     Highbridge Park|     03|3/1/20|3:21:00 PM|4:15:00 PM|                                   54|Calm, pick-up bas...|  Humans, Dogs (3, ...|Some, especially ...|          43 degrees|                   16|               NULL|                  3|              NULL|\n",
            "|  UPPER MANHATTAN|      A|   St. Nicholas Park|     04|3/1/20|3:15:00 PM|3:45:00 PM|                                   30|                Calm|          Humans, Dogs|Some, backside of...|   43 degrees, clear|                   15|               NULL|                  3|              NULL|\n",
            "|  UPPER MANHATTAN|      A|Riverside Park (s...|     05|3/1/20|3:15:00 PM|3:45:00 PM|                                   30|                Calm|          Humans, Dogs|                NULL|                NULL|                   28|               NULL|                  3|              NULL|\n",
            "|  UPPER MANHATTAN|      A|  Marcus Garvey Park|     06|3/1/20|3:45:00 PM|4:15:00 PM|                                   30|Calm, re: humans,...|  Hawks, Dogs, Pigeons|            Abundant|   42 degrees, clear|                   34|                 16|                  1|              NULL|\n",
            "|CENTRAL MANHATTAN|      B| Madison Square Park|     07|3/1/20|2:30:00 PM|3:50:00 PM|                                   80|                Busy|  Humans, Dogs, Pig...|                NULL|   43 degrees, sunny|                   11|               NULL|                  4|              NULL|\n",
            "|CENTRAL MANHATTAN|      B|   Union Square Park|     08|3/1/20|3:15:00 PM|3:45:00 PM|                                   30|                Busy|  Humans, Dogs, Pig...|                NULL|   40 degrees, sunny|                   16|               NULL|                  4|              NULL|\n",
            "|CENTRAL MANHATTAN|      B|Stuyvesant Square...|     09|3/1/20|3:00:00 PM|4:00:00 PM|                                   60|Calm, 20���30 ppl...|  Humans, Dogs, Spa...|                Some|   45 degrees, sunny|                   25|               NULL|                  2|              NULL|\n",
            "|CENTRAL MANHATTAN|      B|Washington Square...|     10|3/1/20|3:20:00 PM|4:00:00 PM|                                   40|                Busy|          Humans, Dogs|                None|45 degrees, sunny...|                   51|               NULL|                  2|              NULL|\n",
            "|CENTRAL MANHATTAN|      B|Tompkins Square Park|     11|3/1/20|3:15:00 PM|3:45:00 PM|                                   30|                NULL|                  NULL|                NULL|                NULL|                   59|               NULL|                  2|              NULL|\n",
            "|CENTRAL MANHATTAN|      B|John V. Lindsay E...|     12|3/1/20|3:01:00 PM|3:45:00 PM|                                   44|                Calm|  Humans (Joggers, ...|                NULL|        windy, clear|                   12|                 31|                  1|              NULL|\n",
            "|  LOWER MANHATTAN|      C|Sara D. Roosevelt...|   13.1|3/1/20|3:30:00 PM|4:00:00 PM|                                   30|                Busy|   Humans, Dogs (Gray)|                Some|   44 degrees, sunny|                    0|               NULL|                  3|              NULL|\n",
            "|  LOWER MANHATTAN|      C|Sara D. Roosevelt...|   13.2|3/1/20|3:30:00 PM|4:00:00 PM|                                   30|                Busy|       Humans, Pigeons|                Some|   43 degrees, sunny|                    0|               NULL|                  3|              NULL|\n",
            "|  LOWER MANHATTAN|      C|         Seward Park|     14|3/1/20|3:25:00 PM|3:55:00 PM|                                   30|                Busy|       Humans, Pigeons|                Some|   40 degrees, sunny|                    7|               NULL|                  4|              NULL|\n",
            "|  LOWER MANHATTAN|      C|  Corlears Hook Park|     15|3/1/20|3:35:00 PM|4:15:00 PM|                                   40|                Calm|  Humans, Dogs, Pig...|Some, mostly in t...|   48 degrees, sunny|                   16|               NULL|                  3|              NULL|\n",
            "|  LOWER MANHATTAN|      C|       Columbus Park|     16|3/1/20|3:47:00 PM|4:38:00 PM|                                   51|                Busy|  Humans, Dogs, Pig...|                None|42 degrees, windy...|                    4|               NULL|                  2|              NULL|\n",
            "|  LOWER MANHATTAN|      C|   Thomas Paine Park|     17|3/1/20|3:35:00 PM|3:45:00 PM|                                   10|                Calm|  Humans, Dogs, Pig...|                None|42 degrees, windy...|                    0|               NULL|                  2|              NULL|\n",
            "|  LOWER MANHATTAN|      C|       Teardrop Park|     18|3/1/20|3:37:00 PM|4:00:00 PM|                                   23|                NULL|  Humans, Dogs, Fis...|                Some|43 degrees, sunny...|                    1|               NULL|                  2|              NULL|\n",
            "|  LOWER MANHATTAN|      C|      City Hall Park|     19|3/1/20|3:34:00 PM|4:04:00 PM|                                   30|                Calm|  Humans, Pigeons, Cat|                None|   44 degrees, sunny|                   18|               NULL|                  2|              NULL|\n",
            "+-----------------+-------+--------------------+-------+------+----------+----------+-------------------------------------+--------------------+----------------------+--------------------+--------------------+---------------------+-------------------+-------------------+------------------+\n",
            "only showing top 20 rows\n",
            "\n",
            "+-------+-----------------+------------------+---------+\n",
            "|Area ID|        Area Name|  Area Description|City Name|\n",
            "+-------+-----------------+------------------+---------+\n",
            "|      A|  UPPER MANHATTAN|  Uptown Manhattan| New York|\n",
            "|      B|CENTRAL MANHATTAN| Midtown Manhattan| New York|\n",
            "|      C|  LOWER MANHATTAN|Downtown Manhattan| New York|\n",
            "|      D|         BROOKLYN|          Brooklyn| New York|\n",
            "+-------+-----------------+------------------+---------+\n",
            "\n"
          ]
        }
      ],
      "source": [
        "# show data\n",
        "squirrel.show()\n",
        "park.show()\n",
        "area.show()"
      ]
    },
    {
      "cell_type": "markdown",
      "source": [
        "# Caching & Persist"
      ],
      "metadata": {
        "id": "9xipEQu1aUcx"
      }
    },
    {
      "cell_type": "code",
      "source": [
        "# Caching\n",
        "# Default: MEMORY_AND_DISK\n",
        "\n",
        "import uuid\n",
        "from pyspark.sql.functions import udf\n",
        "\n",
        "@udf\n",
        "def generate_uuid():\n",
        "  return str(uuid.uuid4())\n",
        "\n",
        "# transformation 1\n",
        "squirrel = squirrel.withColumn(\"hash_id\", generate_uuid())\n",
        "\n",
        "# transformation 2\n",
        "squirrel = squirrel.dropDuplicates()\n",
        "\n",
        "# squirrel.cache().count() <--------------- force an action to run the cache\n",
        "\n",
        "# transformations N\n",
        "# squirrel = squirrel.join...\n",
        "# squirrel = squirrel.groupBy...\n",
        "\n",
        "# DAG\n",
        "# T1 -> T2 -> T3...TN -> A1\n",
        "\n",
        "# action 1\n",
        "# squirrel.write.format(\"parquet\").path(\"path\")\n"
      ],
      "metadata": {
        "id": "mOOh51r6WmDj"
      },
      "execution_count": 4,
      "outputs": []
    },
    {
      "cell_type": "code",
      "source": [
        "squirrel"
      ],
      "metadata": {
        "id": "f6HmT9KxshPj",
        "outputId": "a2bde35c-afbe-42f4-e0e5-f312258d28be",
        "colab": {
          "base_uri": "https://localhost:8080/"
        }
      },
      "execution_count": 5,
      "outputs": [
        {
          "output_type": "execute_result",
          "data": {
            "text/plain": [
              "DataFrame[Area Name: string, Area ID: string, Park Name: string, Park ID: string, Squirrel ID: string, Primary Fur Color: string, Highlights in Fur Color: string, Color Notes: string, Location: string, Above Ground (Height in Feet): string, Specific Location: string, Activities: string, Interactions with Humans: string, Squirrel Latitude (DD.DDDDDD): string, Squirrel Longitude (-DD.DDDDDD): string, hash_id: string]"
            ]
          },
          "metadata": {},
          "execution_count": 5
        }
      ]
    },
    {
      "cell_type": "code",
      "source": [
        "squirrel.show()"
      ],
      "metadata": {
        "id": "5YxWeRBTsjEe",
        "outputId": "99ef4e59-4100-4ca7-ddd6-60d09aee0a07",
        "colab": {
          "base_uri": "https://localhost:8080/"
        }
      },
      "execution_count": 6,
      "outputs": [
        {
          "output_type": "stream",
          "name": "stdout",
          "text": [
            "+-----------------+-------+--------------------+-------+-----------+-----------------+-----------------------+--------------------+--------------------+-----------------------------+-----------------+--------------------+------------------------+-----------------------------+-------------------------------+--------------------+\n",
            "|        Area Name|Area ID|           Park Name|Park ID|Squirrel ID|Primary Fur Color|Highlights in Fur Color|         Color Notes|            Location|Above Ground (Height in Feet)|Specific Location|          Activities|Interactions with Humans|Squirrel Latitude (DD.DDDDDD)|Squirrel Longitude (-DD.DDDDDD)|             hash_id|\n",
            "+-----------------+-------+--------------------+-------+-----------+-----------------+-----------------------+--------------------+--------------------+-----------------------------+-----------------+--------------------+------------------------+-----------------------------+-------------------------------+--------------------+\n",
            "|CENTRAL MANHATTAN|      B|Tompkins Square Park|     11|    B-11-06|             Gray|                   Gray|                NULL|        Ground Plane|                         NULL|             NULL|            Foraging|             Indifferent|                         NULL|                           NULL|3f738ee2-f0c3-4f3...|\n",
            "|  UPPER MANHATTAN|      A| J. Hood Wright Park|     02|    A-02-11|             Gray|               Cinnamon|                NULL|        Ground Plane|                         NULL|             NULL|              Eating|               Runs From|                         NULL|                      40.846271|53867e1b-c752-417...|\n",
            "|  UPPER MANHATTAN|      A|     Highbridge Park|     03|    A-03-16|             Gray|               Cinnamon|                NULL|        Ground Plane|                         NULL|             NULL|    Eating, Foraging|             Indifferent|                         NULL|                      40.842769|1f2b9617-e456-4a2...|\n",
            "|CENTRAL MANHATTAN|      B|Washington Square...|     10|    B-10-12|             Gray|                   Gray|                NULL|        Above Ground|                           25|             NULL|            Climbing|             Indifferent|                         NULL|                           NULL|c6b21130-cbf7-48b...|\n",
            "|CENTRAL MANHATTAN|      B|Washington Square...|     10|    B-10-15|             Gray|                   NULL|                NULL|                NULL|                         NULL|             NULL|             Chasing|             Indifferent|          Being chased by #13|                      40.729858|13c3efef-e1d7-4e3...|\n",
            "|CENTRAL MANHATTAN|      B|Tompkins Square Park|     11|    B-11-58|             Gray|                   Gray|                NULL|        Ground Plane|                         NULL|             NULL|            Foraging|                    NULL|                         NULL|                           NULL|b7438d92-3aa9-437...|\n",
            "|  UPPER MANHATTAN|      A|Riverside Park (S...|     05|    A-05-21|             Gray|                   Gray|                NULL|        Ground Plane|                         NULL|          at tree|                NULL|             Indifferent|                         NULL|                           NULL|ace6ca7d-2e57-40b...|\n",
            "|CENTRAL MANHATTAN|      B|Washington Square...|     10|    B-10-33|             Gray|                   NULL|                NULL|Above Ground, Spe...|                         NULL|     in tree high|                NULL|             Indifferent|                         NULL|                      40.731548|eb8b5829-2ff4-41f...|\n",
            "|CENTRAL MANHATTAN|      B|Tompkins Square Park|     11|    B-11-31|             Gray|                   Gray|                NULL|        Ground Plane|                         NULL|             NULL|             Running|                    NULL|                         NULL|                           NULL|85d9ade3-350a-4d4...|\n",
            "|CENTRAL MANHATTAN|      B|Tompkins Square Park|     11|    B-11-39|             Gray|                   Gray|                NULL|        Ground Plane|                         NULL|             NULL|            Foraging|             Indifferent|                         NULL|                           NULL|7138a55f-abf3-4ad...|\n",
            "|CENTRAL MANHATTAN|      B|John V. Lindsay E...|     12|    B-12-02|            Black|                  Black|                NULL|        Ground Plane|                         NULL|             NULL|Running, Eating (...|                    NULL|                         NULL|                      40.722614|1c7d7682-6857-4e2...|\n",
            "|         BROOKLYN|      D|Msgr. McGolrick Park|     21|    D-21-06|             Gray|               Cinnamon|                NULL|        Ground Plane|                         NULL|             NULL|              Eating|              Approaches|                  We fed him!|                      40.725397|ddd86dd6-2956-43c...|\n",
            "|  UPPER MANHATTAN|      A|     Fort Tryon Park|     01|    A-01-07|             Gray|                  White|                NULL|        Ground Plane|                         NULL|             NULL|            Foraging|             Indifferent|                         NULL|                      40.860225|f88c6ef7-f0b2-4fa...|\n",
            "|  UPPER MANHATTAN|      A|     Highbridge Park|     03|    A-03-06|             Gray|                   Gray|                NULL|Above Ground, Spe...|                            2|          in tree|             Running|     Runs From, watchful|         #5, #6 & #7 toget...|                      40.841375|d7ea83f8-a652-458...|\n",
            "|  UPPER MANHATTAN|      A|Riverside Park (S...|     05|    A-05-07|             Gray|                   Gray|                NULL|        Ground Plane|                         NULL|             NULL|    Running, up tree|             Indifferent|         Forever wild section|                           NULL|ef3cbcbd-5ea9-4ab...|\n",
            "|  LOWER MANHATTAN|      C|      City Hall Park|     19|    C-19-08|             Gray|                  White|Very distinct whi...|        Ground Plane|                         NULL|             NULL|              Eating|              Approaches|         Came out to get p...|                      40.713044|762f7ad6-c9fe-41d...|\n",
            "|  UPPER MANHATTAN|      A|  Marcus Garvey Park|     06|    A-06-16|             Gray|                   Gray|                NULL|        Ground Plane|                         NULL|             NULL|             Running|                    NULL|         Ran up the the 3r...|                      40.804253|ecc2e804-595e-453...|\n",
            "|CENTRAL MANHATTAN|      B|Tompkins Square Park|     11|    B-11-10|             Gray|                   Gray|                NULL|        Above Ground|                           30|             NULL|             Chasing|             Indifferent|                         NULL|                           NULL|13e33b22-e2d6-45c...|\n",
            "|  LOWER MANHATTAN|      C|        Battery Park|     20|    C-20-17|             Gray|                  White|                NULL|                NULL|                         NULL|             NULL|Hangin' with #13 ...|                    NULL|                         NULL|                      40.703989|dd944c1c-0052-489...|\n",
            "|  LOWER MANHATTAN|      C|        Battery Park|     20|    C-20-02|             Gray|        Cinnamon, White|                NULL|   Specific Location|                         NULL|       on fencing|Climbing, Balanci...|                    NULL|         #15 all together ...|                      40.704011|8f4aa623-a380-4ad...|\n",
            "+-----------------+-------+--------------------+-------+-----------+-----------------+-----------------------+--------------------+--------------------+-----------------------------+-----------------+--------------------+------------------------+-----------------------------+-------------------------------+--------------------+\n",
            "only showing top 20 rows\n",
            "\n"
          ]
        }
      ]
    },
    {
      "cell_type": "code",
      "source": [
        "squirrel.cache().count()"
      ],
      "metadata": {
        "id": "7vAw8JXIC0it",
        "outputId": "5d6727c3-fa72-4dbb-cba3-281d6176948a",
        "colab": {
          "base_uri": "https://localhost:8080/"
        }
      },
      "execution_count": 7,
      "outputs": [
        {
          "output_type": "execute_result",
          "data": {
            "text/plain": [
              "433"
            ]
          },
          "metadata": {},
          "execution_count": 7
        }
      ]
    },
    {
      "cell_type": "code",
      "source": [
        "squirrel.is_cached"
      ],
      "metadata": {
        "id": "NTrdLhFlY0NU",
        "outputId": "c92ef6d6-8ddd-4688-f416-55c276f9ac7e",
        "colab": {
          "base_uri": "https://localhost:8080/"
        }
      },
      "execution_count": 8,
      "outputs": [
        {
          "output_type": "execute_result",
          "data": {
            "text/plain": [
              "True"
            ]
          },
          "metadata": {},
          "execution_count": 8
        }
      ]
    },
    {
      "cell_type": "code",
      "execution_count": 9,
      "metadata": {
        "id": "9yEpZwS_QtJ1",
        "outputId": "d03f6356-05d1-4fa0-e439-7dd17aedce7e",
        "colab": {
          "base_uri": "https://localhost:8080/"
        }
      },
      "outputs": [
        {
          "output_type": "stream",
          "name": "stdout",
          "text": [
            "+-----------------+-------+--------------------+-------+-----------+-----------------+-----------------------+-----------+--------------------+-----------------------------+--------------------+--------------------+------------------------+-----------------------------+-------------------------------+--------------------+\n",
            "|        Area Name|Area ID|           Park Name|Park ID|Squirrel ID|Primary Fur Color|Highlights in Fur Color|Color Notes|            Location|Above Ground (Height in Feet)|   Specific Location|          Activities|Interactions with Humans|Squirrel Latitude (DD.DDDDDD)|Squirrel Longitude (-DD.DDDDDD)|             hash_id|\n",
            "+-----------------+-------+--------------------+-------+-----------+-----------------+-----------------------+-----------+--------------------+-----------------------------+--------------------+--------------------+------------------------+-----------------------------+-------------------------------+--------------------+\n",
            "|  UPPER MANHATTAN|      A| J. Hood Wright Park|     02|    A-02-08|             Gray|               Cinnamon|       NULL|        Ground Plane|                         NULL|                NULL|Foraging, Nesting...|             Indifferent|                         NULL|                      40.846222|345a35da-3528-47b...|\n",
            "|  UPPER MANHATTAN|      A| J. Hood Wright Park|     02|    A-02-14|             Gray|                   Gray|       NULL|        Ground Plane|                         NULL|                NULL|             Running|             Indifferent|                         NULL|                      40.846332|1fdaf2ea-2a10-49a...|\n",
            "|  UPPER MANHATTAN|      A|     Highbridge Park|     03|    A-03-02|             Gray|                  White|       NULL|Above Ground, Spe...|                            2|             in tree|Chasing, Climbing...|               Runs From|         #1 and #2 chasing...|                      40.841204|2de8fd88-da35-47a...|\n",
            "|CENTRAL MANHATTAN|      B|Tompkins Square Park|     11|    B-11-05|             Gray|                   Gray|       NULL|        Ground Plane|                         NULL|                NULL|             Running|             Indifferent|                         NULL|                           NULL|5b7618ec-3a05-499...|\n",
            "|CENTRAL MANHATTAN|      B|Tompkins Square Park|     11|    B-11-29|             Gray|                   Gray|       NULL|        Ground Plane|                         NULL|                NULL|            Foraging|              Approaches|                         NULL|                           NULL|f47c3a8f-a1a2-4ca...|\n",
            "|CENTRAL MANHATTAN|      B|Tompkins Square Park|     11|    B-11-32|             Gray|                   Gray|       NULL|        Ground Plane|                         NULL|                NULL|            Foraging|              Approaches|                         NULL|                           NULL|8315c611-e536-4ea...|\n",
            "|  UPPER MANHATTAN|      A| J. Hood Wright Park|     02|    A-02-20|             Gray|               Cinnamon|       NULL|        Ground Plane|                         NULL|                NULL|            Foraging|             Indifferent|                         NULL|                      40.847296|ac6df3bf-84d3-4b6...|\n",
            "|  UPPER MANHATTAN|      A|     Highbridge Park|     03|    A-03-04|             Gray|                  White|       NULL|        Above Ground|                            3|                NULL|            Climbing|                    NULL|                         NULL|                      40.841217|739038e1-ceec-457...|\n",
            "|  LOWER MANHATTAN|      C|         Seward Park|     14|    C-14-03|             Gray|               Cinnamon|       NULL|        Ground Plane|                         NULL|                NULL|            Foraging|               Runs From|                         NULL|                      40.714749|af693b45-5481-4b8...|\n",
            "|  LOWER MANHATTAN|      C|      City Hall Park|     19|    C-19-10|             Gray|                  White|       NULL|Ground Plane, Spe...|                         NULL|on City Hall back...|             Running|             Indifferent|                         NULL|                      40.712881|bdc767c2-e242-46d...|\n",
            "|         BROOKLYN|      D|       McCarren Park|     22|    D-22-38|             Gray|        Cinnamon, White|       NULL|        Ground Plane|                         NULL|                NULL|              Eating|                    NULL|         Sitting next to #...|                      40.721258|8b2927ff-dd3e-45c...|\n",
            "|  UPPER MANHATTAN|      A|     Fort Tryon Park|     01|    A-01-12|             Gray|                  White|       NULL|        Ground Plane|                         NULL|                NULL|             Running|               Runs From|                         NULL|                      40.859989|9fe5a259-3ed0-410...|\n",
            "|  UPPER MANHATTAN|      A| J. Hood Wright Park|     02|    A-02-01|             Gray|                   Gray|       NULL|        Ground Plane|                         NULL|                NULL|             Running|             Indifferent|                         NULL|                      40.845749|c7bcbeb6-d453-4a5...|\n",
            "|CENTRAL MANHATTAN|      B|Tompkins Square Park|     11|    B-11-08|             Gray|                   Gray|       NULL|        Above Ground|                           20|                NULL|            Climbing|             Indifferent|                         NULL|                           NULL|45a46044-7dad-49f...|\n",
            "|  UPPER MANHATTAN|      A|     Highbridge Park|     03|    A-03-16|             Gray|               Cinnamon|       NULL|        Ground Plane|                         NULL|                NULL|    Eating, Foraging|             Indifferent|                         NULL|                      40.842769|d069321c-5ee4-4ec...|\n",
            "|  UPPER MANHATTAN|      A|Riverside Park (S...|     05|    A-05-18|             Gray|                   Gray|       NULL|        Ground Plane|                         NULL|                NULL|             Running|             Indifferent|                         NULL|                           NULL|28b6ecc7-259c-43d...|\n",
            "|CENTRAL MANHATTAN|      B|Stuyvesant Square...|     09|    B-09-09|             Gray|               Cinnamon|       NULL|        Ground Plane|                         NULL|                NULL|             Chasing|             Indifferent|                   Chasing #8|                      40.733575|67d3ca68-b499-410...|\n",
            "|  UPPER MANHATTAN|      A|  Marcus Garvey Park|     06|    A-06-02|             Gray|                   Gray|       NULL|        Above Ground|                         2040|                NULL|            Climbing|             Indifferent|         HAWK. HAAAAAWK. A...|                      40.804912|470ba3fa-38b5-4ba...|\n",
            "|CENTRAL MANHATTAN|      B|Washington Square...|     10|    B-10-10|             Gray|                   NULL|       NULL|                NULL|                         NULL|                NULL|                NULL|             Indifferent|                        Shady|                      40.730077|ff0c8680-0a48-403...|\n",
            "|CENTRAL MANHATTAN|      B|Tompkins Square Park|     11|    B-11-02|             Gray|                   Gray|       NULL|        Ground Plane|                         NULL|                NULL|            Foraging|             Indifferent|                         NULL|                           NULL|062fe8bd-4be9-407...|\n",
            "+-----------------+-------+--------------------+-------+-----------+-----------------+-----------------------+-----------+--------------------+-----------------------------+--------------------+--------------------+------------------------+-----------------------------+-------------------------------+--------------------+\n",
            "only showing top 20 rows\n",
            "\n"
          ]
        }
      ],
      "source": [
        "squirrel.show()"
      ]
    },
    {
      "cell_type": "code",
      "source": [
        "#retirada da cache\n",
        "squirrel.unpersist()\n",
        "\n",
        "squirrel.is_cached"
      ],
      "metadata": {
        "id": "Cyol21etZ4EO",
        "outputId": "a6486a55-59e2-4a76-ffd7-e0e1168aa956",
        "colab": {
          "base_uri": "https://localhost:8080/"
        }
      },
      "execution_count": 10,
      "outputs": [
        {
          "output_type": "execute_result",
          "data": {
            "text/plain": [
              "False"
            ]
          },
          "metadata": {},
          "execution_count": 10
        }
      ]
    },
    {
      "cell_type": "markdown",
      "source": [
        "- Logical plan: user's code or query and is independent of the underlying data sources and execution strategies\n",
        "\n",
        "- Physical Plan: The physical plan represents the actual execution steps that Spark will perform to execute the job on the cluster."
      ],
      "metadata": {
        "id": "XTjYIv4CF-nm"
      }
    },
    {
      "cell_type": "code",
      "source": [
        "squirrel.explain(\"cost\")"
      ],
      "metadata": {
        "id": "ZRKD7S-TtNOu",
        "outputId": "af92ba72-f80b-47ae-f370-fad60b16926f",
        "colab": {
          "base_uri": "https://localhost:8080/"
        }
      },
      "execution_count": 11,
      "outputs": [
        {
          "output_type": "stream",
          "name": "stdout",
          "text": [
            "== Optimized Logical Plan ==\n",
            "Aggregate [Above Ground (Height in Feet)#9, Primary Fur Color#5, hash_id#247, Location#8, Park ID#3, Specific Location#10, Squirrel ID#4, Area ID#1, Activities#11, Squirrel Latitude (DD.DDDDDD)#13, Color Notes#7, Area Name#0, Highlights in Fur Color#6, Interactions with Humans#12, Squirrel Longitude (-DD.DDDDDD)#14, Park Name#2], [Area Name#0, Area ID#1, Park Name#2, Park ID#3, Squirrel ID#4, Primary Fur Color#5, Highlights in Fur Color#6, Color Notes#7, Location#8, Above Ground (Height in Feet)#9, Specific Location#10, Activities#11, Interactions with Humans#12, Squirrel Latitude (DD.DDDDDD)#13, Squirrel Longitude (-DD.DDDDDD)#14, hash_id#247], Statistics(sizeInBytes=57.7 KiB)\n",
            "+- Project [Area Name#0, Area ID#1, Park Name#2, Park ID#3, Squirrel ID#4, Primary Fur Color#5, Highlights in Fur Color#6, Color Notes#7, Location#8, Above Ground (Height in Feet)#9, Specific Location#10, Activities#11, Interactions with Humans#12, Squirrel Latitude (DD.DDDDDD)#13, Squirrel Longitude (-DD.DDDDDD)#14, pythonUDF0#1247 AS hash_id#247], Statistics(sizeInBytes=57.7 KiB)\n",
            "   +- BatchEvalPython [generate_uuid()#246], [pythonUDF0#1247], Statistics(sizeInBytes=57.7 KiB)\n",
            "      +- Relation [Area Name#0,Area ID#1,Park Name#2,Park ID#3,Squirrel ID#4,Primary Fur Color#5,Highlights in Fur Color#6,Color Notes#7,Location#8,Above Ground (Height in Feet)#9,Specific Location#10,Activities#11,Interactions with Humans#12,Squirrel Latitude (DD.DDDDDD)#13,Squirrel Longitude (-DD.DDDDDD)#14] csv, Statistics(sizeInBytes=57.7 KiB)\n",
            "\n",
            "== Physical Plan ==\n",
            "AdaptiveSparkPlan isFinalPlan=false\n",
            "+- HashAggregate(keys=[Above Ground (Height in Feet)#9, Primary Fur Color#5, hash_id#247, Location#8, Park ID#3, Specific Location#10, Squirrel ID#4, Area ID#1, Activities#11, Squirrel Latitude (DD.DDDDDD)#13, Color Notes#7, Area Name#0, Highlights in Fur Color#6, Interactions with Humans#12, Squirrel Longitude (-DD.DDDDDD)#14, Park Name#2], functions=[], output=[Area Name#0, Area ID#1, Park Name#2, Park ID#3, Squirrel ID#4, Primary Fur Color#5, Highlights in Fur Color#6, Color Notes#7, Location#8, Above Ground (Height in Feet)#9, Specific Location#10, Activities#11, Interactions with Humans#12, Squirrel Latitude (DD.DDDDDD)#13, Squirrel Longitude (-DD.DDDDDD)#14, hash_id#247])\n",
            "   +- Exchange hashpartitioning(Above Ground (Height in Feet)#9, Primary Fur Color#5, hash_id#247, Location#8, Park ID#3, Specific Location#10, Squirrel ID#4, Area ID#1, Activities#11, Squirrel Latitude (DD.DDDDDD)#13, Color Notes#7, Area Name#0, Highlights in Fur Color#6, Interactions with Humans#12, Squirrel Longitude (-DD.DDDDDD)#14, Park Name#2, 200), ENSURE_REQUIREMENTS, [plan_id=235]\n",
            "      +- HashAggregate(keys=[Above Ground (Height in Feet)#9, Primary Fur Color#5, hash_id#247, Location#8, Park ID#3, Specific Location#10, Squirrel ID#4, Area ID#1, Activities#11, Squirrel Latitude (DD.DDDDDD)#13, Color Notes#7, Area Name#0, Highlights in Fur Color#6, Interactions with Humans#12, Squirrel Longitude (-DD.DDDDDD)#14, Park Name#2], functions=[], output=[Above Ground (Height in Feet)#9, Primary Fur Color#5, hash_id#247, Location#8, Park ID#3, Specific Location#10, Squirrel ID#4, Area ID#1, Activities#11, Squirrel Latitude (DD.DDDDDD)#13, Color Notes#7, Area Name#0, Highlights in Fur Color#6, Interactions with Humans#12, Squirrel Longitude (-DD.DDDDDD)#14, Park Name#2])\n",
            "         +- Project [Area Name#0, Area ID#1, Park Name#2, Park ID#3, Squirrel ID#4, Primary Fur Color#5, Highlights in Fur Color#6, Color Notes#7, Location#8, Above Ground (Height in Feet)#9, Specific Location#10, Activities#11, Interactions with Humans#12, Squirrel Latitude (DD.DDDDDD)#13, Squirrel Longitude (-DD.DDDDDD)#14, pythonUDF0#1247 AS hash_id#247]\n",
            "            +- BatchEvalPython [generate_uuid()#246], [pythonUDF0#1247]\n",
            "               +- FileScan csv [Area Name#0,Area ID#1,Park Name#2,Park ID#3,Squirrel ID#4,Primary Fur Color#5,Highlights in Fur Color#6,Color Notes#7,Location#8,Above Ground (Height in Feet)#9,Specific Location#10,Activities#11,Interactions with Humans#12,Squirrel Latitude (DD.DDDDDD)#13,Squirrel Longitude (-DD.DDDDDD)#14] Batched: false, DataFilters: [], Format: CSV, Location: InMemoryFileIndex(1 paths)[file:/tmp/spark-fe90f91b-6f96-4262-84f5-e0b31a01102d/userFiles-366ce05..., PartitionFilters: [], PushedFilters: [], ReadSchema: struct<Area Name:string,Area ID:string,Park Name:string,Park ID:string,Squirrel ID:string,Primary...\n",
            "\n",
            "\n"
          ]
        }
      ]
    },
    {
      "cell_type": "code",
      "source": [
        "from pyspark import StorageLevel\n",
        "\n",
        "squirrel.cache()"
      ],
      "metadata": {
        "id": "ZXYZRLhMt1ym",
        "outputId": "14435969-f795-4793-db2d-2785a87adc00",
        "colab": {
          "base_uri": "https://localhost:8080/"
        }
      },
      "execution_count": 12,
      "outputs": [
        {
          "output_type": "execute_result",
          "data": {
            "text/plain": [
              "DataFrame[Area Name: string, Area ID: string, Park Name: string, Park ID: string, Squirrel ID: string, Primary Fur Color: string, Highlights in Fur Color: string, Color Notes: string, Location: string, Above Ground (Height in Feet): string, Specific Location: string, Activities: string, Interactions with Humans: string, Squirrel Latitude (DD.DDDDDD): string, Squirrel Longitude (-DD.DDDDDD): string, hash_id: string]"
            ]
          },
          "metadata": {},
          "execution_count": 12
        }
      ]
    },
    {
      "cell_type": "code",
      "source": [
        "# Persist\n",
        "# Default: MEMORY_ONLY\n",
        "from pyspark.sql.functions import *\n",
        "from pyspark import StorageLevel\n",
        "\n",
        "# first execution plan\n",
        "print(area.explain(\"cost\"))\n",
        "print(\"----------------\")\n",
        "\n",
        "area = area.withColumn(\"City shortname\", lit(\"NY\"))\n",
        "# second execution plan\n",
        "print(area.explain(\"cost\"))\n",
        "print(\"----------------\")\n",
        "\n",
        "area = area.persist(StorageLevel.MEMORY_ONLY)\n",
        "area.count()\n",
        "\n",
        "# second execution plan\n",
        "area2 = area.withColumn(\"Teste\", lit(\"test\"))\n",
        "print(area2.explain(\"cost\"))\n",
        "print(\"----------------\")\n",
        "\n",
        "print(area.storageLevel)\n",
        "print(area.is_cached)"
      ],
      "metadata": {
        "id": "cz63P4OGaR3T",
        "outputId": "bd9adeb6-1806-40ac-8144-be958e2e82f8",
        "colab": {
          "base_uri": "https://localhost:8080/"
        }
      },
      "execution_count": 13,
      "outputs": [
        {
          "output_type": "stream",
          "name": "stdout",
          "text": [
            "== Optimized Logical Plan ==\n",
            "LogicalRDD [Area ID#62, Area Name#63, Area Description#64, City Name#65], false, Statistics(sizeInBytes=8.0 EiB)\n",
            "\n",
            "== Physical Plan ==\n",
            "*(1) Scan ExistingRDD[Area ID#62,Area Name#63,Area Description#64,City Name#65]\n",
            "\n",
            "\n",
            "None\n",
            "----------------\n",
            "== Optimized Logical Plan ==\n",
            "Project [Area ID#62, Area Name#63, Area Description#64, City Name#65, NY AS City shortname#1329], Statistics(sizeInBytes=9.8 EiB)\n",
            "+- LogicalRDD [Area ID#62, Area Name#63, Area Description#64, City Name#65], false, Statistics(sizeInBytes=8.0 EiB)\n",
            "\n",
            "== Physical Plan ==\n",
            "*(1) Project [Area ID#62, Area Name#63, Area Description#64, City Name#65, NY AS City shortname#1329]\n",
            "+- *(1) Scan ExistingRDD[Area ID#62,Area Name#63,Area Description#64,City Name#65]\n",
            "\n",
            "\n",
            "None\n",
            "----------------\n",
            "== Optimized Logical Plan ==\n",
            "Project [Area ID#62, Area Name#63, Area Description#64, City Name#65, City shortname#1329, test AS Teste#1495], Statistics(sizeInBytes=282.0 B)\n",
            "+- InMemoryRelation [Area ID#62, Area Name#63, Area Description#64, City Name#65, City shortname#1329], StorageLevel(memory, 1 replicas), Statistics(sizeInBytes=238.0 B, rowCount=4)\n",
            "      +- *(1) Project [Area ID#62, Area Name#63, Area Description#64, City Name#65, NY AS City shortname#1329]\n",
            "         +- *(1) Scan ExistingRDD[Area ID#62,Area Name#63,Area Description#64,City Name#65]\n",
            "\n",
            "== Physical Plan ==\n",
            "AdaptiveSparkPlan isFinalPlan=false\n",
            "+- Project [Area ID#62, Area Name#63, Area Description#64, City Name#65, City shortname#1329, test AS Teste#1495]\n",
            "   +- InMemoryTableScan [Area Description#64, Area ID#62, Area Name#63, City Name#65, City shortname#1329]\n",
            "         +- InMemoryRelation [Area ID#62, Area Name#63, Area Description#64, City Name#65, City shortname#1329], StorageLevel(memory, 1 replicas)\n",
            "               +- *(1) Project [Area ID#62, Area Name#63, Area Description#64, City Name#65, NY AS City shortname#1329]\n",
            "                  +- *(1) Scan ExistingRDD[Area ID#62,Area Name#63,Area Description#64,City Name#65]\n",
            "\n",
            "\n",
            "None\n",
            "----------------\n",
            "Memory Serialized 1x Replicated\n",
            "True\n"
          ]
        }
      ]
    },
    {
      "cell_type": "code",
      "source": [
        "# Persist\n",
        "# Default: MEMORY_AND_DISK\n",
        "\n",
        "from pyspark.sql.functions import *\n",
        "from pyspark import StorageLevel\n",
        "\n",
        "# first execution plan\n",
        "print(area.explain(\"cost\"))\n",
        "\n",
        "area = area.withColumn(\"City shortname\", lit(\"NY\"))\n",
        "# second execution plan\n",
        "print(area.explain(\"cost\"))\n",
        "\n",
        "area = area.persist(StorageLevel.DISK_ONLY)\n",
        "area.count()\n",
        "\n",
        "# second execution plan\n",
        "area2 = area.withColumn(\"Teste\", lit(\"test\"))\n",
        "print(area2.explain(\"cost\"))\n",
        "\n",
        "print(area.storageLevel)\n",
        "print(area.is_cached)"
      ],
      "metadata": {
        "id": "Y8lWwqd4bK5Z",
        "outputId": "9047ca5a-1146-4eec-c91a-ce32a2966077",
        "colab": {
          "base_uri": "https://localhost:8080/"
        }
      },
      "execution_count": 14,
      "outputs": [
        {
          "output_type": "stream",
          "name": "stdout",
          "text": [
            "== Optimized Logical Plan ==\n",
            "Project [Area ID#62, Area Name#63, Area Description#64, City Name#65, NY AS City shortname#1329], Statistics(sizeInBytes=9.8 EiB)\n",
            "+- LogicalRDD [Area ID#62, Area Name#63, Area Description#64, City Name#65], false, Statistics(sizeInBytes=8.0 EiB)\n",
            "\n",
            "== Physical Plan ==\n",
            "*(1) Project [Area ID#62, Area Name#63, Area Description#64, City Name#65, NY AS City shortname#1329]\n",
            "+- *(1) Scan ExistingRDD[Area ID#62,Area Name#63,Area Description#64,City Name#65]\n",
            "\n",
            "\n",
            "None\n",
            "== Optimized Logical Plan ==\n",
            "Project [Area ID#62, Area Name#63, Area Description#64, City Name#65, NY AS City shortname#1577], Statistics(sizeInBytes=238.0 B)\n",
            "+- InMemoryRelation [Area ID#62, Area Name#63, Area Description#64, City Name#65, City shortname#1329], StorageLevel(memory, 1 replicas), Statistics(sizeInBytes=238.0 B, rowCount=4)\n",
            "      +- *(1) Project [Area ID#62, Area Name#63, Area Description#64, City Name#65, NY AS City shortname#1329]\n",
            "         +- *(1) Scan ExistingRDD[Area ID#62,Area Name#63,Area Description#64,City Name#65]\n",
            "\n",
            "== Physical Plan ==\n",
            "AdaptiveSparkPlan isFinalPlan=false\n",
            "+- Project [Area ID#62, Area Name#63, Area Description#64, City Name#65, NY AS City shortname#1577]\n",
            "   +- InMemoryTableScan [Area Description#64, Area ID#62, Area Name#63, City Name#65]\n",
            "         +- InMemoryRelation [Area ID#62, Area Name#63, Area Description#64, City Name#65, City shortname#1329], StorageLevel(memory, 1 replicas)\n",
            "               +- *(1) Project [Area ID#62, Area Name#63, Area Description#64, City Name#65, NY AS City shortname#1329]\n",
            "                  +- *(1) Scan ExistingRDD[Area ID#62,Area Name#63,Area Description#64,City Name#65]\n",
            "\n",
            "\n",
            "None\n",
            "== Optimized Logical Plan ==\n",
            "Project [Area ID#62, Area Name#63, Area Description#64, City Name#65, City shortname#1577, test AS Teste#1918], Statistics(sizeInBytes=282.0 B)\n",
            "+- InMemoryRelation [Area ID#62, Area Name#63, Area Description#64, City Name#65, City shortname#1577], StorageLevel(disk, 1 replicas), Statistics(sizeInBytes=238.0 B, rowCount=4)\n",
            "      +- AdaptiveSparkPlan isFinalPlan=false\n",
            "         +- Project [Area ID#62, Area Name#63, Area Description#64, City Name#65, NY AS City shortname#1577]\n",
            "            +- InMemoryTableScan [Area Description#64, Area ID#62, Area Name#63, City Name#65]\n",
            "                  +- InMemoryRelation [Area ID#62, Area Name#63, Area Description#64, City Name#65, City shortname#1329], StorageLevel(memory, 1 replicas)\n",
            "                        +- *(1) Project [Area ID#62, Area Name#63, Area Description#64, City Name#65, NY AS City shortname#1329]\n",
            "                           +- *(1) Scan ExistingRDD[Area ID#62,Area Name#63,Area Description#64,City Name#65]\n",
            "\n",
            "== Physical Plan ==\n",
            "AdaptiveSparkPlan isFinalPlan=false\n",
            "+- Project [Area ID#62, Area Name#63, Area Description#64, City Name#65, City shortname#1577, test AS Teste#1918]\n",
            "   +- InMemoryTableScan [Area Description#64, Area ID#62, Area Name#63, City Name#65, City shortname#1577]\n",
            "         +- InMemoryRelation [Area ID#62, Area Name#63, Area Description#64, City Name#65, City shortname#1577], StorageLevel(disk, 1 replicas)\n",
            "               +- AdaptiveSparkPlan isFinalPlan=false\n",
            "                  +- Project [Area ID#62, Area Name#63, Area Description#64, City Name#65, NY AS City shortname#1577]\n",
            "                     +- InMemoryTableScan [Area Description#64, Area ID#62, Area Name#63, City Name#65]\n",
            "                           +- InMemoryRelation [Area ID#62, Area Name#63, Area Description#64, City Name#65, City shortname#1329], StorageLevel(memory, 1 replicas)\n",
            "                                 +- *(1) Project [Area ID#62, Area Name#63, Area Description#64, City Name#65, NY AS City shortname#1329]\n",
            "                                    +- *(1) Scan ExistingRDD[Area ID#62,Area Name#63,Area Description#64,City Name#65]\n",
            "\n",
            "\n",
            "None\n",
            "Disk Serialized 1x Replicated\n",
            "True\n"
          ]
        }
      ]
    },
    {
      "cell_type": "markdown",
      "source": [
        "# Broadcast Join"
      ],
      "metadata": {
        "id": "jG6-tBXIocwm"
      }
    },
    {
      "cell_type": "code",
      "execution_count": 15,
      "metadata": {
        "id": "Tshz4hV3S2Tx",
        "outputId": "0ba3c940-9181-4e29-a41b-8d70cf70bb5d",
        "colab": {
          "base_uri": "https://localhost:8080/"
        }
      },
      "outputs": [
        {
          "output_type": "stream",
          "name": "stdout",
          "text": [
            "== Physical Plan ==\n",
            "AdaptiveSparkPlan isFinalPlan=false\n",
            "+- Project [Area Description#64, Park Name#32, Date#34, Squirrel ID#4]\n",
            "   +- BroadcastHashJoin [Area ID#1], [Area ID#62], Inner, BuildRight, false\n",
            "      :- Project [Area ID#1, Squirrel ID#4, Park Name#32, Date#34]\n",
            "      :  +- BroadcastHashJoin [Park ID#3], [Park ID#33], Inner, BuildRight, false\n",
            "      :     :- Filter (isnotnull(Park ID#3) AND isnotnull(Area ID#1))\n",
            "      :     :  +- InMemoryTableScan [Area ID#1, Park ID#3, Squirrel ID#4], [isnotnull(Park ID#3), isnotnull(Area ID#1)]\n",
            "      :     :        +- InMemoryRelation [Area Name#0, Area ID#1, Park Name#2, Park ID#3, Squirrel ID#4, Primary Fur Color#5, Highlights in Fur Color#6, Color Notes#7, Location#8, Above Ground (Height in Feet)#9, Specific Location#10, Activities#11, Interactions with Humans#12, Squirrel Latitude (DD.DDDDDD)#13, Squirrel Longitude (-DD.DDDDDD)#14, hash_id#247], StorageLevel(disk, memory, deserialized, 1 replicas)\n",
            "      :     :              +- AdaptiveSparkPlan isFinalPlan=false\n",
            "      :     :                 +- HashAggregate(keys=[Above Ground (Height in Feet)#9, Primary Fur Color#5, hash_id#247, Location#8, Park ID#3, Specific Location#10, Squirrel ID#4, Area ID#1, Activities#11, Squirrel Latitude (DD.DDDDDD)#13, Color Notes#7, Area Name#0, Highlights in Fur Color#6, Interactions with Humans#12, Squirrel Longitude (-DD.DDDDDD)#14, Park Name#2], functions=[])\n",
            "      :     :                    +- Exchange hashpartitioning(Above Ground (Height in Feet)#9, Primary Fur Color#5, hash_id#247, Location#8, Park ID#3, Specific Location#10, Squirrel ID#4, Area ID#1, Activities#11, Squirrel Latitude (DD.DDDDDD)#13, Color Notes#7, Area Name#0, Highlights in Fur Color#6, Interactions with Humans#12, Squirrel Longitude (-DD.DDDDDD)#14, Park Name#2, 200), ENSURE_REQUIREMENTS, [plan_id=469]\n",
            "      :     :                       +- HashAggregate(keys=[Above Ground (Height in Feet)#9, Primary Fur Color#5, hash_id#247, Location#8, Park ID#3, Specific Location#10, Squirrel ID#4, Area ID#1, Activities#11, Squirrel Latitude (DD.DDDDDD)#13, Color Notes#7, Area Name#0, Highlights in Fur Color#6, Interactions with Humans#12, Squirrel Longitude (-DD.DDDDDD)#14, Park Name#2], functions=[])\n",
            "      :     :                          +- Project [Area Name#0, Area ID#1, Park Name#2, Park ID#3, Squirrel ID#4, Primary Fur Color#5, Highlights in Fur Color#6, Color Notes#7, Location#8, Above Ground (Height in Feet)#9, Specific Location#10, Activities#11, Interactions with Humans#12, Squirrel Latitude (DD.DDDDDD)#13, Squirrel Longitude (-DD.DDDDDD)#14, pythonUDF0#1248 AS hash_id#247]\n",
            "      :     :                             +- BatchEvalPython [generate_uuid()#246], [pythonUDF0#1248]\n",
            "      :     :                                +- FileScan csv [Area Name#0,Area ID#1,Park Name#2,Park ID#3,Squirrel ID#4,Primary Fur Color#5,Highlights in Fur Color#6,Color Notes#7,Location#8,Above Ground (Height in Feet)#9,Specific Location#10,Activities#11,Interactions with Humans#12,Squirrel Latitude (DD.DDDDDD)#13,Squirrel Longitude (-DD.DDDDDD)#14] Batched: false, DataFilters: [], Format: CSV, Location: InMemoryFileIndex(1 paths)[file:/tmp/spark-fe90f91b-6f96-4262-84f5-e0b31a01102d/userFiles-366ce05..., PartitionFilters: [], PushedFilters: [], ReadSchema: struct<Area Name:string,Area ID:string,Park Name:string,Park ID:string,Squirrel ID:string,Primary...\n",
            "      :     +- BroadcastExchange HashedRelationBroadcastMode(List(input[1, string, false]),false), [plan_id=461]\n",
            "      :        +- Filter isnotnull(Park ID#33)\n",
            "      :           +- FileScan csv [Park Name#32,Park ID#33,Date#34] Batched: false, DataFilters: [isnotnull(Park ID#33)], Format: CSV, Location: InMemoryFileIndex(1 paths)[file:/tmp/spark-fe90f91b-6f96-4262-84f5-e0b31a01102d/userFiles-366ce05..., PartitionFilters: [], PushedFilters: [IsNotNull(Park ID)], ReadSchema: struct<Park Name:string,Park ID:string,Date:string>\n",
            "      +- BroadcastExchange HashedRelationBroadcastMode(List(input[0, string, false]),false), [plan_id=465]\n",
            "         +- Filter isnotnull(Area ID#62)\n",
            "            +- InMemoryTableScan [Area ID#62, Area Description#64], [isnotnull(Area ID#62)]\n",
            "                  +- InMemoryRelation [Area ID#62, Area Name#63, Area Description#64, City Name#65, City shortname#1577], StorageLevel(disk, 1 replicas)\n",
            "                        +- AdaptiveSparkPlan isFinalPlan=false\n",
            "                           +- Project [Area ID#62, Area Name#63, Area Description#64, City Name#65, NY AS City shortname#1577]\n",
            "                              +- InMemoryTableScan [Area Description#64, Area ID#62, Area Name#63, City Name#65]\n",
            "                                    +- InMemoryRelation [Area ID#62, Area Name#63, Area Description#64, City Name#65, City shortname#1329], StorageLevel(memory, 1 replicas)\n",
            "                                          +- *(1) Project [Area ID#62, Area Name#63, Area Description#64, City Name#65, NY AS City shortname#1329]\n",
            "                                             +- *(1) Scan ExistingRDD[Area ID#62,Area Name#63,Area Description#64,City Name#65]\n",
            "\n",
            "\n",
            "+------------------+--------------------+------+-----------+\n",
            "|  Area Description|           Park Name|  Date|Squirrel ID|\n",
            "+------------------+--------------------+------+-----------+\n",
            "|  Uptown Manhattan|     Fort Tryon Park|3/1/20|    A-01-04|\n",
            "|  Uptown Manhattan| J. Hood Wright Park|3/1/20|    A-02-02|\n",
            "| Midtown Manhattan|Stuyvesant Square...|3/1/20|    B-09-22|\n",
            "| Midtown Manhattan|Washington Square...|3/1/20|    B-10-22|\n",
            "| Midtown Manhattan|Tompkins Square Park|3/1/20|    B-11-04|\n",
            "|Downtown Manhattan|        Battery Park|3/1/20|    C-20-09|\n",
            "|  Uptown Manhattan| J. Hood Wright Park|3/1/20|    A-02-24|\n",
            "|  Uptown Manhattan|  Marcus Garvey Park|3/1/20|    A-06-01|\n",
            "| Midtown Manhattan|Tompkins Square Park|3/1/20|    B-11-50|\n",
            "|Downtown Manhattan|        Battery Park|3/1/20|    C-20-01|\n",
            "|Downtown Manhattan|        Battery Park|3/1/20|    C-20-22|\n",
            "|          Brooklyn|       McCarren Park|3/1/20|    D-22-20|\n",
            "| Midtown Manhattan|   Union Square Park|3/1/20|    B-08-13|\n",
            "| Midtown Manhattan|Stuyvesant Square...|3/1/20|    B-09-25|\n",
            "| Midtown Manhattan|Washington Square...|3/1/20|    B-10-40|\n",
            "| Midtown Manhattan|Washington Square...|3/1/20|    B-10-32|\n",
            "|Downtown Manhattan|  Corlears Hook Park|3/1/20|    C-15-05|\n",
            "| Midtown Manhattan|Washington Square...|3/1/20|    B-10-09|\n",
            "|          Brooklyn|       McCarren Park|3/1/20|    D-22-36|\n",
            "|  Uptown Manhattan|     Fort Tryon Park|3/1/20|    A-01-09|\n",
            "+------------------+--------------------+------+-----------+\n",
            "only showing top 20 rows\n",
            "\n"
          ]
        }
      ],
      "source": [
        "# Broadcast join\n",
        "# identify the tables candidates for broadcast (smaller one)\n",
        "\n",
        "join_df = (squirrel\n",
        "           .join(park, on=\"Park ID\", how=\"inner\")\n",
        "           .join(area, on=\"Area ID\", how=\"inner\")\n",
        "           .select(area[\"Area Description\"], park[\"Park Name\"], park[\"Date\"], squirrel[\"Squirrel ID\"])\n",
        "           )\n",
        "\n",
        "join_df.explain()\n",
        "join_df.show()"
      ]
    },
    {
      "cell_type": "code",
      "source": [
        "import pyspark.sql.functions as F\n",
        "\n",
        "join_df = (squirrel\n",
        "           .join(park, on=\"Park ID\", how=\"inner\")\n",
        "           .join(F.broadcast(area), on=\"Area ID\", how=\"inner\")\n",
        "           .select(area[\"Area Description\"], park[\"Park Name\"], park[\"Date\"], squirrel[\"Squirrel ID\"])\n",
        "           )\n",
        "\n",
        "join_df.explain()\n",
        "join_df.show()"
      ],
      "metadata": {
        "id": "RP8Nb7tgvyal",
        "outputId": "060b7073-b1cb-4557-a2f3-0f84d716f5ff",
        "colab": {
          "base_uri": "https://localhost:8080/"
        }
      },
      "execution_count": 20,
      "outputs": [
        {
          "output_type": "stream",
          "name": "stdout",
          "text": [
            "== Physical Plan ==\n",
            "AdaptiveSparkPlan isFinalPlan=false\n",
            "+- Project [Area Description#64, Park Name#32, Date#34, Squirrel ID#4]\n",
            "   +- BroadcastHashJoin [Area ID#1], [Area ID#62], Inner, BuildRight, false\n",
            "      :- Project [Area ID#1, Squirrel ID#4, Park Name#32, Date#34]\n",
            "      :  +- BroadcastHashJoin [Park ID#3], [Park ID#33], Inner, BuildRight, false\n",
            "      :     :- Filter (isnotnull(Park ID#3) AND isnotnull(Area ID#1))\n",
            "      :     :  +- InMemoryTableScan [Area ID#1, Park ID#3, Squirrel ID#4], [isnotnull(Park ID#3), isnotnull(Area ID#1)]\n",
            "      :     :        +- InMemoryRelation [Area Name#0, Area ID#1, Park Name#2, Park ID#3, Squirrel ID#4, Primary Fur Color#5, Highlights in Fur Color#6, Color Notes#7, Location#8, Above Ground (Height in Feet)#9, Specific Location#10, Activities#11, Interactions with Humans#12, Squirrel Latitude (DD.DDDDDD)#13, Squirrel Longitude (-DD.DDDDDD)#14, hash_id#247], StorageLevel(disk, memory, deserialized, 1 replicas)\n",
            "      :     :              +- AdaptiveSparkPlan isFinalPlan=false\n",
            "      :     :                 +- HashAggregate(keys=[Above Ground (Height in Feet)#9, Primary Fur Color#5, hash_id#247, Location#8, Park ID#3, Specific Location#10, Squirrel ID#4, Area ID#1, Activities#11, Squirrel Latitude (DD.DDDDDD)#13, Color Notes#7, Area Name#0, Highlights in Fur Color#6, Interactions with Humans#12, Squirrel Longitude (-DD.DDDDDD)#14, Park Name#2], functions=[])\n",
            "      :     :                    +- Exchange hashpartitioning(Above Ground (Height in Feet)#9, Primary Fur Color#5, hash_id#247, Location#8, Park ID#3, Specific Location#10, Squirrel ID#4, Area ID#1, Activities#11, Squirrel Latitude (DD.DDDDDD)#13, Color Notes#7, Area Name#0, Highlights in Fur Color#6, Interactions with Humans#12, Squirrel Longitude (-DD.DDDDDD)#14, Park Name#2, 200), ENSURE_REQUIREMENTS, [plan_id=787]\n",
            "      :     :                       +- HashAggregate(keys=[Above Ground (Height in Feet)#9, Primary Fur Color#5, hash_id#247, Location#8, Park ID#3, Specific Location#10, Squirrel ID#4, Area ID#1, Activities#11, Squirrel Latitude (DD.DDDDDD)#13, Color Notes#7, Area Name#0, Highlights in Fur Color#6, Interactions with Humans#12, Squirrel Longitude (-DD.DDDDDD)#14, Park Name#2], functions=[])\n",
            "      :     :                          +- Project [Area Name#0, Area ID#1, Park Name#2, Park ID#3, Squirrel ID#4, Primary Fur Color#5, Highlights in Fur Color#6, Color Notes#7, Location#8, Above Ground (Height in Feet)#9, Specific Location#10, Activities#11, Interactions with Humans#12, Squirrel Latitude (DD.DDDDDD)#13, Squirrel Longitude (-DD.DDDDDD)#14, pythonUDF0#1248 AS hash_id#247]\n",
            "      :     :                             +- BatchEvalPython [generate_uuid()#246], [pythonUDF0#1248]\n",
            "      :     :                                +- FileScan csv [Area Name#0,Area ID#1,Park Name#2,Park ID#3,Squirrel ID#4,Primary Fur Color#5,Highlights in Fur Color#6,Color Notes#7,Location#8,Above Ground (Height in Feet)#9,Specific Location#10,Activities#11,Interactions with Humans#12,Squirrel Latitude (DD.DDDDDD)#13,Squirrel Longitude (-DD.DDDDDD)#14] Batched: false, DataFilters: [], Format: CSV, Location: InMemoryFileIndex(1 paths)[file:/tmp/spark-fe90f91b-6f96-4262-84f5-e0b31a01102d/userFiles-366ce05..., PartitionFilters: [], PushedFilters: [], ReadSchema: struct<Area Name:string,Area ID:string,Park Name:string,Park ID:string,Squirrel ID:string,Primary...\n",
            "      :     +- BroadcastExchange HashedRelationBroadcastMode(List(input[1, string, false]),false), [plan_id=779]\n",
            "      :        +- Filter isnotnull(Park ID#33)\n",
            "      :           +- FileScan csv [Park Name#32,Park ID#33,Date#34] Batched: false, DataFilters: [isnotnull(Park ID#33)], Format: CSV, Location: InMemoryFileIndex(1 paths)[file:/tmp/spark-fe90f91b-6f96-4262-84f5-e0b31a01102d/userFiles-366ce05..., PartitionFilters: [], PushedFilters: [IsNotNull(Park ID)], ReadSchema: struct<Park Name:string,Park ID:string,Date:string>\n",
            "      +- BroadcastExchange HashedRelationBroadcastMode(List(input[0, string, false]),false), [plan_id=783]\n",
            "         +- Filter isnotnull(Area ID#62)\n",
            "            +- InMemoryTableScan [Area ID#62, Area Description#64], [isnotnull(Area ID#62)]\n",
            "                  +- InMemoryRelation [Area ID#62, Area Name#63, Area Description#64, City Name#65, City shortname#1577], StorageLevel(disk, 1 replicas)\n",
            "                        +- AdaptiveSparkPlan isFinalPlan=false\n",
            "                           +- Project [Area ID#62, Area Name#63, Area Description#64, City Name#65, NY AS City shortname#1577]\n",
            "                              +- InMemoryTableScan [Area Description#64, Area ID#62, Area Name#63, City Name#65]\n",
            "                                    +- InMemoryRelation [Area ID#62, Area Name#63, Area Description#64, City Name#65, City shortname#1329], StorageLevel(memory, 1 replicas)\n",
            "                                          +- *(1) Project [Area ID#62, Area Name#63, Area Description#64, City Name#65, NY AS City shortname#1329]\n",
            "                                             +- *(1) Scan ExistingRDD[Area ID#62,Area Name#63,Area Description#64,City Name#65]\n",
            "\n",
            "\n",
            "+------------------+--------------------+------+-----------+\n",
            "|  Area Description|           Park Name|  Date|Squirrel ID|\n",
            "+------------------+--------------------+------+-----------+\n",
            "|  Uptown Manhattan|     Fort Tryon Park|3/1/20|    A-01-04|\n",
            "|  Uptown Manhattan| J. Hood Wright Park|3/1/20|    A-02-02|\n",
            "| Midtown Manhattan|Stuyvesant Square...|3/1/20|    B-09-22|\n",
            "| Midtown Manhattan|Washington Square...|3/1/20|    B-10-22|\n",
            "| Midtown Manhattan|Tompkins Square Park|3/1/20|    B-11-04|\n",
            "|Downtown Manhattan|        Battery Park|3/1/20|    C-20-09|\n",
            "|  Uptown Manhattan| J. Hood Wright Park|3/1/20|    A-02-24|\n",
            "|  Uptown Manhattan|  Marcus Garvey Park|3/1/20|    A-06-01|\n",
            "| Midtown Manhattan|Tompkins Square Park|3/1/20|    B-11-50|\n",
            "|Downtown Manhattan|        Battery Park|3/1/20|    C-20-01|\n",
            "|Downtown Manhattan|        Battery Park|3/1/20|    C-20-22|\n",
            "|          Brooklyn|       McCarren Park|3/1/20|    D-22-20|\n",
            "| Midtown Manhattan|   Union Square Park|3/1/20|    B-08-13|\n",
            "| Midtown Manhattan|Stuyvesant Square...|3/1/20|    B-09-25|\n",
            "| Midtown Manhattan|Washington Square...|3/1/20|    B-10-40|\n",
            "| Midtown Manhattan|Washington Square...|3/1/20|    B-10-32|\n",
            "|Downtown Manhattan|  Corlears Hook Park|3/1/20|    C-15-05|\n",
            "| Midtown Manhattan|Washington Square...|3/1/20|    B-10-09|\n",
            "|          Brooklyn|       McCarren Park|3/1/20|    D-22-36|\n",
            "|  Uptown Manhattan|     Fort Tryon Park|3/1/20|    A-01-09|\n",
            "+------------------+--------------------+------+-----------+\n",
            "only showing top 20 rows\n",
            "\n"
          ]
        }
      ]
    },
    {
      "cell_type": "markdown",
      "source": [
        "# Repartition & Coalesce\n",
        "\n",
        "- coalesce is for reducing partitions without shuffling\n",
        "- repartition is for distributing data evenly across the cluster for better parallelism\n",
        "\n",
        "- if possible choose coalesce over repartition\n",
        "- if needed to increase partitions to increase parallelism, use repartition, however keep the data shuffling operation in mind\n",
        "\n"
      ],
      "metadata": {
        "id": "K5wkJmgQs8UX"
      }
    },
    {
      "cell_type": "code",
      "source": [
        "squirrel_1 = squirrel\n",
        "squirrel_2 = squirrel\n",
        "\n",
        "# Check partitions\n",
        "squirrel_1.rdd.getNumPartitions()\n",
        "\n",
        "# RDD -> partitions among the workers"
      ],
      "metadata": {
        "id": "EitF3d_es8Fo",
        "outputId": "1bcb9ef7-087f-42fd-938a-184a25bd8074",
        "colab": {
          "base_uri": "https://localhost:8080/"
        }
      },
      "execution_count": 18,
      "outputs": [
        {
          "output_type": "execute_result",
          "data": {
            "text/plain": [
              "1"
            ]
          },
          "metadata": {},
          "execution_count": 18
        }
      ]
    },
    {
      "cell_type": "code",
      "source": [
        "# repartition\n",
        "# evenly distribute date across partitions for better parallel processing efficiency\n",
        "# increase AND reduce partitions\n",
        "# do shuffling\n",
        "\n",
        "print(f\"before repartition: {squirrel_1.rdd.getNumPartitions()}\")\n",
        "squirrel_1 = squirrel_1.repartition(4)\n",
        "print(f\"after repartition: {squirrel_1.rdd.getNumPartitions()}\")"
      ],
      "metadata": {
        "id": "wKBD2qXCtzwO",
        "outputId": "700b74d8-aecd-4aa6-8c19-fde57fa6122b",
        "colab": {
          "base_uri": "https://localhost:8080/"
        }
      },
      "execution_count": 19,
      "outputs": [
        {
          "output_type": "stream",
          "name": "stdout",
          "text": [
            "before repartition: 1\n",
            "after repartition: 4\n"
          ]
        }
      ]
    },
    {
      "cell_type": "code",
      "source": [
        "squirrel_1.write.format(\"parquet\").mode(\"overwrite\").save(\"/content/files/squirrel_1\")"
      ],
      "metadata": {
        "id": "V_nnLogPweaF"
      },
      "execution_count": 25,
      "outputs": []
    },
    {
      "cell_type": "code",
      "source": [
        "squirrel_1.rdd.getNumPartitions()"
      ],
      "metadata": {
        "id": "wji4VlyRxEM1",
        "outputId": "3150229f-a2a4-4338-85fa-c445abf83b76",
        "colab": {
          "base_uri": "https://localhost:8080/"
        }
      },
      "execution_count": 23,
      "outputs": [
        {
          "output_type": "execute_result",
          "data": {
            "text/plain": [
              "4"
            ]
          },
          "metadata": {},
          "execution_count": 23
        }
      ]
    },
    {
      "cell_type": "code",
      "source": [
        "squirrel_1= squirrel_1.coalesce(1)"
      ],
      "metadata": {
        "id": "U3Q_ZrFFxJFU"
      },
      "execution_count": 27,
      "outputs": []
    },
    {
      "cell_type": "code",
      "source": [
        "# coalesce\n",
        "# reduce partitions without shuffling\n",
        "# minimizes data movement across the cluster\n",
        "\n",
        "# does not allow to increase partitions, only reduce\n",
        "print(f\"before coalesce: {squirrel_2.rdd.getNumPartitions()}\")\n",
        "squirrel_2 = squirrel_2.coalesce(5)\n",
        "print(f\"after coalesce: {squirrel_2.rdd.getNumPartitions()}\")\n"
      ],
      "metadata": {
        "id": "72Mk2UJwLEKv",
        "outputId": "c88c327b-8e66-4da9-dc80-38f0d84fc8e7",
        "colab": {
          "base_uri": "https://localhost:8080/"
        }
      },
      "execution_count": 29,
      "outputs": [
        {
          "output_type": "stream",
          "name": "stdout",
          "text": [
            "before coalesce: 5\n",
            "after coalesce: 5\n"
          ]
        }
      ]
    },
    {
      "cell_type": "code",
      "source": [
        "print(f\"before coalesce: {squirrel_1.rdd.getNumPartitions()}\")\n",
        "squirrel_1 = squirrel_1.coalesce(2)\n",
        "print(f\"after coalesce: {squirrel_1.rdd.getNumPartitions()}\")"
      ],
      "metadata": {
        "id": "6ER9DqONMKE2",
        "outputId": "6b13c88f-dc5d-459e-829a-9ba7ae4d3d70",
        "colab": {
          "base_uri": "https://localhost:8080/"
        }
      },
      "execution_count": 30,
      "outputs": [
        {
          "output_type": "stream",
          "name": "stdout",
          "text": [
            "before coalesce: 1\n",
            "after coalesce: 2\n"
          ]
        }
      ]
    },
    {
      "cell_type": "code",
      "source": [
        "# repartition/coalesce and writing data\n",
        "!rm -rf /content/files/area\n",
        "!mkdir -p /content/files/area\n",
        "\n",
        "# repartition \"area\" dataframe and write as parquet\n",
        "area.repartition(3).write.format(\"parquet\").mode(\"overwrite\").save(\"/content/files/area\")"
      ],
      "metadata": {
        "id": "IR5COTOyPT_t"
      },
      "execution_count": 62,
      "outputs": []
    },
    {
      "cell_type": "code",
      "source": [
        "# check files and their content\n",
        "\n",
        "files = !ls /content/files/area/ | grep \".parquet\"\n",
        "folder = \"/content/files/area/\"\n",
        "\n",
        "for f in files:\n",
        "  df = spark.read.parquet(f\"{folder}{f}\")\n",
        "  print(f\"{f} - {df.count()} rows\")"
      ],
      "metadata": {
        "id": "bl3NMEx6PhYV",
        "outputId": "95e6fac1-1530-45a2-b01e-f9d14a9ba176",
        "colab": {
          "base_uri": "https://localhost:8080/"
        }
      },
      "execution_count": 32,
      "outputs": [
        {
          "output_type": "stream",
          "name": "stdout",
          "text": [
            "part-00000-e048b046-896c-48c3-83f2-f1ab87d909a1-c000.snappy.parquet - 2 rows\n",
            "part-00001-e048b046-896c-48c3-83f2-f1ab87d909a1-c000.snappy.parquet - 1 rows\n",
            "part-00002-e048b046-896c-48c3-83f2-f1ab87d909a1-c000.snappy.parquet - 1 rows\n"
          ]
        }
      ]
    },
    {
      "cell_type": "code",
      "source": [
        "# Check file sizes\n",
        "!ls /content/files/area"
      ],
      "metadata": {
        "id": "n5H-rpwqQS_M",
        "outputId": "3b22b5d9-c05e-41f9-a47f-a022de8ddd70",
        "colab": {
          "base_uri": "https://localhost:8080/"
        }
      },
      "execution_count": 33,
      "outputs": [
        {
          "output_type": "stream",
          "name": "stdout",
          "text": [
            "part-00000-e048b046-896c-48c3-83f2-f1ab87d909a1-c000.snappy.parquet\n",
            "part-00001-e048b046-896c-48c3-83f2-f1ab87d909a1-c000.snappy.parquet\n",
            "part-00002-e048b046-896c-48c3-83f2-f1ab87d909a1-c000.snappy.parquet\n",
            "_SUCCESS\n"
          ]
        }
      ]
    },
    {
      "cell_type": "markdown",
      "source": [
        "# Question"
      ],
      "metadata": {
        "id": "aVyWuRHiR--p"
      }
    },
    {
      "cell_type": "code",
      "source": [
        "# Q1\n",
        "# read data from /content/files/area (3 parquet files)\n",
        "# write again the data into the same folder making sure the output will be only one file"
      ],
      "metadata": {
        "id": "hLjzGtv-Rou1"
      },
      "execution_count": null,
      "outputs": []
    },
    {
      "cell_type": "code",
      "source": [
        "area.repartition(3).write.format(\"parquet\").mode(\"overwrite\").save(\"/content/files/area\")\n",
        "df = spark.read.parquet(\"/content/files/area\")\n",
        "df = df.repartition(1)\n",
        "df.write.format(\"parquet\").mode(\"overwrite\").save(\"/content/files/area\")"
      ],
      "metadata": {
        "id": "qVZmt1nyxyIV"
      },
      "execution_count": 63,
      "outputs": []
    }
  ],
  "metadata": {
    "colab": {
      "provenance": []
    },
    "kernelspec": {
      "display_name": "Python 3",
      "name": "python3"
    },
    "language_info": {
      "name": "python"
    }
  },
  "nbformat": 4,
  "nbformat_minor": 0
}