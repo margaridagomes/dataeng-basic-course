{
  "cells": [
    {
      "cell_type": "markdown",
      "metadata": {
        "id": "view-in-github",
        "colab_type": "text"
      },
      "source": [
        "<a href=\"https://colab.research.google.com/github/margaridagomes/dataeng-basic-course/blob/main/spark/examples/06-write_partitioning.ipynb\" target=\"_parent\"><img src=\"https://colab.research.google.com/assets/colab-badge.svg\" alt=\"Open In Colab\"/></a>"
      ]
    },
    {
      "cell_type": "markdown",
      "metadata": {
        "id": "BOA_wQSmLd9z"
      },
      "source": [
        "# Write\n",
        "- .write\n",
        "- .format (parquet, csv, json)\n",
        "- options\n",
        "- spark.sql.sources.partitionOverwriteMode dynamic\n",
        "\n",
        "# Write Mode\n",
        "- overwrite - The overwrite mode is used to overwrite the existing file, alternatively, you can use SaveMode.Overwrite\n",
        "- append - To add the data to the existing file, alternatively, you can use SaveMode.Append\n",
        "- ignore - Ignores write operation when the file already exists, alternatively, you can use SaveMode.Ignore.\n",
        "- errorifexists or error - This is a default option when the file already exists, it returns an error, alternatively, you can use SaveMode.ErrorIfExists.\n",
        "\n",
        "# Partitioning\n",
        "Process to organize the data into multiple chunks based on some criteria.\n",
        "Partitions are organized in sub-folders.\n",
        "Partitioning improves performance in Spark."
      ]
    },
    {
      "cell_type": "markdown",
      "metadata": {
        "id": "d9LeYFsPTjAb"
      },
      "source": [
        "# Setting up PySpark"
      ]
    },
    {
      "cell_type": "code",
      "execution_count": null,
      "metadata": {
        "id": "uYXeODL0T1fO"
      },
      "outputs": [],
      "source": [
        "%pip install pyspark"
      ]
    },
    {
      "cell_type": "code",
      "execution_count": null,
      "metadata": {
        "id": "637HFw00T3LP"
      },
      "outputs": [],
      "source": [
        "from pyspark.sql import SparkSession\n",
        "spark = SparkSession.builder.master('local').appName('Spark Course').getOrCreate()"
      ]
    },
    {
      "cell_type": "markdown",
      "metadata": {
        "id": "Vj3Cg2riVX3m"
      },
      "source": [
        "# Preparing data"
      ]
    },
    {
      "cell_type": "code",
      "source": [
        "!pip install faker"
      ],
      "metadata": {
        "id": "83BBHcNJDmw4",
        "outputId": "a517aeea-453b-438f-f06a-89cfae96bca3",
        "colab": {
          "base_uri": "https://localhost:8080/"
        }
      },
      "execution_count": null,
      "outputs": [
        {
          "output_type": "stream",
          "name": "stdout",
          "text": [
            "Collecting faker\n",
            "  Downloading faker-37.4.0-py3-none-any.whl.metadata (15 kB)\n",
            "Requirement already satisfied: tzdata in /usr/local/lib/python3.11/dist-packages (from faker) (2025.2)\n",
            "Downloading faker-37.4.0-py3-none-any.whl (1.9 MB)\n",
            "\u001b[?25l   \u001b[90m━━━━━━━━━━━━━━━━━━━━━━━━━━━━━━━━━━━━━━━━\u001b[0m \u001b[32m0.0/1.9 MB\u001b[0m \u001b[31m?\u001b[0m eta \u001b[36m-:--:--\u001b[0m\r\u001b[2K   \u001b[91m━━━━━━━━━━━━━━━━━━━━━━━━━━━━━\u001b[0m\u001b[90m╺\u001b[0m\u001b[90m━━━━━━━━━━\u001b[0m \u001b[32m1.4/1.9 MB\u001b[0m \u001b[31m43.0 MB/s\u001b[0m eta \u001b[36m0:00:01\u001b[0m\r\u001b[2K   \u001b[90m━━━━━━━━━━━━━━━━━━━━━━━━━━━━━━━━━━━━━━━━\u001b[0m \u001b[32m1.9/1.9 MB\u001b[0m \u001b[31m31.6 MB/s\u001b[0m eta \u001b[36m0:00:00\u001b[0m\n",
            "\u001b[?25hInstalling collected packages: faker\n",
            "Successfully installed faker-37.4.0\n"
          ]
        }
      ]
    },
    {
      "cell_type": "code",
      "execution_count": null,
      "metadata": {
        "id": "z-caHS2MVX3m",
        "outputId": "f3fbd0c0-0082-4c1e-bdf0-16f0513487ce",
        "colab": {
          "base_uri": "https://localhost:8080/"
        }
      },
      "outputs": [
        {
          "output_type": "stream",
          "name": "stdout",
          "text": [
            "+------------------------------------------------------+--------------------------+----------+------------------------+----------------+--------------------+\n",
            "|address                                               |date                      |dob       |email                   |name            |phone               |\n",
            "+------------------------------------------------------+--------------------------+----------+------------------------+----------------+--------------------+\n",
            "|6862 Murphy Dam\\nShermanview, MO 48276                |2024-05-01 20:35:15.882791|2000-06-20|josemartinez@example.org|Phillip Campos  |001-337-658-2574    |\n",
            "|1263 Melissa Harbors\\nLake Chloemouth, VA 00865       |2024-05-03 15:22:56.711335|1956-05-04|mariajenkins@example.net|Kevin Russell   |+1-692-349-6215x279 |\n",
            "|5967 Randall Cove Suite 010\\nWest Sandrastad, NC 46233|2024-05-01 03:27:43.675545|2012-01-30|michelle80@example.net  |Jamie Pierce    |(689)796-1482x335   |\n",
            "|9400 King Extensions Apt. 660\\nFloresfurt, CA 40312   |2024-05-04 03:50:40.613425|1996-01-05|pedroking@example.net   |Jimmy Mullen    |+1-970-742-0881x8905|\n",
            "|PSC 4942, Box 6491\\nAPO AA 18590                      |2024-05-02 01:06:54.794331|1956-11-01|wclark@example.org      |Dennis Evans    |523.446.3744        |\n",
            "|2340 Abigail Flats\\nHernandezstad, WA 34462           |2024-05-04 22:28:01.312468|2024-08-06|youngdennis@example.net |Danielle Wood   |513.512.2159        |\n",
            "|9014 Erica Fields\\nWest Victoria, CT 62618            |2024-05-04 13:12:36.18902 |1989-07-05|tgarza@example.com      |Natalie York    |625.984.3892x1347   |\n",
            "|57826 Bryant Highway\\nAndersonmouth, VI 75055         |2024-05-02 11:59:18.081409|1914-10-11|tanner95@example.org    |Leslie Reynolds |359-621-6733        |\n",
            "|7970 Rebecca Estates\\nNew Stevenmouth, CT 80784       |2024-05-01 06:03:49.987873|1930-04-10|xcook@example.com       |Charles Johnston|604-279-7895x93585  |\n",
            "|Unit 2912 Box 6427\\nDPO AA 88554                      |2024-05-04 11:32:33.086362|2021-02-22|donna29@example.com     |Peter Harris    |(790)548-7693       |\n",
            "+------------------------------------------------------+--------------------------+----------+------------------------+----------------+--------------------+\n",
            "only showing top 10 rows\n",
            "\n"
          ]
        }
      ],
      "source": [
        "from faker import Faker\n",
        "from datetime import datetime\n",
        "\n",
        "fake = Faker()\n",
        "\n",
        "users = []\n",
        "for _ in range(50):\n",
        "    user = {\n",
        "        'date': fake.date_time_between_dates(datetime(2024, 5, 1), datetime(2024, 5, 5)),\n",
        "        'name': fake.name(),\n",
        "        'address': fake.address(),\n",
        "        'email': fake.email(),\n",
        "        'dob': fake.date_of_birth(),\n",
        "        'phone': fake.phone_number()\n",
        "    }\n",
        "    users.append(user)\n",
        "\n",
        "df = spark.createDataFrame(users)\n",
        "\n",
        "df.show(10, False)\n"
      ]
    },
    {
      "cell_type": "markdown",
      "metadata": {
        "id": "YGXjf6xpBj36"
      },
      "source": [
        "# Writing as PARQUET\n",
        "\n"
      ]
    },
    {
      "cell_type": "markdown",
      "metadata": {
        "id": "14stpbb4Bj37"
      },
      "source": []
    },
    {
      "cell_type": "code",
      "execution_count": null,
      "metadata": {
        "id": "dw5IIgebBj37",
        "outputId": "1554ac8b-7a70-40c7-be4c-353ff07b5c44",
        "colab": {
          "base_uri": "https://localhost:8080/"
        }
      },
      "outputs": [
        {
          "output_type": "stream",
          "name": "stdout",
          "text": [
            "part-00000-b777a8a5-5d45-420b-8b3c-7eae3b3ea3e9-c000.snappy.parquet  _SUCCESS\n"
          ]
        },
        {
          "output_type": "execute_result",
          "data": {
            "text/plain": [
              "50"
            ]
          },
          "metadata": {},
          "execution_count": 4
        }
      ],
      "source": [
        "# Writing as PARQUET with no partitions\n",
        "\n",
        "path = \"/content/write_partitioning/parquet_no_partitions\"\n",
        "\n",
        "df.write.mode(\"overwrite\").format(\"parquet\").save(path)\n",
        "\n",
        "!ls /content/write_partitioning/parquet_no_partitions\n",
        "\n",
        "spark.read.format(\"parquet\").load(path).count()"
      ]
    },
    {
      "cell_type": "code",
      "source": [
        "# Writing as PARQUET with partitions\n",
        "from pyspark.sql.functions import *\n",
        "\n",
        "path = \"/content/write_partitioning/parquet_with_partitions\"\n",
        "\n",
        "# Creating partition column\n",
        "df = df.withColumn(\"date_part\", date_format(col(\"date\"), \"yyyyMMdd\"))\n",
        "\n",
        "spark.conf.set(\"spark.sql.sources.partitionOverwriteMode\",\"dynamic\") # enable dynamic partition overwrite - only overwrites partitions that are coming in the dataframe\n",
        "\n",
        "(df#.where(\"date_part = '20240503'\")\n",
        " .write\n",
        " .mode(\"overwrite\")                                               # overwrites the entire path with the new data\n",
        " .partitionBy(\"date_part\")                                        # partition the data by column - creates sub-folders for each partition\n",
        " .format(\"parquet\")                                               # format of output\n",
        " .save(path))                                                     # path\n",
        "\n",
        "!ls /content/write_partitioning/parquet_with_partitions\n",
        "\n",
        "spark.read.format(\"parquet\").load(path).count()"
      ],
      "metadata": {
        "id": "DWX9WZbPHrL1",
        "outputId": "90ab998b-c389-465d-a789-bfb0c0529f83",
        "colab": {
          "base_uri": "https://localhost:8080/"
        }
      },
      "execution_count": null,
      "outputs": [
        {
          "output_type": "stream",
          "name": "stdout",
          "text": [
            "'date_part=20240501'  'date_part=20240503'   _SUCCESS\n",
            "'date_part=20240502'  'date_part=20240504'\n"
          ]
        },
        {
          "output_type": "execute_result",
          "data": {
            "text/plain": [
              "50"
            ]
          },
          "metadata": {},
          "execution_count": 9
        }
      ]
    },
    {
      "cell_type": "code",
      "source": [
        "# Writing as PARQUET with partitions static\n",
        "from pyspark.sql.functions import *\n",
        "\n",
        "path = \"/content/write_partitioning/parquet_with_partitions\"\n",
        "\n",
        "# Creating partition column\n",
        "df = df.withColumn(\"date_part\", date_format(col(\"date\"), \"yyyyMMdd\"))\n",
        "\n",
        "spark.conf.set(\"spark.sql.sources.partitionOverwriteMode\",\"static\") # enable dynamic partition overwrite - only overwrites partitions that are coming in the dataframe\n",
        "\n",
        "(df.where(\"date_part = '20240503'\")\n",
        " .write\n",
        " .mode(\"overwrite\")                                               # overwrites the entire path with the new data\n",
        " .partitionBy(\"date_part\")                                        # partition the data by column - creates sub-folders for each partition\n",
        " .format(\"parquet\")                                               # format of output\n",
        " .save(path))                                                     # path\n",
        "\n",
        "!ls /content/write_partitioning/parquet_with_partitions\n",
        "\n",
        "spark.read.format(\"parquet\").load(path).count()"
      ],
      "metadata": {
        "id": "anz-NDZIIWR9",
        "outputId": "b3279beb-4379-499f-9a7c-e07ff868df1d",
        "colab": {
          "base_uri": "https://localhost:8080/"
        }
      },
      "execution_count": null,
      "outputs": [
        {
          "output_type": "stream",
          "name": "stdout",
          "text": [
            "'date_part=20240503'   _SUCCESS\n"
          ]
        },
        {
          "output_type": "execute_result",
          "data": {
            "text/plain": [
              "10"
            ]
          },
          "metadata": {},
          "execution_count": 8
        }
      ]
    },
    {
      "cell_type": "code",
      "source": [
        "# Writing as PARQUET with partitions - para processar apenas a partição que eu quero reprocessar\n",
        "from pyspark.sql.functions import *\n",
        "\n",
        "path = \"/content/write_partitioning/parquet_with_partitions\"\n",
        "\n",
        "# Creating partition column\n",
        "df = df.withColumn(\"date_part\", date_format(col(\"date\"), \"yyyyMMdd\"))\n",
        "\n",
        "spark.conf.set(\"spark.sql.sources.partitionOverwriteMode\",\"dynamic\") # enable dynamic partition overwrite - only overwrites partitions that are coming in the dataframe\n",
        "\n",
        "(df.where(\"date_part = '20240503'\")\n",
        " .write\n",
        " .mode(\"overwrite\")                                               # overwrites the entire path with the new data\n",
        " .partitionBy(\"date_part\")                                        # partition the data by column - creates sub-folders for each partition\n",
        " .format(\"parquet\")                                               # format of output\n",
        " .save(path))                                                     # path\n",
        "\n",
        "!ls /content/write_partitioning/parquet_with_partitions\n",
        "\n",
        "spark.read.format(\"parquet\").load(path).count()"
      ],
      "metadata": {
        "id": "AKBt_Xz-I0Yr"
      },
      "execution_count": null,
      "outputs": []
    },
    {
      "cell_type": "code",
      "source": [
        "# Checking single partition\n",
        "spark.read.parquet(\"/content/write_partitioning/parquet_with_partitions/date_part=20240502\").show()"
      ],
      "metadata": {
        "id": "0B62qu87JsAB",
        "outputId": "902c4b5d-dfae-436b-edc6-b8da0ff28cce",
        "colab": {
          "base_uri": "https://localhost:8080/"
        }
      },
      "execution_count": null,
      "outputs": [
        {
          "output_type": "stream",
          "name": "stdout",
          "text": [
            "+--------------------+--------------------+----------+--------------------+---------------+--------------------+\n",
            "|             address|                date|       dob|               email|           name|               phone|\n",
            "+--------------------+--------------------+----------+--------------------+---------------+--------------------+\n",
            "|PSC 4942, Box 649...|2024-05-02 01:06:...|1956-11-01|  wclark@example.org|   Dennis Evans|        523.446.3744|\n",
            "|57826 Bryant High...|2024-05-02 11:59:...|1914-10-11|tanner95@example.org|Leslie Reynolds|        359-621-6733|\n",
            "|76000 Knapp Cresc...|2024-05-02 20:03:...|1914-12-11|heatherjackson@ex...|Jessica Spencer|001-475-239-8637x...|\n",
            "|Unit 6414 Box 532...|2024-05-02 10:49:...|2013-01-14|hannah87@example.org| Jeffrey Medina|   (557)333-8460x328|\n",
            "|698 Gwendolyn Div...|2024-05-02 07:31:...|1999-10-04| sarah42@example.com| Mallory Reilly|        878.853.2830|\n",
            "|948 Jillian Green...|2024-05-02 04:10:...|1918-02-03|william49@example...|   Brandon Shaw|   677.652.1104x5025|\n",
            "|1223 Caroline Har...|2024-05-02 13:45:...|1926-06-10|ashley61@example.net|   Diane Bailey|          2665640664|\n",
            "|49218 Davis Club ...|2024-05-02 14:04:...|1921-09-10|danielunderwood@e...|  Sharon Garcia|  789.681.6946x82582|\n",
            "|30079 Brock Plaza...|2024-05-02 16:13:...|1945-02-18|  todd80@example.org|  Robert Miller|001-637-380-8219x...|\n",
            "|3906 Jennifer Ext...|2024-05-02 03:58:...|2008-08-14|ryanhughes@exampl...|     Beth Jones|    798.403.9221x703|\n",
            "|778 Kristin Lodge...|2024-05-02 06:40:...|1943-12-17|hillmichael@examp...|  April Parsons|        480.492.6490|\n",
            "|95188 Young Drive...|2024-05-02 08:09:...|1940-03-19| larry49@example.com|  Ashley Martin|+1-893-263-4475x0400|\n",
            "|469 Brown Prairie...|2024-05-02 06:01:...|2008-09-20|   ebyrd@example.com|  Paul Morrison|       (429)502-7969|\n",
            "|71451 Daugherty B...|2024-05-02 23:05:...|1992-10-19|kcarroll@example.com|    Susan Hayes|          6003527732|\n",
            "+--------------------+--------------------+----------+--------------------+---------------+--------------------+\n",
            "\n"
          ]
        }
      ]
    },
    {
      "cell_type": "markdown",
      "source": [
        "# Writing as CSV\n",
        "\n",
        "https://spark.apache.org/docs/3.5.1/sql-data-sources-csv.html"
      ],
      "metadata": {
        "id": "n8mTC5yeNV6o"
      }
    },
    {
      "cell_type": "code",
      "source": [
        "df.count()"
      ],
      "metadata": {
        "id": "BnAWUTeZO43Z",
        "outputId": "af80a973-9451-436a-be11-47714b088839",
        "colab": {
          "base_uri": "https://localhost:8080/"
        }
      },
      "execution_count": null,
      "outputs": [
        {
          "output_type": "execute_result",
          "data": {
            "text/plain": [
              "50"
            ]
          },
          "metadata": {},
          "execution_count": 10
        }
      ]
    },
    {
      "cell_type": "code",
      "source": [
        "path = \"/content/write_partitioning/csv_no_partitioning/\"\n",
        "\n",
        "# write as csv\n",
        "(df\n",
        "  .write\n",
        "  .format(\"csv\")\n",
        "  .mode(\"overwrite\")\n",
        "  .option(\"delimiter\", \"|\")\n",
        "  .option(\"header\", True)\n",
        "  .save(path))\n",
        "\n",
        "# listing files in the folder\n",
        "!ls /content/write_partitioning/csv_no_partitioning/\n",
        "\n",
        "# read as csv\n",
        "(spark\n",
        "  .read\n",
        "  .options(sep=\"|\", multiLine=True, header=True)\n",
        "  .csv(path)\n",
        "  .count())"
      ],
      "metadata": {
        "id": "oE6zC-HnNYAz",
        "outputId": "f0cfb6fc-bf33-4305-cf26-8e31ca346c1b",
        "colab": {
          "base_uri": "https://localhost:8080/"
        }
      },
      "execution_count": null,
      "outputs": [
        {
          "output_type": "stream",
          "name": "stdout",
          "text": [
            "part-00000-4527c78e-2219-460d-9ff6-f90f6a01586d-c000.csv  _SUCCESS\n"
          ]
        },
        {
          "output_type": "execute_result",
          "data": {
            "text/plain": [
              "50"
            ]
          },
          "metadata": {},
          "execution_count": 11
        }
      ]
    },
    {
      "cell_type": "code",
      "source": [
        "# Checking csv\n",
        "(spark\n",
        "  .read\n",
        "  .options(sep=\"|\", multiLine=True, header=True)\n",
        "  .csv(path)).show()"
      ],
      "metadata": {
        "id": "Zc5BRt8GKELV",
        "outputId": "c17d7e7c-799b-4e8a-b03e-7bba17ac6eb9",
        "colab": {
          "base_uri": "https://localhost:8080/"
        }
      },
      "execution_count": null,
      "outputs": [
        {
          "output_type": "stream",
          "name": "stdout",
          "text": [
            "+--------------------+--------------------+----------+--------------------+------------------+--------------------+---------+\n",
            "|             address|                date|       dob|               email|              name|               phone|date_part|\n",
            "+--------------------+--------------------+----------+--------------------+------------------+--------------------+---------+\n",
            "|6862 Murphy Dam\\n...|2024-05-01T20:35:...|2000-06-20|josemartinez@exam...|    Phillip Campos|    001-337-658-2574| 20240501|\n",
            "|1263 Melissa Harb...|2024-05-03T15:22:...|1956-05-04|mariajenkins@exam...|     Kevin Russell| +1-692-349-6215x279| 20240503|\n",
            "|5967 Randall Cove...|2024-05-01T03:27:...|2012-01-30|michelle80@exampl...|      Jamie Pierce|   (689)796-1482x335| 20240501|\n",
            "|9400 King Extensi...|2024-05-04T03:50:...|1996-01-05|pedroking@example...|      Jimmy Mullen|+1-970-742-0881x8905| 20240504|\n",
            "|PSC 4942, Box 649...|2024-05-02T01:06:...|1956-11-01|  wclark@example.org|      Dennis Evans|        523.446.3744| 20240502|\n",
            "|2340 Abigail Flat...|2024-05-04T22:28:...|2024-08-06|youngdennis@examp...|     Danielle Wood|        513.512.2159| 20240504|\n",
            "|9014 Erica Fields...|2024-05-04T13:12:...|1989-07-05|  tgarza@example.com|      Natalie York|   625.984.3892x1347| 20240504|\n",
            "|57826 Bryant High...|2024-05-02T11:59:...|1914-10-11|tanner95@example.org|   Leslie Reynolds|        359-621-6733| 20240502|\n",
            "|7970 Rebecca Esta...|2024-05-01T06:03:...|1930-04-10|   xcook@example.com|  Charles Johnston|  604-279-7895x93585| 20240501|\n",
            "|Unit 2912 Box 642...|2024-05-04T11:32:...|2021-02-22| donna29@example.com|      Peter Harris|       (790)548-7693| 20240504|\n",
            "|PSC 6330, Box 049...|2024-05-04T02:40:...|1988-04-01|alexanderlindsey@...|     Angela Briggs|   208-586-9859x7491| 20240504|\n",
            "|310 Rasmussen Vis...|2024-05-03T08:50:...|1998-11-28| roywebb@example.com|   Lauren Williams|       (900)247-4363| 20240503|\n",
            "|Unit 9543 Box 100...|2024-05-01T13:46:...|1914-09-11|hollandsarah@exam...|    Brandon Knight|        933.874.5241| 20240501|\n",
            "|76000 Knapp Cresc...|2024-05-02T20:03:...|1914-12-11|heatherjackson@ex...|   Jessica Spencer|001-475-239-8637x...| 20240502|\n",
            "|448 Meagan Height...|2024-05-04T18:42:...|2011-09-11| bruce68@example.org|   Caitlin Griffin|   346-568-6607x4948| 20240504|\n",
            "|4262 Morales Traf...|2024-05-04T13:59:...|1963-07-25|buckjonathan@exam...|      Katie Pierce|+1-968-343-0895x7573| 20240504|\n",
            "|922 Donna Ville\\n...|2024-05-01T16:56:...|1946-05-08|adampowell@exampl...|       Mark Morgan|          6022915363| 20240501|\n",
            "|44984 Mueller Tra...|2024-05-01T18:50:...|1975-11-06|    slin@example.com|Nicole Simpson DDS|       (514)778-2039| 20240501|\n",
            "|Unit 6414 Box 532...|2024-05-02T10:49:...|2013-01-14|hannah87@example.org|    Jeffrey Medina|   (557)333-8460x328| 20240502|\n",
            "|48548 Misty Strav...|2024-05-03T22:00:...|2021-11-07|carlmahoney@examp...|     Robert Sparks|        209-966-8553| 20240503|\n",
            "+--------------------+--------------------+----------+--------------------+------------------+--------------------+---------+\n",
            "only showing top 20 rows\n",
            "\n"
          ]
        }
      ]
    },
    {
      "cell_type": "markdown",
      "source": [
        "# Writing as JSON\n",
        "\n",
        "https://spark.apache.org/docs/3.5.1/sql-data-sources-json.html"
      ],
      "metadata": {
        "id": "ZAuM5-WcTtyZ"
      }
    },
    {
      "cell_type": "code",
      "source": [
        "path = \"/content/write_partitioning/json_no_partitioning/\"\n",
        "\n",
        "# write as json\n",
        "(df\n",
        ".write\n",
        ".mode(\"overwrite\")\n",
        ".format(\"json\")\n",
        ".save(path))\n",
        "\n",
        "# listing files in the folder\n",
        "!ls /content/write_partitioning/json_no_partitioning/\n",
        "\n",
        "# read as json\n",
        "(spark\n",
        "  .read\n",
        "  .json(path)\n",
        "  .count())"
      ],
      "metadata": {
        "id": "vnNgwbtxTsW_",
        "outputId": "27f7d52c-3726-4ec3-8e48-4c8dbcbeeaa6",
        "colab": {
          "base_uri": "https://localhost:8080/"
        }
      },
      "execution_count": null,
      "outputs": [
        {
          "output_type": "stream",
          "name": "stdout",
          "text": [
            "part-00000-d13517af-1445-4016-90a8-c66ee9370603-c000.json  _SUCCESS\n"
          ]
        },
        {
          "output_type": "execute_result",
          "data": {
            "text/plain": [
              "50"
            ]
          },
          "metadata": {},
          "execution_count": 16
        }
      ]
    },
    {
      "cell_type": "code",
      "source": [
        "# reading json as text\n",
        "spark.read.text(path).show(10, False)"
      ],
      "metadata": {
        "id": "D3hYNCubT0ry",
        "outputId": "3b8ad1bc-518d-4a19-e938-c8d4f302ca82",
        "colab": {
          "base_uri": "https://localhost:8080/"
        }
      },
      "execution_count": null,
      "outputs": [
        {
          "output_type": "stream",
          "name": "stdout",
          "text": [
            "+-----------------------------------------------------------------------------------------------------------------------------------------------------------------------------------------------------------------------------------+\n",
            "|value                                                                                                                                                                                                                              |\n",
            "+-----------------------------------------------------------------------------------------------------------------------------------------------------------------------------------------------------------------------------------+\n",
            "|{\"address\":\"6862 Murphy Dam\\nShermanview, MO 48276\",\"date\":\"2024-05-01T20:35:15.882Z\",\"dob\":\"2000-06-20\",\"email\":\"josemartinez@example.org\",\"name\":\"Phillip Campos\",\"phone\":\"001-337-658-2574\",\"date_part\":\"20240501\"}             |\n",
            "|{\"address\":\"1263 Melissa Harbors\\nLake Chloemouth, VA 00865\",\"date\":\"2024-05-03T15:22:56.711Z\",\"dob\":\"1956-05-04\",\"email\":\"mariajenkins@example.net\",\"name\":\"Kevin Russell\",\"phone\":\"+1-692-349-6215x279\",\"date_part\":\"20240503\"}  |\n",
            "|{\"address\":\"5967 Randall Cove Suite 010\\nWest Sandrastad, NC 46233\",\"date\":\"2024-05-01T03:27:43.675Z\",\"dob\":\"2012-01-30\",\"email\":\"michelle80@example.net\",\"name\":\"Jamie Pierce\",\"phone\":\"(689)796-1482x335\",\"date_part\":\"20240501\"}|\n",
            "|{\"address\":\"9400 King Extensions Apt. 660\\nFloresfurt, CA 40312\",\"date\":\"2024-05-04T03:50:40.613Z\",\"dob\":\"1996-01-05\",\"email\":\"pedroking@example.net\",\"name\":\"Jimmy Mullen\",\"phone\":\"+1-970-742-0881x8905\",\"date_part\":\"20240504\"} |\n",
            "|{\"address\":\"PSC 4942, Box 6491\\nAPO AA 18590\",\"date\":\"2024-05-02T01:06:54.794Z\",\"dob\":\"1956-11-01\",\"email\":\"wclark@example.org\",\"name\":\"Dennis Evans\",\"phone\":\"523.446.3744\",\"date_part\":\"20240502\"}                               |\n",
            "|{\"address\":\"2340 Abigail Flats\\nHernandezstad, WA 34462\",\"date\":\"2024-05-04T22:28:01.312Z\",\"dob\":\"2024-08-06\",\"email\":\"youngdennis@example.net\",\"name\":\"Danielle Wood\",\"phone\":\"513.512.2159\",\"date_part\":\"20240504\"}              |\n",
            "|{\"address\":\"9014 Erica Fields\\nWest Victoria, CT 62618\",\"date\":\"2024-05-04T13:12:36.189Z\",\"dob\":\"1989-07-05\",\"email\":\"tgarza@example.com\",\"name\":\"Natalie York\",\"phone\":\"625.984.3892x1347\",\"date_part\":\"20240504\"}                |\n",
            "|{\"address\":\"57826 Bryant Highway\\nAndersonmouth, VI 75055\",\"date\":\"2024-05-02T11:59:18.081Z\",\"dob\":\"1914-10-11\",\"email\":\"tanner95@example.org\",\"name\":\"Leslie Reynolds\",\"phone\":\"359-621-6733\",\"date_part\":\"20240502\"}             |\n",
            "|{\"address\":\"7970 Rebecca Estates\\nNew Stevenmouth, CT 80784\",\"date\":\"2024-05-01T06:03:49.987Z\",\"dob\":\"1930-04-10\",\"email\":\"xcook@example.com\",\"name\":\"Charles Johnston\",\"phone\":\"604-279-7895x93585\",\"date_part\":\"20240501\"}       |\n",
            "|{\"address\":\"Unit 2912 Box 6427\\nDPO AA 88554\",\"date\":\"2024-05-04T11:32:33.086Z\",\"dob\":\"2021-02-22\",\"email\":\"donna29@example.com\",\"name\":\"Peter Harris\",\"phone\":\"(790)548-7693\",\"date_part\":\"20240504\"}                             |\n",
            "+-----------------------------------------------------------------------------------------------------------------------------------------------------------------------------------------------------------------------------------+\n",
            "only showing top 10 rows\n",
            "\n"
          ]
        }
      ]
    },
    {
      "cell_type": "code",
      "source": [
        "# reading json as text\n",
        "spark.read.json(path).show(10, False)"
      ],
      "metadata": {
        "id": "0bHcT2ilUo_F",
        "outputId": "0e54ef50-2316-4a42-b742-359de5762855",
        "colab": {
          "base_uri": "https://localhost:8080/"
        }
      },
      "execution_count": null,
      "outputs": [
        {
          "output_type": "stream",
          "name": "stdout",
          "text": [
            "+------------------------------------------------------+------------------------+---------+----------+------------------------+----------------+--------------------+\n",
            "|address                                               |date                    |date_part|dob       |email                   |name            |phone               |\n",
            "+------------------------------------------------------+------------------------+---------+----------+------------------------+----------------+--------------------+\n",
            "|6862 Murphy Dam\\nShermanview, MO 48276                |2024-05-01T20:35:15.882Z|20240501 |2000-06-20|josemartinez@example.org|Phillip Campos  |001-337-658-2574    |\n",
            "|1263 Melissa Harbors\\nLake Chloemouth, VA 00865       |2024-05-03T15:22:56.711Z|20240503 |1956-05-04|mariajenkins@example.net|Kevin Russell   |+1-692-349-6215x279 |\n",
            "|5967 Randall Cove Suite 010\\nWest Sandrastad, NC 46233|2024-05-01T03:27:43.675Z|20240501 |2012-01-30|michelle80@example.net  |Jamie Pierce    |(689)796-1482x335   |\n",
            "|9400 King Extensions Apt. 660\\nFloresfurt, CA 40312   |2024-05-04T03:50:40.613Z|20240504 |1996-01-05|pedroking@example.net   |Jimmy Mullen    |+1-970-742-0881x8905|\n",
            "|PSC 4942, Box 6491\\nAPO AA 18590                      |2024-05-02T01:06:54.794Z|20240502 |1956-11-01|wclark@example.org      |Dennis Evans    |523.446.3744        |\n",
            "|2340 Abigail Flats\\nHernandezstad, WA 34462           |2024-05-04T22:28:01.312Z|20240504 |2024-08-06|youngdennis@example.net |Danielle Wood   |513.512.2159        |\n",
            "|9014 Erica Fields\\nWest Victoria, CT 62618            |2024-05-04T13:12:36.189Z|20240504 |1989-07-05|tgarza@example.com      |Natalie York    |625.984.3892x1347   |\n",
            "|57826 Bryant Highway\\nAndersonmouth, VI 75055         |2024-05-02T11:59:18.081Z|20240502 |1914-10-11|tanner95@example.org    |Leslie Reynolds |359-621-6733        |\n",
            "|7970 Rebecca Estates\\nNew Stevenmouth, CT 80784       |2024-05-01T06:03:49.987Z|20240501 |1930-04-10|xcook@example.com       |Charles Johnston|604-279-7895x93585  |\n",
            "|Unit 2912 Box 6427\\nDPO AA 88554                      |2024-05-04T11:32:33.086Z|20240504 |2021-02-22|donna29@example.com     |Peter Harris    |(790)548-7693       |\n",
            "+------------------------------------------------------+------------------------+---------+----------+------------------------+----------------+--------------------+\n",
            "only showing top 10 rows\n",
            "\n"
          ]
        }
      ]
    },
    {
      "cell_type": "code",
      "source": [
        "# partition json data + saveAsTable\n",
        "\n",
        "# Creating partition column\n",
        "df = df.withColumn(\"date_part\", date_format(col(\"date\"), \"yyyyMMdd\"))\n",
        "\n",
        "# write as json\n",
        "(df.write\n",
        "  .partitionBy(\"date_part\")\n",
        "  .mode(\"overwrite\")\n",
        "  .format(\"json\")\n",
        "  .saveAsTable(\"tbl_json_part\"))\n",
        "\n",
        "# read as json\n",
        "spark.table(\"tbl_json_part\").count()\n",
        "\n",
        "# read as json\n",
        "spark.sql(\"show partitions tbl_json_part\").show()"
      ],
      "metadata": {
        "id": "Qj59UNMuU0hV",
        "outputId": "3b586dbb-92a8-46df-ecd9-c997065185bf",
        "colab": {
          "base_uri": "https://localhost:8080/"
        }
      },
      "execution_count": null,
      "outputs": [
        {
          "output_type": "stream",
          "name": "stdout",
          "text": [
            "+------------------+\n",
            "|         partition|\n",
            "+------------------+\n",
            "|date_part=20240501|\n",
            "|date_part=20240502|\n",
            "|date_part=20240503|\n",
            "|date_part=20240504|\n",
            "+------------------+\n",
            "\n"
          ]
        }
      ]
    },
    {
      "cell_type": "markdown",
      "source": [
        "# Append Mode"
      ],
      "metadata": {
        "id": "6RhijzyqZeeq"
      }
    },
    {
      "cell_type": "code",
      "source": [
        "# Writing as PARQUET with APPEND - depende da lógica de ETL, se os dados são 100% novos, sem duplicação\n",
        "\n",
        "path = \"/content/write_partitioning/parquet_append\"\n",
        "\n",
        "df.write.mode(\"append\").format(\"parquet\").save(path)\n",
        "\n",
        "!ls /content/write_partitioning/parquet_append\n",
        "\n",
        "spark.read.format(\"parquet\").load(path).count()"
      ],
      "metadata": {
        "id": "GmLjA1zDZeG_",
        "outputId": "2daa6dc8-278d-4fe1-ef91-f03edcc5a5d0",
        "colab": {
          "base_uri": "https://localhost:8080/"
        }
      },
      "execution_count": 21,
      "outputs": [
        {
          "output_type": "stream",
          "name": "stdout",
          "text": [
            "part-00000-b8cc7a6a-f65c-45f6-aa39-e6ea9b95c675-c000.snappy.parquet  _SUCCESS\n",
            "part-00000-d106263b-3441-4741-b17a-40044a038867-c000.snappy.parquet\n"
          ]
        },
        {
          "output_type": "execute_result",
          "data": {
            "text/plain": [
              "100"
            ]
          },
          "metadata": {},
          "execution_count": 21
        }
      ]
    }
  ],
  "metadata": {
    "colab": {
      "provenance": [],
      "include_colab_link": true
    },
    "kernelspec": {
      "display_name": "Python 3",
      "name": "python3"
    },
    "language_info": {
      "name": "python"
    }
  },
  "nbformat": 4,
  "nbformat_minor": 0
}