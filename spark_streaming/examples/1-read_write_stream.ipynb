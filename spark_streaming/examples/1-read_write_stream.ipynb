{
  "cells": [
    {
      "cell_type": "markdown",
      "metadata": {
        "id": "view-in-github",
        "colab_type": "text"
      },
      "source": [
        "<a href=\"https://colab.research.google.com/github/margaridagomes/dataeng-basic-course/blob/main/spark_streaming/examples/1-read_write_stream.ipynb\" target=\"_parent\"><img src=\"https://colab.research.google.com/assets/colab-badge.svg\" alt=\"Open In Colab\"/></a>"
      ]
    },
    {
      "cell_type": "markdown",
      "metadata": {
        "id": "4_GBE9UsyxwK"
      },
      "source": []
    },
    {
      "cell_type": "markdown",
      "metadata": {
        "id": "BOA_wQSmLd9z"
      },
      "source": [
        "# Read & Write Stream\n",
        "- readStream()\n",
        "- writeStream()\n",
        "- Streaming Dataframe"
      ]
    },
    {
      "cell_type": "markdown",
      "metadata": {
        "id": "d9LeYFsPTjAb"
      },
      "source": [
        "# Setting up PySpark"
      ]
    },
    {
      "cell_type": "code",
      "execution_count": null,
      "metadata": {
        "colab": {
          "base_uri": "https://localhost:8080/"
        },
        "id": "uYXeODL0T1fO",
        "outputId": "c410e46c-4a50-43aa-926f-d0417c6280d2"
      },
      "outputs": [
        {
          "name": "stdout",
          "output_type": "stream",
          "text": [
            "Requirement already satisfied: pyspark in /usr/local/lib/python3.10/dist-packages (3.5.3)\n",
            "Requirement already satisfied: py4j==0.10.9.7 in /usr/local/lib/python3.10/dist-packages (from pyspark) (0.10.9.7)\n"
          ]
        }
      ],
      "source": [
        "%pip install pyspark"
      ]
    },
    {
      "cell_type": "code",
      "execution_count": 1,
      "metadata": {
        "id": "637HFw00T3LP"
      },
      "outputs": [],
      "source": [
        "from pyspark.sql import SparkSession\n",
        "\n",
        "spark = SparkSession.builder.master('local').appName('Test streaming').getOrCreate()"
      ]
    },
    {
      "cell_type": "markdown",
      "source": [
        "# readStream with format \"rate\"\n",
        "- readStream\n",
        "- format(\"rate\")"
      ],
      "metadata": {
        "id": "A1Mk6UwMWw4e"
      }
    },
    {
      "cell_type": "code",
      "execution_count": 2,
      "metadata": {
        "id": "I4mGPfB-Xg_C"
      },
      "outputs": [],
      "source": [
        "import pyspark.sql.functions as F\n",
        "\n",
        "# read stream\n",
        "stream = spark.readStream.format(\"rate\").load()"
      ]
    },
    {
      "cell_type": "code",
      "source": [
        "type(stream)"
      ],
      "metadata": {
        "colab": {
          "base_uri": "https://localhost:8080/",
          "height": 187
        },
        "id": "xl-PYwbrWuui",
        "outputId": "0ab4d6fe-2bb9-4b50-dfcb-cfca48e8bc6d"
      },
      "execution_count": 3,
      "outputs": [
        {
          "output_type": "execute_result",
          "data": {
            "text/plain": [
              "pyspark.sql.dataframe.DataFrame"
            ],
            "text/html": [
              "<div style=\"max-width:800px; border: 1px solid var(--colab-border-color);\"><style>\n",
              "      pre.function-repr-contents {\n",
              "        overflow-x: auto;\n",
              "        padding: 8px 12px;\n",
              "        max-height: 500px;\n",
              "      }\n",
              "\n",
              "      pre.function-repr-contents.function-repr-contents-collapsed {\n",
              "        cursor: pointer;\n",
              "        max-height: 100px;\n",
              "      }\n",
              "    </style>\n",
              "    <pre style=\"white-space: initial; background:\n",
              "         var(--colab-secondary-surface-color); padding: 8px 12px;\n",
              "         border-bottom: 1px solid var(--colab-border-color);\"><b>pyspark.sql.dataframe.DataFrame</b><br/>def __init__(jdf: JavaObject, sql_ctx: Union[&#x27;SQLContext&#x27;, &#x27;SparkSession&#x27;])</pre><pre class=\"function-repr-contents function-repr-contents-collapsed\" style=\"\"><a class=\"filepath\" style=\"display:none\" href=\"#\">/usr/local/lib/python3.11/dist-packages/pyspark/sql/dataframe.py</a>A distributed collection of data grouped into named columns.\n",
              "\n",
              ".. versionadded:: 1.3.0\n",
              "\n",
              ".. versionchanged:: 3.4.0\n",
              "    Supports Spark Connect.\n",
              "\n",
              "Examples\n",
              "--------\n",
              "A :class:`DataFrame` is equivalent to a relational table in Spark SQL,\n",
              "and can be created using various functions in :class:`SparkSession`:\n",
              "\n",
              "&gt;&gt;&gt; people = spark.createDataFrame([\n",
              "...     {&quot;deptId&quot;: 1, &quot;age&quot;: 40, &quot;name&quot;: &quot;Hyukjin Kwon&quot;, &quot;gender&quot;: &quot;M&quot;, &quot;salary&quot;: 50},\n",
              "...     {&quot;deptId&quot;: 1, &quot;age&quot;: 50, &quot;name&quot;: &quot;Takuya Ueshin&quot;, &quot;gender&quot;: &quot;M&quot;, &quot;salary&quot;: 100},\n",
              "...     {&quot;deptId&quot;: 2, &quot;age&quot;: 60, &quot;name&quot;: &quot;Xinrong Meng&quot;, &quot;gender&quot;: &quot;F&quot;, &quot;salary&quot;: 150},\n",
              "...     {&quot;deptId&quot;: 3, &quot;age&quot;: 20, &quot;name&quot;: &quot;Haejoon Lee&quot;, &quot;gender&quot;: &quot;M&quot;, &quot;salary&quot;: 200}\n",
              "... ])\n",
              "\n",
              "Once created, it can be manipulated using the various domain-specific-language\n",
              "(DSL) functions defined in: :class:`DataFrame`, :class:`Column`.\n",
              "\n",
              "To select a column from the :class:`DataFrame`, use the apply method:\n",
              "\n",
              "&gt;&gt;&gt; age_col = people.age\n",
              "\n",
              "A more concrete example:\n",
              "\n",
              "&gt;&gt;&gt; # To create DataFrame using SparkSession\n",
              "... department = spark.createDataFrame([\n",
              "...     {&quot;id&quot;: 1, &quot;name&quot;: &quot;PySpark&quot;},\n",
              "...     {&quot;id&quot;: 2, &quot;name&quot;: &quot;ML&quot;},\n",
              "...     {&quot;id&quot;: 3, &quot;name&quot;: &quot;Spark SQL&quot;}\n",
              "... ])\n",
              "\n",
              "&gt;&gt;&gt; people.filter(people.age &gt; 30).join(\n",
              "...     department, people.deptId == department.id).groupBy(\n",
              "...     department.name, &quot;gender&quot;).agg({&quot;salary&quot;: &quot;avg&quot;, &quot;age&quot;: &quot;max&quot;}).show()\n",
              "+-------+------+-----------+--------+\n",
              "|   name|gender|avg(salary)|max(age)|\n",
              "+-------+------+-----------+--------+\n",
              "|     ML|     F|      150.0|      60|\n",
              "|PySpark|     M|       75.0|      50|\n",
              "+-------+------+-----------+--------+\n",
              "\n",
              "Notes\n",
              "-----\n",
              "A DataFrame should only be created as described above. It should not be directly\n",
              "created via using the constructor.</pre>\n",
              "      <script>\n",
              "      if (google.colab.kernel.accessAllowed && google.colab.files && google.colab.files.view) {\n",
              "        for (const element of document.querySelectorAll('.filepath')) {\n",
              "          element.style.display = 'block'\n",
              "          element.onclick = (event) => {\n",
              "            event.preventDefault();\n",
              "            event.stopPropagation();\n",
              "            google.colab.files.view(element.textContent, 80);\n",
              "          };\n",
              "        }\n",
              "      }\n",
              "      for (const element of document.querySelectorAll('.function-repr-contents')) {\n",
              "        element.onclick = (event) => {\n",
              "          event.preventDefault();\n",
              "          event.stopPropagation();\n",
              "          element.classList.toggle('function-repr-contents-collapsed');\n",
              "        };\n",
              "      }\n",
              "      </script>\n",
              "      </div>"
            ]
          },
          "metadata": {},
          "execution_count": 3
        }
      ]
    },
    {
      "cell_type": "code",
      "source": [
        "# checking if it's streaming dataframe\n",
        "stream.isStreaming"
      ],
      "metadata": {
        "colab": {
          "base_uri": "https://localhost:8080/"
        },
        "id": "GtOl5BfgW68q",
        "outputId": "e66ea5e3-2ba1-4637-f98a-35e889df1d3d"
      },
      "execution_count": 42,
      "outputs": [
        {
          "output_type": "execute_result",
          "data": {
            "text/plain": [
              "True"
            ]
          },
          "metadata": {},
          "execution_count": 42
        }
      ]
    },
    {
      "cell_type": "code",
      "source": [
        "# should be false\n",
        "data = [(\"c1\", \"v1\"), (\"c2\", \"v2\")]\n",
        "columns = [\"col1\", \"col2\"]\n",
        "df = spark.createDataFrame(data, columns)\n",
        "df.isStreaming"
      ],
      "metadata": {
        "colab": {
          "base_uri": "https://localhost:8080/"
        },
        "id": "oJ-oIpzqW_TX",
        "outputId": "378398c4-92d4-4a51-df9a-adc6d7f4e619"
      },
      "execution_count": 6,
      "outputs": [
        {
          "output_type": "execute_result",
          "data": {
            "text/plain": [
              "False"
            ]
          },
          "metadata": {},
          "execution_count": 6
        }
      ]
    },
    {
      "cell_type": "code",
      "source": [
        "# apply normal dataframe operations\n",
        "stream.printSchema()"
      ],
      "metadata": {
        "colab": {
          "base_uri": "https://localhost:8080/"
        },
        "id": "hqoA2Yq_XTtP",
        "outputId": "7ffc2c1e-8db6-498e-d8c7-2d57678b4438"
      },
      "execution_count": 43,
      "outputs": [
        {
          "output_type": "stream",
          "name": "stdout",
          "text": [
            "root\n",
            " |-- timestamp: timestamp (nullable = true)\n",
            " |-- value: long (nullable = true)\n",
            "\n"
          ]
        }
      ]
    },
    {
      "cell_type": "code",
      "source": [
        "q1= (stream.writeStream\n",
        "          .format('memory')\n",
        "          .queryName('rate_q1')\n",
        "          .outputMode('append')\n",
        "          .start())"
      ],
      "metadata": {
        "id": "2D6vwrFIYzE5",
        "outputId": "3d0d32c9-014e-4928-8907-0da06b8e272b",
        "colab": {
          "base_uri": "https://localhost:8080/",
          "height": 321
        }
      },
      "execution_count": 48,
      "outputs": [
        {
          "output_type": "error",
          "ename": "IllegalArgumentException",
          "evalue": "Cannot start query with name rate_q1 as a query with that name is already active in this SparkSession",
          "traceback": [
            "\u001b[0;31m---------------------------------------------------------------------------\u001b[0m",
            "\u001b[0;31mIllegalArgumentException\u001b[0m                  Traceback (most recent call last)",
            "\u001b[0;32m/tmp/ipython-input-48-923175212.py\u001b[0m in \u001b[0;36m<cell line: 0>\u001b[0;34m()\u001b[0m\n\u001b[1;32m      3\u001b[0m           \u001b[0;34m.\u001b[0m\u001b[0mqueryName\u001b[0m\u001b[0;34m(\u001b[0m\u001b[0;34m'rate_q1'\u001b[0m\u001b[0;34m)\u001b[0m\u001b[0;34m\u001b[0m\u001b[0;34m\u001b[0m\u001b[0m\n\u001b[1;32m      4\u001b[0m           \u001b[0;34m.\u001b[0m\u001b[0moutputMode\u001b[0m\u001b[0;34m(\u001b[0m\u001b[0;34m'append'\u001b[0m\u001b[0;34m)\u001b[0m\u001b[0;34m\u001b[0m\u001b[0;34m\u001b[0m\u001b[0m\n\u001b[0;32m----> 5\u001b[0;31m           .start())\n\u001b[0m",
            "\u001b[0;32m/usr/local/lib/python3.11/dist-packages/pyspark/sql/streaming/readwriter.py\u001b[0m in \u001b[0;36mstart\u001b[0;34m(self, path, format, outputMode, partitionBy, queryName, **options)\u001b[0m\n\u001b[1;32m   1525\u001b[0m             \u001b[0mself\u001b[0m\u001b[0;34m.\u001b[0m\u001b[0mqueryName\u001b[0m\u001b[0;34m(\u001b[0m\u001b[0mqueryName\u001b[0m\u001b[0;34m)\u001b[0m\u001b[0;34m\u001b[0m\u001b[0;34m\u001b[0m\u001b[0m\n\u001b[1;32m   1526\u001b[0m         \u001b[0;32mif\u001b[0m \u001b[0mpath\u001b[0m \u001b[0;32mis\u001b[0m \u001b[0;32mNone\u001b[0m\u001b[0;34m:\u001b[0m\u001b[0;34m\u001b[0m\u001b[0;34m\u001b[0m\u001b[0m\n\u001b[0;32m-> 1527\u001b[0;31m             \u001b[0;32mreturn\u001b[0m \u001b[0mself\u001b[0m\u001b[0;34m.\u001b[0m\u001b[0m_sq\u001b[0m\u001b[0;34m(\u001b[0m\u001b[0mself\u001b[0m\u001b[0;34m.\u001b[0m\u001b[0m_jwrite\u001b[0m\u001b[0;34m.\u001b[0m\u001b[0mstart\u001b[0m\u001b[0;34m(\u001b[0m\u001b[0;34m)\u001b[0m\u001b[0;34m)\u001b[0m\u001b[0;34m\u001b[0m\u001b[0;34m\u001b[0m\u001b[0m\n\u001b[0m\u001b[1;32m   1528\u001b[0m         \u001b[0;32melse\u001b[0m\u001b[0;34m:\u001b[0m\u001b[0;34m\u001b[0m\u001b[0;34m\u001b[0m\u001b[0m\n\u001b[1;32m   1529\u001b[0m             \u001b[0;32mreturn\u001b[0m \u001b[0mself\u001b[0m\u001b[0;34m.\u001b[0m\u001b[0m_sq\u001b[0m\u001b[0;34m(\u001b[0m\u001b[0mself\u001b[0m\u001b[0;34m.\u001b[0m\u001b[0m_jwrite\u001b[0m\u001b[0;34m.\u001b[0m\u001b[0mstart\u001b[0m\u001b[0;34m(\u001b[0m\u001b[0mpath\u001b[0m\u001b[0;34m)\u001b[0m\u001b[0;34m)\u001b[0m\u001b[0;34m\u001b[0m\u001b[0;34m\u001b[0m\u001b[0m\n",
            "\u001b[0;32m/usr/local/lib/python3.11/dist-packages/py4j/java_gateway.py\u001b[0m in \u001b[0;36m__call__\u001b[0;34m(self, *args)\u001b[0m\n\u001b[1;32m   1320\u001b[0m \u001b[0;34m\u001b[0m\u001b[0m\n\u001b[1;32m   1321\u001b[0m         \u001b[0manswer\u001b[0m \u001b[0;34m=\u001b[0m \u001b[0mself\u001b[0m\u001b[0;34m.\u001b[0m\u001b[0mgateway_client\u001b[0m\u001b[0;34m.\u001b[0m\u001b[0msend_command\u001b[0m\u001b[0;34m(\u001b[0m\u001b[0mcommand\u001b[0m\u001b[0;34m)\u001b[0m\u001b[0;34m\u001b[0m\u001b[0;34m\u001b[0m\u001b[0m\n\u001b[0;32m-> 1322\u001b[0;31m         return_value = get_return_value(\n\u001b[0m\u001b[1;32m   1323\u001b[0m             answer, self.gateway_client, self.target_id, self.name)\n\u001b[1;32m   1324\u001b[0m \u001b[0;34m\u001b[0m\u001b[0m\n",
            "\u001b[0;32m/usr/local/lib/python3.11/dist-packages/pyspark/errors/exceptions/captured.py\u001b[0m in \u001b[0;36mdeco\u001b[0;34m(*a, **kw)\u001b[0m\n\u001b[1;32m    183\u001b[0m                 \u001b[0;31m# Hide where the exception came from that shows a non-Pythonic\u001b[0m\u001b[0;34m\u001b[0m\u001b[0;34m\u001b[0m\u001b[0m\n\u001b[1;32m    184\u001b[0m                 \u001b[0;31m# JVM exception message.\u001b[0m\u001b[0;34m\u001b[0m\u001b[0;34m\u001b[0m\u001b[0m\n\u001b[0;32m--> 185\u001b[0;31m                 \u001b[0;32mraise\u001b[0m \u001b[0mconverted\u001b[0m \u001b[0;32mfrom\u001b[0m \u001b[0;32mNone\u001b[0m\u001b[0;34m\u001b[0m\u001b[0;34m\u001b[0m\u001b[0m\n\u001b[0m\u001b[1;32m    186\u001b[0m             \u001b[0;32melse\u001b[0m\u001b[0;34m:\u001b[0m\u001b[0;34m\u001b[0m\u001b[0;34m\u001b[0m\u001b[0m\n\u001b[1;32m    187\u001b[0m                 \u001b[0;32mraise\u001b[0m\u001b[0;34m\u001b[0m\u001b[0;34m\u001b[0m\u001b[0m\n",
            "\u001b[0;31mIllegalArgumentException\u001b[0m: Cannot start query with name rate_q1 as a query with that name is already active in this SparkSession"
          ]
        }
      ]
    },
    {
      "cell_type": "code",
      "source": [
        "# Queries with streaming sources must be executed with writeStream.start();\n",
        "# stream.show()\n",
        "# stream.count()\n",
        "print(spark.table(\"rate_q1\").count())\n",
        "spark.table(\"rate_q1\").show(20, False)\n"
      ],
      "metadata": {
        "id": "UNxQaufpYAPt",
        "outputId": "5f72a8c4-583a-494b-9b07-fc781ef71363",
        "colab": {
          "base_uri": "https://localhost:8080/"
        }
      },
      "execution_count": 49,
      "outputs": [
        {
          "output_type": "stream",
          "name": "stdout",
          "text": [
            "1300\n",
            "+-----------------------+-----+\n",
            "|timestamp              |value|\n",
            "+-----------------------+-----+\n",
            "|2025-07-11 21:33:47.305|0    |\n",
            "|2025-07-11 21:33:47.355|1    |\n",
            "|2025-07-11 21:33:47.405|2    |\n",
            "|2025-07-11 21:33:47.455|3    |\n",
            "|2025-07-11 21:33:47.505|4    |\n",
            "|2025-07-11 21:33:47.555|5    |\n",
            "|2025-07-11 21:33:47.605|6    |\n",
            "|2025-07-11 21:33:47.655|7    |\n",
            "|2025-07-11 21:33:47.705|8    |\n",
            "|2025-07-11 21:33:47.755|9    |\n",
            "|2025-07-11 21:33:47.805|10   |\n",
            "|2025-07-11 21:33:47.855|11   |\n",
            "|2025-07-11 21:33:47.905|12   |\n",
            "|2025-07-11 21:33:47.955|13   |\n",
            "|2025-07-11 21:33:48.005|14   |\n",
            "|2025-07-11 21:33:48.055|15   |\n",
            "|2025-07-11 21:33:48.105|16   |\n",
            "|2025-07-11 21:33:48.155|17   |\n",
            "|2025-07-11 21:33:48.205|18   |\n",
            "|2025-07-11 21:33:48.255|19   |\n",
            "+-----------------------+-----+\n",
            "only showing top 20 rows\n",
            "\n"
          ]
        }
      ]
    },
    {
      "cell_type": "markdown",
      "source": [
        "# Transfor streaming dataframe"
      ],
      "metadata": {
        "id": "4_hEFAhyYQal"
      }
    },
    {
      "cell_type": "code",
      "source": [
        "transformed = stream.withColumn(\"value2\", F.col(\"value\") * 2)"
      ],
      "metadata": {
        "id": "IAbwZKKCXiyZ"
      },
      "execution_count": 13,
      "outputs": []
    },
    {
      "cell_type": "code",
      "source": [
        "transformed.isStreaming"
      ],
      "metadata": {
        "colab": {
          "base_uri": "https://localhost:8080/"
        },
        "id": "vbkiThdYYgjY",
        "outputId": "efe927b2-2f63-4cee-da2b-194dedb51c91"
      },
      "execution_count": 16,
      "outputs": [
        {
          "output_type": "execute_result",
          "data": {
            "text/plain": [
              "True"
            ]
          },
          "metadata": {},
          "execution_count": 16
        }
      ]
    },
    {
      "cell_type": "markdown",
      "source": [
        "# write streaming dataframe - format memory\n",
        "- writeStream\n",
        "- format(\"memory\")\n",
        "- queryName\n",
        "- outputMode\n",
        "- start"
      ],
      "metadata": {
        "id": "y-mXyFIVYrh6"
      }
    },
    {
      "cell_type": "code",
      "source": [
        "query = (transformed.writeStream\n",
        "  .format('memory')\n",
        "  .queryName('rate_report')\n",
        "  .outputMode('append')\n",
        "  .start()\n",
        ")"
      ],
      "metadata": {
        "id": "jJF7nz-eYooL"
      },
      "execution_count": 17,
      "outputs": []
    },
    {
      "cell_type": "markdown",
      "source": [
        "# Checking result table"
      ],
      "metadata": {
        "id": "VaP6GAg8bUiD"
      }
    },
    {
      "cell_type": "code",
      "source": [
        "# StreamingQuery\n",
        "type(query)"
      ],
      "metadata": {
        "colab": {
          "base_uri": "https://localhost:8080/",
          "height": 187
        },
        "id": "aCZ2yxZ6aGk-",
        "outputId": "986e4819-684b-4171-9261-7328538d20ae"
      },
      "execution_count": 18,
      "outputs": [
        {
          "output_type": "execute_result",
          "data": {
            "text/plain": [
              "pyspark.sql.streaming.query.StreamingQuery"
            ],
            "text/html": [
              "<div style=\"max-width:800px; border: 1px solid var(--colab-border-color);\"><style>\n",
              "      pre.function-repr-contents {\n",
              "        overflow-x: auto;\n",
              "        padding: 8px 12px;\n",
              "        max-height: 500px;\n",
              "      }\n",
              "\n",
              "      pre.function-repr-contents.function-repr-contents-collapsed {\n",
              "        cursor: pointer;\n",
              "        max-height: 100px;\n",
              "      }\n",
              "    </style>\n",
              "    <pre style=\"white-space: initial; background:\n",
              "         var(--colab-secondary-surface-color); padding: 8px 12px;\n",
              "         border-bottom: 1px solid var(--colab-border-color);\"><b>pyspark.sql.streaming.query.StreamingQuery</b><br/>def __init__(jsq: JavaObject) -&gt; None</pre><pre class=\"function-repr-contents function-repr-contents-collapsed\" style=\"\"><a class=\"filepath\" style=\"display:none\" href=\"#\">/usr/local/lib/python3.11/dist-packages/pyspark/sql/streaming/query.py</a>A handle to a query that is executing continuously in the background as new data arrives.\n",
              "All these methods are thread-safe.\n",
              "\n",
              ".. versionadded:: 2.0.0\n",
              "\n",
              ".. versionchanged:: 3.5.0\n",
              "    Supports Spark Connect.\n",
              "\n",
              "Notes\n",
              "-----\n",
              "This API is evolving.</pre>\n",
              "      <script>\n",
              "      if (google.colab.kernel.accessAllowed && google.colab.files && google.colab.files.view) {\n",
              "        for (const element of document.querySelectorAll('.filepath')) {\n",
              "          element.style.display = 'block'\n",
              "          element.onclick = (event) => {\n",
              "            event.preventDefault();\n",
              "            event.stopPropagation();\n",
              "            google.colab.files.view(element.textContent, 32);\n",
              "          };\n",
              "        }\n",
              "      }\n",
              "      for (const element of document.querySelectorAll('.function-repr-contents')) {\n",
              "        element.onclick = (event) => {\n",
              "          event.preventDefault();\n",
              "          event.stopPropagation();\n",
              "          element.classList.toggle('function-repr-contents-collapsed');\n",
              "        };\n",
              "      }\n",
              "      </script>\n",
              "      </div>"
            ]
          },
          "metadata": {},
          "execution_count": 18
        }
      ]
    },
    {
      "cell_type": "code",
      "source": [
        "print(spark.table(\"rate_report\").count())\n",
        "spark.table(\"rate_report\").show(20, False)\n",
        "\n",
        "# one line per second"
      ],
      "metadata": {
        "colab": {
          "base_uri": "https://localhost:8080/"
        },
        "id": "EFigRYqmZ0Hp",
        "outputId": "4c941bc7-86fb-4f21-ea3c-030bb1d06db7"
      },
      "execution_count": 19,
      "outputs": [
        {
          "output_type": "stream",
          "name": "stdout",
          "text": [
            "8\n",
            "+-----------------------+-----+------+\n",
            "|timestamp              |value|value2|\n",
            "+-----------------------+-----+------+\n",
            "|2025-07-11 21:29:07.709|0    |0     |\n",
            "|2025-07-11 21:29:08.709|1    |2     |\n",
            "|2025-07-11 21:29:09.709|2    |4     |\n",
            "|2025-07-11 21:29:10.709|3    |6     |\n",
            "|2025-07-11 21:29:11.709|4    |8     |\n",
            "|2025-07-11 21:29:12.709|5    |10    |\n",
            "|2025-07-11 21:29:13.709|6    |12    |\n",
            "|2025-07-11 21:29:14.709|7    |14    |\n",
            "|2025-07-11 21:29:15.709|8    |16    |\n",
            "|2025-07-11 21:29:16.709|9    |18    |\n",
            "|2025-07-11 21:29:17.709|10   |20    |\n",
            "|2025-07-11 21:29:18.709|11   |22    |\n",
            "|2025-07-11 21:29:19.709|12   |24    |\n",
            "+-----------------------+-----+------+\n",
            "\n"
          ]
        }
      ]
    },
    {
      "cell_type": "code",
      "source": [
        "query.status"
      ],
      "metadata": {
        "colab": {
          "base_uri": "https://localhost:8080/"
        },
        "id": "fmDd4IvkZ4Nk",
        "outputId": "3d55252e-dbdc-4ed6-da9a-e7416b5d3d3a"
      },
      "execution_count": 24,
      "outputs": [
        {
          "output_type": "execute_result",
          "data": {
            "text/plain": [
              "{'message': 'Waiting for data to arrive',\n",
              " 'isDataAvailable': False,\n",
              " 'isTriggerActive': False}"
            ]
          },
          "metadata": {},
          "execution_count": 24
        }
      ]
    },
    {
      "cell_type": "code",
      "source": [
        "query.isActive"
      ],
      "metadata": {
        "colab": {
          "base_uri": "https://localhost:8080/"
        },
        "id": "zHiq0hvgaORE",
        "outputId": "11a61e42-851a-4d36-deb1-6118bec24101"
      },
      "execution_count": 25,
      "outputs": [
        {
          "output_type": "execute_result",
          "data": {
            "text/plain": [
              "True"
            ]
          },
          "metadata": {},
          "execution_count": 25
        }
      ]
    },
    {
      "cell_type": "code",
      "source": [
        "query.recentProgress"
      ],
      "metadata": {
        "colab": {
          "base_uri": "https://localhost:8080/"
        },
        "id": "m1-n-DWFaQLs",
        "outputId": "b2c532af-dc8e-415a-e1c5-d5690f9056d6"
      },
      "execution_count": 26,
      "outputs": [
        {
          "output_type": "execute_result",
          "data": {
            "text/plain": [
              "[{'id': 'dd4b6135-223c-4820-9792-42ce4d6f9729',\n",
              "  'runId': 'b1894848-fb8d-467e-8dac-466963b9fa02',\n",
              "  'name': 'rate_report',\n",
              "  'timestamp': '2025-07-11T21:29:07.847Z',\n",
              "  'batchId': 0,\n",
              "  'numInputRows': 0,\n",
              "  'inputRowsPerSecond': 0.0,\n",
              "  'processedRowsPerSecond': 0.0,\n",
              "  'durationMs': {'addBatch': 1589,\n",
              "   'commitOffsets': 70,\n",
              "   'getBatch': 4,\n",
              "   'latestOffset': 0,\n",
              "   'queryPlanning': 86,\n",
              "   'triggerExecution': 1878,\n",
              "   'walCommit': 98},\n",
              "  'stateOperators': [],\n",
              "  'sources': [{'description': 'RateStreamV2[rowsPerSecond=1, rampUpTimeSeconds=0, numPartitions=default',\n",
              "    'startOffset': None,\n",
              "    'endOffset': 0,\n",
              "    'latestOffset': 0,\n",
              "    'numInputRows': 0,\n",
              "    'inputRowsPerSecond': 0.0,\n",
              "    'processedRowsPerSecond': 0.0}],\n",
              "  'sink': {'description': 'MemorySink', 'numOutputRows': 0}},\n",
              " {'id': 'dd4b6135-223c-4820-9792-42ce4d6f9729',\n",
              "  'runId': 'b1894848-fb8d-467e-8dac-466963b9fa02',\n",
              "  'name': 'rate_report',\n",
              "  'timestamp': '2025-07-11T21:29:09.785Z',\n",
              "  'batchId': 1,\n",
              "  'numInputRows': 2,\n",
              "  'inputRowsPerSecond': 1.0319917440660475,\n",
              "  'processedRowsPerSecond': 2.3781212841854935,\n",
              "  'durationMs': {'addBatch': 639,\n",
              "   'commitOffsets': 81,\n",
              "   'getBatch': 0,\n",
              "   'latestOffset': 0,\n",
              "   'queryPlanning': 45,\n",
              "   'triggerExecution': 841,\n",
              "   'walCommit': 70},\n",
              "  'stateOperators': [],\n",
              "  'sources': [{'description': 'RateStreamV2[rowsPerSecond=1, rampUpTimeSeconds=0, numPartitions=default',\n",
              "    'startOffset': 0,\n",
              "    'endOffset': 2,\n",
              "    'latestOffset': 2,\n",
              "    'numInputRows': 2,\n",
              "    'inputRowsPerSecond': 1.0319917440660475,\n",
              "    'processedRowsPerSecond': 2.3781212841854935}],\n",
              "  'sink': {'description': 'MemorySink', 'numOutputRows': 2}},\n",
              " {'id': 'dd4b6135-223c-4820-9792-42ce4d6f9729',\n",
              "  'runId': 'b1894848-fb8d-467e-8dac-466963b9fa02',\n",
              "  'name': 'rate_report',\n",
              "  'timestamp': '2025-07-11T21:29:10.711Z',\n",
              "  'batchId': 2,\n",
              "  'numInputRows': 1,\n",
              "  'inputRowsPerSecond': 83.33333333333333,\n",
              "  'processedRowsPerSecond': 3.7878787878787876,\n",
              "  'durationMs': {'addBatch': 160,\n",
              "   'commitOffsets': 46,\n",
              "   'getBatch': 0,\n",
              "   'latestOffset': 0,\n",
              "   'queryPlanning': 22,\n",
              "   'triggerExecution': 264,\n",
              "   'walCommit': 35},\n",
              "  'stateOperators': [],\n",
              "  'sources': [{'description': 'RateStreamV2[rowsPerSecond=1, rampUpTimeSeconds=0, numPartitions=default',\n",
              "    'startOffset': 2,\n",
              "    'endOffset': 3,\n",
              "    'latestOffset': 3,\n",
              "    'numInputRows': 1,\n",
              "    'inputRowsPerSecond': 83.33333333333333,\n",
              "    'processedRowsPerSecond': 3.7878787878787876}],\n",
              "  'sink': {'description': 'MemorySink', 'numOutputRows': 1}},\n",
              " {'id': 'dd4b6135-223c-4820-9792-42ce4d6f9729',\n",
              "  'runId': 'b1894848-fb8d-467e-8dac-466963b9fa02',\n",
              "  'name': 'rate_report',\n",
              "  'timestamp': '2025-07-11T21:29:11.712Z',\n",
              "  'batchId': 3,\n",
              "  'numInputRows': 1,\n",
              "  'inputRowsPerSecond': 90.90909090909092,\n",
              "  'processedRowsPerSecond': 4.048582995951417,\n",
              "  'durationMs': {'addBatch': 144,\n",
              "   'commitOffsets': 44,\n",
              "   'getBatch': 0,\n",
              "   'latestOffset': 0,\n",
              "   'queryPlanning': 20,\n",
              "   'triggerExecution': 247,\n",
              "   'walCommit': 38},\n",
              "  'stateOperators': [],\n",
              "  'sources': [{'description': 'RateStreamV2[rowsPerSecond=1, rampUpTimeSeconds=0, numPartitions=default',\n",
              "    'startOffset': 3,\n",
              "    'endOffset': 4,\n",
              "    'latestOffset': 4,\n",
              "    'numInputRows': 1,\n",
              "    'inputRowsPerSecond': 90.90909090909092,\n",
              "    'processedRowsPerSecond': 4.048582995951417}],\n",
              "  'sink': {'description': 'MemorySink', 'numOutputRows': 1}},\n",
              " {'id': 'dd4b6135-223c-4820-9792-42ce4d6f9729',\n",
              "  'runId': 'b1894848-fb8d-467e-8dac-466963b9fa02',\n",
              "  'name': 'rate_report',\n",
              "  'timestamp': '2025-07-11T21:29:12.718Z',\n",
              "  'batchId': 4,\n",
              "  'numInputRows': 1,\n",
              "  'inputRowsPerSecond': 90.90909090909092,\n",
              "  'processedRowsPerSecond': 4.065040650406504,\n",
              "  'durationMs': {'addBatch': 127,\n",
              "   'commitOffsets': 66,\n",
              "   'getBatch': 0,\n",
              "   'latestOffset': 0,\n",
              "   'queryPlanning': 20,\n",
              "   'triggerExecution': 246,\n",
              "   'walCommit': 31},\n",
              "  'stateOperators': [],\n",
              "  'sources': [{'description': 'RateStreamV2[rowsPerSecond=1, rampUpTimeSeconds=0, numPartitions=default',\n",
              "    'startOffset': 4,\n",
              "    'endOffset': 5,\n",
              "    'latestOffset': 5,\n",
              "    'numInputRows': 1,\n",
              "    'inputRowsPerSecond': 90.90909090909092,\n",
              "    'processedRowsPerSecond': 4.065040650406504}],\n",
              "  'sink': {'description': 'MemorySink', 'numOutputRows': 1}},\n",
              " {'id': 'dd4b6135-223c-4820-9792-42ce4d6f9729',\n",
              "  'runId': 'b1894848-fb8d-467e-8dac-466963b9fa02',\n",
              "  'name': 'rate_report',\n",
              "  'timestamp': '2025-07-11T21:29:13.714Z',\n",
              "  'batchId': 5,\n",
              "  'numInputRows': 1,\n",
              "  'inputRowsPerSecond': 90.90909090909092,\n",
              "  'processedRowsPerSecond': 4.032258064516129,\n",
              "  'durationMs': {'addBatch': 131,\n",
              "   'commitOffsets': 40,\n",
              "   'getBatch': 0,\n",
              "   'latestOffset': 0,\n",
              "   'queryPlanning': 33,\n",
              "   'triggerExecution': 248,\n",
              "   'walCommit': 41},\n",
              "  'stateOperators': [],\n",
              "  'sources': [{'description': 'RateStreamV2[rowsPerSecond=1, rampUpTimeSeconds=0, numPartitions=default',\n",
              "    'startOffset': 5,\n",
              "    'endOffset': 6,\n",
              "    'latestOffset': 6,\n",
              "    'numInputRows': 1,\n",
              "    'inputRowsPerSecond': 90.90909090909092,\n",
              "    'processedRowsPerSecond': 4.032258064516129}],\n",
              "  'sink': {'description': 'MemorySink', 'numOutputRows': 1}},\n",
              " {'id': 'dd4b6135-223c-4820-9792-42ce4d6f9729',\n",
              "  'runId': 'b1894848-fb8d-467e-8dac-466963b9fa02',\n",
              "  'name': 'rate_report',\n",
              "  'timestamp': '2025-07-11T21:29:14.717Z',\n",
              "  'batchId': 6,\n",
              "  'numInputRows': 1,\n",
              "  'inputRowsPerSecond': 90.90909090909092,\n",
              "  'processedRowsPerSecond': 4.273504273504273,\n",
              "  'durationMs': {'addBatch': 128,\n",
              "   'commitOffsets': 43,\n",
              "   'getBatch': 0,\n",
              "   'latestOffset': 0,\n",
              "   'queryPlanning': 18,\n",
              "   'triggerExecution': 234,\n",
              "   'walCommit': 40},\n",
              "  'stateOperators': [],\n",
              "  'sources': [{'description': 'RateStreamV2[rowsPerSecond=1, rampUpTimeSeconds=0, numPartitions=default',\n",
              "    'startOffset': 6,\n",
              "    'endOffset': 7,\n",
              "    'latestOffset': 7,\n",
              "    'numInputRows': 1,\n",
              "    'inputRowsPerSecond': 90.90909090909092,\n",
              "    'processedRowsPerSecond': 4.273504273504273}],\n",
              "  'sink': {'description': 'MemorySink', 'numOutputRows': 1}},\n",
              " {'id': 'dd4b6135-223c-4820-9792-42ce4d6f9729',\n",
              "  'runId': 'b1894848-fb8d-467e-8dac-466963b9fa02',\n",
              "  'name': 'rate_report',\n",
              "  'timestamp': '2025-07-11T21:29:15.710Z',\n",
              "  'batchId': 7,\n",
              "  'numInputRows': 1,\n",
              "  'inputRowsPerSecond': 90.90909090909092,\n",
              "  'processedRowsPerSecond': 2.3094688221709005,\n",
              "  'durationMs': {'addBatch': 200,\n",
              "   'commitOffsets': 59,\n",
              "   'getBatch': 0,\n",
              "   'latestOffset': 0,\n",
              "   'queryPlanning': 58,\n",
              "   'triggerExecution': 433,\n",
              "   'walCommit': 114},\n",
              "  'stateOperators': [],\n",
              "  'sources': [{'description': 'RateStreamV2[rowsPerSecond=1, rampUpTimeSeconds=0, numPartitions=default',\n",
              "    'startOffset': 7,\n",
              "    'endOffset': 8,\n",
              "    'latestOffset': 8,\n",
              "    'numInputRows': 1,\n",
              "    'inputRowsPerSecond': 90.90909090909092,\n",
              "    'processedRowsPerSecond': 2.3094688221709005}],\n",
              "  'sink': {'description': 'MemorySink', 'numOutputRows': 1}},\n",
              " {'id': 'dd4b6135-223c-4820-9792-42ce4d6f9729',\n",
              "  'runId': 'b1894848-fb8d-467e-8dac-466963b9fa02',\n",
              "  'name': 'rate_report',\n",
              "  'timestamp': '2025-07-11T21:29:16.718Z',\n",
              "  'batchId': 8,\n",
              "  'numInputRows': 1,\n",
              "  'inputRowsPerSecond': 90.90909090909092,\n",
              "  'processedRowsPerSecond': 1.8115942028985506,\n",
              "  'durationMs': {'addBatch': 219,\n",
              "   'commitOffsets': 171,\n",
              "   'getBatch': 0,\n",
              "   'latestOffset': 0,\n",
              "   'queryPlanning': 44,\n",
              "   'triggerExecution': 552,\n",
              "   'walCommit': 117},\n",
              "  'stateOperators': [],\n",
              "  'sources': [{'description': 'RateStreamV2[rowsPerSecond=1, rampUpTimeSeconds=0, numPartitions=default',\n",
              "    'startOffset': 8,\n",
              "    'endOffset': 9,\n",
              "    'latestOffset': 9,\n",
              "    'numInputRows': 1,\n",
              "    'inputRowsPerSecond': 90.90909090909092,\n",
              "    'processedRowsPerSecond': 1.8115942028985506}],\n",
              "  'sink': {'description': 'MemorySink', 'numOutputRows': 1}},\n",
              " {'id': 'dd4b6135-223c-4820-9792-42ce4d6f9729',\n",
              "  'runId': 'b1894848-fb8d-467e-8dac-466963b9fa02',\n",
              "  'name': 'rate_report',\n",
              "  'timestamp': '2025-07-11T21:29:17.717Z',\n",
              "  'batchId': 9,\n",
              "  'numInputRows': 1,\n",
              "  'inputRowsPerSecond': 100.0,\n",
              "  'processedRowsPerSecond': 1.5360983102918586,\n",
              "  'durationMs': {'addBatch': 295,\n",
              "   'commitOffsets': 145,\n",
              "   'getBatch': 0,\n",
              "   'latestOffset': 0,\n",
              "   'queryPlanning': 61,\n",
              "   'triggerExecution': 650,\n",
              "   'walCommit': 147},\n",
              "  'stateOperators': [],\n",
              "  'sources': [{'description': 'RateStreamV2[rowsPerSecond=1, rampUpTimeSeconds=0, numPartitions=default',\n",
              "    'startOffset': 9,\n",
              "    'endOffset': 10,\n",
              "    'latestOffset': 10,\n",
              "    'numInputRows': 1,\n",
              "    'inputRowsPerSecond': 100.0,\n",
              "    'processedRowsPerSecond': 1.5360983102918586}],\n",
              "  'sink': {'description': 'MemorySink', 'numOutputRows': 1}},\n",
              " {'id': 'dd4b6135-223c-4820-9792-42ce4d6f9729',\n",
              "  'runId': 'b1894848-fb8d-467e-8dac-466963b9fa02',\n",
              "  'name': 'rate_report',\n",
              "  'timestamp': '2025-07-11T21:29:18.709Z',\n",
              "  'batchId': 10,\n",
              "  'numInputRows': 1,\n",
              "  'inputRowsPerSecond': 90.90909090909092,\n",
              "  'processedRowsPerSecond': 1.4684287812041115,\n",
              "  'durationMs': {'addBatch': 316,\n",
              "   'commitOffsets': 160,\n",
              "   'getBatch': 0,\n",
              "   'latestOffset': 0,\n",
              "   'queryPlanning': 52,\n",
              "   'triggerExecution': 681,\n",
              "   'walCommit': 152},\n",
              "  'stateOperators': [],\n",
              "  'sources': [{'description': 'RateStreamV2[rowsPerSecond=1, rampUpTimeSeconds=0, numPartitions=default',\n",
              "    'startOffset': 10,\n",
              "    'endOffset': 11,\n",
              "    'latestOffset': 11,\n",
              "    'numInputRows': 1,\n",
              "    'inputRowsPerSecond': 90.90909090909092,\n",
              "    'processedRowsPerSecond': 1.4684287812041115}],\n",
              "  'sink': {'description': 'MemorySink', 'numOutputRows': 1}},\n",
              " {'id': 'dd4b6135-223c-4820-9792-42ce4d6f9729',\n",
              "  'runId': 'b1894848-fb8d-467e-8dac-466963b9fa02',\n",
              "  'name': 'rate_report',\n",
              "  'timestamp': '2025-07-11T21:29:19.709Z',\n",
              "  'batchId': 11,\n",
              "  'numInputRows': 1,\n",
              "  'inputRowsPerSecond': 100.0,\n",
              "  'processedRowsPerSecond': 1.335113484646195,\n",
              "  'durationMs': {'addBatch': 425,\n",
              "   'commitOffsets': 144,\n",
              "   'getBatch': 0,\n",
              "   'latestOffset': 0,\n",
              "   'queryPlanning': 52,\n",
              "   'triggerExecution': 749,\n",
              "   'walCommit': 124},\n",
              "  'stateOperators': [],\n",
              "  'sources': [{'description': 'RateStreamV2[rowsPerSecond=1, rampUpTimeSeconds=0, numPartitions=default',\n",
              "    'startOffset': 11,\n",
              "    'endOffset': 12,\n",
              "    'latestOffset': 12,\n",
              "    'numInputRows': 1,\n",
              "    'inputRowsPerSecond': 100.0,\n",
              "    'processedRowsPerSecond': 1.335113484646195}],\n",
              "  'sink': {'description': 'MemorySink', 'numOutputRows': 1}},\n",
              " {'id': 'dd4b6135-223c-4820-9792-42ce4d6f9729',\n",
              "  'runId': 'b1894848-fb8d-467e-8dac-466963b9fa02',\n",
              "  'name': 'rate_report',\n",
              "  'timestamp': '2025-07-11T21:29:20.717Z',\n",
              "  'batchId': 12,\n",
              "  'numInputRows': 1,\n",
              "  'inputRowsPerSecond': 90.90909090909092,\n",
              "  'processedRowsPerSecond': 2.2831050228310503,\n",
              "  'durationMs': {'addBatch': 152,\n",
              "   'commitOffsets': 144,\n",
              "   'getBatch': 0,\n",
              "   'latestOffset': 0,\n",
              "   'queryPlanning': 20,\n",
              "   'triggerExecution': 438,\n",
              "   'walCommit': 121},\n",
              "  'stateOperators': [],\n",
              "  'sources': [{'description': 'RateStreamV2[rowsPerSecond=1, rampUpTimeSeconds=0, numPartitions=default',\n",
              "    'startOffset': 12,\n",
              "    'endOffset': 13,\n",
              "    'latestOffset': 13,\n",
              "    'numInputRows': 1,\n",
              "    'inputRowsPerSecond': 90.90909090909092,\n",
              "    'processedRowsPerSecond': 2.2831050228310503}],\n",
              "  'sink': {'description': 'MemorySink', 'numOutputRows': 1}},\n",
              " {'id': 'dd4b6135-223c-4820-9792-42ce4d6f9729',\n",
              "  'runId': 'b1894848-fb8d-467e-8dac-466963b9fa02',\n",
              "  'name': 'rate_report',\n",
              "  'timestamp': '2025-07-11T21:29:21.717Z',\n",
              "  'batchId': 13,\n",
              "  'numInputRows': 1,\n",
              "  'inputRowsPerSecond': 100.0,\n",
              "  'processedRowsPerSecond': 1.718213058419244,\n",
              "  'durationMs': {'addBatch': 309,\n",
              "   'commitOffsets': 54,\n",
              "   'getBatch': 0,\n",
              "   'latestOffset': 0,\n",
              "   'queryPlanning': 31,\n",
              "   'triggerExecution': 581,\n",
              "   'walCommit': 186},\n",
              "  'stateOperators': [],\n",
              "  'sources': [{'description': 'RateStreamV2[rowsPerSecond=1, rampUpTimeSeconds=0, numPartitions=default',\n",
              "    'startOffset': 13,\n",
              "    'endOffset': 14,\n",
              "    'latestOffset': 14,\n",
              "    'numInputRows': 1,\n",
              "    'inputRowsPerSecond': 100.0,\n",
              "    'processedRowsPerSecond': 1.718213058419244}],\n",
              "  'sink': {'description': 'MemorySink', 'numOutputRows': 1}},\n",
              " {'id': 'dd4b6135-223c-4820-9792-42ce4d6f9729',\n",
              "  'runId': 'b1894848-fb8d-467e-8dac-466963b9fa02',\n",
              "  'name': 'rate_report',\n",
              "  'timestamp': '2025-07-11T21:29:22.715Z',\n",
              "  'batchId': 14,\n",
              "  'numInputRows': 1,\n",
              "  'inputRowsPerSecond': 100.0,\n",
              "  'processedRowsPerSecond': 5.2356020942408374,\n",
              "  'durationMs': {'addBatch': 90,\n",
              "   'commitOffsets': 55,\n",
              "   'getBatch': 0,\n",
              "   'latestOffset': 0,\n",
              "   'queryPlanning': 13,\n",
              "   'triggerExecution': 191,\n",
              "   'walCommit': 30},\n",
              "  'stateOperators': [],\n",
              "  'sources': [{'description': 'RateStreamV2[rowsPerSecond=1, rampUpTimeSeconds=0, numPartitions=default',\n",
              "    'startOffset': 14,\n",
              "    'endOffset': 15,\n",
              "    'latestOffset': 15,\n",
              "    'numInputRows': 1,\n",
              "    'inputRowsPerSecond': 100.0,\n",
              "    'processedRowsPerSecond': 5.2356020942408374}],\n",
              "  'sink': {'description': 'MemorySink', 'numOutputRows': 1}},\n",
              " {'id': 'dd4b6135-223c-4820-9792-42ce4d6f9729',\n",
              "  'runId': 'b1894848-fb8d-467e-8dac-466963b9fa02',\n",
              "  'name': 'rate_report',\n",
              "  'timestamp': '2025-07-11T21:29:23.710Z',\n",
              "  'batchId': 15,\n",
              "  'numInputRows': 1,\n",
              "  'inputRowsPerSecond': 100.0,\n",
              "  'processedRowsPerSecond': 2.3094688221709005,\n",
              "  'durationMs': {'addBatch': 181,\n",
              "   'commitOffsets': 197,\n",
              "   'getBatch': 0,\n",
              "   'latestOffset': 0,\n",
              "   'queryPlanning': 18,\n",
              "   'triggerExecution': 433,\n",
              "   'walCommit': 35},\n",
              "  'stateOperators': [],\n",
              "  'sources': [{'description': 'RateStreamV2[rowsPerSecond=1, rampUpTimeSeconds=0, numPartitions=default',\n",
              "    'startOffset': 15,\n",
              "    'endOffset': 16,\n",
              "    'latestOffset': 16,\n",
              "    'numInputRows': 1,\n",
              "    'inputRowsPerSecond': 100.0,\n",
              "    'processedRowsPerSecond': 2.3094688221709005}],\n",
              "  'sink': {'description': 'MemorySink', 'numOutputRows': 1}},\n",
              " {'id': 'dd4b6135-223c-4820-9792-42ce4d6f9729',\n",
              "  'runId': 'b1894848-fb8d-467e-8dac-466963b9fa02',\n",
              "  'name': 'rate_report',\n",
              "  'timestamp': '2025-07-11T21:29:24.714Z',\n",
              "  'batchId': 16,\n",
              "  'numInputRows': 1,\n",
              "  'inputRowsPerSecond': 90.90909090909092,\n",
              "  'processedRowsPerSecond': 4.566210045662101,\n",
              "  'durationMs': {'addBatch': 115,\n",
              "   'commitOffsets': 45,\n",
              "   'getBatch': 0,\n",
              "   'latestOffset': 0,\n",
              "   'queryPlanning': 20,\n",
              "   'triggerExecution': 219,\n",
              "   'walCommit': 37},\n",
              "  'stateOperators': [],\n",
              "  'sources': [{'description': 'RateStreamV2[rowsPerSecond=1, rampUpTimeSeconds=0, numPartitions=default',\n",
              "    'startOffset': 16,\n",
              "    'endOffset': 17,\n",
              "    'latestOffset': 17,\n",
              "    'numInputRows': 1,\n",
              "    'inputRowsPerSecond': 90.90909090909092,\n",
              "    'processedRowsPerSecond': 4.566210045662101}],\n",
              "  'sink': {'description': 'MemorySink', 'numOutputRows': 1}},\n",
              " {'id': 'dd4b6135-223c-4820-9792-42ce4d6f9729',\n",
              "  'runId': 'b1894848-fb8d-467e-8dac-466963b9fa02',\n",
              "  'name': 'rate_report',\n",
              "  'timestamp': '2025-07-11T21:29:25.709Z',\n",
              "  'batchId': 17,\n",
              "  'numInputRows': 1,\n",
              "  'inputRowsPerSecond': 90.90909090909092,\n",
              "  'processedRowsPerSecond': 4.8076923076923075,\n",
              "  'durationMs': {'addBatch': 89,\n",
              "   'commitOffsets': 73,\n",
              "   'getBatch': 0,\n",
              "   'latestOffset': 0,\n",
              "   'queryPlanning': 16,\n",
              "   'triggerExecution': 208,\n",
              "   'walCommit': 27},\n",
              "  'stateOperators': [],\n",
              "  'sources': [{'description': 'RateStreamV2[rowsPerSecond=1, rampUpTimeSeconds=0, numPartitions=default',\n",
              "    'startOffset': 17,\n",
              "    'endOffset': 18,\n",
              "    'latestOffset': 18,\n",
              "    'numInputRows': 1,\n",
              "    'inputRowsPerSecond': 90.90909090909092,\n",
              "    'processedRowsPerSecond': 4.8076923076923075}],\n",
              "  'sink': {'description': 'MemorySink', 'numOutputRows': 1}},\n",
              " {'id': 'dd4b6135-223c-4820-9792-42ce4d6f9729',\n",
              "  'runId': 'b1894848-fb8d-467e-8dac-466963b9fa02',\n",
              "  'name': 'rate_report',\n",
              "  'timestamp': '2025-07-11T21:29:26.710Z',\n",
              "  'batchId': 18,\n",
              "  'numInputRows': 1,\n",
              "  'inputRowsPerSecond': 100.0,\n",
              "  'processedRowsPerSecond': 4.385964912280701,\n",
              "  'durationMs': {'addBatch': 84,\n",
              "   'commitOffsets': 95,\n",
              "   'getBatch': 0,\n",
              "   'latestOffset': 0,\n",
              "   'queryPlanning': 15,\n",
              "   'triggerExecution': 228,\n",
              "   'walCommit': 32},\n",
              "  'stateOperators': [],\n",
              "  'sources': [{'description': 'RateStreamV2[rowsPerSecond=1, rampUpTimeSeconds=0, numPartitions=default',\n",
              "    'startOffset': 18,\n",
              "    'endOffset': 19,\n",
              "    'latestOffset': 19,\n",
              "    'numInputRows': 1,\n",
              "    'inputRowsPerSecond': 100.0,\n",
              "    'processedRowsPerSecond': 4.385964912280701}],\n",
              "  'sink': {'description': 'MemorySink', 'numOutputRows': 1}},\n",
              " {'id': 'dd4b6135-223c-4820-9792-42ce4d6f9729',\n",
              "  'runId': 'b1894848-fb8d-467e-8dac-466963b9fa02',\n",
              "  'name': 'rate_report',\n",
              "  'timestamp': '2025-07-11T21:29:27.715Z',\n",
              "  'batchId': 19,\n",
              "  'numInputRows': 1,\n",
              "  'inputRowsPerSecond': 90.90909090909092,\n",
              "  'processedRowsPerSecond': 5.9171597633136095,\n",
              "  'durationMs': {'addBatch': 88,\n",
              "   'commitOffsets': 36,\n",
              "   'getBatch': 0,\n",
              "   'latestOffset': 0,\n",
              "   'queryPlanning': 15,\n",
              "   'triggerExecution': 169,\n",
              "   'walCommit': 29},\n",
              "  'stateOperators': [],\n",
              "  'sources': [{'description': 'RateStreamV2[rowsPerSecond=1, rampUpTimeSeconds=0, numPartitions=default',\n",
              "    'startOffset': 19,\n",
              "    'endOffset': 20,\n",
              "    'latestOffset': 20,\n",
              "    'numInputRows': 1,\n",
              "    'inputRowsPerSecond': 90.90909090909092,\n",
              "    'processedRowsPerSecond': 5.9171597633136095}],\n",
              "  'sink': {'description': 'MemorySink', 'numOutputRows': 1}},\n",
              " {'id': 'dd4b6135-223c-4820-9792-42ce4d6f9729',\n",
              "  'runId': 'b1894848-fb8d-467e-8dac-466963b9fa02',\n",
              "  'name': 'rate_report',\n",
              "  'timestamp': '2025-07-11T21:29:28.712Z',\n",
              "  'batchId': 20,\n",
              "  'numInputRows': 1,\n",
              "  'inputRowsPerSecond': 100.0,\n",
              "  'processedRowsPerSecond': 5.780346820809249,\n",
              "  'durationMs': {'addBatch': 85,\n",
              "   'commitOffsets': 45,\n",
              "   'getBatch': 0,\n",
              "   'latestOffset': 0,\n",
              "   'queryPlanning': 12,\n",
              "   'triggerExecution': 173,\n",
              "   'walCommit': 31},\n",
              "  'stateOperators': [],\n",
              "  'sources': [{'description': 'RateStreamV2[rowsPerSecond=1, rampUpTimeSeconds=0, numPartitions=default',\n",
              "    'startOffset': 20,\n",
              "    'endOffset': 21,\n",
              "    'latestOffset': 21,\n",
              "    'numInputRows': 1,\n",
              "    'inputRowsPerSecond': 100.0,\n",
              "    'processedRowsPerSecond': 5.780346820809249}],\n",
              "  'sink': {'description': 'MemorySink', 'numOutputRows': 1}},\n",
              " {'id': 'dd4b6135-223c-4820-9792-42ce4d6f9729',\n",
              "  'runId': 'b1894848-fb8d-467e-8dac-466963b9fa02',\n",
              "  'name': 'rate_report',\n",
              "  'timestamp': '2025-07-11T21:29:29.709Z',\n",
              "  'batchId': 21,\n",
              "  'numInputRows': 1,\n",
              "  'inputRowsPerSecond': 100.0,\n",
              "  'processedRowsPerSecond': 5.649717514124294,\n",
              "  'durationMs': {'addBatch': 76,\n",
              "   'commitOffsets': 55,\n",
              "   'getBatch': 0,\n",
              "   'latestOffset': 0,\n",
              "   'queryPlanning': 11,\n",
              "   'triggerExecution': 177,\n",
              "   'walCommit': 31},\n",
              "  'stateOperators': [],\n",
              "  'sources': [{'description': 'RateStreamV2[rowsPerSecond=1, rampUpTimeSeconds=0, numPartitions=default',\n",
              "    'startOffset': 21,\n",
              "    'endOffset': 22,\n",
              "    'latestOffset': 22,\n",
              "    'numInputRows': 1,\n",
              "    'inputRowsPerSecond': 100.0,\n",
              "    'processedRowsPerSecond': 5.649717514124294}],\n",
              "  'sink': {'description': 'MemorySink', 'numOutputRows': 1}},\n",
              " {'id': 'dd4b6135-223c-4820-9792-42ce4d6f9729',\n",
              "  'runId': 'b1894848-fb8d-467e-8dac-466963b9fa02',\n",
              "  'name': 'rate_report',\n",
              "  'timestamp': '2025-07-11T21:29:30.712Z',\n",
              "  'batchId': 22,\n",
              "  'numInputRows': 1,\n",
              "  'inputRowsPerSecond': 100.0,\n",
              "  'processedRowsPerSecond': 1.838235294117647,\n",
              "  'durationMs': {'addBatch': 296,\n",
              "   'commitOffsets': 168,\n",
              "   'getBatch': 0,\n",
              "   'latestOffset': 0,\n",
              "   'queryPlanning': 21,\n",
              "   'triggerExecution': 544,\n",
              "   'walCommit': 53},\n",
              "  'stateOperators': [],\n",
              "  'sources': [{'description': 'RateStreamV2[rowsPerSecond=1, rampUpTimeSeconds=0, numPartitions=default',\n",
              "    'startOffset': 22,\n",
              "    'endOffset': 23,\n",
              "    'latestOffset': 23,\n",
              "    'numInputRows': 1,\n",
              "    'inputRowsPerSecond': 100.0,\n",
              "    'processedRowsPerSecond': 1.838235294117647}],\n",
              "  'sink': {'description': 'MemorySink', 'numOutputRows': 1}},\n",
              " {'id': 'dd4b6135-223c-4820-9792-42ce4d6f9729',\n",
              "  'runId': 'b1894848-fb8d-467e-8dac-466963b9fa02',\n",
              "  'name': 'rate_report',\n",
              "  'timestamp': '2025-07-11T21:29:31.709Z',\n",
              "  'batchId': 23,\n",
              "  'numInputRows': 1,\n",
              "  'inputRowsPerSecond': 100.0,\n",
              "  'processedRowsPerSecond': 2.824858757062147,\n",
              "  'durationMs': {'addBatch': 115,\n",
              "   'commitOffsets': 92,\n",
              "   'getBatch': 0,\n",
              "   'latestOffset': 0,\n",
              "   'queryPlanning': 33,\n",
              "   'triggerExecution': 354,\n",
              "   'walCommit': 104},\n",
              "  'stateOperators': [],\n",
              "  'sources': [{'description': 'RateStreamV2[rowsPerSecond=1, rampUpTimeSeconds=0, numPartitions=default',\n",
              "    'startOffset': 23,\n",
              "    'endOffset': 24,\n",
              "    'latestOffset': 24,\n",
              "    'numInputRows': 1,\n",
              "    'inputRowsPerSecond': 100.0,\n",
              "    'processedRowsPerSecond': 2.824858757062147}],\n",
              "  'sink': {'description': 'MemorySink', 'numOutputRows': 1}},\n",
              " {'id': 'dd4b6135-223c-4820-9792-42ce4d6f9729',\n",
              "  'runId': 'b1894848-fb8d-467e-8dac-466963b9fa02',\n",
              "  'name': 'rate_report',\n",
              "  'timestamp': '2025-07-11T21:29:32.716Z',\n",
              "  'batchId': 24,\n",
              "  'numInputRows': 1,\n",
              "  'inputRowsPerSecond': 100.0,\n",
              "  'processedRowsPerSecond': 5.405405405405405,\n",
              "  'durationMs': {'addBatch': 90,\n",
              "   'commitOffsets': 35,\n",
              "   'getBatch': 0,\n",
              "   'latestOffset': 0,\n",
              "   'queryPlanning': 14,\n",
              "   'triggerExecution': 185,\n",
              "   'walCommit': 44},\n",
              "  'stateOperators': [],\n",
              "  'sources': [{'description': 'RateStreamV2[rowsPerSecond=1, rampUpTimeSeconds=0, numPartitions=default',\n",
              "    'startOffset': 24,\n",
              "    'endOffset': 25,\n",
              "    'latestOffset': 25,\n",
              "    'numInputRows': 1,\n",
              "    'inputRowsPerSecond': 100.0,\n",
              "    'processedRowsPerSecond': 5.405405405405405}],\n",
              "  'sink': {'description': 'MemorySink', 'numOutputRows': 1}},\n",
              " {'id': 'dd4b6135-223c-4820-9792-42ce4d6f9729',\n",
              "  'runId': 'b1894848-fb8d-467e-8dac-466963b9fa02',\n",
              "  'name': 'rate_report',\n",
              "  'timestamp': '2025-07-11T21:29:33.714Z',\n",
              "  'batchId': 25,\n",
              "  'numInputRows': 1,\n",
              "  'inputRowsPerSecond': 100.0,\n",
              "  'processedRowsPerSecond': 5.714285714285714,\n",
              "  'durationMs': {'addBatch': 72,\n",
              "   'commitOffsets': 47,\n",
              "   'getBatch': 0,\n",
              "   'latestOffset': 0,\n",
              "   'queryPlanning': 14,\n",
              "   'triggerExecution': 175,\n",
              "   'walCommit': 41},\n",
              "  'stateOperators': [],\n",
              "  'sources': [{'description': 'RateStreamV2[rowsPerSecond=1, rampUpTimeSeconds=0, numPartitions=default',\n",
              "    'startOffset': 25,\n",
              "    'endOffset': 26,\n",
              "    'latestOffset': 26,\n",
              "    'numInputRows': 1,\n",
              "    'inputRowsPerSecond': 100.0,\n",
              "    'processedRowsPerSecond': 5.714285714285714}],\n",
              "  'sink': {'description': 'MemorySink', 'numOutputRows': 1}},\n",
              " {'id': 'dd4b6135-223c-4820-9792-42ce4d6f9729',\n",
              "  'runId': 'b1894848-fb8d-467e-8dac-466963b9fa02',\n",
              "  'name': 'rate_report',\n",
              "  'timestamp': '2025-07-11T21:29:34.712Z',\n",
              "  'batchId': 26,\n",
              "  'numInputRows': 1,\n",
              "  'inputRowsPerSecond': 100.0,\n",
              "  'processedRowsPerSecond': 6.5359477124183005,\n",
              "  'durationMs': {'addBatch': 70,\n",
              "   'commitOffsets': 41,\n",
              "   'getBatch': 0,\n",
              "   'latestOffset': 0,\n",
              "   'queryPlanning': 12,\n",
              "   'triggerExecution': 153,\n",
              "   'walCommit': 30},\n",
              "  'stateOperators': [],\n",
              "  'sources': [{'description': 'RateStreamV2[rowsPerSecond=1, rampUpTimeSeconds=0, numPartitions=default',\n",
              "    'startOffset': 26,\n",
              "    'endOffset': 27,\n",
              "    'latestOffset': 27,\n",
              "    'numInputRows': 1,\n",
              "    'inputRowsPerSecond': 100.0,\n",
              "    'processedRowsPerSecond': 6.5359477124183005}],\n",
              "  'sink': {'description': 'MemorySink', 'numOutputRows': 1}},\n",
              " {'id': 'dd4b6135-223c-4820-9792-42ce4d6f9729',\n",
              "  'runId': 'b1894848-fb8d-467e-8dac-466963b9fa02',\n",
              "  'name': 'rate_report',\n",
              "  'timestamp': '2025-07-11T21:29:35.711Z',\n",
              "  'batchId': 27,\n",
              "  'numInputRows': 1,\n",
              "  'inputRowsPerSecond': 90.90909090909092,\n",
              "  'processedRowsPerSecond': 5.813953488372094,\n",
              "  'durationMs': {'addBatch': 87,\n",
              "   'commitOffsets': 39,\n",
              "   'getBatch': 0,\n",
              "   'latestOffset': 0,\n",
              "   'queryPlanning': 16,\n",
              "   'triggerExecution': 172,\n",
              "   'walCommit': 28},\n",
              "  'stateOperators': [],\n",
              "  'sources': [{'description': 'RateStreamV2[rowsPerSecond=1, rampUpTimeSeconds=0, numPartitions=default',\n",
              "    'startOffset': 27,\n",
              "    'endOffset': 28,\n",
              "    'latestOffset': 28,\n",
              "    'numInputRows': 1,\n",
              "    'inputRowsPerSecond': 90.90909090909092,\n",
              "    'processedRowsPerSecond': 5.813953488372094}],\n",
              "  'sink': {'description': 'MemorySink', 'numOutputRows': 1}},\n",
              " {'id': 'dd4b6135-223c-4820-9792-42ce4d6f9729',\n",
              "  'runId': 'b1894848-fb8d-467e-8dac-466963b9fa02',\n",
              "  'name': 'rate_report',\n",
              "  'timestamp': '2025-07-11T21:29:36.715Z',\n",
              "  'batchId': 28,\n",
              "  'numInputRows': 1,\n",
              "  'inputRowsPerSecond': 90.90909090909092,\n",
              "  'processedRowsPerSecond': 5.4945054945054945,\n",
              "  'durationMs': {'addBatch': 84,\n",
              "   'commitOffsets': 38,\n",
              "   'getBatch': 1,\n",
              "   'latestOffset': 0,\n",
              "   'queryPlanning': 24,\n",
              "   'triggerExecution': 182,\n",
              "   'walCommit': 35},\n",
              "  'stateOperators': [],\n",
              "  'sources': [{'description': 'RateStreamV2[rowsPerSecond=1, rampUpTimeSeconds=0, numPartitions=default',\n",
              "    'startOffset': 28,\n",
              "    'endOffset': 29,\n",
              "    'latestOffset': 29,\n",
              "    'numInputRows': 1,\n",
              "    'inputRowsPerSecond': 90.90909090909092,\n",
              "    'processedRowsPerSecond': 5.4945054945054945}],\n",
              "  'sink': {'description': 'MemorySink', 'numOutputRows': 1}},\n",
              " {'id': 'dd4b6135-223c-4820-9792-42ce4d6f9729',\n",
              "  'runId': 'b1894848-fb8d-467e-8dac-466963b9fa02',\n",
              "  'name': 'rate_report',\n",
              "  'timestamp': '2025-07-11T21:29:37.709Z',\n",
              "  'batchId': 29,\n",
              "  'numInputRows': 1,\n",
              "  'inputRowsPerSecond': 100.0,\n",
              "  'processedRowsPerSecond': 2.5906735751295336,\n",
              "  'durationMs': {'addBatch': 115,\n",
              "   'commitOffsets': 226,\n",
              "   'getBatch': 0,\n",
              "   'latestOffset': 0,\n",
              "   'queryPlanning': 13,\n",
              "   'triggerExecution': 386,\n",
              "   'walCommit': 31},\n",
              "  'stateOperators': [],\n",
              "  'sources': [{'description': 'RateStreamV2[rowsPerSecond=1, rampUpTimeSeconds=0, numPartitions=default',\n",
              "    'startOffset': 29,\n",
              "    'endOffset': 30,\n",
              "    'latestOffset': 30,\n",
              "    'numInputRows': 1,\n",
              "    'inputRowsPerSecond': 100.0,\n",
              "    'processedRowsPerSecond': 2.5906735751295336}],\n",
              "  'sink': {'description': 'MemorySink', 'numOutputRows': 1}},\n",
              " {'id': 'dd4b6135-223c-4820-9792-42ce4d6f9729',\n",
              "  'runId': 'b1894848-fb8d-467e-8dac-466963b9fa02',\n",
              "  'name': 'rate_report',\n",
              "  'timestamp': '2025-07-11T21:29:38.717Z',\n",
              "  'batchId': 30,\n",
              "  'numInputRows': 1,\n",
              "  'inputRowsPerSecond': 90.90909090909092,\n",
              "  'processedRowsPerSecond': 5.780346820809249,\n",
              "  'durationMs': {'addBatch': 78,\n",
              "   'commitOffsets': 47,\n",
              "   'getBatch': 0,\n",
              "   'latestOffset': 0,\n",
              "   'queryPlanning': 11,\n",
              "   'triggerExecution': 173,\n",
              "   'walCommit': 36},\n",
              "  'stateOperators': [],\n",
              "  'sources': [{'description': 'RateStreamV2[rowsPerSecond=1, rampUpTimeSeconds=0, numPartitions=default',\n",
              "    'startOffset': 30,\n",
              "    'endOffset': 31,\n",
              "    'latestOffset': 31,\n",
              "    'numInputRows': 1,\n",
              "    'inputRowsPerSecond': 90.90909090909092,\n",
              "    'processedRowsPerSecond': 5.780346820809249}],\n",
              "  'sink': {'description': 'MemorySink', 'numOutputRows': 1}},\n",
              " {'id': 'dd4b6135-223c-4820-9792-42ce4d6f9729',\n",
              "  'runId': 'b1894848-fb8d-467e-8dac-466963b9fa02',\n",
              "  'name': 'rate_report',\n",
              "  'timestamp': '2025-07-11T21:29:39.716Z',\n",
              "  'batchId': 31,\n",
              "  'numInputRows': 1,\n",
              "  'inputRowsPerSecond': 90.90909090909092,\n",
              "  'processedRowsPerSecond': 5.780346820809249,\n",
              "  'durationMs': {'addBatch': 73,\n",
              "   'commitOffsets': 47,\n",
              "   'getBatch': 0,\n",
              "   'latestOffset': 0,\n",
              "   'queryPlanning': 12,\n",
              "   'triggerExecution': 173,\n",
              "   'walCommit': 38},\n",
              "  'stateOperators': [],\n",
              "  'sources': [{'description': 'RateStreamV2[rowsPerSecond=1, rampUpTimeSeconds=0, numPartitions=default',\n",
              "    'startOffset': 31,\n",
              "    'endOffset': 32,\n",
              "    'latestOffset': 32,\n",
              "    'numInputRows': 1,\n",
              "    'inputRowsPerSecond': 90.90909090909092,\n",
              "    'processedRowsPerSecond': 5.780346820809249}],\n",
              "  'sink': {'description': 'MemorySink', 'numOutputRows': 1}},\n",
              " {'id': 'dd4b6135-223c-4820-9792-42ce4d6f9729',\n",
              "  'runId': 'b1894848-fb8d-467e-8dac-466963b9fa02',\n",
              "  'name': 'rate_report',\n",
              "  'timestamp': '2025-07-11T21:29:40.712Z',\n",
              "  'batchId': 32,\n",
              "  'numInputRows': 1,\n",
              "  'inputRowsPerSecond': 100.0,\n",
              "  'processedRowsPerSecond': 5.847953216374268,\n",
              "  'durationMs': {'addBatch': 73,\n",
              "   'commitOffsets': 46,\n",
              "   'getBatch': 1,\n",
              "   'latestOffset': 0,\n",
              "   'queryPlanning': 11,\n",
              "   'triggerExecution': 171,\n",
              "   'walCommit': 39},\n",
              "  'stateOperators': [],\n",
              "  'sources': [{'description': 'RateStreamV2[rowsPerSecond=1, rampUpTimeSeconds=0, numPartitions=default',\n",
              "    'startOffset': 32,\n",
              "    'endOffset': 33,\n",
              "    'latestOffset': 33,\n",
              "    'numInputRows': 1,\n",
              "    'inputRowsPerSecond': 100.0,\n",
              "    'processedRowsPerSecond': 5.847953216374268}],\n",
              "  'sink': {'description': 'MemorySink', 'numOutputRows': 1}},\n",
              " {'id': 'dd4b6135-223c-4820-9792-42ce4d6f9729',\n",
              "  'runId': 'b1894848-fb8d-467e-8dac-466963b9fa02',\n",
              "  'name': 'rate_report',\n",
              "  'timestamp': '2025-07-11T21:29:41.715Z',\n",
              "  'batchId': 33,\n",
              "  'numInputRows': 1,\n",
              "  'inputRowsPerSecond': 100.0,\n",
              "  'processedRowsPerSecond': 5.405405405405405,\n",
              "  'durationMs': {'addBatch': 102,\n",
              "   'commitOffsets': 44,\n",
              "   'getBatch': 0,\n",
              "   'latestOffset': 0,\n",
              "   'queryPlanning': 10,\n",
              "   'triggerExecution': 185,\n",
              "   'walCommit': 29},\n",
              "  'stateOperators': [],\n",
              "  'sources': [{'description': 'RateStreamV2[rowsPerSecond=1, rampUpTimeSeconds=0, numPartitions=default',\n",
              "    'startOffset': 33,\n",
              "    'endOffset': 34,\n",
              "    'latestOffset': 34,\n",
              "    'numInputRows': 1,\n",
              "    'inputRowsPerSecond': 100.0,\n",
              "    'processedRowsPerSecond': 5.405405405405405}],\n",
              "  'sink': {'description': 'MemorySink', 'numOutputRows': 1}},\n",
              " {'id': 'dd4b6135-223c-4820-9792-42ce4d6f9729',\n",
              "  'runId': 'b1894848-fb8d-467e-8dac-466963b9fa02',\n",
              "  'name': 'rate_report',\n",
              "  'timestamp': '2025-07-11T21:29:42.715Z',\n",
              "  'batchId': 34,\n",
              "  'numInputRows': 1,\n",
              "  'inputRowsPerSecond': 90.90909090909092,\n",
              "  'processedRowsPerSecond': 3.8314176245210727,\n",
              "  'durationMs': {'addBatch': 144,\n",
              "   'commitOffsets': 58,\n",
              "   'getBatch': 1,\n",
              "   'latestOffset': 0,\n",
              "   'queryPlanning': 12,\n",
              "   'triggerExecution': 261,\n",
              "   'walCommit': 44},\n",
              "  'stateOperators': [],\n",
              "  'sources': [{'description': 'RateStreamV2[rowsPerSecond=1, rampUpTimeSeconds=0, numPartitions=default',\n",
              "    'startOffset': 34,\n",
              "    'endOffset': 35,\n",
              "    'latestOffset': 35,\n",
              "    'numInputRows': 1,\n",
              "    'inputRowsPerSecond': 90.90909090909092,\n",
              "    'processedRowsPerSecond': 3.8314176245210727}],\n",
              "  'sink': {'description': 'MemorySink', 'numOutputRows': 1}},\n",
              " {'id': 'dd4b6135-223c-4820-9792-42ce4d6f9729',\n",
              "  'runId': 'b1894848-fb8d-467e-8dac-466963b9fa02',\n",
              "  'name': 'rate_report',\n",
              "  'timestamp': '2025-07-11T21:29:43.716Z',\n",
              "  'batchId': 35,\n",
              "  'numInputRows': 1,\n",
              "  'inputRowsPerSecond': 100.0,\n",
              "  'processedRowsPerSecond': 3.1645569620253164,\n",
              "  'durationMs': {'addBatch': 189,\n",
              "   'commitOffsets': 50,\n",
              "   'getBatch': 0,\n",
              "   'latestOffset': 0,\n",
              "   'queryPlanning': 26,\n",
              "   'triggerExecution': 316,\n",
              "   'walCommit': 48},\n",
              "  'stateOperators': [],\n",
              "  'sources': [{'description': 'RateStreamV2[rowsPerSecond=1, rampUpTimeSeconds=0, numPartitions=default',\n",
              "    'startOffset': 35,\n",
              "    'endOffset': 36,\n",
              "    'latestOffset': 36,\n",
              "    'numInputRows': 1,\n",
              "    'inputRowsPerSecond': 100.0,\n",
              "    'processedRowsPerSecond': 3.1645569620253164}],\n",
              "  'sink': {'description': 'MemorySink', 'numOutputRows': 1}},\n",
              " {'id': 'dd4b6135-223c-4820-9792-42ce4d6f9729',\n",
              "  'runId': 'b1894848-fb8d-467e-8dac-466963b9fa02',\n",
              "  'name': 'rate_report',\n",
              "  'timestamp': '2025-07-11T21:29:44.718Z',\n",
              "  'batchId': 36,\n",
              "  'numInputRows': 1,\n",
              "  'inputRowsPerSecond': 90.90909090909092,\n",
              "  'processedRowsPerSecond': 3.4013605442176873,\n",
              "  'durationMs': {'addBatch': 128,\n",
              "   'commitOffsets': 94,\n",
              "   'getBatch': 0,\n",
              "   'latestOffset': 0,\n",
              "   'queryPlanning': 20,\n",
              "   'triggerExecution': 294,\n",
              "   'walCommit': 52},\n",
              "  'stateOperators': [],\n",
              "  'sources': [{'description': 'RateStreamV2[rowsPerSecond=1, rampUpTimeSeconds=0, numPartitions=default',\n",
              "    'startOffset': 36,\n",
              "    'endOffset': 37,\n",
              "    'latestOffset': 37,\n",
              "    'numInputRows': 1,\n",
              "    'inputRowsPerSecond': 90.90909090909092,\n",
              "    'processedRowsPerSecond': 3.4013605442176873}],\n",
              "  'sink': {'description': 'MemorySink', 'numOutputRows': 1}},\n",
              " {'id': 'dd4b6135-223c-4820-9792-42ce4d6f9729',\n",
              "  'runId': 'b1894848-fb8d-467e-8dac-466963b9fa02',\n",
              "  'name': 'rate_report',\n",
              "  'timestamp': '2025-07-11T21:29:45.713Z',\n",
              "  'batchId': 37,\n",
              "  'numInputRows': 1,\n",
              "  'inputRowsPerSecond': 100.0,\n",
              "  'processedRowsPerSecond': 6.410256410256411,\n",
              "  'durationMs': {'addBatch': 71,\n",
              "   'commitOffsets': 37,\n",
              "   'getBatch': 0,\n",
              "   'latestOffset': 0,\n",
              "   'queryPlanning': 10,\n",
              "   'triggerExecution': 156,\n",
              "   'walCommit': 37},\n",
              "  'stateOperators': [],\n",
              "  'sources': [{'description': 'RateStreamV2[rowsPerSecond=1, rampUpTimeSeconds=0, numPartitions=default',\n",
              "    'startOffset': 37,\n",
              "    'endOffset': 38,\n",
              "    'latestOffset': 38,\n",
              "    'numInputRows': 1,\n",
              "    'inputRowsPerSecond': 100.0,\n",
              "    'processedRowsPerSecond': 6.410256410256411}],\n",
              "  'sink': {'description': 'MemorySink', 'numOutputRows': 1}},\n",
              " {'id': 'dd4b6135-223c-4820-9792-42ce4d6f9729',\n",
              "  'runId': 'b1894848-fb8d-467e-8dac-466963b9fa02',\n",
              "  'name': 'rate_report',\n",
              "  'timestamp': '2025-07-11T21:29:46.718Z',\n",
              "  'batchId': 38,\n",
              "  'numInputRows': 1,\n",
              "  'inputRowsPerSecond': 100.0,\n",
              "  'processedRowsPerSecond': 6.410256410256411,\n",
              "  'durationMs': {'addBatch': 64,\n",
              "   'commitOffsets': 37,\n",
              "   'getBatch': 0,\n",
              "   'latestOffset': 0,\n",
              "   'queryPlanning': 27,\n",
              "   'triggerExecution': 156,\n",
              "   'walCommit': 27},\n",
              "  'stateOperators': [],\n",
              "  'sources': [{'description': 'RateStreamV2[rowsPerSecond=1, rampUpTimeSeconds=0, numPartitions=default',\n",
              "    'startOffset': 38,\n",
              "    'endOffset': 39,\n",
              "    'latestOffset': 39,\n",
              "    'numInputRows': 1,\n",
              "    'inputRowsPerSecond': 100.0,\n",
              "    'processedRowsPerSecond': 6.410256410256411}],\n",
              "  'sink': {'description': 'MemorySink', 'numOutputRows': 1}},\n",
              " {'id': 'dd4b6135-223c-4820-9792-42ce4d6f9729',\n",
              "  'runId': 'b1894848-fb8d-467e-8dac-466963b9fa02',\n",
              "  'name': 'rate_report',\n",
              "  'timestamp': '2025-07-11T21:29:47.716Z',\n",
              "  'batchId': 39,\n",
              "  'numInputRows': 1,\n",
              "  'inputRowsPerSecond': 100.0,\n",
              "  'processedRowsPerSecond': 7.142857142857142,\n",
              "  'durationMs': {'addBatch': 63,\n",
              "   'commitOffsets': 32,\n",
              "   'getBatch': 0,\n",
              "   'latestOffset': 0,\n",
              "   'queryPlanning': 11,\n",
              "   'triggerExecution': 140,\n",
              "   'walCommit': 33},\n",
              "  'stateOperators': [],\n",
              "  'sources': [{'description': 'RateStreamV2[rowsPerSecond=1, rampUpTimeSeconds=0, numPartitions=default',\n",
              "    'startOffset': 39,\n",
              "    'endOffset': 40,\n",
              "    'latestOffset': 40,\n",
              "    'numInputRows': 1,\n",
              "    'inputRowsPerSecond': 100.0,\n",
              "    'processedRowsPerSecond': 7.142857142857142}],\n",
              "  'sink': {'description': 'MemorySink', 'numOutputRows': 1}},\n",
              " {'id': 'dd4b6135-223c-4820-9792-42ce4d6f9729',\n",
              "  'runId': 'b1894848-fb8d-467e-8dac-466963b9fa02',\n",
              "  'name': 'rate_report',\n",
              "  'timestamp': '2025-07-11T21:29:48.710Z',\n",
              "  'batchId': 40,\n",
              "  'numInputRows': 1,\n",
              "  'inputRowsPerSecond': 90.90909090909092,\n",
              "  'processedRowsPerSecond': 5.524861878453039,\n",
              "  'durationMs': {'addBatch': 86,\n",
              "   'commitOffsets': 47,\n",
              "   'getBatch': 0,\n",
              "   'latestOffset': 0,\n",
              "   'queryPlanning': 10,\n",
              "   'triggerExecution': 181,\n",
              "   'walCommit': 37},\n",
              "  'stateOperators': [],\n",
              "  'sources': [{'description': 'RateStreamV2[rowsPerSecond=1, rampUpTimeSeconds=0, numPartitions=default',\n",
              "    'startOffset': 40,\n",
              "    'endOffset': 41,\n",
              "    'latestOffset': 41,\n",
              "    'numInputRows': 1,\n",
              "    'inputRowsPerSecond': 90.90909090909092,\n",
              "    'processedRowsPerSecond': 5.524861878453039}],\n",
              "  'sink': {'description': 'MemorySink', 'numOutputRows': 1}},\n",
              " {'id': 'dd4b6135-223c-4820-9792-42ce4d6f9729',\n",
              "  'runId': 'b1894848-fb8d-467e-8dac-466963b9fa02',\n",
              "  'name': 'rate_report',\n",
              "  'timestamp': '2025-07-11T21:29:49.718Z',\n",
              "  'batchId': 41,\n",
              "  'numInputRows': 1,\n",
              "  'inputRowsPerSecond': 100.0,\n",
              "  'processedRowsPerSecond': 6.802721088435375,\n",
              "  'durationMs': {'addBatch': 66,\n",
              "   'commitOffsets': 42,\n",
              "   'getBatch': 0,\n",
              "   'latestOffset': 0,\n",
              "   'queryPlanning': 11,\n",
              "   'triggerExecution': 147,\n",
              "   'walCommit': 26},\n",
              "  'stateOperators': [],\n",
              "  'sources': [{'description': 'RateStreamV2[rowsPerSecond=1, rampUpTimeSeconds=0, numPartitions=default',\n",
              "    'startOffset': 41,\n",
              "    'endOffset': 42,\n",
              "    'latestOffset': 42,\n",
              "    'numInputRows': 1,\n",
              "    'inputRowsPerSecond': 100.0,\n",
              "    'processedRowsPerSecond': 6.802721088435375}],\n",
              "  'sink': {'description': 'MemorySink', 'numOutputRows': 1}},\n",
              " {'id': 'dd4b6135-223c-4820-9792-42ce4d6f9729',\n",
              "  'runId': 'b1894848-fb8d-467e-8dac-466963b9fa02',\n",
              "  'name': 'rate_report',\n",
              "  'timestamp': '2025-07-11T21:29:50.709Z',\n",
              "  'batchId': 42,\n",
              "  'numInputRows': 1,\n",
              "  'inputRowsPerSecond': 90.90909090909092,\n",
              "  'processedRowsPerSecond': 6.993006993006993,\n",
              "  'durationMs': {'addBatch': 62,\n",
              "   'commitOffsets': 43,\n",
              "   'getBatch': 0,\n",
              "   'latestOffset': 0,\n",
              "   'queryPlanning': 8,\n",
              "   'triggerExecution': 143,\n",
              "   'walCommit': 29},\n",
              "  'stateOperators': [],\n",
              "  'sources': [{'description': 'RateStreamV2[rowsPerSecond=1, rampUpTimeSeconds=0, numPartitions=default',\n",
              "    'startOffset': 42,\n",
              "    'endOffset': 43,\n",
              "    'latestOffset': 43,\n",
              "    'numInputRows': 1,\n",
              "    'inputRowsPerSecond': 90.90909090909092,\n",
              "    'processedRowsPerSecond': 6.993006993006993}],\n",
              "  'sink': {'description': 'MemorySink', 'numOutputRows': 1}}]"
            ]
          },
          "metadata": {},
          "execution_count": 26
        }
      ]
    },
    {
      "cell_type": "code",
      "source": [
        "query.lastProgress['batchId']"
      ],
      "metadata": {
        "colab": {
          "base_uri": "https://localhost:8080/"
        },
        "id": "LTW9bMWuaSuB",
        "outputId": "156d4119-c1d2-4ff1-8ffa-5afa6f301515"
      },
      "execution_count": 27,
      "outputs": [
        {
          "output_type": "execute_result",
          "data": {
            "text/plain": [
              "47"
            ]
          },
          "metadata": {},
          "execution_count": 27
        }
      ]
    },
    {
      "cell_type": "markdown",
      "source": [
        "# Stop streaming"
      ],
      "metadata": {
        "id": "8UTsoqHsbZtN"
      }
    },
    {
      "cell_type": "code",
      "source": [
        "query.stop()"
      ],
      "metadata": {
        "id": "rZCylmlWare-"
      },
      "execution_count": 28,
      "outputs": []
    },
    {
      "cell_type": "code",
      "source": [
        "# awaitTermination\n"
      ],
      "metadata": {
        "id": "0RRyQRh4bcW5"
      },
      "execution_count": null,
      "outputs": []
    },
    {
      "cell_type": "code",
      "source": [
        "query.isActive"
      ],
      "metadata": {
        "id": "7RaMdhvr9YAL",
        "outputId": "d05597c4-8e9d-4e36-f770-1093a82a1581",
        "colab": {
          "base_uri": "https://localhost:8080/"
        }
      },
      "execution_count": 29,
      "outputs": [
        {
          "output_type": "execute_result",
          "data": {
            "text/plain": [
              "False"
            ]
          },
          "metadata": {},
          "execution_count": 29
        }
      ]
    },
    {
      "cell_type": "code",
      "source": [
        "transformed.isStreaming"
      ],
      "metadata": {
        "id": "ErhiBK0wZTzx",
        "outputId": "97e66345-992a-4f68-d4c4-1beb2037185d",
        "colab": {
          "base_uri": "https://localhost:8080/"
        }
      },
      "execution_count": 30,
      "outputs": [
        {
          "output_type": "execute_result",
          "data": {
            "text/plain": [
              "True"
            ]
          },
          "metadata": {},
          "execution_count": 30
        }
      ]
    },
    {
      "cell_type": "markdown",
      "source": [
        "# Increase rows per second (rate)\n"
      ],
      "metadata": {
        "id": "osbNYm_ScJQC"
      }
    },
    {
      "cell_type": "code",
      "source": [
        "\n",
        "# read stream\n",
        "stream = spark.readStream.format(\"rate\").option(\"rowsPerSecond\", 20).load()\n",
        "\n",
        "transformed = stream.withColumn(\"value2\", F.col(\"value\") * 2)\n",
        "\n",
        "query = (transformed.writeStream\n",
        "  .format('memory')\n",
        "  .queryName('rate_report_2')\n",
        "  .outputMode('append')\n",
        "  .start()\n",
        ")\n"
      ],
      "metadata": {
        "id": "7uNFWm_Bbd-1"
      },
      "execution_count": 31,
      "outputs": []
    },
    {
      "cell_type": "code",
      "source": [
        "print(spark.table(\"rate_report_2\").count())\n",
        "spark.table(\"rate_report_2\").show(100, False)"
      ],
      "metadata": {
        "id": "oXfjDZfscgQE",
        "outputId": "af36dc05-1f04-4f9e-b5f4-c20dbbbe4ec3",
        "colab": {
          "base_uri": "https://localhost:8080/"
        }
      },
      "execution_count": 32,
      "outputs": [
        {
          "output_type": "stream",
          "name": "stdout",
          "text": [
            "40\n",
            "+-----------------------+-----+------+\n",
            "|timestamp              |value|value2|\n",
            "+-----------------------+-----+------+\n",
            "|2025-07-11 21:31:36.466|0    |0     |\n",
            "|2025-07-11 21:31:36.516|1    |2     |\n",
            "|2025-07-11 21:31:36.566|2    |4     |\n",
            "|2025-07-11 21:31:36.616|3    |6     |\n",
            "|2025-07-11 21:31:36.666|4    |8     |\n",
            "|2025-07-11 21:31:36.716|5    |10    |\n",
            "|2025-07-11 21:31:36.766|6    |12    |\n",
            "|2025-07-11 21:31:36.816|7    |14    |\n",
            "|2025-07-11 21:31:36.866|8    |16    |\n",
            "|2025-07-11 21:31:36.916|9    |18    |\n",
            "|2025-07-11 21:31:36.966|10   |20    |\n",
            "|2025-07-11 21:31:37.016|11   |22    |\n",
            "|2025-07-11 21:31:37.066|12   |24    |\n",
            "|2025-07-11 21:31:37.116|13   |26    |\n",
            "|2025-07-11 21:31:37.166|14   |28    |\n",
            "|2025-07-11 21:31:37.216|15   |30    |\n",
            "|2025-07-11 21:31:37.266|16   |32    |\n",
            "|2025-07-11 21:31:37.316|17   |34    |\n",
            "|2025-07-11 21:31:37.366|18   |36    |\n",
            "|2025-07-11 21:31:37.416|19   |38    |\n",
            "|2025-07-11 21:31:37.466|20   |40    |\n",
            "|2025-07-11 21:31:37.516|21   |42    |\n",
            "|2025-07-11 21:31:37.566|22   |44    |\n",
            "|2025-07-11 21:31:37.616|23   |46    |\n",
            "|2025-07-11 21:31:37.666|24   |48    |\n",
            "|2025-07-11 21:31:37.716|25   |50    |\n",
            "|2025-07-11 21:31:37.766|26   |52    |\n",
            "|2025-07-11 21:31:37.816|27   |54    |\n",
            "|2025-07-11 21:31:37.866|28   |56    |\n",
            "|2025-07-11 21:31:37.916|29   |58    |\n",
            "|2025-07-11 21:31:37.966|30   |60    |\n",
            "|2025-07-11 21:31:38.016|31   |62    |\n",
            "|2025-07-11 21:31:38.066|32   |64    |\n",
            "|2025-07-11 21:31:38.116|33   |66    |\n",
            "|2025-07-11 21:31:38.166|34   |68    |\n",
            "|2025-07-11 21:31:38.216|35   |70    |\n",
            "|2025-07-11 21:31:38.266|36   |72    |\n",
            "|2025-07-11 21:31:38.316|37   |74    |\n",
            "|2025-07-11 21:31:38.366|38   |76    |\n",
            "|2025-07-11 21:31:38.416|39   |78    |\n",
            "+-----------------------+-----+------+\n",
            "\n"
          ]
        }
      ]
    },
    {
      "cell_type": "code",
      "source": [
        "query.lastProgress['sources'][0]['numInputRows']"
      ],
      "metadata": {
        "id": "RE7kEeoucxY0",
        "outputId": "7d8ae298-85a2-4cbc-f97f-4c02303fa3f3",
        "colab": {
          "base_uri": "https://localhost:8080/"
        }
      },
      "execution_count": 38,
      "outputs": [
        {
          "output_type": "execute_result",
          "data": {
            "text/plain": [
              "20"
            ]
          },
          "metadata": {},
          "execution_count": 38
        }
      ]
    },
    {
      "cell_type": "code",
      "source": [
        "for batch in query.recentProgress:\n",
        "  print(f\"timestamp - {batch['timestamp']}\")\n",
        "  print(f\"batchId - {batch['batchId']}\")\n",
        "  print(f\"numInputRows - {batch['numInputRows']}\")\n",
        "  print(\"--\")"
      ],
      "metadata": {
        "id": "8OkLiIoEc0VC",
        "outputId": "25137782-b23f-4586-947a-c2129bf5ebf7",
        "colab": {
          "base_uri": "https://localhost:8080/"
        }
      },
      "execution_count": 39,
      "outputs": [
        {
          "output_type": "stream",
          "name": "stdout",
          "text": [
            "timestamp - 2025-07-11T21:31:36.512Z\n",
            "batchId - 0\n",
            "numInputRows - 0\n",
            "--\n",
            "timestamp - 2025-07-11T21:31:37.468Z\n",
            "batchId - 1\n",
            "numInputRows - 20\n",
            "--\n",
            "timestamp - 2025-07-11T21:31:38.472Z\n",
            "batchId - 2\n",
            "numInputRows - 20\n",
            "--\n",
            "timestamp - 2025-07-11T21:31:39.470Z\n",
            "batchId - 3\n",
            "numInputRows - 20\n",
            "--\n",
            "timestamp - 2025-07-11T21:31:40.473Z\n",
            "batchId - 4\n",
            "numInputRows - 20\n",
            "--\n",
            "timestamp - 2025-07-11T21:31:41.470Z\n",
            "batchId - 5\n",
            "numInputRows - 20\n",
            "--\n",
            "timestamp - 2025-07-11T21:31:42.466Z\n",
            "batchId - 6\n",
            "numInputRows - 20\n",
            "--\n",
            "timestamp - 2025-07-11T21:31:43.471Z\n",
            "batchId - 7\n",
            "numInputRows - 20\n",
            "--\n",
            "timestamp - 2025-07-11T21:31:44.475Z\n",
            "batchId - 8\n",
            "numInputRows - 20\n",
            "--\n",
            "timestamp - 2025-07-11T21:31:45.473Z\n",
            "batchId - 9\n",
            "numInputRows - 20\n",
            "--\n",
            "timestamp - 2025-07-11T21:31:46.476Z\n",
            "batchId - 10\n",
            "numInputRows - 20\n",
            "--\n",
            "timestamp - 2025-07-11T21:31:47.475Z\n",
            "batchId - 11\n",
            "numInputRows - 20\n",
            "--\n"
          ]
        }
      ]
    },
    {
      "cell_type": "code",
      "source": [
        "query.stop()"
      ],
      "metadata": {
        "id": "SMx57jtidbZP"
      },
      "execution_count": 40,
      "outputs": []
    },
    {
      "cell_type": "code",
      "source": [
        "query.isActive"
      ],
      "metadata": {
        "id": "Q2hYArf09-vn",
        "outputId": "9252f0c4-da7e-4ede-9bc2-e8c86de358d0",
        "colab": {
          "base_uri": "https://localhost:8080/"
        }
      },
      "execution_count": 41,
      "outputs": [
        {
          "output_type": "execute_result",
          "data": {
            "text/plain": [
              "False"
            ]
          },
          "metadata": {},
          "execution_count": 41
        }
      ]
    }
  ],
  "metadata": {
    "colab": {
      "provenance": [],
      "include_colab_link": true
    },
    "kernelspec": {
      "display_name": "Python 3",
      "name": "python3"
    },
    "language_info": {
      "name": "python"
    }
  },
  "nbformat": 4,
  "nbformat_minor": 0
}