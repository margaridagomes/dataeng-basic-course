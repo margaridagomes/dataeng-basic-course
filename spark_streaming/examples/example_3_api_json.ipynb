{
  "cells": [
    {
      "cell_type": "markdown",
      "metadata": {
        "id": "view-in-github",
        "colab_type": "text"
      },
      "source": [
        "<a href=\"https://colab.research.google.com/github/margaridagomes/dataeng-basic-course/blob/main/spark_streaming/examples/example_3_api_json.ipynb\" target=\"_parent\"><img src=\"https://colab.research.google.com/assets/colab-badge.svg\" alt=\"Open In Colab\"/></a>"
      ]
    },
    {
      "cell_type": "markdown",
      "metadata": {
        "id": "4_GBE9UsyxwK"
      },
      "source": []
    },
    {
      "cell_type": "markdown",
      "metadata": {
        "id": "d9LeYFsPTjAb"
      },
      "source": [
        "# Setting up PySpark"
      ]
    },
    {
      "cell_type": "code",
      "execution_count": null,
      "metadata": {
        "colab": {
          "base_uri": "https://localhost:8080/"
        },
        "id": "uYXeODL0T1fO",
        "outputId": "b805aca4-2d12-47de-d985-2b8a22eeb565"
      },
      "outputs": [
        {
          "output_type": "stream",
          "name": "stdout",
          "text": [
            "Requirement already satisfied: pyspark in /usr/local/lib/python3.10/dist-packages (3.5.3)\n",
            "Requirement already satisfied: py4j==0.10.9.7 in /usr/local/lib/python3.10/dist-packages (from pyspark) (0.10.9.7)\n"
          ]
        }
      ],
      "source": [
        "%pip install pyspark"
      ]
    },
    {
      "cell_type": "code",
      "execution_count": 1,
      "metadata": {
        "id": "637HFw00T3LP"
      },
      "outputs": [],
      "source": [
        "from pyspark.sql import SparkSession\n",
        "\n",
        "spark = SparkSession.builder.master('local').appName('Test streaming').getOrCreate()\n",
        "sc = spark.sparkContext"
      ]
    },
    {
      "cell_type": "code",
      "source": [
        "!rm -rf /content/landing\n",
        "!rm -rf /content/bronze\n",
        "!mkdir -p /content/landing"
      ],
      "metadata": {
        "id": "aF7fzyYIJi0l"
      },
      "execution_count": 2,
      "outputs": []
    },
    {
      "cell_type": "markdown",
      "source": [
        "## Simulate producer:\n",
        "- extract data from API\n",
        "- store data as json in the lake\n",
        "- run task async"
      ],
      "metadata": {
        "id": "RZdHGoFyTlMt"
      }
    },
    {
      "cell_type": "code",
      "source": [
        "import requests\n",
        "from pyspark.sql.types import *\n",
        "import json\n",
        "import datetime\n",
        "import asyncio\n",
        "\n",
        "async def ingest_from_api(url: str, table: str, schema: StructType = None):\n",
        "  response = requests.get(url)\n",
        "  timestamp = datetime.datetime.now().strftime(\"%Y%m%d%H%M%S\")\n",
        "  if response.status_code == 200:\n",
        "    data = response.json()\n",
        "    with open(f\"/content/landing/{table}_{int(timestamp)}.json\", \"w\") as f:\n",
        "        json.dump(data, f)\n",
        "\n",
        "async def producer(loop: int, interval_time: int):\n",
        "  for i in range(loop):\n",
        "    await ingest_from_api(\"https://api.carrismetropolitana.pt/vehicles\", \"vehicles\")\n",
        "    await ingest_from_api(\"https://api.carrismetropolitana.pt/lines\", \"lines\")\n",
        "    await asyncio.sleep(interval_time)\n",
        "\n",
        "async def main():\n",
        "  asyncio.create_task(producer(10, 30))\n",
        "\n",
        "await main()"
      ],
      "metadata": {
        "id": "tTQhp8UbFUCl"
      },
      "execution_count": 3,
      "outputs": []
    },
    {
      "cell_type": "markdown",
      "source": [
        "- Read from /content/landing as streaming\n",
        "- store data in memory (for testing)\n",
        "- store data in the bronze layer"
      ],
      "metadata": {
        "id": "kIqHdZEKUEmo"
      }
    },
    {
      "cell_type": "code",
      "source": [
        "from pyspark.sql.types import *\n",
        "\n",
        "vehicle_schema = StructType([StructField('bearing', IntegerType(), True),\n",
        "                             StructField('block_id', StringType(), True),\n",
        "                             StructField('current_status', StringType(), True),\n",
        "                             StructField('id', StringType(), True),\n",
        "                             StructField('lat', FloatType(), True),\n",
        "                             StructField('line_id', StringType(), True),\n",
        "                             StructField('lon', FloatType(), True),\n",
        "                             StructField('pattern_id', StringType(), True),\n",
        "                             StructField('route_id', StringType(), True),\n",
        "                             StructField('schedule_relationship', StringType(), True),\n",
        "                             StructField('shift_id', StringType(), True),\n",
        "                             StructField('speed', FloatType(), True),\n",
        "                             StructField('stop_id', StringType(), True),\n",
        "                             StructField('timestamp', TimestampType(), True),\n",
        "                             StructField('trip_id', StringType(), True)])\n",
        "\n",
        "stream = spark.readStream.format(\"json\").schema(vehicle_schema).load(\"/content/landing/vehicles*\")\n",
        "\n",
        "dedup = stream.dropDuplicates()"
      ],
      "metadata": {
        "id": "_dTSf527Fhy0"
      },
      "execution_count": 4,
      "outputs": []
    },
    {
      "cell_type": "code",
      "source": [
        "# using memory for testing\n",
        "try:\n",
        "  if query.isActive:\n",
        "    query.stop()\n",
        "except:\n",
        "  pass\n",
        "\n",
        "query = (dedup.writeStream.format(\"memory\").option(\"queryName\", \"vehicles\").start())"
      ],
      "metadata": {
        "id": "9N99eI41UUFA"
      },
      "execution_count": 5,
      "outputs": []
    },
    {
      "cell_type": "code",
      "source": [
        "spark.sql(\"select * from vehicles\").show()"
      ],
      "metadata": {
        "id": "wT9pNrwoXBi4",
        "outputId": "2faf0197-95c8-457f-9b8d-ed4035a73fe3",
        "colab": {
          "base_uri": "https://localhost:8080/"
        }
      },
      "execution_count": 17,
      "outputs": [
        {
          "output_type": "stream",
          "name": "stdout",
          "text": [
            "+-------+--------------------+--------------+--------+---------+-------+---------+----------+--------+---------------------+------------+---------+-------+-------------------+--------------------+\n",
            "|bearing|            block_id|current_status|      id|      lat|line_id|      lon|pattern_id|route_id|schedule_relationship|    shift_id|    speed|stop_id|          timestamp|             trip_id|\n",
            "+-------+--------------------+--------------+--------+---------+-------+---------+----------+--------+---------------------+------------+---------+-------+-------------------+--------------------+\n",
            "|      0|             3039-13|    STOPPED_AT| 42|2110| 38.81079|   2725|-9.118859|  2725_0_1|  2725_0|            SCHEDULED|        3169|      0.0| 070511|2025-07-11 21:50:17|2725_0_1|1|3|2230...|\n",
            "|    316|           7_7205-13|   INCOMING_AT| 41|1153|38.784954|   1204|-9.321782|  1204_2_1|  1204_2|            SCHEDULED|        7254|5.8333335| 170169|2025-07-11 21:48:25|1204_2_1_2230_225...|\n",
            "|      0|  VER_DU_VU2065'_002|    STOPPED_AT|  43|740|38.666588|   3012|-9.180421|  3012_0_1|  3012_0|            SCHEDULED|      VU2246|      0.0| 020276|2025-07-11 21:49:54|3012_0_1_2230_225...|\n",
            "|    358|       VER_DU_VU3015| IN_TRANSIT_TO| 43|2116|38.554733|   3620|-9.051922|  3620_0_2|  3620_0|            SCHEDULED|      VU3093| 8.055555| 150589|2025-07-11 21:49:58|3620_0_2_2230_225...|\n",
            "|    273|20250711-64810275...| IN_TRANSIT_TO|44|12654| 38.70364|   4705|-8.948548|  4705_0_1|  4705_0|            SCHEDULED|323520234560| 8.888889| 100040|2025-07-11 21:49:47|4705_0_1|1900|223...|\n",
            "|      0|       VER_DU_VU2074|    STOPPED_AT| 43|2261| 38.66666|   3024|-9.179371|  3024_0_2|  3024_0|            SCHEDULED|      VU2225|      0.0| 020073|2025-07-11 21:48:59|3024_0_2_2230_225...|\n",
            "|    136|       VER_DU_VU1087|   INCOMING_AT| 43|2013| 38.62036|   3118|-9.127829|  3118_0_2|  3118_0|            SCHEDULED|      VU1170|      0.0| 149989|2025-07-11 21:49:36|3118_0_2_2230_225...|\n",
            "|    357|           7_7340-13| IN_TRANSIT_TO|  41|765| 38.72632|   1608|-9.320942|  1608_0_1|  1608_0|            SCHEDULED|        7368|6.6666665| 050064|2025-07-11 21:50:17|1608_0_1_2200_222...|\n",
            "|    345|  VER_DU_VU2008'_001|   INCOMING_AT| 43|2309|38.673264|   3013|-9.161276|  3013_0_2|  3013_0|            SCHEDULED|      VU2232| 8.611111| 020081|2025-07-11 21:49:45|3013_0_2_2230_225...|\n",
            "|    185|20250711-64810238...| IN_TRANSIT_TO|44|12656|38.768154|   4701|-9.100382|  4701_0_1|  4701_0|            SCHEDULED|323570234560|      0.0| 060001|2025-07-11 21:50:20|4701_0_1|1900|230...|\n",
            "|    136|       VER_DU_VU1054| IN_TRANSIT_TO| 43|2367|38.645237|   3510|-9.207085|  3510_0_1|  3510_0|            SCHEDULED|      VU1146|11.944445| 020967|2025-07-11 21:48:58|3510_0_1_2200_222...|\n",
            "|    222|             3597-13|    STOPPED_AT|  42|217| 38.78743|   2817|-9.179703|  2817_0_2|  2817_0|            SCHEDULED|        3695|      0.0| 110102|2025-07-11 21:49:43|2817_0_2|1|3|2245...|\n",
            "|    355|             3008-13| IN_TRANSIT_TO| 42|2317|38.791084|   2708|-9.103777|  2708_0_2|  2708_0|            SCHEDULED|        3179|10.833333| 070513|2025-07-11 21:49:31|2708_0_2|1|3|2240...|\n",
            "|    110|         7_7060'_001| IN_TRANSIT_TO| 41|1345|38.754246|   1720|-9.213013|  1720_0_1|  1720_0|            SCHEDULED|        7129|12.777778| 030300|2025-07-11 21:50:12|1720_0_1_2200_222...|\n",
            "|    150|20250711-64810377...| IN_TRANSIT_TO|44|12658|38.654743|   4720|-8.891427|  4720_0_1|  4720_0|            SCHEDULED|313380234560|27.777779| 160027|2025-07-11 21:49:34|4720_0_1|1900|223...|\n",
            "|      0|       VER_DU_VU1043|   INCOMING_AT| 43|2311|38.686157|   3513|-9.146754|  3513_0_2|  3513_0|            SCHEDULED|      VU1179|      0.0| 020959|2025-07-11 21:48:49|3513_0_2_2200_222...|\n",
            "|     84|20250711-64810277...|   INCOMING_AT|44|12586|38.567688|   4562|-8.933258|  4562_0_2|  4562_0|            SCHEDULED|311460234560|14.722222| 130075|2025-07-11 21:50:18|4562_0_2|1900|223...|\n",
            "|    160|  VER_DU_VU3049'_001| IN_TRANSIT_TO|  43|642|38.470654|   3536|-9.100526|  3536_0_1|  3536_0|            SCHEDULED|      VU3088|      0.0| 150226|2025-07-11 21:50:06|3536_0_1_2200_222...|\n",
            "|      0|              VS_022|    STOPPED_AT| 41|1242|38.688484|   1607|-9.317216|  1607_0_2|  1607_0|            SCHEDULED|        7364|      0.0| 120877|2025-07-11 21:49:28|1607_0_2_2200_222...|\n",
            "|     93|             3705-13|   INCOMING_AT| 42|2592|38.882107|   2750|-9.168342|  2750_0_1|  2750_0|            SCHEDULED|        3759|3.8888888| 071014|2025-07-11 21:50:11|2750_0_1|1|3|2220...|\n",
            "+-------+--------------------+--------------+--------+---------+-------+---------+----------+--------+---------------------+------------+---------+-------+-------------------+--------------------+\n",
            "only showing top 20 rows\n",
            "\n"
          ]
        }
      ]
    },
    {
      "cell_type": "code",
      "source": [
        "!rm -rf /content/bronze"
      ],
      "metadata": {
        "id": "W1BCl7BCXo_v"
      },
      "execution_count": 18,
      "outputs": []
    },
    {
      "cell_type": "code",
      "source": [
        "from pyspark.sql.functions import *\n",
        "\n",
        "# watermark is necessary because of the aggregation\n",
        "transformed = stream.withWatermark(\"timestamp\", \"60 seconds\")\n",
        "agg = (transformed\n",
        "       .groupBy(window(transformed.timestamp, \"5 minutes\"), col(\"current_status\"))\n",
        "       .agg(min(transformed.timestamp).alias(\"init_timestamp\"), count(\"*\").alias(\"count\")))\n",
        "\n",
        "def insert_vehicles(df, batch_id):\n",
        "  #df2 = df.groupBy(\"window\").pivot(\"current_status\").sum(\"count\")\n",
        "  df.write.format(\"parquet\").mode(\"append\").save(\"/content/bronze/vehicles\")\n",
        "\n",
        "# using memory for testing\n",
        "query2 = (agg\n",
        "          .writeStream\n",
        "          .outputMode(\"append\")\n",
        "          .foreachBatch(insert_vehicles)\n",
        "          .option(\"checkpointLocation\", \"/content/bronze/checkpoint\")\n",
        "          .trigger(processingTime='20 seconds')\n",
        "          .start())"
      ],
      "metadata": {
        "id": "xyDkRdgLUZZt"
      },
      "execution_count": 19,
      "outputs": []
    },
    {
      "cell_type": "code",
      "source": [
        "spark.read.format(\"parquet\").load(\"/content/bronze/vehicles/*\").show(100, False)"
      ],
      "metadata": {
        "id": "d6xqFWyKdujI",
        "outputId": "5c58893a-091d-4a5d-a9f9-32198310f945",
        "colab": {
          "base_uri": "https://localhost:8080/"
        }
      },
      "execution_count": 22,
      "outputs": [
        {
          "output_type": "stream",
          "name": "stdout",
          "text": [
            "+------------------------------------------+--------------+-------------------+-----+\n",
            "|window                                    |current_status|init_timestamp     |count|\n",
            "+------------------------------------------+--------------+-------------------+-----+\n",
            "|{2025-07-11 21:45:00, 2025-07-11 21:50:00}|IN_TRANSIT_TO |2025-07-11 21:48:40|183  |\n",
            "|{2025-07-11 21:45:00, 2025-07-11 21:50:00}|INCOMING_AT   |2025-07-11 21:48:21|78   |\n",
            "|{2025-07-11 21:45:00, 2025-07-11 21:50:00}|STOPPED_AT    |2025-07-11 21:48:23|86   |\n",
            "+------------------------------------------+--------------+-------------------+-----+\n",
            "\n"
          ]
        }
      ]
    },
    {
      "cell_type": "markdown",
      "source": [
        "## Report\n",
        "- show vehicles by status in 5-min window time\n",
        "- one line per window time"
      ],
      "metadata": {
        "id": "62oGSmx4S8Ch"
      }
    },
    {
      "cell_type": "code",
      "source": [
        "def pivot_data(df: DataFrame):\n",
        "  result = df.orderBy(\"init_timestamp\").groupBy(\"window\").pivot(\"current_status\").sum(\"count\")\n",
        "  result.show(100, False)\n",
        "\n",
        "df = spark.read.format(\"parquet\").load(\"/content/bronze/vehicles/*\")\n",
        "pivot_data(df)"
      ],
      "metadata": {
        "id": "x38lvoysfKLy",
        "outputId": "67182b47-83e2-4225-e253-45927810cb54",
        "colab": {
          "base_uri": "https://localhost:8080/"
        }
      },
      "execution_count": 23,
      "outputs": [
        {
          "output_type": "stream",
          "name": "stdout",
          "text": [
            "+------------------------------------------+-----------+-------------+----------+\n",
            "|window                                    |INCOMING_AT|IN_TRANSIT_TO|STOPPED_AT|\n",
            "+------------------------------------------+-----------+-------------+----------+\n",
            "|{2025-07-11 21:45:00, 2025-07-11 21:50:00}|78         |183          |86        |\n",
            "+------------------------------------------+-----------+-------------+----------+\n",
            "\n"
          ]
        }
      ]
    },
    {
      "cell_type": "code",
      "source": [
        "query2.stop()"
      ],
      "metadata": {
        "id": "pyDwzbdmO29f"
      },
      "execution_count": 24,
      "outputs": []
    },
    {
      "cell_type": "code",
      "source": [],
      "metadata": {
        "id": "3ETfknUmUeZg"
      },
      "execution_count": null,
      "outputs": []
    }
  ],
  "metadata": {
    "colab": {
      "provenance": [],
      "include_colab_link": true
    },
    "kernelspec": {
      "display_name": "Python 3",
      "name": "python3"
    },
    "language_info": {
      "name": "python"
    }
  },
  "nbformat": 4,
  "nbformat_minor": 0
}