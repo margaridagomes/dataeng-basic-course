{
  "cells": [
    {
      "cell_type": "markdown",
      "metadata": {
        "id": "view-in-github",
        "colab_type": "text"
      },
      "source": [
        "<a href=\"https://colab.research.google.com/github/margaridagomes/dataeng-basic-course/blob/main/spark_streaming/examples/example_1_csv.ipynb\" target=\"_parent\"><img src=\"https://colab.research.google.com/assets/colab-badge.svg\" alt=\"Open In Colab\"/></a>"
      ]
    },
    {
      "cell_type": "markdown",
      "metadata": {
        "id": "4_GBE9UsyxwK"
      },
      "source": []
    },
    {
      "cell_type": "markdown",
      "metadata": {
        "id": "QBUTFW0NTs-T"
      },
      "source": [
        "# Usecase 1\n",
        "- Defining a sample dataset\n",
        "- Splitting dataset in many CSVs and uploading them in the input folder in async mode\n",
        "- Use Spark streaming to read from input folder\n",
        "- Checking results from query in memory"
      ]
    },
    {
      "cell_type": "markdown",
      "metadata": {
        "id": "d9LeYFsPTjAb"
      },
      "source": [
        "# Setting up PySpark"
      ]
    },
    {
      "cell_type": "code",
      "execution_count": null,
      "metadata": {
        "colab": {
          "base_uri": "https://localhost:8080/"
        },
        "id": "uYXeODL0T1fO",
        "outputId": "9f669849-005d-4ba7-9f54-cf522501b597"
      },
      "outputs": [
        {
          "output_type": "stream",
          "name": "stdout",
          "text": [
            "Requirement already satisfied: pyspark in /usr/local/lib/python3.10/dist-packages (3.5.3)\n",
            "Requirement already satisfied: py4j==0.10.9.7 in /usr/local/lib/python3.10/dist-packages (from pyspark) (0.10.9.7)\n"
          ]
        }
      ],
      "source": [
        "%pip install pyspark"
      ]
    },
    {
      "cell_type": "code",
      "execution_count": 3,
      "metadata": {
        "id": "637HFw00T3LP"
      },
      "outputs": [],
      "source": [
        "from pyspark.sql import SparkSession\n",
        "\n",
        "#SparkSession.stop(spark)\n",
        "spark = SparkSession.builder.master('local').appName('Test streaming').getOrCreate()\n",
        "sc = spark.sparkContext"
      ]
    },
    {
      "cell_type": "markdown",
      "metadata": {
        "id": "x-faGlZP36_A"
      },
      "source": [
        "# Reading sample dataset"
      ]
    },
    {
      "cell_type": "code",
      "execution_count": 6,
      "metadata": {
        "colab": {
          "base_uri": "https://localhost:8080/"
        },
        "id": "11XHuPFBgh9x",
        "outputId": "fa65822e-29e4-4516-a9e6-99592adfacf5"
      },
      "outputs": [
        {
          "output_type": "stream",
          "name": "stdout",
          "text": [
            "+---------------+-------+-------------------+-------+-----------+-----------------+-----------------------+-----------+------------+-----------------------------+-----------------+--------------------+------------------------+-----------------------------+-------------------------------+--------------------+\n",
            "|      Area Name|Area ID|          Park Name|Park ID|Squirrel ID|Primary Fur Color|Highlights in Fur Color|Color Notes|    Location|Above Ground (Height in Feet)|Specific Location|          Activities|Interactions with Humans|Squirrel Latitude (DD.DDDDDD)|Squirrel Longitude (-DD.DDDDDD)|                hash|\n",
            "+---------------+-------+-------------------+-------+-----------+-----------------+-----------------------+-----------+------------+-----------------------------+-----------------+--------------------+------------------------+-----------------------------+-------------------------------+--------------------+\n",
            "|UPPER MANHATTAN|      A|    Fort Tryon Park|     01|    A-01-02|             Gray|                  White|       NULL|Ground Plane|                         NULL|             NULL|            Foraging|             Indifferent|                 Looks skinny|                      40.859436|13123051-a595-4aa...|\n",
            "|UPPER MANHATTAN|      A|    Fort Tryon Park|     01|    A-01-03|             Gray|                  White|       NULL|Ground Plane|                         NULL|             NULL|Eating, Digging s...|             Indifferent|                         NULL|                      40.859416|7864f769-29f1-4f1...|\n",
            "|UPPER MANHATTAN|      A|    Fort Tryon Park|     01|    A-01-04|             Gray|                  White|       NULL|Ground Plane|                         NULL|             NULL|             Running|             Indifferent|                         NULL|                      40.859418|a8383752-19e7-42e...|\n",
            "|UPPER MANHATTAN|      A|    Fort Tryon Park|     01|    A-01-05|             Gray|               Cinnamon|       NULL|Ground Plane|                         NULL|             NULL|     Running, Eating|             Indifferent|                She left food|                      40.859493|25f4a217-f19a-440...|\n",
            "|UPPER MANHATTAN|      A|    Fort Tryon Park|     01|    A-01-06|             Gray|               Cinnamon|       NULL|Ground Plane|                         NULL|             NULL|            Climbing|             Indifferent|                         NULL|                      40.860825|6e813b4e-3664-417...|\n",
            "|UPPER MANHATTAN|      A|    Fort Tryon Park|     01|    A-01-07|             Gray|                  White|       NULL|Ground Plane|                         NULL|             NULL|            Foraging|             Indifferent|                         NULL|                      40.860225|fc551567-805c-4d2...|\n",
            "|UPPER MANHATTAN|      A|    Fort Tryon Park|     01|    A-01-08|            Black|                   Gray|       NULL|Above Ground|                           10|             NULL|            Climbing|               Runs From|                         NULL|                      40.859965|71de0277-a7b4-4fc...|\n",
            "|UPPER MANHATTAN|      A|    Fort Tryon Park|     01|    A-01-09|             Gray|                  White|       NULL|Ground Plane|                         NULL|             NULL|            Foraging|             Indifferent|                         NULL|                      40.859892|874e78d8-d320-4f3...|\n",
            "|UPPER MANHATTAN|      A|    Fort Tryon Park|     01|    A-01-10|             Gray|                  White|       NULL|Ground Plane|                         NULL|             NULL|     Eating, Digging|             Indifferent|                         NULL|                      40.859636|7acec13e-8b8a-4db...|\n",
            "|UPPER MANHATTAN|      A|    Fort Tryon Park|     01|    A-01-11|             Gray|                  Black|       NULL|Ground Plane|                         NULL|             NULL|     Eating, Digging|             Indifferent|         was intimidated b...|                      40.859576|a56e2960-a7ed-4f4...|\n",
            "|UPPER MANHATTAN|      A|    Fort Tryon Park|     01|    A-01-12|             Gray|                  White|       NULL|Ground Plane|                         NULL|             NULL|             Running|               Runs From|                         NULL|                      40.859989|c43c85b4-0c69-445...|\n",
            "|UPPER MANHATTAN|      A|J. Hood Wright Park|     02|    A-02-01|             Gray|                   Gray|       NULL|Ground Plane|                         NULL|             NULL|             Running|             Indifferent|                         NULL|                      40.845749|17e3f105-a24a-452...|\n",
            "|UPPER MANHATTAN|      A|J. Hood Wright Park|     02|    A-02-02|             Gray|               Cinnamon|       NULL|Above Ground|                            2|             NULL|            Foraging|             Indifferent|                         NULL|                      40.845875|6ce7a9a4-6366-43b...|\n",
            "|UPPER MANHATTAN|      A|J. Hood Wright Park|     02|    A-02-03|             Gray|               Cinnamon|       NULL|Ground Plane|                         NULL|             NULL|            Foraging|                    NULL|                         NULL|                      40.845875|a1463ed5-9f72-4ef...|\n",
            "|UPPER MANHATTAN|      A|J. Hood Wright Park|     02|    A-02-04|             Gray|               Cinnamon|       NULL|Ground Plane|                         NULL|             NULL|             Running|             Indifferent|                         NULL|                      40.846088|c8a94a11-c1f1-483...|\n",
            "|UPPER MANHATTAN|      A|J. Hood Wright Park|     02|    A-02-05|             Gray|               Cinnamon|       NULL|Ground Plane|                         NULL|             NULL|             Running|               Runs From|                         NULL|                      40.846088|2e3a6c67-6d77-447...|\n",
            "|UPPER MANHATTAN|      A|J. Hood Wright Park|     02|    A-02-06|             Gray|               Cinnamon|       NULL|Ground Plane|                         NULL|             NULL|            Foraging|             Indifferent|                         NULL|                      40.846088|8960eca1-4d6a-47a...|\n",
            "|UPPER MANHATTAN|      A|J. Hood Wright Park|     02|    A-02-07|             Gray|                   Gray|       NULL|Ground Plane|                         NULL|             NULL|                NULL|               Runs From|                         NULL|                      40.846222|0836d473-3ec0-4cc...|\n",
            "|UPPER MANHATTAN|      A|J. Hood Wright Park|     02|    A-02-08|             Gray|               Cinnamon|       NULL|Ground Plane|                         NULL|             NULL|Foraging, Nesting...|             Indifferent|                         NULL|                      40.846222|aa7fec29-f53e-4d0...|\n",
            "|UPPER MANHATTAN|      A|J. Hood Wright Park|     02|    A-02-09|             Gray|               Cinnamon|       NULL|Ground Plane|                         NULL|             NULL|             Chasing|             Indifferent|                         NULL|                      40.846197|ba7f4136-3aa3-4e5...|\n",
            "+---------------+-------+-------------------+-------+-----------+-----------------+-----------------------+-----------+------------+-----------------------------+-----------------+--------------------+------------------------+-----------------------------+-------------------------------+--------------------+\n",
            "only showing top 20 rows\n",
            "\n"
          ]
        }
      ],
      "source": [
        "from pyspark import SparkFiles\n",
        "from pyspark.sql.types import *\n",
        "import uuid\n",
        "from pyspark.sql.functions import udf\n",
        "from pyspark.sql import DataFrame\n",
        "\n",
        "\n",
        "def get_data(url: str, filename: str, schema) -> DataFrame:\n",
        "  # read using SparkFiles\n",
        "  spark.sparkContext.addFile(url)\n",
        "  data = sc.textFile(SparkFiles.get(filename))\n",
        "\n",
        "  # removing header\n",
        "  header = data.first()\n",
        "  data = data.filter(lambda line: line != header)\n",
        "\n",
        "  df = spark.read.csv(data, header=True, schema=schema)\n",
        "  return df\n",
        "\n",
        "@udf\n",
        "def generate_uuid():\n",
        "  return str(uuid.uuid4())\n",
        "\n",
        "schema = StructType([\n",
        "StructField('Area Name',StringType(),True),\n",
        "StructField('Area ID',StringType(),True),\n",
        "StructField('Park Name',StringType(),True),\n",
        "StructField('Park ID', StringType(), True),\n",
        "StructField('Squirrel ID', StringType(), True),\n",
        "StructField('Primary Fur Color', StringType(), True),\n",
        "StructField('Highlights in Fur Color', StringType(), True),\n",
        "StructField('Color Notes', StringType(), True),\n",
        "StructField('Location', StringType(), True),\n",
        "StructField('Above Ground (Height in Feet)', StringType(), True),\n",
        "StructField('Specific Location', StringType(), True),\n",
        "StructField('Activities', StringType(), True),\n",
        "StructField('Interactions with Humans', StringType(), True),\n",
        "StructField('Squirrel Latitude (DD.DDDDDD)', StringType(), True),\n",
        "StructField('Squirrel Longitude (-DD.DDDDDD)', StringType(), True),\n",
        "StructField('hash', StringType(), True)\n",
        "])\n",
        "\n",
        "df = get_data(url = \"https://raw.githubusercontent.com/margaridagomes/dataeng-basic-course/main/data/squirrel-data/squirrel-data.csv\", filename = \"squirrel-data.csv\", schema = schema)\n",
        "df = df.withColumn(\"hash\", generate_uuid())\n",
        "\n",
        "df = df.cache()\n",
        "df.count()\n",
        "\n",
        "df.show()"
      ]
    },
    {
      "cell_type": "markdown",
      "source": [
        "# Removing folders"
      ],
      "metadata": {
        "id": "pEfPI_lUpRzv"
      }
    },
    {
      "cell_type": "code",
      "source": [
        "!rm -rf /content/input/\n",
        "!rm -rf /content/output/\n",
        "!rm -rf /content/checkpoint/"
      ],
      "metadata": {
        "id": "IoZvB2a5C2px"
      },
      "execution_count": 7,
      "outputs": []
    },
    {
      "cell_type": "markdown",
      "metadata": {
        "id": "5WUcNclY4CSO"
      },
      "source": [
        "# Splitting dataset in many CSVs and uploading them in async mode\n",
        "\n",
        "- split csv files in many small files\n",
        "- sleep some seconds between each process\n",
        "- write small file into input folder"
      ]
    },
    {
      "cell_type": "code",
      "execution_count": 8,
      "metadata": {
        "id": "ZBitKAbAhr6k"
      },
      "outputs": [],
      "source": [
        "from pyspark.sql import DataFrame\n",
        "import time\n",
        "import asyncio\n",
        "\n",
        "# Function to split csv into many files (assync)\n",
        "async def splitDf(df: DataFrame, weight: float, files: int):\n",
        "  weights = [weight for i in range(files)]\n",
        "  dfs = df.randomSplit(weights)\n",
        "  return dfs\n",
        "\n",
        "# Function to write data as csv (assync)\n",
        "async def writeFile(dfs: list[DataFrame], path: str, seconds_per_file: int):\n",
        "  for i in range(len(dfs)):\n",
        "    df = dfs[i]\n",
        "    #print(f\"Writing file {path}file_{i}.csv with {df.count()} lines\")\n",
        "    df.write.mode(\"append\").format(\"csv\").save(path)\n",
        "    await asyncio.sleep(seconds_per_file)\n",
        "\n",
        "async def main(df):\n",
        "  files = 20\n",
        "  seconds_per_file = 10\n",
        "  dfs = await splitDf(df, 1.0, files)\n",
        "  asyncio.create_task(writeFile(dfs, \"/content/input/\", seconds_per_file))\n"
      ]
    },
    {
      "cell_type": "markdown",
      "source": [
        "# Start producer\n",
        "\n"
      ],
      "metadata": {
        "id": "i6O7T7-Kd6v4"
      }
    },
    {
      "cell_type": "code",
      "source": [
        "await main(df)"
      ],
      "metadata": {
        "id": "V3aWcu0eCWio"
      },
      "execution_count": 9,
      "outputs": []
    },
    {
      "cell_type": "markdown",
      "metadata": {
        "id": "WJr9P--oUl9N"
      },
      "source": [
        "# Defining streaming functions\n",
        "\n",
        "- streaming_1\n",
        "  - read streaming data from csv\n",
        "  - write streaming data using MEMORY\n",
        "  - query \"my_query\" to check results\n",
        "\n",
        "- streaming_2\n",
        "  - read streaming data from csv\n",
        "  - write streaming data as PARQUET\n",
        "      - define checkpoint\n",
        "      - trigger time of 5 seconds\n",
        "      - mode append\n"
      ]
    },
    {
      "cell_type": "code",
      "execution_count": 10,
      "metadata": {
        "id": "aQuwtLOWUqGa"
      },
      "outputs": [],
      "source": [
        "from pyspark.sql.streaming import StreamingQuery\n",
        "\n",
        "def streaming_1(queryName: str) -> StreamingQuery:\n",
        "\n",
        "  # Start read of file stream (csv) from input folder\n",
        "  stream1 = spark.readStream.format('csv').schema(schema).option('header', False).load('/content/input/')\n",
        "\n",
        "  # Check if dataframe is streaming\n",
        "  print(stream1.isStreaming)\n",
        "\n",
        "  # Start write as streaming into memory\n",
        "  query = (stream1.writeStream\n",
        "  .format('memory')\n",
        "  .queryName(queryName)\n",
        "  .trigger(processingTime='5 seconds')\n",
        "  .outputMode('append')\n",
        "  .start()\n",
        "  )\n",
        "  return query\n",
        "\n",
        "def streaming_2() -> StreamingQuery:\n",
        "\n",
        "  # Start read of file stream (csv) from input folder\n",
        "  stream1 = spark.readStream.format('csv').schema(schema).option('header', False).load('/content/input/')\n",
        "\n",
        "  # Check if dataframe is streaming\n",
        "  print(stream1.isStreaming)\n",
        "\n",
        "  # Start write as streaming into memory\n",
        "  query = (stream1.writeStream\n",
        "  .format('parquet')\n",
        "  .option('path', '/content/output')\n",
        "  .option('checkpointLocation', '/content/checkpoint')\n",
        "  .trigger(processingTime='5 seconds')\n",
        "  .outputMode('append')\n",
        "  .start()\n",
        "  )\n",
        "  return query"
      ]
    },
    {
      "cell_type": "markdown",
      "source": [
        "# Start streaming_1 (memory)"
      ],
      "metadata": {
        "id": "g60VSmY6qwMk"
      }
    },
    {
      "cell_type": "code",
      "source": [
        "query = streaming_1(\"qry1\")"
      ],
      "metadata": {
        "colab": {
          "base_uri": "https://localhost:8080/"
        },
        "id": "HMb6n4T7nsM9",
        "outputId": "ba6ddf5b-aa00-486c-a3b5-901f64542368"
      },
      "execution_count": 11,
      "outputs": [
        {
          "output_type": "stream",
          "name": "stdout",
          "text": [
            "True\n"
          ]
        }
      ]
    },
    {
      "cell_type": "code",
      "source": [
        "# querying data in memory\n",
        "spark.sql(\"select count(1) from qry1\").show()"
      ],
      "metadata": {
        "colab": {
          "base_uri": "https://localhost:8080/"
        },
        "id": "s2N4nVBcrfY2",
        "outputId": "62162409-c37d-486e-d17c-ea554333e9a3"
      },
      "execution_count": 18,
      "outputs": [
        {
          "output_type": "stream",
          "name": "stdout",
          "text": [
            "+--------+\n",
            "|count(1)|\n",
            "+--------+\n",
            "|      71|\n",
            "+--------+\n",
            "\n"
          ]
        }
      ]
    },
    {
      "cell_type": "code",
      "source": [
        "# checking results\n",
        "df.count() == spark.sql(\"select * from qry1\").count()"
      ],
      "metadata": {
        "colab": {
          "base_uri": "https://localhost:8080/"
        },
        "id": "rqZz5lwCtkaq",
        "outputId": "08645769-3c58-48b9-a927-347592f3b906"
      },
      "execution_count": 20,
      "outputs": [
        {
          "output_type": "execute_result",
          "data": {
            "text/plain": [
              "False"
            ]
          },
          "metadata": {},
          "execution_count": 20
        }
      ]
    },
    {
      "cell_type": "markdown",
      "metadata": {
        "id": "hYHLg6DX6EMB"
      },
      "source": [
        "# Stop writeStreaming"
      ]
    },
    {
      "cell_type": "code",
      "execution_count": null,
      "metadata": {
        "id": "lxEOqAOOVdFS"
      },
      "outputs": [],
      "source": [
        "query.stop()"
      ]
    },
    {
      "cell_type": "markdown",
      "source": [
        "# Start streaming_2 (parquet)\n",
        "\n"
      ],
      "metadata": {
        "id": "DbUVx-WCec2f"
      }
    },
    {
      "cell_type": "code",
      "source": [
        "query = streaming_2()"
      ],
      "metadata": {
        "colab": {
          "base_uri": "https://localhost:8080/"
        },
        "id": "EEpMmQXiDwsT",
        "outputId": "67019f18-e3d4-4020-9928-7c257370c741"
      },
      "execution_count": 21,
      "outputs": [
        {
          "output_type": "stream",
          "name": "stdout",
          "text": [
            "True\n"
          ]
        }
      ]
    },
    {
      "cell_type": "code",
      "source": [
        "query.stop()"
      ],
      "metadata": {
        "id": "UcHJgMTnz16A"
      },
      "execution_count": null,
      "outputs": []
    },
    {
      "cell_type": "markdown",
      "source": [
        "# Checking output"
      ],
      "metadata": {
        "id": "qmWM54kkek9m"
      }
    },
    {
      "cell_type": "code",
      "source": [
        "df.count()"
      ],
      "metadata": {
        "colab": {
          "base_uri": "https://localhost:8080/"
        },
        "id": "8rTQZ0t8kRCV",
        "outputId": "779aad97-18e1-423a-8cd1-f89ac4bad247"
      },
      "execution_count": 23,
      "outputs": [
        {
          "output_type": "execute_result",
          "data": {
            "text/plain": [
              "432"
            ]
          },
          "metadata": {},
          "execution_count": 23
        }
      ]
    },
    {
      "cell_type": "code",
      "source": [
        "input = spark.read.format(\"csv\").load(\"/content/input/*\")\n",
        "output = spark.read.format(\"parquet\").schema(schema).load(\"/content/output/*\")\n",
        "\n",
        "print(f\"input - {input.count()}\")\n",
        "print(f\"output - {output.count()}\")\n"
      ],
      "metadata": {
        "colab": {
          "base_uri": "https://localhost:8080/"
        },
        "id": "x5kdA8TuDb3D",
        "outputId": "5372bb56-5e5a-45fe-c6f5-6dc61ab06696"
      },
      "execution_count": 24,
      "outputs": [
        {
          "output_type": "stream",
          "name": "stdout",
          "text": [
            "input - 116\n",
            "output - 116\n"
          ]
        }
      ]
    },
    {
      "cell_type": "code",
      "source": [
        "query.stop()"
      ],
      "metadata": {
        "id": "6HGbc8NBlQSz"
      },
      "execution_count": 25,
      "outputs": []
    },
    {
      "cell_type": "code",
      "source": [
        "# Counting csv files in INPUT folder\n",
        "!ls -l /content/input | grep .csv | wc -l"
      ],
      "metadata": {
        "colab": {
          "base_uri": "https://localhost:8080/"
        },
        "id": "_ibDWoh2JLa8",
        "outputId": "c4929009-07cb-496d-f85f-6a6b221f24d3"
      },
      "execution_count": 26,
      "outputs": [
        {
          "output_type": "stream",
          "name": "stdout",
          "text": [
            "7\n"
          ]
        }
      ]
    },
    {
      "cell_type": "code",
      "source": [
        "# Counting csv files in OUTPUT folder\n",
        "!ls -l /content/output | grep .parquet | wc -l"
      ],
      "metadata": {
        "colab": {
          "base_uri": "https://localhost:8080/"
        },
        "id": "iA87VK23dtmw",
        "outputId": "4e25ba82-29b3-4272-aa1a-f1cb7819f13a"
      },
      "execution_count": 27,
      "outputs": [
        {
          "output_type": "stream",
          "name": "stdout",
          "text": [
            "3\n"
          ]
        }
      ]
    },
    {
      "cell_type": "code",
      "source": [
        "# check streaming query attributes\n",
        "query.lastProgress\n",
        "query.lastProgress['numInputRows']\n",
        "query.recentProgress\n",
        "query.id\n",
        "query.name\n",
        "query.status"
      ],
      "metadata": {
        "colab": {
          "base_uri": "https://localhost:8080/"
        },
        "id": "fDnG7xawH-QE",
        "outputId": "6e34d271-5d42-42fa-d7fe-69e212532f64"
      },
      "execution_count": 28,
      "outputs": [
        {
          "output_type": "execute_result",
          "data": {
            "text/plain": [
              "{'message': 'Stopped', 'isDataAvailable': False, 'isTriggerActive': False}"
            ]
          },
          "metadata": {},
          "execution_count": 28
        }
      ]
    },
    {
      "cell_type": "code",
      "source": [
        "# checking input schema\n",
        "input.printSchema()"
      ],
      "metadata": {
        "colab": {
          "base_uri": "https://localhost:8080/"
        },
        "id": "Ufgg5TuakJV2",
        "outputId": "bdca753c-5515-4214-bf28-69e225b99001"
      },
      "execution_count": 29,
      "outputs": [
        {
          "output_type": "stream",
          "name": "stdout",
          "text": [
            "root\n",
            " |-- _c0: string (nullable = true)\n",
            " |-- _c1: string (nullable = true)\n",
            " |-- _c2: string (nullable = true)\n",
            " |-- _c3: string (nullable = true)\n",
            " |-- _c4: string (nullable = true)\n",
            " |-- _c5: string (nullable = true)\n",
            " |-- _c6: string (nullable = true)\n",
            " |-- _c7: string (nullable = true)\n",
            " |-- _c8: string (nullable = true)\n",
            " |-- _c9: string (nullable = true)\n",
            " |-- _c10: string (nullable = true)\n",
            " |-- _c11: string (nullable = true)\n",
            " |-- _c12: string (nullable = true)\n",
            " |-- _c13: string (nullable = true)\n",
            " |-- _c14: string (nullable = true)\n",
            " |-- _c15: string (nullable = true)\n",
            "\n"
          ]
        }
      ]
    },
    {
      "cell_type": "code",
      "source": [
        "# checking output schema\n",
        "output.printSchema()"
      ],
      "metadata": {
        "colab": {
          "base_uri": "https://localhost:8080/"
        },
        "id": "fUSx-6NsMwEK",
        "outputId": "066cc7f1-9f76-4f3c-a2e6-8f3f94aee49b"
      },
      "execution_count": 30,
      "outputs": [
        {
          "output_type": "stream",
          "name": "stdout",
          "text": [
            "root\n",
            " |-- Area Name: string (nullable = true)\n",
            " |-- Area ID: string (nullable = true)\n",
            " |-- Park Name: string (nullable = true)\n",
            " |-- Park ID: string (nullable = true)\n",
            " |-- Squirrel ID: string (nullable = true)\n",
            " |-- Primary Fur Color: string (nullable = true)\n",
            " |-- Highlights in Fur Color: string (nullable = true)\n",
            " |-- Color Notes: string (nullable = true)\n",
            " |-- Location: string (nullable = true)\n",
            " |-- Above Ground (Height in Feet): string (nullable = true)\n",
            " |-- Specific Location: string (nullable = true)\n",
            " |-- Activities: string (nullable = true)\n",
            " |-- Interactions with Humans: string (nullable = true)\n",
            " |-- Squirrel Latitude (DD.DDDDDD): string (nullable = true)\n",
            " |-- Squirrel Longitude (-DD.DDDDDD): string (nullable = true)\n",
            " |-- hash: string (nullable = true)\n",
            "\n"
          ]
        }
      ]
    }
  ],
  "metadata": {
    "colab": {
      "provenance": [],
      "include_colab_link": true
    },
    "kernelspec": {
      "display_name": "Python 3",
      "name": "python3"
    },
    "language_info": {
      "name": "python"
    }
  },
  "nbformat": 4,
  "nbformat_minor": 0
}