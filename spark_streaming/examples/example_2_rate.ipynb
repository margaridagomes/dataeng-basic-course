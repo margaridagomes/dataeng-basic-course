{
  "cells": [
    {
      "cell_type": "markdown",
      "metadata": {
        "id": "view-in-github",
        "colab_type": "text"
      },
      "source": [
        "<a href=\"https://colab.research.google.com/github/margaridagomes/dataeng-basic-course/blob/main/spark_streaming/examples/example_2_rate.ipynb\" target=\"_parent\"><img src=\"https://colab.research.google.com/assets/colab-badge.svg\" alt=\"Open In Colab\"/></a>"
      ]
    },
    {
      "cell_type": "markdown",
      "metadata": {
        "id": "4_GBE9UsyxwK"
      },
      "source": []
    },
    {
      "cell_type": "markdown",
      "metadata": {
        "id": "BOA_wQSmLd9z"
      },
      "source": [
        "# Usecase 2\n",
        "- Reading data from \"rate\"\n",
        "- Aggregating data by window time\n",
        "- Checking results from query in memory"
      ]
    },
    {
      "cell_type": "markdown",
      "metadata": {
        "id": "d9LeYFsPTjAb"
      },
      "source": [
        "# Setting up PySpark"
      ]
    },
    {
      "cell_type": "code",
      "execution_count": null,
      "metadata": {
        "colab": {
          "base_uri": "https://localhost:8080/"
        },
        "id": "uYXeODL0T1fO",
        "outputId": "c410e46c-4a50-43aa-926f-d0417c6280d2"
      },
      "outputs": [
        {
          "name": "stdout",
          "output_type": "stream",
          "text": [
            "Requirement already satisfied: pyspark in /usr/local/lib/python3.10/dist-packages (3.5.3)\n",
            "Requirement already satisfied: py4j==0.10.9.7 in /usr/local/lib/python3.10/dist-packages (from pyspark) (0.10.9.7)\n"
          ]
        }
      ],
      "source": [
        "%pip install pyspark"
      ]
    },
    {
      "cell_type": "code",
      "execution_count": 8,
      "metadata": {
        "id": "637HFw00T3LP"
      },
      "outputs": [],
      "source": [
        "from pyspark.sql import SparkSession\n",
        "\n",
        "spark = SparkSession.builder.master('local').appName('Test streaming').getOrCreate()"
      ]
    },
    {
      "cell_type": "markdown",
      "source": [
        "# Write output in memory"
      ],
      "metadata": {
        "id": "NwzaZIoxqvrd"
      }
    },
    {
      "cell_type": "code",
      "execution_count": 9,
      "metadata": {
        "id": "I4mGPfB-Xg_C"
      },
      "outputs": [],
      "source": [
        "import pyspark.sql.functions as F\n",
        "\n",
        "# read stream\n",
        "stream1 = spark.readStream.format(\"rate\").option(\"rowsPerSecond\", 10).load()\n",
        "\n",
        "# transform\n",
        "transformed = stream1.withColumn(\"minute\", F.minute(\"timestamp\"))\n",
        "agg = transformed.groupBy(F.window(transformed.timestamp, \"5 seconds\")).count()\n",
        "\n",
        "# write stream in memory\n",
        "query = (agg.writeStream\n",
        ".format('memory')\n",
        ".queryName('my_query')\n",
        ".outputMode('complete')\n",
        ".start()\n",
        "#.awaitTermination(10) #definir um tempo para esperar o processamento, neste caso 10s, o streaming fica bloqueado\n",
        ")"
      ]
    },
    {
      "cell_type": "code",
      "source": [
        "query.isActive"
      ],
      "metadata": {
        "id": "ilOiM0bauO4o",
        "outputId": "f01742e8-d6ca-4b52-8272-f9e2dc51241d",
        "colab": {
          "base_uri": "https://localhost:8080/"
        }
      },
      "execution_count": 19,
      "outputs": [
        {
          "output_type": "execute_result",
          "data": {
            "text/plain": [
              "True"
            ]
          },
          "metadata": {},
          "execution_count": 19
        }
      ]
    },
    {
      "cell_type": "code",
      "execution_count": 22,
      "metadata": {
        "colab": {
          "base_uri": "https://localhost:8080/"
        },
        "id": "UmLQLr1uX6w-",
        "outputId": "f86e150e-385e-4a65-95d7-f5310439a2f9"
      },
      "outputs": [
        {
          "output_type": "stream",
          "name": "stdout",
          "text": [
            "+------------------------------------------+-----+\n",
            "|window                                    |count|\n",
            "+------------------------------------------+-----+\n",
            "|{2025-07-05 08:36:50, 2025-07-05 08:36:55}|43   |\n",
            "|{2025-07-05 08:36:45, 2025-07-05 08:36:50}|50   |\n",
            "|{2025-07-05 08:36:40, 2025-07-05 08:36:45}|50   |\n",
            "|{2025-07-05 08:36:35, 2025-07-05 08:36:40}|50   |\n",
            "|{2025-07-05 08:36:30, 2025-07-05 08:36:35}|50   |\n",
            "|{2025-07-05 08:36:25, 2025-07-05 08:36:30}|50   |\n",
            "|{2025-07-05 08:36:20, 2025-07-05 08:36:25}|50   |\n",
            "|{2025-07-05 08:36:15, 2025-07-05 08:36:20}|50   |\n",
            "|{2025-07-05 08:36:10, 2025-07-05 08:36:15}|50   |\n",
            "|{2025-07-05 08:36:05, 2025-07-05 08:36:10}|50   |\n",
            "+------------------------------------------+-----+\n",
            "only showing top 10 rows\n",
            "\n"
          ]
        }
      ],
      "source": [
        "spark.sql(\"select * from my_query order by window desc\").show(10,False)"
      ]
    },
    {
      "cell_type": "code",
      "execution_count": 23,
      "metadata": {
        "id": "TbLt4cUkX-JZ"
      },
      "outputs": [],
      "source": [
        "query.stop()"
      ]
    },
    {
      "cell_type": "markdown",
      "source": [
        "# Write output as json"
      ],
      "metadata": {
        "id": "Dc3r3j-wj16K"
      }
    },
    {
      "cell_type": "code",
      "source": [
        "!rm -rf content/output"
      ],
      "metadata": {
        "id": "N_BZRFCCpGq9"
      },
      "execution_count": 24,
      "outputs": []
    },
    {
      "cell_type": "code",
      "execution_count": 25,
      "metadata": {
        "id": "v180mzIciVZH"
      },
      "outputs": [],
      "source": [
        "import pyspark.sql.functions as F\n",
        "from pyspark.sql import DataFrame\n",
        "\n",
        "def save_parquet(df, batch_id):\n",
        "  (df\n",
        "   .withColumn(\"batch_id\",F.lit(batch_id))\n",
        "   .withColumn(\"load_time\",F.current_timestamp())\n",
        "   .write.mode(\"append\")\n",
        "   .parquet(\"content/output/rate_parquet\")\n",
        "  )\n",
        "\n",
        "# read stream\n",
        "stream1 = spark.readStream.format(\"rate\").option(\"rowsPerSecond\", 10).load()\n",
        "\n",
        "# transform\n",
        "transformed = stream1.withWatermark(\"timestamp\", \"5 seconds\").withColumn(\"minute\", F.minute(\"timestamp\"))\n",
        "agg = transformed.groupBy(F.window(transformed.timestamp, \"5 seconds\")).count()\n",
        "\n",
        "# write stream as parquet with foreachBatch\n",
        "query = (agg.writeStream\n",
        ".option('checkpointLocation', 'content/output/checkpoint')\n",
        ".trigger(processingTime='20 seconds')\n",
        ".outputMode('append')\n",
        ".foreachBatch(save_parquet) #quando queremos escrever output, ou código customizado p.e. escrever em duas BDs diferentes; escreve streaming em formato batch;\n",
        ".start()\n",
        ")\n"
      ]
    },
    {
      "cell_type": "code",
      "source": [
        "result = spark.read.format(\"parquet\").load(\"content/output/rate_parquet/\")\n",
        "result.sort(F.asc(\"window\")).show(100, False)"
      ],
      "metadata": {
        "colab": {
          "base_uri": "https://localhost:8080/"
        },
        "id": "-3SWIR6Ml8Al",
        "outputId": "4ccbdcaa-f4a8-4815-950d-44b90e3e25c5"
      },
      "execution_count": 27,
      "outputs": [
        {
          "output_type": "stream",
          "name": "stdout",
          "text": [
            "+------------------------------------------+-----+--------+--------------------------+\n",
            "|window                                    |count|batch_id|load_time                 |\n",
            "+------------------------------------------+-----+--------+--------------------------+\n",
            "|{2025-07-05 08:38:20, 2025-07-05 08:38:25}|34   |2       |2025-07-05 08:39:00.194723|\n",
            "|{2025-07-05 08:38:25, 2025-07-05 08:38:30}|50   |2       |2025-07-05 08:39:00.194723|\n",
            "|{2025-07-05 08:38:30, 2025-07-05 08:38:35}|50   |3       |2025-07-05 08:39:20.435223|\n",
            "|{2025-07-05 08:38:35, 2025-07-05 08:38:40}|50   |3       |2025-07-05 08:39:20.435223|\n",
            "|{2025-07-05 08:38:40, 2025-07-05 08:38:45}|50   |3       |2025-07-05 08:39:20.435223|\n",
            "|{2025-07-05 08:38:45, 2025-07-05 08:38:50}|50   |3       |2025-07-05 08:39:20.435223|\n",
            "|{2025-07-05 08:38:50, 2025-07-05 08:38:55}|50   |4       |2025-07-05 08:39:40.189194|\n",
            "|{2025-07-05 08:38:55, 2025-07-05 08:39:00}|50   |4       |2025-07-05 08:39:40.189194|\n",
            "|{2025-07-05 08:39:00, 2025-07-05 08:39:05}|50   |4       |2025-07-05 08:39:40.189194|\n",
            "|{2025-07-05 08:39:05, 2025-07-05 08:39:10}|50   |4       |2025-07-05 08:39:40.189194|\n",
            "+------------------------------------------+-----+--------+--------------------------+\n",
            "\n"
          ]
        }
      ]
    },
    {
      "cell_type": "code",
      "source": [
        "query.stop()"
      ],
      "metadata": {
        "id": "DKB-MAPOoEre"
      },
      "execution_count": 29,
      "outputs": []
    },
    {
      "cell_type": "code",
      "source": [
        "query.isActive"
      ],
      "metadata": {
        "id": "FCH6dN67vnJ8",
        "outputId": "c395126c-b6f4-491a-c11a-039700cd87e4",
        "colab": {
          "base_uri": "https://localhost:8080/"
        }
      },
      "execution_count": 30,
      "outputs": [
        {
          "output_type": "execute_result",
          "data": {
            "text/plain": [
              "False"
            ]
          },
          "metadata": {},
          "execution_count": 30
        }
      ]
    },
    {
      "cell_type": "markdown",
      "source": [
        "# Enrich data with faker"
      ],
      "metadata": {
        "id": "GjAp1IKnvteX"
      }
    },
    {
      "cell_type": "code",
      "source": [
        "!pip install faker"
      ],
      "metadata": {
        "id": "_gauZX8MFP5f",
        "outputId": "d4c2d2f2-44c0-4edc-de37-abbc89ba3bc1",
        "colab": {
          "base_uri": "https://localhost:8080/"
        }
      },
      "execution_count": 31,
      "outputs": [
        {
          "output_type": "stream",
          "name": "stdout",
          "text": [
            "Collecting faker\n",
            "  Downloading faker-37.4.0-py3-none-any.whl.metadata (15 kB)\n",
            "Requirement already satisfied: tzdata in /usr/local/lib/python3.11/dist-packages (from faker) (2025.2)\n",
            "Downloading faker-37.4.0-py3-none-any.whl (1.9 MB)\n",
            "\u001b[2K   \u001b[90m━━━━━━━━━━━━━━━━━━━━━━━━━━━━━━━━━━━━━━━━\u001b[0m \u001b[32m1.9/1.9 MB\u001b[0m \u001b[31m33.2 MB/s\u001b[0m eta \u001b[36m0:00:00\u001b[0m\n",
            "\u001b[?25hInstalling collected packages: faker\n",
            "Successfully installed faker-37.4.0\n"
          ]
        }
      ]
    },
    {
      "cell_type": "code",
      "source": [
        "!rm -rf content/output/events"
      ],
      "metadata": {
        "id": "UFND4p5-2Na5"
      },
      "execution_count": 32,
      "outputs": []
    },
    {
      "cell_type": "code",
      "source": [
        "import pyspark.sql.functions as F\n",
        "from pyspark.sql import DataFrame\n",
        "from faker import Faker\n",
        "\n",
        "def insert_into_table(df, batch_id):\n",
        "  fake = Faker()\n",
        "  new_columns = {\n",
        "      'name': F.lit(fake.name()),\n",
        "      'address': F.lit(fake.address()),\n",
        "      'email': F.lit(fake.email()),\n",
        "      'dob': F.lit(fake.date_of_birth()),\n",
        "      'phone': F.lit(fake.phone_number())\n",
        "  }\n",
        "  df = df.withColumns(new_columns)\n",
        "  df.write.mode(\"append\").format(\"parquet\").save(\"content/output/events\")\n",
        "\n",
        "# read stream\n",
        "df_stream = spark.readStream.format(\"rate\").option(\"rowsPerSecond\", 1).load()\n",
        "\n",
        "# write stream\n",
        "query = (df_stream.writeStream\n",
        ".outputMode('append')\n",
        ".trigger(processingTime='1 seconds')\n",
        ".foreachBatch(insert_into_table)\n",
        ".start()\n",
        ")"
      ],
      "metadata": {
        "id": "WCUhAzDOD4Q3"
      },
      "execution_count": 33,
      "outputs": []
    },
    {
      "cell_type": "code",
      "source": [
        "query.stop()\n"
      ],
      "metadata": {
        "id": "KEMAlpKhwLNu"
      },
      "execution_count": 35,
      "outputs": []
    },
    {
      "cell_type": "code",
      "source": [
        "spark.read.parquet(\"content/output/events\").show(100, False)"
      ],
      "metadata": {
        "id": "89s50dHjECqk",
        "outputId": "3e322db9-4b9f-4aad-ee01-9fc29613f30e",
        "colab": {
          "base_uri": "https://localhost:8080/"
        }
      },
      "execution_count": 34,
      "outputs": [
        {
          "output_type": "stream",
          "name": "stdout",
          "text": [
            "+-----------------------+-----+--------------+----------------------------------------------------+----------------------------+----------+--------------------+\n",
            "|timestamp              |value|name          |address                                             |email                       |dob       |phone               |\n",
            "+-----------------------+-----+--------------+----------------------------------------------------+----------------------------+----------+--------------------+\n",
            "|2025-07-05 08:41:02.671|1    |Ronald Wright |05864 Bishop Corners Apt. 119\\nBarnesshire, PA 02462|batesjulie@example.org      |1953-11-14|809.500.1077x7499   |\n",
            "|2025-07-05 08:41:08.671|7    |Holly Rocha   |35750 Krystal Meadow Suite 102\\nWernerfort, NE 88466|robertomeza@example.net     |1969-04-05|001-999-437-4560    |\n",
            "|2025-07-05 08:41:07.671|6    |Jason Duarte  |659 Mason Haven\\nWangborough, WY 56803              |davidsonchristy@example.org |1934-04-19|+1-264-202-4012x950 |\n",
            "|2025-07-05 08:41:05.671|4    |Eric Wright   |285 Mcgee Wells Suite 132\\nLake Sharon, TN 19306    |cummingsjoe@example.com     |1992-02-22|950.926.7775        |\n",
            "|2025-07-05 08:41:04.671|3    |Danny Huynh   |Unit 5836 Box 8801\\nDPO AE 10458                    |williamsbrittany@example.com|1923-12-09|(695)244-6661x757   |\n",
            "|2025-07-05 08:41:01.671|0    |Brittany Brown|PSC 7940, Box 9275\\nAPO AE 26030                    |phillip92@example.org       |1997-10-13|001-861-821-6987x778|\n",
            "|2025-07-05 08:41:06.671|5    |Ashley Yoder  |PSC 9700, Box 4734\\nAPO AE 66854                    |parrishbianca@example.net   |2007-05-24|001-584-855-9772    |\n",
            "|2025-07-05 08:41:03.671|2    |Bryan Johnston|USNV Chambers\\nFPO AA 84941                         |gmorgan@example.org         |1919-11-18|001-933-743-7162x412|\n",
            "+-----------------------+-----+--------------+----------------------------------------------------+----------------------------+----------+--------------------+\n",
            "\n"
          ]
        }
      ]
    },
    {
      "cell_type": "code",
      "source": [
        "query.stop()"
      ],
      "metadata": {
        "id": "m22vpxcxIUNa"
      },
      "execution_count": 36,
      "outputs": []
    }
  ],
  "metadata": {
    "colab": {
      "provenance": [],
      "include_colab_link": true
    },
    "kernelspec": {
      "display_name": "Python 3",
      "name": "python3"
    },
    "language_info": {
      "name": "python"
    }
  },
  "nbformat": 4,
  "nbformat_minor": 0
}